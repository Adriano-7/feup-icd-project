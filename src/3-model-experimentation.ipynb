{
 "cells": [
  {
   "cell_type": "markdown",
   "metadata": {},
   "source": [
    "# Model Experimentation"
   ]
  },
  {
   "cell_type": "markdown",
   "metadata": {},
   "source": [
    "In this section, we will experiment, for the first time, some classification models on the `customer_cleaned` dataset. \n",
    "\n",
    "In order to have a simple baseline, we will employ simple models that are easy to interpret and understand. The models we will experiment with are:\n",
    "- Decision Tree\n",
    "- Random Forest\n",
    "- K-Nearest Neighbors\n",
    "\n",
    "The objective of this section is to get a sense of how the models perform on the dataset to identify potential candidates for further optimization, or find a problem with the data that needs to be addressed before proceeding.\n",
    "\n",
    "We will also perform some hyperparameter tuning on the models to see how their performance can be improved with some optimization.\n",
    "\n",
    "In order to get some performance metrics, we will divide the training data into a training and validation sets (70% - 30%), and use the valdation set to evaluate the models."
   ]
  },
  {
   "cell_type": "code",
   "execution_count": 95,
   "metadata": {},
   "outputs": [],
   "source": [
    "import pandas as pd\n",
    "from sklearn.model_selection import train_test_split\n",
    "from sklearn.model_selection import GridSearchCV\n",
    "from sklearn.metrics import confusion_matrix, accuracy_score, f1_score, precision_score, recall_score\n",
    "\n",
    "import seaborn as sns\n",
    "import matplotlib.pyplot as plt\n",
    "\n",
    "from sklearn.tree import DecisionTreeClassifier\n",
    "from sklearn.ensemble import RandomForestClassifier\n",
    "from sklearn.neighbors import KNeighborsClassifier"
   ]
  },
  {
   "cell_type": "code",
   "execution_count": 96,
   "metadata": {},
   "outputs": [
    {
     "data": {
      "text/plain": [
       "(72458, 17)"
      ]
     },
     "execution_count": 96,
     "metadata": {},
     "output_type": "execute_result"
    }
   ],
   "source": [
    "# Load the treated dataset\n",
    "df = pd.read_csv('../data/customer_cleaned.csv')\n",
    "df.shape"
   ]
  },
  {
   "cell_type": "code",
   "execution_count": 97,
   "metadata": {},
   "outputs": [
    {
     "data": {
      "text/html": [
       "<div>\n",
       "<style scoped>\n",
       "    .dataframe tbody tr th:only-of-type {\n",
       "        vertical-align: middle;\n",
       "    }\n",
       "\n",
       "    .dataframe tbody tr th {\n",
       "        vertical-align: top;\n",
       "    }\n",
       "\n",
       "    .dataframe thead th {\n",
       "        text-align: right;\n",
       "    }\n",
       "</style>\n",
       "<table border=\"1\" class=\"dataframe\">\n",
       "  <thead>\n",
       "    <tr style=\"text-align: right;\">\n",
       "      <th></th>\n",
       "      <th>sex</th>\n",
       "      <th>is_employed</th>\n",
       "      <th>income</th>\n",
       "      <th>health_ins</th>\n",
       "      <th>num_vehicles</th>\n",
       "      <th>age</th>\n",
       "      <th>state_of_res</th>\n",
       "      <th>gas_usage</th>\n",
       "      <th>rooms</th>\n",
       "      <th>marital_status_Divorced/Separated</th>\n",
       "      <th>marital_status_Married</th>\n",
       "      <th>marital_status_Never married</th>\n",
       "      <th>marital_status_Widowed</th>\n",
       "      <th>housing_type_Homeowner free and clear</th>\n",
       "      <th>housing_type_Homeowner with mortgage/loan</th>\n",
       "      <th>housing_type_Occupied with no rent</th>\n",
       "      <th>housing_type_Rented</th>\n",
       "    </tr>\n",
       "  </thead>\n",
       "  <tbody>\n",
       "    <tr>\n",
       "      <th>0</th>\n",
       "      <td>1</td>\n",
       "      <td>1</td>\n",
       "      <td>-0.34</td>\n",
       "      <td>1</td>\n",
       "      <td>0.00</td>\n",
       "      <td>0.04</td>\n",
       "      <td>0.0</td>\n",
       "      <td>2.71</td>\n",
       "      <td>0.4</td>\n",
       "      <td>0</td>\n",
       "      <td>0</td>\n",
       "      <td>1</td>\n",
       "      <td>0</td>\n",
       "      <td>1</td>\n",
       "      <td>0</td>\n",
       "      <td>0</td>\n",
       "      <td>0</td>\n",
       "    </tr>\n",
       "    <tr>\n",
       "      <th>1</th>\n",
       "      <td>0</td>\n",
       "      <td>0</td>\n",
       "      <td>-0.32</td>\n",
       "      <td>1</td>\n",
       "      <td>0.00</td>\n",
       "      <td>0.78</td>\n",
       "      <td>0.0</td>\n",
       "      <td>-0.60</td>\n",
       "      <td>1.0</td>\n",
       "      <td>1</td>\n",
       "      <td>0</td>\n",
       "      <td>0</td>\n",
       "      <td>0</td>\n",
       "      <td>0</td>\n",
       "      <td>0</td>\n",
       "      <td>0</td>\n",
       "      <td>1</td>\n",
       "    </tr>\n",
       "    <tr>\n",
       "      <th>2</th>\n",
       "      <td>0</td>\n",
       "      <td>1</td>\n",
       "      <td>-0.36</td>\n",
       "      <td>1</td>\n",
       "      <td>0.33</td>\n",
       "      <td>0.13</td>\n",
       "      <td>0.0</td>\n",
       "      <td>-0.01</td>\n",
       "      <td>0.4</td>\n",
       "      <td>0</td>\n",
       "      <td>0</td>\n",
       "      <td>1</td>\n",
       "      <td>0</td>\n",
       "      <td>0</td>\n",
       "      <td>1</td>\n",
       "      <td>0</td>\n",
       "      <td>0</td>\n",
       "    </tr>\n",
       "    <tr>\n",
       "      <th>3</th>\n",
       "      <td>0</td>\n",
       "      <td>0</td>\n",
       "      <td>-0.07</td>\n",
       "      <td>1</td>\n",
       "      <td>0.17</td>\n",
       "      <td>0.92</td>\n",
       "      <td>0.0</td>\n",
       "      <td>1.27</td>\n",
       "      <td>0.2</td>\n",
       "      <td>0</td>\n",
       "      <td>0</td>\n",
       "      <td>0</td>\n",
       "      <td>1</td>\n",
       "      <td>1</td>\n",
       "      <td>0</td>\n",
       "      <td>0</td>\n",
       "      <td>0</td>\n",
       "    </tr>\n",
       "    <tr>\n",
       "      <th>4</th>\n",
       "      <td>1</td>\n",
       "      <td>1</td>\n",
       "      <td>-0.05</td>\n",
       "      <td>1</td>\n",
       "      <td>0.33</td>\n",
       "      <td>0.59</td>\n",
       "      <td>0.0</td>\n",
       "      <td>-0.60</td>\n",
       "      <td>0.2</td>\n",
       "      <td>1</td>\n",
       "      <td>0</td>\n",
       "      <td>0</td>\n",
       "      <td>0</td>\n",
       "      <td>0</td>\n",
       "      <td>0</td>\n",
       "      <td>0</td>\n",
       "      <td>1</td>\n",
       "    </tr>\n",
       "    <tr>\n",
       "      <th>5</th>\n",
       "      <td>1</td>\n",
       "      <td>0</td>\n",
       "      <td>-0.53</td>\n",
       "      <td>1</td>\n",
       "      <td>0.33</td>\n",
       "      <td>0.71</td>\n",
       "      <td>0.0</td>\n",
       "      <td>2.55</td>\n",
       "      <td>1.0</td>\n",
       "      <td>0</td>\n",
       "      <td>1</td>\n",
       "      <td>0</td>\n",
       "      <td>0</td>\n",
       "      <td>1</td>\n",
       "      <td>0</td>\n",
       "      <td>0</td>\n",
       "      <td>0</td>\n",
       "    </tr>\n",
       "    <tr>\n",
       "      <th>6</th>\n",
       "      <td>0</td>\n",
       "      <td>1</td>\n",
       "      <td>-0.28</td>\n",
       "      <td>0</td>\n",
       "      <td>0.33</td>\n",
       "      <td>0.06</td>\n",
       "      <td>0.0</td>\n",
       "      <td>-0.60</td>\n",
       "      <td>0.4</td>\n",
       "      <td>0</td>\n",
       "      <td>1</td>\n",
       "      <td>0</td>\n",
       "      <td>0</td>\n",
       "      <td>0</td>\n",
       "      <td>0</td>\n",
       "      <td>0</td>\n",
       "      <td>1</td>\n",
       "    </tr>\n",
       "    <tr>\n",
       "      <th>7</th>\n",
       "      <td>0</td>\n",
       "      <td>0</td>\n",
       "      <td>-0.12</td>\n",
       "      <td>1</td>\n",
       "      <td>0.33</td>\n",
       "      <td>0.67</td>\n",
       "      <td>0.0</td>\n",
       "      <td>0.15</td>\n",
       "      <td>0.8</td>\n",
       "      <td>0</td>\n",
       "      <td>1</td>\n",
       "      <td>0</td>\n",
       "      <td>0</td>\n",
       "      <td>1</td>\n",
       "      <td>0</td>\n",
       "      <td>0</td>\n",
       "      <td>0</td>\n",
       "    </tr>\n",
       "    <tr>\n",
       "      <th>8</th>\n",
       "      <td>0</td>\n",
       "      <td>1</td>\n",
       "      <td>-0.29</td>\n",
       "      <td>1</td>\n",
       "      <td>0.83</td>\n",
       "      <td>0.08</td>\n",
       "      <td>0.0</td>\n",
       "      <td>-0.60</td>\n",
       "      <td>0.6</td>\n",
       "      <td>0</td>\n",
       "      <td>0</td>\n",
       "      <td>1</td>\n",
       "      <td>0</td>\n",
       "      <td>1</td>\n",
       "      <td>0</td>\n",
       "      <td>0</td>\n",
       "      <td>0</td>\n",
       "    </tr>\n",
       "    <tr>\n",
       "      <th>9</th>\n",
       "      <td>1</td>\n",
       "      <td>1</td>\n",
       "      <td>-0.18</td>\n",
       "      <td>1</td>\n",
       "      <td>0.50</td>\n",
       "      <td>0.42</td>\n",
       "      <td>0.0</td>\n",
       "      <td>-0.33</td>\n",
       "      <td>1.0</td>\n",
       "      <td>0</td>\n",
       "      <td>1</td>\n",
       "      <td>0</td>\n",
       "      <td>0</td>\n",
       "      <td>0</td>\n",
       "      <td>1</td>\n",
       "      <td>0</td>\n",
       "      <td>0</td>\n",
       "    </tr>\n",
       "  </tbody>\n",
       "</table>\n",
       "</div>"
      ],
      "text/plain": [
       "   sex  is_employed  income  health_ins  num_vehicles   age  state_of_res  \\\n",
       "0    1            1   -0.34           1          0.00  0.04           0.0   \n",
       "1    0            0   -0.32           1          0.00  0.78           0.0   \n",
       "2    0            1   -0.36           1          0.33  0.13           0.0   \n",
       "3    0            0   -0.07           1          0.17  0.92           0.0   \n",
       "4    1            1   -0.05           1          0.33  0.59           0.0   \n",
       "5    1            0   -0.53           1          0.33  0.71           0.0   \n",
       "6    0            1   -0.28           0          0.33  0.06           0.0   \n",
       "7    0            0   -0.12           1          0.33  0.67           0.0   \n",
       "8    0            1   -0.29           1          0.83  0.08           0.0   \n",
       "9    1            1   -0.18           1          0.50  0.42           0.0   \n",
       "\n",
       "   gas_usage  rooms  marital_status_Divorced/Separated  \\\n",
       "0       2.71    0.4                                  0   \n",
       "1      -0.60    1.0                                  1   \n",
       "2      -0.01    0.4                                  0   \n",
       "3       1.27    0.2                                  0   \n",
       "4      -0.60    0.2                                  1   \n",
       "5       2.55    1.0                                  0   \n",
       "6      -0.60    0.4                                  0   \n",
       "7       0.15    0.8                                  0   \n",
       "8      -0.60    0.6                                  0   \n",
       "9      -0.33    1.0                                  0   \n",
       "\n",
       "   marital_status_Married  marital_status_Never married  \\\n",
       "0                       0                             1   \n",
       "1                       0                             0   \n",
       "2                       0                             1   \n",
       "3                       0                             0   \n",
       "4                       0                             0   \n",
       "5                       1                             0   \n",
       "6                       1                             0   \n",
       "7                       1                             0   \n",
       "8                       0                             1   \n",
       "9                       1                             0   \n",
       "\n",
       "   marital_status_Widowed  housing_type_Homeowner free and clear  \\\n",
       "0                       0                                      1   \n",
       "1                       0                                      0   \n",
       "2                       0                                      0   \n",
       "3                       1                                      1   \n",
       "4                       0                                      0   \n",
       "5                       0                                      1   \n",
       "6                       0                                      0   \n",
       "7                       0                                      1   \n",
       "8                       0                                      1   \n",
       "9                       0                                      0   \n",
       "\n",
       "   housing_type_Homeowner with mortgage/loan  \\\n",
       "0                                          0   \n",
       "1                                          0   \n",
       "2                                          1   \n",
       "3                                          0   \n",
       "4                                          0   \n",
       "5                                          0   \n",
       "6                                          0   \n",
       "7                                          0   \n",
       "8                                          0   \n",
       "9                                          1   \n",
       "\n",
       "   housing_type_Occupied with no rent  housing_type_Rented  \n",
       "0                                   0                    0  \n",
       "1                                   0                    1  \n",
       "2                                   0                    0  \n",
       "3                                   0                    0  \n",
       "4                                   0                    1  \n",
       "5                                   0                    0  \n",
       "6                                   0                    1  \n",
       "7                                   0                    0  \n",
       "8                                   0                    0  \n",
       "9                                   0                    0  "
      ]
     },
     "execution_count": 97,
     "metadata": {},
     "output_type": "execute_result"
    }
   ],
   "source": [
    "df.head(10)"
   ]
  },
  {
   "cell_type": "code",
   "execution_count": 98,
   "metadata": {},
   "outputs": [
    {
     "data": {
      "text/plain": [
       "(72458, 16)"
      ]
     },
     "execution_count": 98,
     "metadata": {},
     "output_type": "execute_result"
    }
   ],
   "source": [
    "# Splitting the columns into features and target\n",
    "X = df.drop(['health_ins'], axis=1)\n",
    "y = df['health_ins']\n",
    "\n",
    "X.shape"
   ]
  },
  {
   "cell_type": "code",
   "execution_count": 99,
   "metadata": {},
   "outputs": [],
   "source": [
    "# Divide the data into training and test sets (70% training, 30% test)\n",
    "X_train, X_test, y_train, y_test = train_test_split(X, y, test_size=0.3, shuffle=True)"
   ]
  },
  {
   "cell_type": "code",
   "execution_count": 100,
   "metadata": {},
   "outputs": [],
   "source": [
    "# Functio to rexeive results of a model and plot its evolution for a given parameter\n",
    "def plot_measures(measures):\n",
    "    parameters = measures.iloc[:,0]\n",
    "    accuracy = measures.iloc[:,1]\n",
    "    precision = measures.iloc[:,2]\n",
    "    recall = measures.iloc[:,3]\n",
    "    f1 = measures.iloc[:,4]\n",
    "    spec = measures.iloc[:,5]\n",
    "\n",
    "    sns.lineplot(x=parameters, y=accuracy, label='accuracy')\n",
    "    sns.lineplot(x=parameters, y=precision, label='precision')\n",
    "    sns.lineplot(x=parameters, y=recall, label='recall')\n",
    "    sns.lineplot(x=parameters, y=f1, label='f1')\n",
    "    sns.lineplot(x=parameters, y=spec, label='specificity')"
   ]
  },
  {
   "cell_type": "code",
   "execution_count": 101,
   "metadata": {},
   "outputs": [],
   "source": [
    "# Function to, given the prediction of a model, return its: accuracy, precision, recall, f1 and confusion matrix\n",
    "def get_metrics(y_pred):\n",
    "    acc = round(accuracy_score(y_test, y_pred),3)\n",
    "    prec = round(precision_score(y_test, y_pred),3)\n",
    "    rec = round(recall_score(y_test, y_pred),3)\n",
    "    f1 = round(f1_score(y_test, y_pred),3)\n",
    "    cm = confusion_matrix(y_test, y_pred)\n",
    "    tn, fp, fn, tp = cm.ravel()\n",
    "    spec = round(tn / (tn+fp),3)\n",
    "    return {'accuracy': acc, 'precision': prec, 'recall': rec, 'f1': f1, 'specificity': spec, 'cm': cm}"
   ]
  },
  {
   "cell_type": "code",
   "execution_count": 102,
   "metadata": {},
   "outputs": [],
   "source": [
    "# Dataframe to store the results of the models\n",
    "models = pd.DataFrame(columns=['model', 'accuracy', 'precision', 'recall', 'f1', 'specificity', 'cm'])"
   ]
  },
  {
   "cell_type": "markdown",
   "metadata": {},
   "source": [
    "## Decision Trees"
   ]
  },
  {
   "cell_type": "code",
   "execution_count": 103,
   "metadata": {},
   "outputs": [
    {
     "name": "stdout",
     "output_type": "stream",
     "text": [
      "Fitting model with 1\n",
      "Fitting model with 3\n",
      "Fitting model with 5\n",
      "Fitting model with 7\n",
      "Fitting model with 9\n",
      "Fitting model with 11\n",
      "Fitting model with 13\n",
      "Fitting model with 15\n",
      "Fitting model with 17\n",
      "Fitting model with 19\n",
      "Fitting model with None\n"
     ]
    },
    {
     "data": {
      "image/png": "[encoded data removed]",
      "text/plain": [
       "<Figure size 640x480 with 1 Axes>"
      ]
     },
     "metadata": {},
     "output_type": "display_data"
    }
   ],
   "source": [
    "dec_tree_measures = pd.DataFrame(columns=['max_depth', 'accuracy', 'precision', 'recall', 'f1', 'specificity', 'cm'])\n",
    "parameters = list(range(1, 20, 2)) + [None]\n",
    "\n",
    "for max_depth in parameters:\n",
    "    print(f'Fitting model with {max_depth}')\n",
    "    model = DecisionTreeClassifier(max_depth=max_depth)\n",
    "    model.fit(X_train, y_train)\n",
    "    y_pred = model.predict(X_test)\n",
    "    measures = get_metrics(y_pred)\n",
    "    new_row = {'max_depth': max_depth, **measures}\n",
    "    dec_tree_measures.loc[len(dec_tree_measures)] = new_row\n",
    "\n",
    "\n",
    "plot_measures(dec_tree_measures)"
   ]
  },
  {
   "cell_type": "code",
   "execution_count": 104,
   "metadata": {},
   "outputs": [
    {
     "data": {
      "text/html": [
       "<div>\n",
       "<style scoped>\n",
       "    .dataframe tbody tr th:only-of-type {\n",
       "        vertical-align: middle;\n",
       "    }\n",
       "\n",
       "    .dataframe tbody tr th {\n",
       "        vertical-align: top;\n",
       "    }\n",
       "\n",
       "    .dataframe thead th {\n",
       "        text-align: right;\n",
       "    }\n",
       "</style>\n",
       "<table border=\"1\" class=\"dataframe\">\n",
       "  <thead>\n",
       "    <tr style=\"text-align: right;\">\n",
       "      <th></th>\n",
       "      <th>model</th>\n",
       "      <th>accuracy</th>\n",
       "      <th>precision</th>\n",
       "      <th>recall</th>\n",
       "      <th>f1</th>\n",
       "      <th>specificity</th>\n",
       "      <th>cm</th>\n",
       "    </tr>\n",
       "  </thead>\n",
       "  <tbody>\n",
       "    <tr>\n",
       "      <th>0</th>\n",
       "      <td>Decision Tree</td>\n",
       "      <td>0.906</td>\n",
       "      <td>0.908</td>\n",
       "      <td>0.997</td>\n",
       "      <td>0.951</td>\n",
       "      <td>0.027</td>\n",
       "      <td>[[55, 1981], [53, 19649]]</td>\n",
       "    </tr>\n",
       "  </tbody>\n",
       "</table>\n",
       "</div>"
      ],
      "text/plain": [
       "           model  accuracy  precision  recall     f1  specificity  \\\n",
       "0  Decision Tree     0.906      0.908   0.997  0.951        0.027   \n",
       "\n",
       "                          cm  \n",
       "0  [[55, 1981], [53, 19649]]  "
      ]
     },
     "execution_count": 104,
     "metadata": {},
     "output_type": "execute_result"
    }
   ],
   "source": [
    "row = dec_tree_measures[dec_tree_measures['max_depth'] == 7]\n",
    "models.loc[len(models)] = {'model': 'Decision Tree', **row.iloc[0,1:]}\n",
    "models"
   ]
  },
  {
   "cell_type": "markdown",
   "metadata": {},
   "source": [
    "## Random Forest"
   ]
  },
  {
   "cell_type": "code",
   "execution_count": 105,
   "metadata": {},
   "outputs": [
    {
     "name": "stdout",
     "output_type": "stream",
     "text": [
      "Fitting model with 10\n",
      "Fitting model with 20\n",
      "Fitting model with 50\n",
      "Fitting model with 75\n",
      "Fitting model with 100\n",
      "Fitting model with 200\n",
      "Fitting model with 500\n"
     ]
    },
    {
     "data": {
      "image/png": "[encoded data removed]",
      "text/plain": [
       "<Figure size 640x480 with 1 Axes>"
      ]
     },
     "metadata": {},
     "output_type": "display_data"
    }
   ],
   "source": [
    "rf_measures = pd.DataFrame(columns=['n_trees', 'accuracy', 'precision', 'recall', 'f1', 'specificity', 'cm'])\n",
    "parameters = [10, 20, 50, 75, 100, 200, 500]\n",
    "\n",
    "for n_trees in parameters:\n",
    "    print(f'Fitting model with {n_trees}')\n",
    "    model = RandomForestClassifier(n_estimators=n_trees)\n",
    "    model.fit(X_train, y_train)\n",
    "    y_pred = model.predict(X_test)\n",
    "    measures = get_metrics(y_pred)\n",
    "    new_row = {'n_trees': n_trees, **measures}\n",
    "    rf_measures.loc[len(rf_measures)] = new_row\n",
    "\n",
    "plot_measures(rf_measures)"
   ]
  },
  {
   "cell_type": "code",
   "execution_count": 106,
   "metadata": {},
   "outputs": [
    {
     "data": {
      "text/html": [
       "<div>\n",
       "<style scoped>\n",
       "    .dataframe tbody tr th:only-of-type {\n",
       "        vertical-align: middle;\n",
       "    }\n",
       "\n",
       "    .dataframe tbody tr th {\n",
       "        vertical-align: top;\n",
       "    }\n",
       "\n",
       "    .dataframe thead th {\n",
       "        text-align: right;\n",
       "    }\n",
       "</style>\n",
       "<table border=\"1\" class=\"dataframe\">\n",
       "  <thead>\n",
       "    <tr style=\"text-align: right;\">\n",
       "      <th></th>\n",
       "      <th>model</th>\n",
       "      <th>accuracy</th>\n",
       "      <th>precision</th>\n",
       "      <th>recall</th>\n",
       "      <th>f1</th>\n",
       "      <th>specificity</th>\n",
       "      <th>cm</th>\n",
       "    </tr>\n",
       "  </thead>\n",
       "  <tbody>\n",
       "    <tr>\n",
       "      <th>0</th>\n",
       "      <td>Decision Tree</td>\n",
       "      <td>0.906</td>\n",
       "      <td>0.908</td>\n",
       "      <td>0.997</td>\n",
       "      <td>0.951</td>\n",
       "      <td>0.027</td>\n",
       "      <td>[[55, 1981], [53, 19649]]</td>\n",
       "    </tr>\n",
       "    <tr>\n",
       "      <th>1</th>\n",
       "      <td>Random Forest</td>\n",
       "      <td>0.905</td>\n",
       "      <td>0.913</td>\n",
       "      <td>0.989</td>\n",
       "      <td>0.950</td>\n",
       "      <td>0.087</td>\n",
       "      <td>[[178, 1858], [210, 19492]]</td>\n",
       "    </tr>\n",
       "  </tbody>\n",
       "</table>\n",
       "</div>"
      ],
      "text/plain": [
       "           model  accuracy  precision  recall     f1  specificity  \\\n",
       "0  Decision Tree     0.906      0.908   0.997  0.951        0.027   \n",
       "1  Random Forest     0.905      0.913   0.989  0.950        0.087   \n",
       "\n",
       "                            cm  \n",
       "0    [[55, 1981], [53, 19649]]  \n",
       "1  [[178, 1858], [210, 19492]]  "
      ]
     },
     "execution_count": 106,
     "metadata": {},
     "output_type": "execute_result"
    }
   ],
   "source": [
    "row = rf_measures[rf_measures['n_trees'] == 100]\n",
    "models.loc[len(models)] = {'model': 'Random Forest', **row.iloc[0,1:]}\n",
    "models"
   ]
  },
  {
   "cell_type": "markdown",
   "metadata": {},
   "source": [
    "## K Nearest Neighbors"
   ]
  },
  {
   "cell_type": "code",
   "execution_count": 107,
   "metadata": {},
   "outputs": [
    {
     "name": "stdout",
     "output_type": "stream",
     "text": [
      "Fitting model with 3\n",
      "Fitting model with 5\n",
      "Fitting model with 7\n",
      "Fitting model with 9\n",
      "Fitting model with 11\n",
      "Fitting model with 13\n",
      "Fitting model with 15\n",
      "Fitting model with 17\n",
      "Fitting model with 19\n",
      "Fitting model with 21\n",
      "Fitting model with 23\n"
     ]
    },
    {
     "data": {
      "image/png": "[encoded data removed]",
      "text/plain": [
       "<Figure size 640x480 with 1 Axes>"
      ]
     },
     "metadata": {},
     "output_type": "display_data"
    }
   ],
   "source": [
    "knn_measures = pd.DataFrame(columns=['n_neighbors', 'accuracy', 'precision', 'recall', 'f1', 'specificity', 'cm'])\n",
    "parameters = list(range(3, 25, 2))\n",
    "\n",
    "for n_neighbors in parameters:\n",
    "    print(f'Fitting model with {n_neighbors}')\n",
    "    model = KNeighborsClassifier(n_neighbors=n_neighbors)\n",
    "    model.fit(X_train, y_train)\n",
    "    y_pred = model.predict(X_test)\n",
    "    measures = get_metrics(y_pred)\n",
    "    new_row = {'n_neighbors': n_neighbors, **measures}\n",
    "    knn_measures.loc[len(knn_measures)] = new_row\n",
    "\n",
    "plot_measures(knn_measures)"
   ]
  },
  {
   "cell_type": "code",
   "execution_count": 108,
   "metadata": {},
   "outputs": [
    {
     "data": {
      "text/html": [
       "<div>\n",
       "<style scoped>\n",
       "    .dataframe tbody tr th:only-of-type {\n",
       "        vertical-align: middle;\n",
       "    }\n",
       "\n",
       "    .dataframe tbody tr th {\n",
       "        vertical-align: top;\n",
       "    }\n",
       "\n",
       "    .dataframe thead th {\n",
       "        text-align: right;\n",
       "    }\n",
       "</style>\n",
       "<table border=\"1\" class=\"dataframe\">\n",
       "  <thead>\n",
       "    <tr style=\"text-align: right;\">\n",
       "      <th></th>\n",
       "      <th>model</th>\n",
       "      <th>accuracy</th>\n",
       "      <th>precision</th>\n",
       "      <th>recall</th>\n",
       "      <th>f1</th>\n",
       "      <th>specificity</th>\n",
       "      <th>cm</th>\n",
       "    </tr>\n",
       "  </thead>\n",
       "  <tbody>\n",
       "    <tr>\n",
       "      <th>0</th>\n",
       "      <td>Decision Tree</td>\n",
       "      <td>0.906</td>\n",
       "      <td>0.908</td>\n",
       "      <td>0.997</td>\n",
       "      <td>0.951</td>\n",
       "      <td>0.027</td>\n",
       "      <td>[[55, 1981], [53, 19649]]</td>\n",
       "    </tr>\n",
       "    <tr>\n",
       "      <th>1</th>\n",
       "      <td>Random Forest</td>\n",
       "      <td>0.905</td>\n",
       "      <td>0.913</td>\n",
       "      <td>0.989</td>\n",
       "      <td>0.950</td>\n",
       "      <td>0.087</td>\n",
       "      <td>[[178, 1858], [210, 19492]]</td>\n",
       "    </tr>\n",
       "    <tr>\n",
       "      <th>2</th>\n",
       "      <td>KNN</td>\n",
       "      <td>0.903</td>\n",
       "      <td>0.911</td>\n",
       "      <td>0.990</td>\n",
       "      <td>0.949</td>\n",
       "      <td>0.063</td>\n",
       "      <td>[[128, 1908], [199, 19503]]</td>\n",
       "    </tr>\n",
       "  </tbody>\n",
       "</table>\n",
       "</div>"
      ],
      "text/plain": [
       "           model  accuracy  precision  recall     f1  specificity  \\\n",
       "0  Decision Tree     0.906      0.908   0.997  0.951        0.027   \n",
       "1  Random Forest     0.905      0.913   0.989  0.950        0.087   \n",
       "2            KNN     0.903      0.911   0.990  0.949        0.063   \n",
       "\n",
       "                            cm  \n",
       "0    [[55, 1981], [53, 19649]]  \n",
       "1  [[178, 1858], [210, 19492]]  \n",
       "2  [[128, 1908], [199, 19503]]  "
      ]
     },
     "execution_count": 108,
     "metadata": {},
     "output_type": "execute_result"
    }
   ],
   "source": [
    "row = knn_measures[knn_measures['n_neighbors'] == 11]\n",
    "models.loc[len(models)] = {'model': 'KNN', **row.iloc[0,1:]}\n",
    "models"
   ]
  },
  {
   "cell_type": "markdown",
   "metadata": {},
   "source": [
    "## Overall comparison of the models"
   ]
  },
  {
   "cell_type": "code",
   "execution_count": 109,
   "metadata": {},
   "outputs": [
    {
     "data": {
      "image/png": "[encoded data removed]",
      "text/plain": [
       "<Figure size 1000x600 with 1 Axes>"
      ]
     },
     "metadata": {},
     "output_type": "display_data"
    }
   ],
   "source": [
    "melted = models.melt(id_vars=\"model\", value_vars=[\"accuracy\", \"precision\", \"recall\", \"f1\", \"specificity\"],\n",
    "                     var_name=\"measure\", value_name=\"value\")\n",
    "\n",
    "plt.figure(figsize=(10, 6))\n",
    "sns.barplot(data=melted, x=\"model\", y=\"value\", hue=\"measure\", palette=\"deep\")\n",
    "\n",
    "plt.title(\"Model Performance Metrics\", fontsize=16)\n",
    "plt.xlabel(\"Model\", fontsize=12)\n",
    "plt.ylabel(\"Value\", fontsize=12)\n",
    "plt.xticks(fontsize=10)\n",
    "plt.yticks(fontsize=10)\n",
    "plt.legend(title=\"Measure\", fontsize=10, title_fontsize=12)\n",
    "plt.tight_layout()\n",
    "\n",
    "plt.show()"
   ]
  },
  {
   "cell_type": "code",
   "execution_count": 110,
   "metadata": {},
   "outputs": [
    {
     "data": {
      "text/html": [
       "<div>\n",
       "<style scoped>\n",
       "    .dataframe tbody tr th:only-of-type {\n",
       "        vertical-align: middle;\n",
       "    }\n",
       "\n",
       "    .dataframe tbody tr th {\n",
       "        vertical-align: top;\n",
       "    }\n",
       "\n",
       "    .dataframe thead th {\n",
       "        text-align: right;\n",
       "    }\n",
       "</style>\n",
       "<table border=\"1\" class=\"dataframe\">\n",
       "  <thead>\n",
       "    <tr style=\"text-align: right;\">\n",
       "      <th></th>\n",
       "      <th>model</th>\n",
       "      <th>cm</th>\n",
       "    </tr>\n",
       "  </thead>\n",
       "  <tbody>\n",
       "    <tr>\n",
       "      <th>0</th>\n",
       "      <td>Decision Tree</td>\n",
       "      <td>[[55, 1981], [53, 19649]]</td>\n",
       "    </tr>\n",
       "    <tr>\n",
       "      <th>1</th>\n",
       "      <td>Random Forest</td>\n",
       "      <td>[[178, 1858], [210, 19492]]</td>\n",
       "    </tr>\n",
       "    <tr>\n",
       "      <th>2</th>\n",
       "      <td>KNN</td>\n",
       "      <td>[[128, 1908], [199, 19503]]</td>\n",
       "    </tr>\n",
       "  </tbody>\n",
       "</table>\n",
       "</div>"
      ],
      "text/plain": [
       "           model                           cm\n",
       "0  Decision Tree    [[55, 1981], [53, 19649]]\n",
       "1  Random Forest  [[178, 1858], [210, 19492]]\n",
       "2            KNN  [[128, 1908], [199, 19503]]"
      ]
     },
     "execution_count": 110,
     "metadata": {},
     "output_type": "execute_result"
    }
   ],
   "source": [
    "conf_mxs = models[['model', 'cm']]\n",
    "conf_mxs"
   ]
  },
  {
   "cell_type": "code",
   "execution_count": 111,
   "metadata": {},
   "outputs": [
    {
     "data": {
      "image/png": "[encoded data removed]",
      "text/plain": [
       "<Figure size 1500x1000 with 3 Axes>"
      ]
     },
     "metadata": {},
     "output_type": "display_data"
    }
   ],
   "source": [
    "# plot confusion matrixes\n",
    "plt.figure(figsize=(15, 10))\n",
    "for i, row in conf_mxs.iterrows():\n",
    "    plt.subplot(2, 2, i+1)\n",
    "    sns.heatmap(row['cm'], annot=True, fmt='d', cmap='Reds', cbar=False)\n",
    "    plt.title(row['model'])\n",
    "    plt.xlabel('Predicted')\n",
    "    plt.ylabel('True')\n",
    "plt.tight_layout()"
   ]
  },
  {
   "cell_type": "markdown",
   "metadata": {},
   "source": [
    "As we can see, these models seem to perform very well. All of them achieve accuracy, F1-score, recall and precision around 0.9.\n",
    "\n",
    "Does this mean that we can move forward to more complex models? Not at all.\n",
    "All these models are getting very low values for specificity, meaning they are not good at capturing the negative class. This indicates the presence of very underfitted models, biased towards the positive class.\n",
    "\n",
    "The confusion matrices resulting of each of these models prove that these models are not capable of correclty predicting a considerbale amount of negative cases."
   ]
  },
  {
   "cell_type": "code",
   "execution_count": 112,
   "metadata": {},
   "outputs": [
    {
     "name": "stdout",
     "output_type": "stream",
     "text": [
      "health_ins\n",
      "1    65553\n",
      "0     6905\n",
      "Name: count, dtype: int64\n",
      "health_ins\n",
      "1    0.904703\n",
      "0    0.095297\n",
      "Name: proportion, dtype: float64\n"
     ]
    }
   ],
   "source": [
    "# Frequency of target variable\n",
    "print(y.value_counts(dropna=False))\n",
    "\n",
    "# Frequency of target variable in percentage\n",
    "print(y.value_counts(dropna=False, normalize=True))"
   ]
  },
  {
   "cell_type": "markdown",
   "metadata": {},
   "source": [
    "Once we are using the trainig dataset to both train and validate our models, the \"classical\" metrics are not enough to reason about model performance. This dataset is highly imbalanced, meaning that both test and validation partitions will have a similar distribution. So, if we use a model that learns to predict everything as positive, when tested in a dataset with similar distribution, it will achieve very good accruacy, F1, ... metrics."
   ]
  },
  {
   "cell_type": "code",
   "execution_count": 113,
   "metadata": {},
   "outputs": [
    {
     "name": "stdout",
     "output_type": "stream",
     "text": [
      "health_ins\n",
      "1    0.904002\n",
      "0    0.095998\n",
      "Name: proportion, dtype: float64\n",
      "health_ins\n",
      "1    0.906339\n",
      "0    0.093661\n",
      "Name: proportion, dtype: float64\n"
     ]
    }
   ],
   "source": [
    "# Frequency of target variable in train set\n",
    "print(y_train.value_counts(dropna=False, normalize=True))\n",
    "\n",
    "# Frequency of target variable in test set\n",
    "print(y_test.value_counts(dropna=False, normalize=True))"
   ]
  },
  {
   "cell_type": "markdown",
   "metadata": {},
   "source": [
    "Next section will focus on how to address this issue, by aplying balacing techniques to the dataset."
   ]
  }
 ],
 "metadata": {
  "kernelspec": {
   "display_name": "icd",
   "language": "python",
   "name": "python3"
  },
  "language_info": {
   "codemirror_mode": {
    "name": "ipython",
    "version": 3
   },
   "file_extension": ".py",
   "mimetype": "text/x-python",
   "name": "python",
   "nbconvert_exporter": "python",
   "pygments_lexer": "ipython3",
   "version": "3.12.6"
  }
 },
 "nbformat": 4,
 "nbformat_minor": 2
}
