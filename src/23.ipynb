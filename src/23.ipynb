{
 "cells": [
  {
   "cell_type": "markdown",
   "metadata": {},
   "source": [
    "# Data Preprocessing"
   ]
  },
  {
   "cell_type": "markdown",
   "metadata": {},
   "source": [
    "After having identified some issues of the training dataset in the EDA phase, we will now proceed to preprocess the data."
   ]
  },
  {
   "cell_type": "code",
   "execution_count": 40,
   "metadata": {},
   "outputs": [],
   "source": [
    "import os\n",
    "\n",
    "import pandas as pd\n",
    "import seaborn as sns\n",
    "import matplotlib.pyplot as plt\n",
    "from sklearn.preprocessing import LabelEncoder, MinMaxScaler, StandardScaler\n",
    "from sklearn.impute import KNNImputer\n",
    "\n",
    "from sklearn.model_selection import train_test_split\n",
    "from sklearn.model_selection import GridSearchCV\n",
    "\n",
    "from sklearn.tree import DecisionTreeClassifier\n",
    "from sklearn.ensemble import RandomForestClassifier\n",
    "from sklearn.neighbors import KNeighborsClassifier\n",
    "\n",
    "from sklearn.metrics import confusion_matrix, accuracy_score, f1_score, precision_score, recall_score, ConfusionMatrixDisplay"
   ]
  },
  {
   "cell_type": "code",
   "execution_count": 41,
   "metadata": {},
   "outputs": [],
   "source": [
    "# to be deleted (load the dataset to variable df)\n",
    "os.chdir('../data')\n",
    "df = pd.read_csv('customer.csv')"
   ]
  },
  {
   "cell_type": "markdown",
   "metadata": {},
   "source": [
    "Once the data cleaning process must be applied to both training and test datasets, we will create a function to ensure that we are applying the same transformations to both datasets.\n",
    "\n",
    "The function must perform the following tasks:\n",
    "- Remove unnecessary columns\n",
    "- Deal with outliers\n",
    "- Scale numerical features (considering Standard Scaling and Min-Max Scaling)\n",
    "- Encode categorical features (considering Label Encoding and One-Hot Encoding)\n",
    "- Treat missing values"
   ]
  },
  {
   "cell_type": "code",
   "execution_count": 42,
   "metadata": {},
   "outputs": [],
   "source": [
    "def preprocess(data, isTest = False):\n",
    "    \"\"\" potentially to be removed \n",
    "    # is_employed null values are filled with False\n",
    "    data['is_employed'] = data['is_employed'].fillna(False)\n",
    "    \"\"\"\n",
    "\n",
    "    # drop columns that are not needed\n",
    "    cols_to_drop = ['Unnamed: 0','custid','code_column']\n",
    "    if isTest:\n",
    "        cols_to_drop.append('health_ins')\n",
    "    data = data.drop(cols_to_drop, axis=1)\n",
    "\n",
    "    # change ages < 21 and > 99 to Nan\n",
    "    data['age'] = data['age'].apply(lambda x: x if 21 <= x <= 99 else None)\n",
    "    \n",
    "    # min max scaling\n",
    "    min_max_columns = ['age', 'num_vehicles', 'rooms']\n",
    "    minmax_scaler = MinMaxScaler()\n",
    "    data[min_max_columns] = minmax_scaler.fit_transform(data[min_max_columns]).round(4)\n",
    "    \n",
    "    # std scaling\n",
    "    standard_columns = ['income', 'gas_usage']\n",
    "    std_scaler = StandardScaler()\n",
    "    data[standard_columns] = std_scaler.fit_transform(data[['income', 'gas_usage']]).round(4)\n",
    "    \n",
    "    # label encoding\n",
    "    cols_label_encode = ['sex','is_employed', 'state_of_res']\n",
    "    if not isTest:\n",
    "        cols_label_encode.append('health_ins')\n",
    "    label_encoder = LabelEncoder()\n",
    "    for col in cols_label_encode:\n",
    "        data[col] = label_encoder.fit_transform(data[col])\n",
    "\n",
    "    # one hot encoding\n",
    "    cols_one_hot_encode = ['marital_status', 'housing_type', 'is_employed']\n",
    "    data = pd.get_dummies(data, columns=cols_one_hot_encode, dummy_na=False)\n",
    "    dummies = list(filter(lambda x: x.startswith(tuple(cols_one_hot_encode)), data.columns))\n",
    "    for col in dummies:\n",
    "        data[col] = label_encoder.fit_transform(data[col])\n",
    "    \n",
    "    # scale the state_of_res column\n",
    "    data['state_of_res'] = MinMaxScaler().fit_transform(data[['state_of_res']])\n",
    "\n",
    "    # encode recent_move_b with label encoder but keep the Nan values\n",
    "    data['recent_move_b'] = label_encoder.fit_transform(data['recent_move_b'])\n",
    "    data['recent_move_b'] = data['recent_move_b'].replace(2, None)\n",
    "\n",
    "    # use KNN imputation to fill missing data\n",
    "    knn_imputer = KNNImputer(n_neighbors=5, weights='distance')\n",
    "    df_imputed = knn_imputer.fit_transform(data)\n",
    "    df_imputed = pd.DataFrame(df_imputed, columns=data.columns)\n",
    "    return df_imputed"
   ]
  },
  {
   "cell_type": "markdown",
   "metadata": {},
   "source": [
    "Now we can apply the preprocessing steps to the training dataset."
   ]
  },
  {
   "cell_type": "code",
   "execution_count": 43,
   "metadata": {},
   "outputs": [
    {
     "data": {
      "text/html": [
       "<div>\n",
       "<style scoped>\n",
       "    .dataframe tbody tr th:only-of-type {\n",
       "        vertical-align: middle;\n",
       "    }\n",
       "\n",
       "    .dataframe tbody tr th {\n",
       "        vertical-align: top;\n",
       "    }\n",
       "\n",
       "    .dataframe thead th {\n",
       "        text-align: right;\n",
       "    }\n",
       "</style>\n",
       "<table border=\"1\" class=\"dataframe\">\n",
       "  <thead>\n",
       "    <tr style=\"text-align: right;\">\n",
       "      <th></th>\n",
       "      <th>sex</th>\n",
       "      <th>income</th>\n",
       "      <th>health_ins</th>\n",
       "      <th>num_vehicles</th>\n",
       "      <th>age</th>\n",
       "      <th>state_of_res</th>\n",
       "      <th>gas_usage</th>\n",
       "      <th>recent_move_b</th>\n",
       "      <th>marital_status_Divorced/Separated</th>\n",
       "      <th>marital_status_Married</th>\n",
       "      <th>marital_status_Never married</th>\n",
       "      <th>marital_status_Widowed</th>\n",
       "      <th>housing_type_Homeowner free and clear</th>\n",
       "      <th>housing_type_Homeowner with mortgage/loan</th>\n",
       "      <th>housing_type_Occupied with no rent</th>\n",
       "      <th>housing_type_Rented</th>\n",
       "      <th>is_employed_0</th>\n",
       "      <th>is_employed_1</th>\n",
       "      <th>is_employed_2</th>\n",
       "    </tr>\n",
       "  </thead>\n",
       "  <tbody>\n",
       "    <tr>\n",
       "      <th>0</th>\n",
       "      <td>1.0</td>\n",
       "      <td>-0.3412</td>\n",
       "      <td>1.0</td>\n",
       "      <td>0.0000</td>\n",
       "      <td>0.0400</td>\n",
       "      <td>0.0</td>\n",
       "      <td>2.6726</td>\n",
       "      <td>0.0</td>\n",
       "      <td>0.0</td>\n",
       "      <td>0.0</td>\n",
       "      <td>1.0</td>\n",
       "      <td>0.0</td>\n",
       "      <td>1.0</td>\n",
       "      <td>0.0</td>\n",
       "      <td>0.0</td>\n",
       "      <td>0.0</td>\n",
       "      <td>0.0</td>\n",
       "      <td>1.0</td>\n",
       "      <td>0.0</td>\n",
       "    </tr>\n",
       "    <tr>\n",
       "      <th>1</th>\n",
       "      <td>0.0</td>\n",
       "      <td>-0.3206</td>\n",
       "      <td>1.0</td>\n",
       "      <td>0.0000</td>\n",
       "      <td>0.8133</td>\n",
       "      <td>0.0</td>\n",
       "      <td>-0.6054</td>\n",
       "      <td>1.0</td>\n",
       "      <td>1.0</td>\n",
       "      <td>0.0</td>\n",
       "      <td>0.0</td>\n",
       "      <td>0.0</td>\n",
       "      <td>0.0</td>\n",
       "      <td>0.0</td>\n",
       "      <td>0.0</td>\n",
       "      <td>1.0</td>\n",
       "      <td>0.0</td>\n",
       "      <td>0.0</td>\n",
       "      <td>1.0</td>\n",
       "    </tr>\n",
       "    <tr>\n",
       "      <th>2</th>\n",
       "      <td>0.0</td>\n",
       "      <td>-0.3583</td>\n",
       "      <td>1.0</td>\n",
       "      <td>0.3333</td>\n",
       "      <td>0.1333</td>\n",
       "      <td>0.0</td>\n",
       "      <td>-0.0195</td>\n",
       "      <td>0.0</td>\n",
       "      <td>0.0</td>\n",
       "      <td>0.0</td>\n",
       "      <td>1.0</td>\n",
       "      <td>0.0</td>\n",
       "      <td>0.0</td>\n",
       "      <td>1.0</td>\n",
       "      <td>0.0</td>\n",
       "      <td>0.0</td>\n",
       "      <td>0.0</td>\n",
       "      <td>1.0</td>\n",
       "      <td>0.0</td>\n",
       "    </tr>\n",
       "    <tr>\n",
       "      <th>3</th>\n",
       "      <td>0.0</td>\n",
       "      <td>-0.0706</td>\n",
       "      <td>1.0</td>\n",
       "      <td>0.1667</td>\n",
       "      <td>0.9600</td>\n",
       "      <td>0.0</td>\n",
       "      <td>1.2474</td>\n",
       "      <td>0.0</td>\n",
       "      <td>0.0</td>\n",
       "      <td>0.0</td>\n",
       "      <td>0.0</td>\n",
       "      <td>1.0</td>\n",
       "      <td>1.0</td>\n",
       "      <td>0.0</td>\n",
       "      <td>0.0</td>\n",
       "      <td>0.0</td>\n",
       "      <td>0.0</td>\n",
       "      <td>0.0</td>\n",
       "      <td>1.0</td>\n",
       "    </tr>\n",
       "    <tr>\n",
       "      <th>4</th>\n",
       "      <td>1.0</td>\n",
       "      <td>-0.0494</td>\n",
       "      <td>1.0</td>\n",
       "      <td>0.3333</td>\n",
       "      <td>0.6133</td>\n",
       "      <td>0.0</td>\n",
       "      <td>-0.6054</td>\n",
       "      <td>0.0</td>\n",
       "      <td>1.0</td>\n",
       "      <td>0.0</td>\n",
       "      <td>0.0</td>\n",
       "      <td>0.0</td>\n",
       "      <td>0.0</td>\n",
       "      <td>0.0</td>\n",
       "      <td>0.0</td>\n",
       "      <td>1.0</td>\n",
       "      <td>0.0</td>\n",
       "      <td>1.0</td>\n",
       "      <td>0.0</td>\n",
       "    </tr>\n",
       "    <tr>\n",
       "      <th>5</th>\n",
       "      <td>1.0</td>\n",
       "      <td>-0.5282</td>\n",
       "      <td>1.0</td>\n",
       "      <td>0.3333</td>\n",
       "      <td>0.7333</td>\n",
       "      <td>0.0</td>\n",
       "      <td>2.5142</td>\n",
       "      <td>0.0</td>\n",
       "      <td>0.0</td>\n",
       "      <td>1.0</td>\n",
       "      <td>0.0</td>\n",
       "      <td>0.0</td>\n",
       "      <td>1.0</td>\n",
       "      <td>0.0</td>\n",
       "      <td>0.0</td>\n",
       "      <td>0.0</td>\n",
       "      <td>0.0</td>\n",
       "      <td>0.0</td>\n",
       "      <td>1.0</td>\n",
       "    </tr>\n",
       "    <tr>\n",
       "      <th>6</th>\n",
       "      <td>0.0</td>\n",
       "      <td>-0.2760</td>\n",
       "      <td>0.0</td>\n",
       "      <td>0.3333</td>\n",
       "      <td>0.0667</td>\n",
       "      <td>0.0</td>\n",
       "      <td>-0.6054</td>\n",
       "      <td>0.0</td>\n",
       "      <td>0.0</td>\n",
       "      <td>1.0</td>\n",
       "      <td>0.0</td>\n",
       "      <td>0.0</td>\n",
       "      <td>0.0</td>\n",
       "      <td>0.0</td>\n",
       "      <td>0.0</td>\n",
       "      <td>1.0</td>\n",
       "      <td>0.0</td>\n",
       "      <td>1.0</td>\n",
       "      <td>0.0</td>\n",
       "    </tr>\n",
       "    <tr>\n",
       "      <th>7</th>\n",
       "      <td>0.0</td>\n",
       "      <td>-0.1250</td>\n",
       "      <td>1.0</td>\n",
       "      <td>0.3333</td>\n",
       "      <td>0.6933</td>\n",
       "      <td>0.0</td>\n",
       "      <td>0.1389</td>\n",
       "      <td>0.0</td>\n",
       "      <td>0.0</td>\n",
       "      <td>1.0</td>\n",
       "      <td>0.0</td>\n",
       "      <td>0.0</td>\n",
       "      <td>1.0</td>\n",
       "      <td>0.0</td>\n",
       "      <td>0.0</td>\n",
       "      <td>0.0</td>\n",
       "      <td>0.0</td>\n",
       "      <td>0.0</td>\n",
       "      <td>1.0</td>\n",
       "    </tr>\n",
       "    <tr>\n",
       "      <th>8</th>\n",
       "      <td>0.0</td>\n",
       "      <td>-0.2897</td>\n",
       "      <td>1.0</td>\n",
       "      <td>0.8333</td>\n",
       "      <td>0.0800</td>\n",
       "      <td>0.0</td>\n",
       "      <td>-0.6054</td>\n",
       "      <td>0.0</td>\n",
       "      <td>0.0</td>\n",
       "      <td>0.0</td>\n",
       "      <td>1.0</td>\n",
       "      <td>0.0</td>\n",
       "      <td>1.0</td>\n",
       "      <td>0.0</td>\n",
       "      <td>0.0</td>\n",
       "      <td>0.0</td>\n",
       "      <td>0.0</td>\n",
       "      <td>1.0</td>\n",
       "      <td>0.0</td>\n",
       "    </tr>\n",
       "    <tr>\n",
       "      <th>9</th>\n",
       "      <td>1.0</td>\n",
       "      <td>-0.1833</td>\n",
       "      <td>1.0</td>\n",
       "      <td>0.5000</td>\n",
       "      <td>0.4400</td>\n",
       "      <td>0.0</td>\n",
       "      <td>-0.3362</td>\n",
       "      <td>0.0</td>\n",
       "      <td>0.0</td>\n",
       "      <td>1.0</td>\n",
       "      <td>0.0</td>\n",
       "      <td>0.0</td>\n",
       "      <td>0.0</td>\n",
       "      <td>1.0</td>\n",
       "      <td>0.0</td>\n",
       "      <td>0.0</td>\n",
       "      <td>0.0</td>\n",
       "      <td>1.0</td>\n",
       "      <td>0.0</td>\n",
       "    </tr>\n",
       "  </tbody>\n",
       "</table>\n",
       "</div>"
      ],
      "text/plain": [
       "   sex  income  health_ins  num_vehicles     age  state_of_res  gas_usage  \\\n",
       "0  1.0 -0.3412         1.0        0.0000  0.0400           0.0     2.6726   \n",
       "1  0.0 -0.3206         1.0        0.0000  0.8133           0.0    -0.6054   \n",
       "2  0.0 -0.3583         1.0        0.3333  0.1333           0.0    -0.0195   \n",
       "3  0.0 -0.0706         1.0        0.1667  0.9600           0.0     1.2474   \n",
       "4  1.0 -0.0494         1.0        0.3333  0.6133           0.0    -0.6054   \n",
       "5  1.0 -0.5282         1.0        0.3333  0.7333           0.0     2.5142   \n",
       "6  0.0 -0.2760         0.0        0.3333  0.0667           0.0    -0.6054   \n",
       "7  0.0 -0.1250         1.0        0.3333  0.6933           0.0     0.1389   \n",
       "8  0.0 -0.2897         1.0        0.8333  0.0800           0.0    -0.6054   \n",
       "9  1.0 -0.1833         1.0        0.5000  0.4400           0.0    -0.3362   \n",
       "\n",
       "   recent_move_b  marital_status_Divorced/Separated  marital_status_Married  \\\n",
       "0            0.0                                0.0                     0.0   \n",
       "1            1.0                                1.0                     0.0   \n",
       "2            0.0                                0.0                     0.0   \n",
       "3            0.0                                0.0                     0.0   \n",
       "4            0.0                                1.0                     0.0   \n",
       "5            0.0                                0.0                     1.0   \n",
       "6            0.0                                0.0                     1.0   \n",
       "7            0.0                                0.0                     1.0   \n",
       "8            0.0                                0.0                     0.0   \n",
       "9            0.0                                0.0                     1.0   \n",
       "\n",
       "   marital_status_Never married  marital_status_Widowed  \\\n",
       "0                           1.0                     0.0   \n",
       "1                           0.0                     0.0   \n",
       "2                           1.0                     0.0   \n",
       "3                           0.0                     1.0   \n",
       "4                           0.0                     0.0   \n",
       "5                           0.0                     0.0   \n",
       "6                           0.0                     0.0   \n",
       "7                           0.0                     0.0   \n",
       "8                           1.0                     0.0   \n",
       "9                           0.0                     0.0   \n",
       "\n",
       "   housing_type_Homeowner free and clear  \\\n",
       "0                                    1.0   \n",
       "1                                    0.0   \n",
       "2                                    0.0   \n",
       "3                                    1.0   \n",
       "4                                    0.0   \n",
       "5                                    1.0   \n",
       "6                                    0.0   \n",
       "7                                    1.0   \n",
       "8                                    1.0   \n",
       "9                                    0.0   \n",
       "\n",
       "   housing_type_Homeowner with mortgage/loan  \\\n",
       "0                                        0.0   \n",
       "1                                        0.0   \n",
       "2                                        1.0   \n",
       "3                                        0.0   \n",
       "4                                        0.0   \n",
       "5                                        0.0   \n",
       "6                                        0.0   \n",
       "7                                        0.0   \n",
       "8                                        0.0   \n",
       "9                                        1.0   \n",
       "\n",
       "   housing_type_Occupied with no rent  housing_type_Rented  is_employed_0  \\\n",
       "0                                 0.0                  0.0            0.0   \n",
       "1                                 0.0                  1.0            0.0   \n",
       "2                                 0.0                  0.0            0.0   \n",
       "3                                 0.0                  0.0            0.0   \n",
       "4                                 0.0                  1.0            0.0   \n",
       "5                                 0.0                  0.0            0.0   \n",
       "6                                 0.0                  1.0            0.0   \n",
       "7                                 0.0                  0.0            0.0   \n",
       "8                                 0.0                  0.0            0.0   \n",
       "9                                 0.0                  0.0            0.0   \n",
       "\n",
       "   is_employed_1  is_employed_2  \n",
       "0            1.0            0.0  \n",
       "1            0.0            1.0  \n",
       "2            1.0            0.0  \n",
       "3            0.0            1.0  \n",
       "4            1.0            0.0  \n",
       "5            0.0            1.0  \n",
       "6            1.0            0.0  \n",
       "7            0.0            1.0  \n",
       "8            1.0            0.0  \n",
       "9            1.0            0.0  "
      ]
     },
     "execution_count": 43,
     "metadata": {},
     "output_type": "execute_result"
    }
   ],
   "source": [
    "df = preprocess(df)\n",
    "df.head(10)"
   ]
  },
  {
   "cell_type": "code",
   "execution_count": 44,
   "metadata": {},
   "outputs": [
    {
     "data": {
      "text/plain": [
       "['sex',\n",
       " 'income',\n",
       " 'health_ins',\n",
       " 'num_vehicles',\n",
       " 'age',\n",
       " 'state_of_res',\n",
       " 'gas_usage',\n",
       " 'recent_move_b',\n",
       " 'marital_status_Divorced/Separated',\n",
       " 'marital_status_Married',\n",
       " 'marital_status_Never married',\n",
       " 'marital_status_Widowed',\n",
       " 'housing_type_Homeowner free and clear',\n",
       " 'housing_type_Homeowner with mortgage/loan',\n",
       " 'housing_type_Occupied with no rent',\n",
       " 'housing_type_Rented',\n",
       " 'is_employed_0',\n",
       " 'is_employed_1',\n",
       " 'is_employed_2']"
      ]
     },
     "execution_count": 44,
     "metadata": {},
     "output_type": "execute_result"
    }
   ],
   "source": [
    "# Columns after preprocessing\n",
    "df.columns.to_list()"
   ]
  },
  {
   "cell_type": "code",
   "execution_count": 45,
   "metadata": {},
   "outputs": [
    {
     "data": {
      "text/plain": [
       "np.int64(0)"
      ]
     },
     "execution_count": 45,
     "metadata": {},
     "output_type": "execute_result"
    }
   ],
   "source": [
    "# No missing values\n",
    "df.isnull().sum().sum()"
   ]
  },
  {
   "cell_type": "markdown",
   "metadata": {},
   "source": [
    "# Model experimentation\n",
    "\n",
    "In this section, we will experiment, for the first time, some classification models on the preprocessed dataset. \n",
    "\n",
    "In order to have a simple baseline, we will employ simple classification algorithms that are easy to interpret and understand. We will use the following models:\n",
    "- Decision Tree\n",
    "- Random Forest\n",
    "- K-Nearest Neighbors\n",
    "\n",
    "The objective of this section is to get a sense of how the models perform on the dataset to identify potential candidates for further optimization, or find a problem with the data that needs to be addressed before proceeding to more complex models.\n",
    "\n",
    "We will also perform some hyperparameter tuning on the models to see how their performance can be improved with some optimization. The following parameters will be tuned:\n",
    "- Decision Tree: `max_depth`\n",
    "- Random Forest: `n_estimators`\n",
    "- K-Nearest Neighbors: `n_neighbors`\n",
    "\n",
    "In order to get some performance metrics, we will divide the training data into a training and validation sets (70% - 30%), and use the valdation set to evaluate the models."
   ]
  },
  {
   "cell_type": "code",
   "execution_count": 46,
   "metadata": {},
   "outputs": [],
   "source": [
    "# Split the data into train and test\n",
    "X = df.drop('health_ins', axis=1)\n",
    "y = df['health_ins']\n",
    "X_train, X_test, y_train, y_test = train_test_split(X, y, test_size=0.3, random_state=42, shuffle=True)"
   ]
  },
  {
   "cell_type": "markdown",
   "metadata": {},
   "source": [
    "Each model will be evaluated using the following metrics:\n",
    "- Accuracy\n",
    "- Precision\n",
    "- Recall\n",
    "- F1 Score\n",
    "- Specificity\n",
    "- Confusion Matrix\n",
    "\n",
    "For different hyperparameters, we will store the results in a DataFrame to compare the performance of the models. Then, for the best model of each type, we will store its metrics in another Dataframe to later compare the different algorithms."
   ]
  },
  {
   "cell_type": "code",
   "execution_count": 47,
   "metadata": {},
   "outputs": [],
   "source": [
    "# Function to, given the prediction of a model, return its performance metrics\n",
    "def get_metrics(y_pred):\n",
    "    acc = round(accuracy_score(y_test, y_pred),3)\n",
    "    prec = round(precision_score(y_test, y_pred),3)\n",
    "    rec = round(recall_score(y_test, y_pred),3)\n",
    "    f1 = round(f1_score(y_test, y_pred),3)\n",
    "    cm = confusion_matrix(y_test, y_pred)\n",
    "    tn, fp, fn, tp = cm.ravel()\n",
    "    spec = round(tn / (tn+fp),3)\n",
    "    return {'accuracy': acc, 'precision': prec, 'recall': rec, 'f1': f1, 'specificity': spec, 'cm': cm}"
   ]
  },
  {
   "cell_type": "code",
   "execution_count": 48,
   "metadata": {},
   "outputs": [],
   "source": [
    "models = pd.DataFrame(columns=['model', 'accuracy', 'precision', 'recall', 'f1', 'specificity', 'cm'])"
   ]
  },
  {
   "cell_type": "markdown",
   "metadata": {},
   "source": [
    "For a better visualization of hyperparameters impact on the performance of these models, we will plot the performance metrics for different values of the hyperparameters using the following function:"
   ]
  },
  {
   "cell_type": "code",
   "execution_count": 49,
   "metadata": {},
   "outputs": [],
   "source": [
    "def plot_measures(measures):\n",
    "    parameters = measures.iloc[:,0]\n",
    "    accuracy = measures.iloc[:,1]\n",
    "    precision = measures.iloc[:,2]\n",
    "    recall = measures.iloc[:,3]\n",
    "    f1 = measures.iloc[:,4]\n",
    "    spec = measures.iloc[:,5]\n",
    "\n",
    "    sns.lineplot(x=parameters, y=accuracy, label='accuracy')\n",
    "    sns.lineplot(x=parameters, y=precision, label='precision')\n",
    "    sns.lineplot(x=parameters, y=recall, label='recall')\n",
    "    sns.lineplot(x=parameters, y=f1, label='f1')\n",
    "    sns.lineplot(x=parameters, y=spec, label='specificity')"
   ]
  },
  {
   "cell_type": "markdown",
   "metadata": {},
   "source": [
    "## Decision Tree"
   ]
  },
  {
   "cell_type": "code",
   "execution_count": 50,
   "metadata": {},
   "outputs": [
    {
     "name": "stdout",
     "output_type": "stream",
     "text": [
      "Fitting model with 1\n",
      "Fitting model with 3\n",
      "Fitting model with 5\n",
      "Fitting model with 7\n",
      "Fitting model with 9\n",
      "Fitting model with 11\n",
      "Fitting model with 13\n",
      "Fitting model with 15\n",
      "Fitting model with 17\n",
      "Fitting model with 19\n",
      "Fitting model with None\n",
      "None generates the following depth: 35\n"
     ]
    },
    {
     "data": {
      "image/png": "[encoded data removed]",
      "text/plain": [
       "<Figure size 640x480 with 1 Axes>"
      ]
     },
     "metadata": {},
     "output_type": "display_data"
    }
   ],
   "source": [
    "dt_measures = pd.DataFrame(columns=['max_depth', 'accuracy', 'precision', 'recall', 'f1', 'specificity', 'cm'])\n",
    "parameters = list(range(1, 20, 2)) + [None]\n",
    "\n",
    "for max_depth in parameters:\n",
    "    print(f'Fitting model with {max_depth}')\n",
    "    model = DecisionTreeClassifier(max_depth=max_depth)\n",
    "    model.fit(X_train, y_train)\n",
    "    y_pred = model.predict(X_test)\n",
    "    measures = get_metrics(y_pred)\n",
    "    new_row = {'max_depth': max_depth, **measures}\n",
    "    dt_measures.loc[len(dt_measures)] = new_row\n",
    "\n",
    "    if max_depth == None:\n",
    "        print(f'None generates the following depth: {model.get_depth()}')\n",
    "\n",
    "\n",
    "plot_measures(dt_measures)"
   ]
  },
  {
   "cell_type": "code",
   "execution_count": 51,
   "metadata": {},
   "outputs": [
    {
     "data": {
      "text/html": [
       "<div>\n",
       "<style scoped>\n",
       "    .dataframe tbody tr th:only-of-type {\n",
       "        vertical-align: middle;\n",
       "    }\n",
       "\n",
       "    .dataframe tbody tr th {\n",
       "        vertical-align: top;\n",
       "    }\n",
       "\n",
       "    .dataframe thead th {\n",
       "        text-align: right;\n",
       "    }\n",
       "</style>\n",
       "<table border=\"1\" class=\"dataframe\">\n",
       "  <thead>\n",
       "    <tr style=\"text-align: right;\">\n",
       "      <th></th>\n",
       "      <th>model</th>\n",
       "      <th>accuracy</th>\n",
       "      <th>precision</th>\n",
       "      <th>recall</th>\n",
       "      <th>f1</th>\n",
       "      <th>specificity</th>\n",
       "      <th>cm</th>\n",
       "    </tr>\n",
       "  </thead>\n",
       "  <tbody>\n",
       "    <tr>\n",
       "      <th>0</th>\n",
       "      <td>Decision Tree</td>\n",
       "      <td>0.901</td>\n",
       "      <td>0.91</td>\n",
       "      <td>0.989</td>\n",
       "      <td>0.948</td>\n",
       "      <td>0.074</td>\n",
       "      <td>[[153, 1923], [221, 19441]]</td>\n",
       "    </tr>\n",
       "  </tbody>\n",
       "</table>\n",
       "</div>"
      ],
      "text/plain": [
       "           model  accuracy  precision  recall     f1  specificity  \\\n",
       "0  Decision Tree     0.901       0.91   0.989  0.948        0.074   \n",
       "\n",
       "                            cm  \n",
       "0  [[153, 1923], [221, 19441]]  "
      ]
     },
     "execution_count": 51,
     "metadata": {},
     "output_type": "execute_result"
    }
   ],
   "source": [
    "# Choose decision tree with max_depth = 9\n",
    "row = dt_measures[dt_measures['max_depth'] == 9]\n",
    "models.loc[len(models)] = {'model': 'Decision Tree', **row.iloc[0,1:]}\n",
    "models"
   ]
  },
  {
   "cell_type": "markdown",
   "metadata": {},
   "source": [
    "## Random Forest"
   ]
  },
  {
   "cell_type": "code",
   "execution_count": 52,
   "metadata": {},
   "outputs": [
    {
     "name": "stdout",
     "output_type": "stream",
     "text": [
      "Fitting model with 10\n",
      "Fitting model with 20\n",
      "Fitting model with 50\n",
      "Fitting model with 75\n",
      "Fitting model with 100\n",
      "Fitting model with 200\n",
      "Fitting model with 500\n"
     ]
    },
    {
     "data": {
      "image/png": "[encoded data removed]",
      "text/plain": [
       "<Figure size 640x480 with 1 Axes>"
      ]
     },
     "metadata": {},
     "output_type": "display_data"
    }
   ],
   "source": [
    "rf_measures = pd.DataFrame(columns=['n_trees', 'accuracy', 'precision', 'recall', 'f1', 'specificity', 'cm'])\n",
    "parameters = [10, 20, 50, 75, 100, 200, 500]\n",
    "\n",
    "for n_trees in parameters:\n",
    "    print(f'Fitting model with {n_trees}')\n",
    "    model = RandomForestClassifier(n_estimators=n_trees)\n",
    "    model.fit(X_train, y_train)\n",
    "    y_pred = model.predict(X_test)\n",
    "    measures = get_metrics(y_pred)\n",
    "    new_row = {'n_trees': n_trees, **measures}\n",
    "    rf_measures.loc[len(rf_measures)] = new_row\n",
    "\n",
    "plot_measures(rf_measures)"
   ]
  },
  {
   "cell_type": "code",
   "execution_count": 53,
   "metadata": {},
   "outputs": [
    {
     "data": {
      "text/html": [
       "<div>\n",
       "<style scoped>\n",
       "    .dataframe tbody tr th:only-of-type {\n",
       "        vertical-align: middle;\n",
       "    }\n",
       "\n",
       "    .dataframe tbody tr th {\n",
       "        vertical-align: top;\n",
       "    }\n",
       "\n",
       "    .dataframe thead th {\n",
       "        text-align: right;\n",
       "    }\n",
       "</style>\n",
       "<table border=\"1\" class=\"dataframe\">\n",
       "  <thead>\n",
       "    <tr style=\"text-align: right;\">\n",
       "      <th></th>\n",
       "      <th>model</th>\n",
       "      <th>accuracy</th>\n",
       "      <th>precision</th>\n",
       "      <th>recall</th>\n",
       "      <th>f1</th>\n",
       "      <th>specificity</th>\n",
       "      <th>cm</th>\n",
       "    </tr>\n",
       "  </thead>\n",
       "  <tbody>\n",
       "    <tr>\n",
       "      <th>0</th>\n",
       "      <td>Decision Tree</td>\n",
       "      <td>0.901</td>\n",
       "      <td>0.910</td>\n",
       "      <td>0.989</td>\n",
       "      <td>0.948</td>\n",
       "      <td>0.074</td>\n",
       "      <td>[[153, 1923], [221, 19441]]</td>\n",
       "    </tr>\n",
       "    <tr>\n",
       "      <th>1</th>\n",
       "      <td>Random Forest</td>\n",
       "      <td>0.903</td>\n",
       "      <td>0.912</td>\n",
       "      <td>0.988</td>\n",
       "      <td>0.948</td>\n",
       "      <td>0.092</td>\n",
       "      <td>[[190, 1886], [230, 19432]]</td>\n",
       "    </tr>\n",
       "  </tbody>\n",
       "</table>\n",
       "</div>"
      ],
      "text/plain": [
       "           model  accuracy  precision  recall     f1  specificity  \\\n",
       "0  Decision Tree     0.901      0.910   0.989  0.948        0.074   \n",
       "1  Random Forest     0.903      0.912   0.988  0.948        0.092   \n",
       "\n",
       "                            cm  \n",
       "0  [[153, 1923], [221, 19441]]  \n",
       "1  [[190, 1886], [230, 19432]]  "
      ]
     },
     "execution_count": 53,
     "metadata": {},
     "output_type": "execute_result"
    }
   ],
   "source": [
    "# Choose random forest with n_trees = 100\n",
    "row = rf_measures[rf_measures['n_trees'] == 100]\n",
    "models.loc[len(models)] = {'model': 'Random Forest', **row.iloc[0,1:]}\n",
    "models"
   ]
  },
  {
   "cell_type": "markdown",
   "metadata": {},
   "source": [
    "## K-Nearest Neighbors"
   ]
  },
  {
   "cell_type": "code",
   "execution_count": 54,
   "metadata": {},
   "outputs": [
    {
     "name": "stdout",
     "output_type": "stream",
     "text": [
      "Fitting model with 3\n",
      "Fitting model with 5\n",
      "Fitting model with 7\n",
      "Fitting model with 9\n",
      "Fitting model with 11\n",
      "Fitting model with 13\n",
      "Fitting model with 15\n",
      "Fitting model with 17\n",
      "Fitting model with 19\n",
      "Fitting model with 21\n",
      "Fitting model with 23\n"
     ]
    },
    {
     "data": {
      "image/png": "[encoded data removed]",
      "text/plain": [
       "<Figure size 640x480 with 1 Axes>"
      ]
     },
     "metadata": {},
     "output_type": "display_data"
    }
   ],
   "source": [
    "knn_measures = pd.DataFrame(columns=['n_neighbors', 'accuracy', 'precision', 'recall', 'f1', 'specificity', 'cm'])\n",
    "parameters = list(range(3, 25, 2))\n",
    "\n",
    "for n_neighbors in parameters:\n",
    "    print(f'Fitting model with {n_neighbors}')\n",
    "    model = KNeighborsClassifier(n_neighbors=n_neighbors)\n",
    "    model.fit(X_train, y_train)\n",
    "    y_pred = model.predict(X_test)\n",
    "    measures = get_metrics(y_pred)\n",
    "    new_row = {'n_neighbors': n_neighbors, **measures}\n",
    "    knn_measures.loc[len(knn_measures)] = new_row\n",
    "\n",
    "plot_measures(knn_measures)"
   ]
  },
  {
   "cell_type": "code",
   "execution_count": 55,
   "metadata": {},
   "outputs": [
    {
     "data": {
      "text/html": [
       "<div>\n",
       "<style scoped>\n",
       "    .dataframe tbody tr th:only-of-type {\n",
       "        vertical-align: middle;\n",
       "    }\n",
       "\n",
       "    .dataframe tbody tr th {\n",
       "        vertical-align: top;\n",
       "    }\n",
       "\n",
       "    .dataframe thead th {\n",
       "        text-align: right;\n",
       "    }\n",
       "</style>\n",
       "<table border=\"1\" class=\"dataframe\">\n",
       "  <thead>\n",
       "    <tr style=\"text-align: right;\">\n",
       "      <th></th>\n",
       "      <th>model</th>\n",
       "      <th>accuracy</th>\n",
       "      <th>precision</th>\n",
       "      <th>recall</th>\n",
       "      <th>f1</th>\n",
       "      <th>specificity</th>\n",
       "      <th>cm</th>\n",
       "    </tr>\n",
       "  </thead>\n",
       "  <tbody>\n",
       "    <tr>\n",
       "      <th>0</th>\n",
       "      <td>Decision Tree</td>\n",
       "      <td>0.901</td>\n",
       "      <td>0.910</td>\n",
       "      <td>0.989</td>\n",
       "      <td>0.948</td>\n",
       "      <td>0.074</td>\n",
       "      <td>[[153, 1923], [221, 19441]]</td>\n",
       "    </tr>\n",
       "    <tr>\n",
       "      <th>1</th>\n",
       "      <td>Random Forest</td>\n",
       "      <td>0.903</td>\n",
       "      <td>0.912</td>\n",
       "      <td>0.988</td>\n",
       "      <td>0.948</td>\n",
       "      <td>0.092</td>\n",
       "      <td>[[190, 1886], [230, 19432]]</td>\n",
       "    </tr>\n",
       "    <tr>\n",
       "      <th>2</th>\n",
       "      <td>KNN</td>\n",
       "      <td>0.903</td>\n",
       "      <td>0.909</td>\n",
       "      <td>0.991</td>\n",
       "      <td>0.948</td>\n",
       "      <td>0.064</td>\n",
       "      <td>[[132, 1944], [175, 19487]]</td>\n",
       "    </tr>\n",
       "  </tbody>\n",
       "</table>\n",
       "</div>"
      ],
      "text/plain": [
       "           model  accuracy  precision  recall     f1  specificity  \\\n",
       "0  Decision Tree     0.901      0.910   0.989  0.948        0.074   \n",
       "1  Random Forest     0.903      0.912   0.988  0.948        0.092   \n",
       "2            KNN     0.903      0.909   0.991  0.948        0.064   \n",
       "\n",
       "                            cm  \n",
       "0  [[153, 1923], [221, 19441]]  \n",
       "1  [[190, 1886], [230, 19432]]  \n",
       "2  [[132, 1944], [175, 19487]]  "
      ]
     },
     "execution_count": 55,
     "metadata": {},
     "output_type": "execute_result"
    }
   ],
   "source": [
    "# Choose KNN with n_neighbors = 11\n",
    "row = knn_measures[knn_measures['n_neighbors'] == 11]\n",
    "models.loc[len(models)] = {'model': 'KNN', **row.iloc[0,1:]}\n",
    "models"
   ]
  },
  {
   "cell_type": "markdown",
   "metadata": {},
   "source": [
    "## Overall comparison of the models"
   ]
  },
  {
   "cell_type": "code",
   "execution_count": 56,
   "metadata": {},
   "outputs": [
    {
     "data": {
      "image/png": "[encoded data removed]",
      "text/plain": [
       "<Figure size 1000x600 with 1 Axes>"
      ]
     },
     "metadata": {},
     "output_type": "display_data"
    }
   ],
   "source": [
    "melted = models.melt(id_vars=\"model\", value_vars=[\"accuracy\", \"precision\", \"recall\", \"f1\", \"specificity\"],\n",
    "                     var_name=\"measure\", value_name=\"value\")\n",
    "\n",
    "plt.figure(figsize=(10, 6))\n",
    "sns.barplot(data=melted, x=\"model\", y=\"value\", hue=\"measure\", palette=\"deep\")\n",
    "plt.title(\"Model Performance Comparison\", fontsize=16)\n",
    "plt.xlabel(\"Model\", fontsize=12)\n",
    "plt.ylabel(\"Value\", fontsize=12)\n",
    "plt.xticks(fontsize=10)\n",
    "plt.yticks(fontsize=10)\n",
    "plt.legend(title=\"Measure\", fontsize=10, title_fontsize=12)\n",
    "plt.tight_layout()\n",
    "plt.show()"
   ]
  },
  {
   "cell_type": "code",
   "execution_count": 57,
   "metadata": {},
   "outputs": [
    {
     "data": {
      "text/plain": [
       "<sklearn.metrics._plot.confusion_matrix.ConfusionMatrixDisplay at 0x116040740>"
      ]
     },
     "execution_count": 57,
     "metadata": {},
     "output_type": "execute_result"
    },
    {
     "data": {
      "image/png": "[encoded data removed]",
      "text/plain": [
       "<Figure size 640x480 with 2 Axes>"
      ]
     },
     "metadata": {},
     "output_type": "display_data"
    }
   ],
   "source": [
    "# plot confusion matrix of random forest\n",
    "rf_cm = models[models['model'] == 'Random Forest']['cm'].values[0]\n",
    "ConfusionMatrixDisplay(rf_cm).plot()"
   ]
  },
  {
   "cell_type": "markdown",
   "metadata": {},
   "source": [
    "As we can see, these models seem to perform very well. All of them achieve accuracy, F1-score, recall and precision around 0.9.\n",
    "\n",
    "Does this mean that we can move forward to more complex models? Not at all.\n",
    "All these models are getting very low values for specificity and very few cases of True Negatives, meaning they are not good at capturing the negative class. This indicates the presence of very underfitted models, biased towards the positive class.\n",
    "\n",
    "The confusion matrices resulting of each of these models prove that these models are not capable of correclty predicting a considerbale amount of negative cases."
   ]
  },
  {
   "cell_type": "code",
   "execution_count": 25,
   "metadata": {},
   "outputs": [
    {
     "name": "stdout",
     "output_type": "stream",
     "text": [
      "health_ins\n",
      "1.0    65553\n",
      "0.0     6905\n",
      "Name: count, dtype: int64\n",
      "health_ins\n",
      "1.0    0.904703\n",
      "0.0    0.095297\n",
      "Name: proportion, dtype: float64\n"
     ]
    }
   ],
   "source": [
    "# Frequency of target variable\n",
    "print(y.value_counts())\n",
    "\n",
    "# Frequency of target variable in percentage\n",
    "print(y.value_counts(normalize=True))"
   ]
  },
  {
   "cell_type": "markdown",
   "metadata": {},
   "source": [
    "Once we are using the trainig dataset to both train and validate our models, the \"classical\" metrics are not enough to reason about model performance. \n",
    "\n",
    "This dataset is highly imbalanced, meaning that both test and validation partitions (generated from itself) will have a similar distribution. So, if we use a model that learns to predict everything as positive, when tested in a dataset with similar distribution, it will achieve very good accuracy, F1, ... metrics."
   ]
  },
  {
   "cell_type": "code",
   "execution_count": 26,
   "metadata": {},
   "outputs": [
    {
     "name": "stdout",
     "output_type": "stream",
     "text": [
      "health_ins\n",
      "1.0    0.904791\n",
      "0.0    0.095209\n",
      "Name: proportion, dtype: float64\n",
      "health_ins\n",
      "1.0    0.904499\n",
      "0.0    0.095501\n",
      "Name: proportion, dtype: float64\n"
     ]
    }
   ],
   "source": [
    "# Frequency of target variable in train partition\n",
    "print(y_train.value_counts(dropna=False, normalize=True))\n",
    "\n",
    "# Frequency of target variable in test partition\n",
    "print(y_test.value_counts(dropna=False, normalize=True))"
   ]
  },
  {
   "cell_type": "markdown",
   "metadata": {},
   "source": [
    "Next section will focus on how to address this issue, by aplying balacing techniques to the dataset."
   ]
  }
 ],
 "metadata": {
  "kernelspec": {
   "display_name": "icd",
   "language": "python",
   "name": "python3"
  },
  "language_info": {
   "codemirror_mode": {
    "name": "ipython",
    "version": 3
   },
   "file_extension": ".py",
   "mimetype": "text/x-python",
   "name": "python",
   "nbconvert_exporter": "python",
   "pygments_lexer": "ipython3",
   "version": "3.12.6"
  }
 },
 "nbformat": 4,
 "nbformat_minor": 2
}
