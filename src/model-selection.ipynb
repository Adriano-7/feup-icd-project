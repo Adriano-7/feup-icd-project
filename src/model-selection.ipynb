{
 "cells": [
  {
   "cell_type": "code",
   "execution_count": 37,
   "metadata": {},
   "outputs": [],
   "source": [
    "import pandas as pd\n",
    "from sklearn.model_selection import train_test_split"
   ]
  },
  {
   "cell_type": "code",
   "execution_count": 39,
   "metadata": {},
   "outputs": [
    {
     "data": {
      "text/plain": [
       "(60894, 13)"
      ]
     },
     "execution_count": 39,
     "metadata": {},
     "output_type": "execute_result"
    }
   ],
   "source": [
    "df = pd.read_csv('../data/customer_cleaned.csv')\n",
    "df.shape"
   ]
  },
  {
   "cell_type": "code",
   "execution_count": 40,
   "metadata": {},
   "outputs": [
    {
     "data": {
      "text/html": [
       "<div>\n",
       "<style scoped>\n",
       "    .dataframe tbody tr th:only-of-type {\n",
       "        vertical-align: middle;\n",
       "    }\n",
       "\n",
       "    .dataframe tbody tr th {\n",
       "        vertical-align: top;\n",
       "    }\n",
       "\n",
       "    .dataframe thead th {\n",
       "        text-align: right;\n",
       "    }\n",
       "</style>\n",
       "<table border=\"1\" class=\"dataframe\">\n",
       "  <thead>\n",
       "    <tr style=\"text-align: right;\">\n",
       "      <th></th>\n",
       "      <th>custid</th>\n",
       "      <th>sex</th>\n",
       "      <th>is_employed</th>\n",
       "      <th>income</th>\n",
       "      <th>marital_status</th>\n",
       "      <th>health_ins</th>\n",
       "      <th>housing_type</th>\n",
       "      <th>num_vehicles</th>\n",
       "      <th>age</th>\n",
       "      <th>state_of_res</th>\n",
       "      <th>gas_usage</th>\n",
       "      <th>rooms</th>\n",
       "      <th>recent_move_b</th>\n",
       "    </tr>\n",
       "  </thead>\n",
       "  <tbody>\n",
       "    <tr>\n",
       "      <th>0</th>\n",
       "      <td>000007827_01</td>\n",
       "      <td>Female</td>\n",
       "      <td>2.0</td>\n",
       "      <td>23200.0</td>\n",
       "      <td>Divorced/Separated</td>\n",
       "      <td>True</td>\n",
       "      <td>Rented</td>\n",
       "      <td>0.0</td>\n",
       "      <td>82</td>\n",
       "      <td>Alabama</td>\n",
       "      <td>3.0</td>\n",
       "      <td>6</td>\n",
       "      <td>T</td>\n",
       "    </tr>\n",
       "    <tr>\n",
       "      <th>1</th>\n",
       "      <td>000008359_04</td>\n",
       "      <td>Female</td>\n",
       "      <td>1.0</td>\n",
       "      <td>21000.0</td>\n",
       "      <td>Never married</td>\n",
       "      <td>True</td>\n",
       "      <td>Homeowner with mortgage/loan</td>\n",
       "      <td>2.0</td>\n",
       "      <td>31</td>\n",
       "      <td>Alabama</td>\n",
       "      <td>40.0</td>\n",
       "      <td>3</td>\n",
       "      <td>F</td>\n",
       "    </tr>\n",
       "    <tr>\n",
       "      <th>2</th>\n",
       "      <td>000008529_01</td>\n",
       "      <td>Female</td>\n",
       "      <td>2.0</td>\n",
       "      <td>37770.0</td>\n",
       "      <td>Widowed</td>\n",
       "      <td>True</td>\n",
       "      <td>Homeowner free and clear</td>\n",
       "      <td>1.0</td>\n",
       "      <td>93</td>\n",
       "      <td>Alabama</td>\n",
       "      <td>120.0</td>\n",
       "      <td>2</td>\n",
       "      <td>F</td>\n",
       "    </tr>\n",
       "    <tr>\n",
       "      <th>3</th>\n",
       "      <td>000008744_02</td>\n",
       "      <td>Male</td>\n",
       "      <td>1.0</td>\n",
       "      <td>39000.0</td>\n",
       "      <td>Divorced/Separated</td>\n",
       "      <td>True</td>\n",
       "      <td>Rented</td>\n",
       "      <td>2.0</td>\n",
       "      <td>67</td>\n",
       "      <td>Alabama</td>\n",
       "      <td>3.0</td>\n",
       "      <td>2</td>\n",
       "      <td>F</td>\n",
       "    </tr>\n",
       "    <tr>\n",
       "      <th>4</th>\n",
       "      <td>000015018_01</td>\n",
       "      <td>Female</td>\n",
       "      <td>1.0</td>\n",
       "      <td>25800.0</td>\n",
       "      <td>Married</td>\n",
       "      <td>False</td>\n",
       "      <td>Rented</td>\n",
       "      <td>2.0</td>\n",
       "      <td>26</td>\n",
       "      <td>Alabama</td>\n",
       "      <td>3.0</td>\n",
       "      <td>3</td>\n",
       "      <td>F</td>\n",
       "    </tr>\n",
       "  </tbody>\n",
       "</table>\n",
       "</div>"
      ],
      "text/plain": [
       "         custid     sex  is_employed  ...  gas_usage rooms  recent_move_b\n",
       "0  000007827_01  Female          2.0  ...        3.0     6              T\n",
       "1  000008359_04  Female          1.0  ...       40.0     3              F\n",
       "2  000008529_01  Female          2.0  ...      120.0     2              F\n",
       "3  000008744_02    Male          1.0  ...        3.0     2              F\n",
       "4  000015018_01  Female          1.0  ...        3.0     3              F\n",
       "\n",
       "[5 rows x 13 columns]"
      ]
     },
     "execution_count": 40,
     "metadata": {},
     "output_type": "execute_result"
    }
   ],
   "source": [
    "df.head()"
   ]
  },
  {
   "cell_type": "code",
   "execution_count": 41,
   "metadata": {},
   "outputs": [
    {
     "data": {
      "text/html": [
       "<div>\n",
       "<style scoped>\n",
       "    .dataframe tbody tr th:only-of-type {\n",
       "        vertical-align: middle;\n",
       "    }\n",
       "\n",
       "    .dataframe tbody tr th {\n",
       "        vertical-align: top;\n",
       "    }\n",
       "\n",
       "    .dataframe thead th {\n",
       "        text-align: right;\n",
       "    }\n",
       "</style>\n",
       "<table border=\"1\" class=\"dataframe\">\n",
       "  <thead>\n",
       "    <tr style=\"text-align: right;\">\n",
       "      <th></th>\n",
       "      <th>custid</th>\n",
       "      <th>sex</th>\n",
       "      <th>is_employed</th>\n",
       "      <th>income</th>\n",
       "      <th>marital_status</th>\n",
       "      <th>health_ins</th>\n",
       "      <th>housing_type</th>\n",
       "      <th>num_vehicles</th>\n",
       "      <th>age</th>\n",
       "      <th>state_of_res</th>\n",
       "      <th>gas_usage</th>\n",
       "      <th>rooms</th>\n",
       "      <th>recent_move_b</th>\n",
       "    </tr>\n",
       "  </thead>\n",
       "  <tbody>\n",
       "    <tr>\n",
       "      <th>0</th>\n",
       "      <td>000007827_01</td>\n",
       "      <td>0</td>\n",
       "      <td>2.0</td>\n",
       "      <td>23200.0</td>\n",
       "      <td>0</td>\n",
       "      <td>1</td>\n",
       "      <td>3</td>\n",
       "      <td>0.0</td>\n",
       "      <td>82</td>\n",
       "      <td>0</td>\n",
       "      <td>3.0</td>\n",
       "      <td>6</td>\n",
       "      <td>1</td>\n",
       "    </tr>\n",
       "    <tr>\n",
       "      <th>1</th>\n",
       "      <td>000008359_04</td>\n",
       "      <td>0</td>\n",
       "      <td>1.0</td>\n",
       "      <td>21000.0</td>\n",
       "      <td>2</td>\n",
       "      <td>1</td>\n",
       "      <td>1</td>\n",
       "      <td>2.0</td>\n",
       "      <td>31</td>\n",
       "      <td>0</td>\n",
       "      <td>40.0</td>\n",
       "      <td>3</td>\n",
       "      <td>0</td>\n",
       "    </tr>\n",
       "    <tr>\n",
       "      <th>2</th>\n",
       "      <td>000008529_01</td>\n",
       "      <td>0</td>\n",
       "      <td>2.0</td>\n",
       "      <td>37770.0</td>\n",
       "      <td>3</td>\n",
       "      <td>1</td>\n",
       "      <td>0</td>\n",
       "      <td>1.0</td>\n",
       "      <td>93</td>\n",
       "      <td>0</td>\n",
       "      <td>120.0</td>\n",
       "      <td>2</td>\n",
       "      <td>0</td>\n",
       "    </tr>\n",
       "    <tr>\n",
       "      <th>3</th>\n",
       "      <td>000008744_02</td>\n",
       "      <td>1</td>\n",
       "      <td>1.0</td>\n",
       "      <td>39000.0</td>\n",
       "      <td>0</td>\n",
       "      <td>1</td>\n",
       "      <td>3</td>\n",
       "      <td>2.0</td>\n",
       "      <td>67</td>\n",
       "      <td>0</td>\n",
       "      <td>3.0</td>\n",
       "      <td>2</td>\n",
       "      <td>0</td>\n",
       "    </tr>\n",
       "    <tr>\n",
       "      <th>4</th>\n",
       "      <td>000015018_01</td>\n",
       "      <td>0</td>\n",
       "      <td>1.0</td>\n",
       "      <td>25800.0</td>\n",
       "      <td>1</td>\n",
       "      <td>0</td>\n",
       "      <td>3</td>\n",
       "      <td>2.0</td>\n",
       "      <td>26</td>\n",
       "      <td>0</td>\n",
       "      <td>3.0</td>\n",
       "      <td>3</td>\n",
       "      <td>0</td>\n",
       "    </tr>\n",
       "  </tbody>\n",
       "</table>\n",
       "</div>"
      ],
      "text/plain": [
       "         custid  sex  is_employed  ...  gas_usage  rooms  recent_move_b\n",
       "0  000007827_01    0          2.0  ...        3.0      6              1\n",
       "1  000008359_04    0          1.0  ...       40.0      3              0\n",
       "2  000008529_01    0          2.0  ...      120.0      2              0\n",
       "3  000008744_02    1          1.0  ...        3.0      2              0\n",
       "4  000015018_01    0          1.0  ...        3.0      3              0\n",
       "\n",
       "[5 rows x 13 columns]"
      ]
     },
     "execution_count": 41,
     "metadata": {},
     "output_type": "execute_result"
    }
   ],
   "source": [
    "from sklearn.preprocessing import LabelEncoder\n",
    "\n",
    "le = LabelEncoder()\n",
    "cat_columns = ['sex', 'marital_status', 'health_ins', 'housing_type', 'state_of_res', 'recent_move_b']\n",
    "\n",
    "for col in cat_columns:\n",
    "    df[col] = le.fit_transform(df[col])\n",
    "\n",
    "df.head()"
   ]
  },
  {
   "cell_type": "code",
   "execution_count": 42,
   "metadata": {},
   "outputs": [],
   "source": [
    "X = df.drop(['custid','health_ins'], axis=1)\n",
    "y = df['health_ins']"
   ]
  },
  {
   "cell_type": "code",
   "execution_count": 43,
   "metadata": {},
   "outputs": [],
   "source": [
    "X_train, X_test, y_train, y_test = train_test_split(X, y, test_size=0.2, random_state=42)"
   ]
  },
  {
   "cell_type": "code",
   "execution_count": 57,
   "metadata": {},
   "outputs": [],
   "source": [
    "import seaborn as sns\n",
    "\n",
    "def plot_measures(measures):\n",
    "    parameters = measures.iloc[:,0]\n",
    "    accuracy = measures.iloc[:,1]\n",
    "    f1 = measures.iloc[:,2]\n",
    "\n",
    "    sns.lineplot(x=parameters, y=accuracy, label='accuracy')\n",
    "    sns.lineplot(x=parameters, y=f1, label='f1')\n"
   ]
  },
  {
   "cell_type": "code",
   "execution_count": 44,
   "metadata": {},
   "outputs": [],
   "source": [
    "from sklearn.metrics import accuracy_score, f1_score\n",
    "import time"
   ]
  },
  {
   "cell_type": "code",
   "execution_count": 58,
   "metadata": {},
   "outputs": [
    {
     "name": "stdout",
     "output_type": "stream",
     "text": [
      "max_depth: 3\taccuracy: 0.89999178914525\tf1: 0.9473638720829732\ttime: 0.05860114097595215\n",
      "max_depth: 5\taccuracy: 0.8999096805977502\tf1: 0.9473183802238645\ttime: 0.12595200538635254\n",
      "max_depth: 7\taccuracy: 0.8987601609327531\tf1: 0.9466071969860996\ttime: 0.12122607231140137\n",
      "max_depth: 9\taccuracy: 0.8968716643402578\tf1: 0.9454766452509116\ttime: 0.12946009635925293\n",
      "max_depth: 11\taccuracy: 0.8869365300927826\tf1: 0.9395070948469006\ttime: 0.1521291732788086\n",
      "max_depth: 13\taccuracy: 0.8726496428278184\tf1: 0.9310881059226018\ttime: 0.1707141399383545\n",
      "max_depth: 15\taccuracy: 0.8592659495853519\tf1: 0.9228483975513143\ttime: 0.18471217155456543\n",
      "max_depth: 17\taccuracy: 0.8501519008128746\tf1: 0.9172373135005215\ttime: 0.1961991786956787\n",
      "max_depth: 19\taccuracy: 0.8396420067329009\tf1: 0.9106628242074928\ttime: 0.20837783813476562\n",
      "max_depth: None\taccuracy: 0.8308563921504228\tf1: 0.905051622418879\ttime: 0.21686720848083496\n"
     ]
    },
    {
     "data": {
      "image/png": "[encoded data removed]",
      "text/plain": [
       "<Figure size 640x480 with 1 Axes>"
      ]
     },
     "metadata": {},
     "output_type": "display_data"
    }
   ],
   "source": [
    "from sklearn.tree import DecisionTreeClassifier\n",
    "\n",
    "dec_tree_measures = pd.DataFrame(columns=['max_depth', 'accuracy', 'f1', 'time_s'])\n",
    "parameters = list(range(3, 20, 2)) + [None]\n",
    "\n",
    "for max_depth in parameters:\n",
    "    model = DecisionTreeClassifier(max_depth=max_depth)\n",
    "    \n",
    "    start_t = time.time()\n",
    "    model.fit(X_train, y_train)\n",
    "    time_spent = time.time() - start_t\n",
    "\n",
    "    y_pred = model.predict(X_test)\n",
    "    acc = accuracy_score(y_test, y_pred)\n",
    "    f1 = f1_score(y_test, y_pred)\n",
    "\n",
    "    dec_tree_measures.loc[len(dec_tree_measures)] = [max_depth, round(acc,3), round(f1,3), round(time_spent,3)]\n",
    "\n",
    "    print(f'max_depth: {max_depth}\\taccuracy: {acc}\\tf1: {f1}\\ttime: {time_spent}')\n",
    "\n",
    "plot_measures(dec_tree_measures)"
   ]
  },
  {
   "cell_type": "code",
   "execution_count": 60,
   "metadata": {},
   "outputs": [
    {
     "name": "stdout",
     "output_type": "stream",
     "text": [
      "n_estimators: 10\taccuracy: 0.8840627309302899\tf1: 0.9377150419056021\ttime: 0.5490717887878418\n",
      "n_estimators: 50\taccuracy: 0.8969537728877576\tf1: 0.9453278152907864\ttime: 2.728175163269043\n",
      "n_estimators: 100\taccuracy: 0.8978569669102554\tf1: 0.9459036354148548\ttime: 5.358949899673462\n",
      "n_estimators: 200\taccuracy: 0.8972822070777567\tf1: 0.9455874037666913\ttime: 10.743681192398071\n",
      "n_estimators: 500\taccuracy: 0.8989243780277527\tf1: 0.9464805878005305\ttime: 27.535677909851074\n"
     ]
    },
    {
     "data": {
      "image/png": "[encoded data removed]",
      "text/plain": [
       "<Figure size 640x480 with 1 Axes>"
      ]
     },
     "metadata": {},
     "output_type": "display_data"
    }
   ],
   "source": [
    "from sklearn.ensemble import RandomForestClassifier\n",
    "\n",
    "rf_measures = pd.DataFrame(columns=['n_estimators', 'accuracy', 'f1', 'time_s'])\n",
    "parameters = [10, 50, 100, 200, 500]\n",
    "\n",
    "for n_estimators in parameters:\n",
    "    model = RandomForestClassifier(n_estimators=n_estimators)\n",
    "    \n",
    "    start_t = time.time()\n",
    "    model.fit(X_train, y_train)\n",
    "    time_spent = time.time() - start_t\n",
    "\n",
    "    y_pred = model.predict(X_test)\n",
    "    acc = accuracy_score(y_test, y_pred)\n",
    "    f1 = f1_score(y_test, y_pred)\n",
    "\n",
    "    rf_measures.loc[len(rf_measures)] = [n_estimators, round(acc,3), round(f1,3), round(time_spent,3)]\n",
    "\n",
    "    print(f'n_estimators: {n_estimators}\\taccuracy: {acc}\\tf1: {f1}\\ttime: {time_spent}')\n",
    "\n",
    "plot_measures(rf_measures)"
   ]
  },
  {
   "cell_type": "code",
   "execution_count": 61,
   "metadata": {},
   "outputs": [
    {
     "name": "stdout",
     "output_type": "stream",
     "text": [
      "n_neighbors: 3\taccuracy: 0.8752771163478118\tf1: 0.9328143659604582\ttime: 0.12155795097351074\n",
      "n_neighbors: 5\taccuracy: 0.8882502668527794\tf1: 0.9404193844941557\ttime: 0.05864691734313965\n",
      "n_neighbors: 7\taccuracy: 0.8917809343952705\tf1: 0.9425457715780297\ttime: 0.05880093574523926\n",
      "n_neighbors: 9\taccuracy: 0.8949831677477625\tf1: 0.9444227175944032\ttime: 0.058777809143066406\n",
      "n_neighbors: 11\taccuracy: 0.8974464241727563\tf1: 0.9457875775858328\ttime: 0.05914616584777832\n",
      "n_neighbors: 13\taccuracy: 0.898431726742754\tf1: 0.9463689572946022\ttime: 0.05929899215698242\n",
      "n_neighbors: 15\taccuracy: 0.8988422694802529\tf1: 0.9466204506065858\ttime: 0.05908036231994629\n",
      "n_neighbors: 17\taccuracy: 0.8990064865752525\tf1: 0.9467255717255717\ttime: 0.060829877853393555\n",
      "n_neighbors: 19\taccuracy: 0.8995812464077511\tf1: 0.9470585688931215\ttime: 0.05863499641418457\n",
      "n_neighbors: 21\taccuracy: 0.8996633549552508\tf1: 0.9471270335756317\ttime: 0.058676958084106445\n",
      "n_neighbors: 23\taccuracy: 0.8998275720502504\tf1: 0.9472135687088958\ttime: 0.0586392879486084\n",
      "n_neighbors: 25\taccuracy: 0.8999096805977502\tf1: 0.9472682441493273\ttime: 0.05889701843261719\n",
      "n_neighbors: 27\taccuracy: 0.9001560062402496\tf1: 0.9474139422245287\ttime: 0.05922198295593262\n",
      "n_neighbors: 29\taccuracy: 0.89999178914525\tf1: 0.9473320072645507\ttime: 0.058914899826049805\n"
     ]
    },
    {
     "data": {
      "image/png": "[encoded data removed]",
      "text/plain": [
       "<Figure size 640x480 with 1 Axes>"
      ]
     },
     "metadata": {},
     "output_type": "display_data"
    }
   ],
   "source": [
    "from sklearn.neighbors import KNeighborsClassifier\n",
    "\n",
    "knn_measures = pd.DataFrame(columns=['n_neighbors', 'accuracy', 'f1', 'time_s'])\n",
    "parameters = list(range(3, 31, 2))\n",
    "\n",
    "for n_neighbors in parameters:\n",
    "    model = KNeighborsClassifier(n_neighbors=n_neighbors)\n",
    "    \n",
    "    start_t = time.time()\n",
    "    model.fit(X_train, y_train)\n",
    "    time_spent = time.time() - start_t\n",
    "\n",
    "    y_pred = model.predict(X_test)\n",
    "    acc = accuracy_score(y_test, y_pred)\n",
    "    f1 = f1_score(y_test, y_pred)\n",
    "\n",
    "    knn_measures.loc[len(knn_measures)] = [n_neighbors, round(acc,3), round(f1,3), round(time_spent,3)]\n",
    "\n",
    "    print(f'n_neighbors: {n_neighbors}\\taccuracy: {acc}\\tf1: {f1}\\ttime: {time_spent}')\n",
    "\n",
    "plot_measures(knn_measures)"
   ]
  }
 ],
 "metadata": {
  "kernelspec": {
   "display_name": "icd",
   "language": "python",
   "name": "python3"
  },
  "language_info": {
   "codemirror_mode": {
    "name": "ipython",
    "version": 3
   },
   "file_extension": ".py",
   "mimetype": "text/x-python",
   "name": "python",
   "nbconvert_exporter": "python",
   "pygments_lexer": "ipython3",
   "version": "3.12.6"
  }
 },
 "nbformat": 4,
 "nbformat_minor": 2
}
