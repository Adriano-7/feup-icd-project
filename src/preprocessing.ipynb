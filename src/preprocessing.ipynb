{
 "cells": [
  {
   "cell_type": "code",
   "execution_count": 68,
   "metadata": {},
   "outputs": [],
   "source": [
    "import pandas as pd"
   ]
  },
  {
   "cell_type": "code",
   "execution_count": 69,
   "metadata": {},
   "outputs": [
    {
     "name": "stdout",
     "output_type": "stream",
     "text": [
      "(72458, 15)\n",
      "Index(['Unnamed: 0', 'custid', 'sex', 'is_employed', 'income',\n",
      "       'marital_status', 'health_ins', 'housing_type', 'num_vehicles', 'age',\n",
      "       'state_of_res', 'code_column', 'gas_usage', 'rooms', 'recent_move_b'],\n",
      "      dtype='object')\n"
     ]
    }
   ],
   "source": [
    "# Load the original dataset\n",
    "df = pd.read_csv('../data/customer.csv')\n",
    "print(df.shape)\n",
    "print(df.columns)"
   ]
  },
  {
   "cell_type": "code",
   "execution_count": 70,
   "metadata": {},
   "outputs": [
    {
     "data": {
      "text/plain": [
       "is_employed\n",
       "True     44630\n",
       "NaN      25515\n",
       "False     2313\n",
       "Name: count, dtype: int64"
      ]
     },
     "execution_count": 70,
     "metadata": {},
     "output_type": "execute_result"
    }
   ],
   "source": [
    "# Check the number of missing values in 'is_employed'\n",
    "df['is_employed'].value_counts(dropna=False)"
   ]
  },
  {
   "cell_type": "code",
   "execution_count": 71,
   "metadata": {},
   "outputs": [
    {
     "data": {
      "text/plain": [
       "is_employed\n",
       "1.0    44630\n",
       "2.0    25515\n",
       "0.0     2313\n",
       "Name: count, dtype: int64"
      ]
     },
     "execution_count": 71,
     "metadata": {},
     "output_type": "execute_result"
    }
   ],
   "source": [
    "# make is_emplyed categorical with 0 and 1, and replace NaN with 2\n",
    "# 0 is for unemployed, 1 is for employed, 2 is for people who are not in workforce\n",
    "df['is_employed'] = df['is_employed'].map({True: 1, False: 0}).fillna(2)\n",
    "df['is_employed'].value_counts()"
   ]
  },
  {
   "cell_type": "code",
   "execution_count": 72,
   "metadata": {},
   "outputs": [
    {
     "data": {
      "text/plain": [
       "state_of_res\n",
       "Alabama                 1\n",
       "Alaska                  1\n",
       "Arizona                 1\n",
       "Arkansas                1\n",
       "California              1\n",
       "Colorado                1\n",
       "Connecticut             1\n",
       "Delaware                1\n",
       "District of Columbia    1\n",
       "Florida                 1\n",
       "Georgia                 1\n",
       "Hawaii                  1\n",
       "Idaho                   1\n",
       "Illinois                1\n",
       "Indiana                 1\n",
       "Iowa                    1\n",
       "Kansas                  1\n",
       "Kentucky                1\n",
       "Louisiana               1\n",
       "Maine                   1\n",
       "Maryland                1\n",
       "Massachusetts           1\n",
       "Michigan                1\n",
       "Minnesota               1\n",
       "Mississippi             1\n",
       "Missouri                1\n",
       "Montana                 1\n",
       "Nebraska                1\n",
       "Nevada                  1\n",
       "New Hampshire           1\n",
       "New Jersey              1\n",
       "New Mexico              1\n",
       "New York                1\n",
       "North Carolina          1\n",
       "North Dakota            1\n",
       "Ohio                    1\n",
       "Oklahoma                1\n",
       "Oregon                  1\n",
       "Pennsylvania            1\n",
       "Rhode Island            1\n",
       "South Carolina          1\n",
       "South Dakota            1\n",
       "Tennessee               1\n",
       "Texas                   1\n",
       "Utah                    1\n",
       "Vermont                 1\n",
       "Virginia                1\n",
       "Washington              1\n",
       "West Virginia           1\n",
       "Wisconsin               1\n",
       "Wyoming                 1\n",
       "Name: code_column, dtype: int64"
      ]
     },
     "execution_count": 72,
     "metadata": {},
     "output_type": "execute_result"
    }
   ],
   "source": [
    "df.groupby('state_of_res')['code_column'].nunique()"
   ]
  },
  {
   "cell_type": "code",
   "execution_count": 73,
   "metadata": {},
   "outputs": [
    {
     "name": "stdout",
     "output_type": "stream",
     "text": [
      "(72458, 13)\n",
      "Index(['custid', 'sex', 'is_employed', 'income', 'marital_status',\n",
      "       'health_ins', 'housing_type', 'num_vehicles', 'age', 'state_of_res',\n",
      "       'gas_usage', 'rooms', 'recent_move_b'],\n",
      "      dtype='object')\n"
     ]
    }
   ],
   "source": [
    "# Since each state has 1 code, we can drop the 'code_column' feature. We can also drop 'Unnamed: 0' feature\n",
    "df.drop(['Unnamed: 0', 'code_column'], axis=1, inplace=True)\n",
    "print(df.shape)\n",
    "print(df.columns)"
   ]
  },
  {
   "cell_type": "code",
   "execution_count": 74,
   "metadata": {},
   "outputs": [
    {
     "data": {
      "text/plain": [
       "custid               0\n",
       "sex                  0\n",
       "is_employed          0\n",
       "income               0\n",
       "marital_status       0\n",
       "health_ins           0\n",
       "housing_type      1686\n",
       "num_vehicles      1686\n",
       "age                  0\n",
       "state_of_res         0\n",
       "gas_usage         1686\n",
       "rooms                0\n",
       "recent_move_b     1687\n",
       "dtype: int64"
      ]
     },
     "execution_count": 74,
     "metadata": {},
     "output_type": "execute_result"
    }
   ],
   "source": [
    "df.isnull().sum()"
   ]
  },
  {
   "cell_type": "code",
   "execution_count": 75,
   "metadata": {},
   "outputs": [
    {
     "name": "stdout",
     "output_type": "stream",
     "text": [
      "1687 rows have missing values. \n",
      "Approx. 2.33% of the orignal dataset.\n",
      "None\n"
     ]
    }
   ],
   "source": [
    "num = df[df.isnull().any(axis=1)].shape[0]\n",
    "print(print(f'{num} rows have missing values. \\nApprox. {num/df.shape[0]*100:.2f}% of the orignal dataset.'))"
   ]
  },
  {
   "cell_type": "code",
   "execution_count": 76,
   "metadata": {},
   "outputs": [
    {
     "data": {
      "text/plain": [
       "(70771, 13)"
      ]
     },
     "execution_count": 76,
     "metadata": {},
     "output_type": "execute_result"
    }
   ],
   "source": [
    "# Missing values are all in the same rows. We can drop them\n",
    "df.dropna(inplace=True)\n",
    "df.shape"
   ]
  },
  {
   "cell_type": "code",
   "execution_count": 77,
   "metadata": {},
   "outputs": [
    {
     "name": "stdout",
     "output_type": "stream",
     "text": [
      "age: 187 outliers\n",
      "income: 4507 outliers\n",
      "gas_usage: 5183 outliers\n"
     ]
    },
    {
     "data": {
      "text/plain": [
       "(60894, 13)"
      ]
     },
     "execution_count": 77,
     "metadata": {},
     "output_type": "execute_result"
    }
   ],
   "source": [
    "# Filter out the outliers\n",
    "\n",
    "columns_with_outliers = ['age', 'income', 'gas_usage']\n",
    "\n",
    "for col in columns_with_outliers:\n",
    "    q1 = df[col].quantile(0.25)\n",
    "    q3 = df[col].quantile(0.75)\n",
    "    iqr = q3 - q1\n",
    "    lower_bound = q1 - 1.5 * iqr\n",
    "    upper_bound = q3 + 1.5 * iqr\n",
    "    print(f'{col}: {df[(df[col] < lower_bound) | (df[col] > upper_bound)].shape[0]} outliers')\n",
    "    df = df[(df[col] >= lower_bound) & (df[col] <= upper_bound)]\n",
    "\n",
    "\n",
    "df.shape"
   ]
  },
  {
   "cell_type": "code",
   "execution_count": 78,
   "metadata": {},
   "outputs": [],
   "source": [
    "# save the cleaned data to a new csv file\n",
    "df.to_csv('../data/customer_cleaned.csv', index=False)"
   ]
  }
 ],
 "metadata": {
  "kernelspec": {
   "display_name": "icd",
   "language": "python",
   "name": "python3"
  },
  "language_info": {
   "codemirror_mode": {
    "name": "ipython",
    "version": 3
   },
   "file_extension": ".py",
   "mimetype": "text/x-python",
   "name": "python",
   "nbconvert_exporter": "python",
   "pygments_lexer": "ipython3",
   "version": "3.12.6"
  }
 },
 "nbformat": 4,
 "nbformat_minor": 2
}
