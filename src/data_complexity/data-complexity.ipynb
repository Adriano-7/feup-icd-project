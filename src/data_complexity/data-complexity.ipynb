{
 "cells": [
  {
   "cell_type": "markdown",
   "metadata": {},
   "source": [
    "# Data Complexity and Meta-Learning - Health Insurance\n",
    "\n",
    "_By: Francisco da Ana (up202108762)_"
   ]
  },
  {
   "cell_type": "markdown",
   "metadata": {},
   "source": [
    "For this assignement related to **Data Complexity and Meta-Learning**, I will be using the Health Insurance dataset already explored in the first assignement (Data Profiling).\n",
    "\n",
    "From the suggested tasks for this assignement, I chose the project **A**: \n",
    "> \"Explore a chosen dataset using `problexity`, `pymfe`, `pyhard` or others. Identify the main complexity factors associated with the data and reflect on their implications to classification algorithms with different learning paradigms (Decision Trees, KNN, SVM)\""
   ]
  },
  {
   "cell_type": "markdown",
   "metadata": {},
   "source": [
    "First, let's remember the dataset characteristics and the main objective of the dataset:\n",
    "\n",
    "It contains 15 attributes (1 target and 14 features) and 72458 instances. The target variable is `health_ins`, which is a binary feature that indicates if the individual has health insurance or not. The dataset contains both numerical and categorical features."
   ]
  },
  {
   "cell_type": "markdown",
   "metadata": {},
   "source": [
    "The attributes are:\n",
    "- _`unnamed`_ | **numeric**: an index column\n",
    "- `custid` | **text**: the unique ID of the customer\n",
    "- `sex` | **categorical**: the gender of the customer\n",
    "- `is_employed` | **boolean**: indicates whether the customer is employed or not\n",
    "- `income` | **numeric**: numerical value representing the customer's income\n",
    "- `marital_status` | **categorical**: the marital status of the customer\n",
    "- `health_ins` | **boolean**: indicates whether the customer has health insurance or not. This can be the target variable in the context of a classification problem.\n",
    "- `housing_type` | **categorical**: describes the situation of the customer's habitation\n",
    "- `num_vehicles` | **numeric**: the number of vehicles the customer owns\n",
    "- `age` | **numeric**: the age of the customer in years\n",
    "- `state_of_res` | **text**: the US state where the customer resides\n",
    "- `code_column` | **numeric**: likely a categorical or code-based feature (potentially related to location or demographics).\n",
    "- `gas_usage` | **numeric**: a measure of the customer's gas usage\n",
    "- `rooms` | **numeric**: the number of rooms in the customer's house\n",
    "- `recent_move_b` | **boolean**: indicator if the customer has recently moved"
   ]
  },
  {
   "cell_type": "markdown",
   "metadata": {},
   "source": [
    "For this assignement, we will study the complexity of the dataset and its implications for classification algorithms. We will acess some data complexity metrics and reflect on how they can affect the performance of different learning paradigms."
   ]
  },
  {
   "cell_type": "code",
   "execution_count": 1,
   "metadata": {},
   "outputs": [],
   "source": [
    "import numpy as np\n",
    "import pandas as pd\n",
    "import matplotlib.pyplot as plt\n",
    "import problexity.classification as px\n",
    "from problexity import ComplexityCalculator"
   ]
  },
  {
   "cell_type": "code",
   "execution_count": 2,
   "metadata": {},
   "outputs": [
    {
     "data": {
      "text/html": [
       "<div>\n",
       "<style scoped>\n",
       "    .dataframe tbody tr th:only-of-type {\n",
       "        vertical-align: middle;\n",
       "    }\n",
       "\n",
       "    .dataframe tbody tr th {\n",
       "        vertical-align: top;\n",
       "    }\n",
       "\n",
       "    .dataframe thead th {\n",
       "        text-align: right;\n",
       "    }\n",
       "</style>\n",
       "<table border=\"1\" class=\"dataframe\">\n",
       "  <thead>\n",
       "    <tr style=\"text-align: right;\">\n",
       "      <th></th>\n",
       "      <th>Unnamed: 0</th>\n",
       "      <th>custid</th>\n",
       "      <th>sex</th>\n",
       "      <th>is_employed</th>\n",
       "      <th>income</th>\n",
       "      <th>marital_status</th>\n",
       "      <th>health_ins</th>\n",
       "      <th>housing_type</th>\n",
       "      <th>num_vehicles</th>\n",
       "      <th>age</th>\n",
       "      <th>state_of_res</th>\n",
       "      <th>code_column</th>\n",
       "      <th>gas_usage</th>\n",
       "      <th>rooms</th>\n",
       "      <th>recent_move_b</th>\n",
       "    </tr>\n",
       "  </thead>\n",
       "  <tbody>\n",
       "    <tr>\n",
       "      <th>0</th>\n",
       "      <td>7</td>\n",
       "      <td>000006646_03</td>\n",
       "      <td>Male</td>\n",
       "      <td>True</td>\n",
       "      <td>22000.0</td>\n",
       "      <td>Never married</td>\n",
       "      <td>True</td>\n",
       "      <td>Homeowner free and clear</td>\n",
       "      <td>0.0</td>\n",
       "      <td>24</td>\n",
       "      <td>Alabama</td>\n",
       "      <td>1047</td>\n",
       "      <td>210.0</td>\n",
       "      <td>3</td>\n",
       "      <td>F</td>\n",
       "    </tr>\n",
       "    <tr>\n",
       "      <th>1</th>\n",
       "      <td>8</td>\n",
       "      <td>000007827_01</td>\n",
       "      <td>Female</td>\n",
       "      <td>NaN</td>\n",
       "      <td>23200.0</td>\n",
       "      <td>Divorced/Separated</td>\n",
       "      <td>True</td>\n",
       "      <td>Rented</td>\n",
       "      <td>0.0</td>\n",
       "      <td>82</td>\n",
       "      <td>Alabama</td>\n",
       "      <td>1047</td>\n",
       "      <td>3.0</td>\n",
       "      <td>6</td>\n",
       "      <td>T</td>\n",
       "    </tr>\n",
       "    <tr>\n",
       "      <th>2</th>\n",
       "      <td>9</td>\n",
       "      <td>000008359_04</td>\n",
       "      <td>Female</td>\n",
       "      <td>True</td>\n",
       "      <td>21000.0</td>\n",
       "      <td>Never married</td>\n",
       "      <td>True</td>\n",
       "      <td>Homeowner with mortgage/loan</td>\n",
       "      <td>2.0</td>\n",
       "      <td>31</td>\n",
       "      <td>Alabama</td>\n",
       "      <td>1047</td>\n",
       "      <td>40.0</td>\n",
       "      <td>3</td>\n",
       "      <td>F</td>\n",
       "    </tr>\n",
       "    <tr>\n",
       "      <th>3</th>\n",
       "      <td>10</td>\n",
       "      <td>000008529_01</td>\n",
       "      <td>Female</td>\n",
       "      <td>NaN</td>\n",
       "      <td>37770.0</td>\n",
       "      <td>Widowed</td>\n",
       "      <td>True</td>\n",
       "      <td>Homeowner free and clear</td>\n",
       "      <td>1.0</td>\n",
       "      <td>93</td>\n",
       "      <td>Alabama</td>\n",
       "      <td>1047</td>\n",
       "      <td>120.0</td>\n",
       "      <td>2</td>\n",
       "      <td>F</td>\n",
       "    </tr>\n",
       "    <tr>\n",
       "      <th>4</th>\n",
       "      <td>11</td>\n",
       "      <td>000008744_02</td>\n",
       "      <td>Male</td>\n",
       "      <td>True</td>\n",
       "      <td>39000.0</td>\n",
       "      <td>Divorced/Separated</td>\n",
       "      <td>True</td>\n",
       "      <td>Rented</td>\n",
       "      <td>2.0</td>\n",
       "      <td>67</td>\n",
       "      <td>Alabama</td>\n",
       "      <td>1047</td>\n",
       "      <td>3.0</td>\n",
       "      <td>2</td>\n",
       "      <td>F</td>\n",
       "    </tr>\n",
       "  </tbody>\n",
       "</table>\n",
       "</div>"
      ],
      "text/plain": [
       "   Unnamed: 0        custid     sex is_employed   income      marital_status  \\\n",
       "0           7  000006646_03    Male        True  22000.0       Never married   \n",
       "1           8  000007827_01  Female         NaN  23200.0  Divorced/Separated   \n",
       "2           9  000008359_04  Female        True  21000.0       Never married   \n",
       "3          10  000008529_01  Female         NaN  37770.0             Widowed   \n",
       "4          11  000008744_02    Male        True  39000.0  Divorced/Separated   \n",
       "\n",
       "   health_ins                  housing_type  num_vehicles  age state_of_res  \\\n",
       "0        True      Homeowner free and clear           0.0   24      Alabama   \n",
       "1        True                        Rented           0.0   82      Alabama   \n",
       "2        True  Homeowner with mortgage/loan           2.0   31      Alabama   \n",
       "3        True      Homeowner free and clear           1.0   93      Alabama   \n",
       "4        True                        Rented           2.0   67      Alabama   \n",
       "\n",
       "   code_column  gas_usage  rooms recent_move_b  \n",
       "0         1047      210.0      3             F  \n",
       "1         1047        3.0      6             T  \n",
       "2         1047       40.0      3             F  \n",
       "3         1047      120.0      2             F  \n",
       "4         1047        3.0      2             F  "
      ]
     },
     "execution_count": 2,
     "metadata": {},
     "output_type": "execute_result"
    }
   ],
   "source": [
    "df = pd.read_csv('../../data/customer.csv')\n",
    "df.head()"
   ]
  },
  {
   "cell_type": "code",
   "execution_count": 3,
   "metadata": {},
   "outputs": [
    {
     "name": "stdout",
     "output_type": "stream",
     "text": [
      "15 columns: Index(['Unnamed: 0', 'custid', 'sex', 'is_employed', 'income',\n",
      "       'marital_status', 'health_ins', 'housing_type', 'num_vehicles', 'age',\n",
      "       'state_of_res', 'code_column', 'gas_usage', 'rooms', 'recent_move_b'],\n",
      "      dtype='object')\n"
     ]
    }
   ],
   "source": [
    "print(f'{len(df.columns)} columns: {df.columns}')"
   ]
  },
  {
   "cell_type": "markdown",
   "metadata": {},
   "source": [
    "One of the problems we identified in the first assignement was the presence of unique identifiers in the dataset, such as the `custid` and _`unnamed`_ columns. These columns are not relevant for the analysis and should be removed, since they are not useful for finding patterns in the data."
   ]
  },
  {
   "cell_type": "code",
   "execution_count": 4,
   "metadata": {},
   "outputs": [
    {
     "data": {
      "text/plain": [
       "(72458, 13)"
      ]
     },
     "execution_count": 4,
     "metadata": {},
     "output_type": "execute_result"
    }
   ],
   "source": [
    "# 'Unnamed: 0', 'custid' must be removed\n",
    "df = df.drop(['Unnamed: 0', 'custid'], axis=1)\n",
    "df.shape"
   ]
  },
  {
   "cell_type": "code",
   "execution_count": 5,
   "metadata": {},
   "outputs": [
    {
     "data": {
      "text/plain": [
       "sex                   0\n",
       "is_employed       25515\n",
       "income                0\n",
       "marital_status        0\n",
       "health_ins            0\n",
       "housing_type       1686\n",
       "num_vehicles       1686\n",
       "age                   0\n",
       "state_of_res          0\n",
       "code_column           0\n",
       "gas_usage          1686\n",
       "rooms                 0\n",
       "recent_move_b      1687\n",
       "dtype: int64"
      ]
     },
     "execution_count": 5,
     "metadata": {},
     "output_type": "execute_result"
    }
   ],
   "source": [
    "df.isnull().sum()"
   ]
  },
  {
   "cell_type": "markdown",
   "metadata": {},
   "source": [
    "There are 4 columns where the numebr of missing values is the same. This may indcaite that the missing values are related to the same instances. We will investigate this further."
   ]
  },
  {
   "cell_type": "code",
   "execution_count": 252,
   "metadata": {},
   "outputs": [
    {
     "data": {
      "text/plain": [
       "sex                   0\n",
       "is_employed       24104\n",
       "income                0\n",
       "marital_status        0\n",
       "health_ins            0\n",
       "housing_type          0\n",
       "num_vehicles          0\n",
       "age                   0\n",
       "state_of_res          0\n",
       "code_column           0\n",
       "gas_usage             0\n",
       "rooms                 0\n",
       "recent_move_b         0\n",
       "dtype: int64"
      ]
     },
     "execution_count": 252,
     "metadata": {},
     "output_type": "execute_result"
    }
   ],
   "source": [
    "# Drop rows with missing values in 'recent_move_b'\n",
    "df = df.dropna(subset=['recent_move_b'])\n",
    "df.isnull().sum()"
   ]
  },
  {
   "cell_type": "code",
   "execution_count": 253,
   "metadata": {},
   "outputs": [
    {
     "data": {
      "text/plain": [
       "(70771, 13)"
      ]
     },
     "execution_count": 253,
     "metadata": {},
     "output_type": "execute_result"
    }
   ],
   "source": [
    "df.shape"
   ]
  },
  {
   "cell_type": "markdown",
   "metadata": {},
   "source": [
    "Let's divide the dataset into features (X) and target (y)."
   ]
  },
  {
   "cell_type": "code",
   "execution_count": 254,
   "metadata": {},
   "outputs": [],
   "source": [
    "target = 'health_ins'\n",
    "X = df.drop(target, axis=1)\n",
    "y = df[target]"
   ]
  },
  {
   "cell_type": "markdown",
   "metadata": {},
   "source": [
    "Finally, missing values for categerical features will be treated as a new category, and for numerical features, we will use the median value to fill the missing values."
   ]
  },
  {
   "cell_type": "code",
   "execution_count": 255,
   "metadata": {},
   "outputs": [
    {
     "data": {
      "text/plain": [
       "sex                   0\n",
       "is_employed       24104\n",
       "income                0\n",
       "marital_status        0\n",
       "housing_type          0\n",
       "num_vehicles          0\n",
       "age                   0\n",
       "state_of_res          0\n",
       "code_column           0\n",
       "gas_usage             0\n",
       "rooms                 0\n",
       "recent_move_b         0\n",
       "dtype: int64"
      ]
     },
     "execution_count": 255,
     "metadata": {},
     "output_type": "execute_result"
    }
   ],
   "source": [
    "X.isnull().sum()"
   ]
  },
  {
   "cell_type": "code",
   "execution_count": 256,
   "metadata": {},
   "outputs": [
    {
     "data": {
      "text/plain": [
       "Index(['sex', 'is_employed', 'marital_status', 'housing_type', 'state_of_res',\n",
       "       'recent_move_b'],\n",
       "      dtype='object')"
      ]
     },
     "execution_count": 256,
     "metadata": {},
     "output_type": "execute_result"
    }
   ],
   "source": [
    "# Categorical columns\n",
    "cat_cols = X.select_dtypes(include=['object']).columns\n",
    "cat_cols"
   ]
  },
  {
   "cell_type": "code",
   "execution_count": 257,
   "metadata": {},
   "outputs": [
    {
     "data": {
      "text/html": [
       "<div>\n",
       "<style scoped>\n",
       "    .dataframe tbody tr th:only-of-type {\n",
       "        vertical-align: middle;\n",
       "    }\n",
       "\n",
       "    .dataframe tbody tr th {\n",
       "        vertical-align: top;\n",
       "    }\n",
       "\n",
       "    .dataframe thead th {\n",
       "        text-align: right;\n",
       "    }\n",
       "</style>\n",
       "<table border=\"1\" class=\"dataframe\">\n",
       "  <thead>\n",
       "    <tr style=\"text-align: right;\">\n",
       "      <th></th>\n",
       "      <th>sex</th>\n",
       "      <th>is_employed</th>\n",
       "      <th>income</th>\n",
       "      <th>marital_status</th>\n",
       "      <th>housing_type</th>\n",
       "      <th>num_vehicles</th>\n",
       "      <th>age</th>\n",
       "      <th>state_of_res</th>\n",
       "      <th>code_column</th>\n",
       "      <th>gas_usage</th>\n",
       "      <th>rooms</th>\n",
       "      <th>recent_move_b</th>\n",
       "    </tr>\n",
       "  </thead>\n",
       "  <tbody>\n",
       "    <tr>\n",
       "      <th>0</th>\n",
       "      <td>1</td>\n",
       "      <td>1</td>\n",
       "      <td>22000.0</td>\n",
       "      <td>2</td>\n",
       "      <td>0</td>\n",
       "      <td>0.0</td>\n",
       "      <td>24</td>\n",
       "      <td>0</td>\n",
       "      <td>1047</td>\n",
       "      <td>210.0</td>\n",
       "      <td>3</td>\n",
       "      <td>0</td>\n",
       "    </tr>\n",
       "    <tr>\n",
       "      <th>1</th>\n",
       "      <td>0</td>\n",
       "      <td>-1</td>\n",
       "      <td>23200.0</td>\n",
       "      <td>0</td>\n",
       "      <td>3</td>\n",
       "      <td>0.0</td>\n",
       "      <td>82</td>\n",
       "      <td>0</td>\n",
       "      <td>1047</td>\n",
       "      <td>3.0</td>\n",
       "      <td>6</td>\n",
       "      <td>1</td>\n",
       "    </tr>\n",
       "    <tr>\n",
       "      <th>2</th>\n",
       "      <td>0</td>\n",
       "      <td>1</td>\n",
       "      <td>21000.0</td>\n",
       "      <td>2</td>\n",
       "      <td>1</td>\n",
       "      <td>2.0</td>\n",
       "      <td>31</td>\n",
       "      <td>0</td>\n",
       "      <td>1047</td>\n",
       "      <td>40.0</td>\n",
       "      <td>3</td>\n",
       "      <td>0</td>\n",
       "    </tr>\n",
       "    <tr>\n",
       "      <th>3</th>\n",
       "      <td>0</td>\n",
       "      <td>-1</td>\n",
       "      <td>37770.0</td>\n",
       "      <td>3</td>\n",
       "      <td>0</td>\n",
       "      <td>1.0</td>\n",
       "      <td>93</td>\n",
       "      <td>0</td>\n",
       "      <td>1047</td>\n",
       "      <td>120.0</td>\n",
       "      <td>2</td>\n",
       "      <td>0</td>\n",
       "    </tr>\n",
       "    <tr>\n",
       "      <th>4</th>\n",
       "      <td>1</td>\n",
       "      <td>1</td>\n",
       "      <td>39000.0</td>\n",
       "      <td>0</td>\n",
       "      <td>3</td>\n",
       "      <td>2.0</td>\n",
       "      <td>67</td>\n",
       "      <td>0</td>\n",
       "      <td>1047</td>\n",
       "      <td>3.0</td>\n",
       "      <td>2</td>\n",
       "      <td>0</td>\n",
       "    </tr>\n",
       "  </tbody>\n",
       "</table>\n",
       "</div>"
      ],
      "text/plain": [
       "   sex  is_employed   income  marital_status  housing_type  num_vehicles  age  \\\n",
       "0    1            1  22000.0               2             0           0.0   24   \n",
       "1    0           -1  23200.0               0             3           0.0   82   \n",
       "2    0            1  21000.0               2             1           2.0   31   \n",
       "3    0           -1  37770.0               3             0           1.0   93   \n",
       "4    1            1  39000.0               0             3           2.0   67   \n",
       "\n",
       "   state_of_res  code_column  gas_usage  rooms  recent_move_b  \n",
       "0             0         1047      210.0      3              0  \n",
       "1             0         1047        3.0      6              1  \n",
       "2             0         1047       40.0      3              0  \n",
       "3             0         1047      120.0      2              0  \n",
       "4             0         1047        3.0      2              0  "
      ]
     },
     "execution_count": 257,
     "metadata": {},
     "output_type": "execute_result"
    }
   ],
   "source": [
    "# Convert categorical columns to numerical\n",
    "for col in cat_cols:\n",
    "    X[col] = X[col].astype('category').cat.codes\n",
    "\n",
    "X.head()"
   ]
  },
  {
   "cell_type": "code",
   "execution_count": 258,
   "metadata": {},
   "outputs": [
    {
     "data": {
      "text/plain": [
       "np.int64(0)"
      ]
     },
     "execution_count": 258,
     "metadata": {},
     "output_type": "execute_result"
    }
   ],
   "source": [
    "X.isnull().sum().sum()"
   ]
  },
  {
   "cell_type": "markdown",
   "metadata": {},
   "source": [
    "## **Data Complexity Measures**\n",
    "\n",
    "To understand better some characteristics of our data, like the presence of ambuguous values, difficult boundary decisions and sparcity/dimensionality issues, we will use the `problexity` library to calculate some data complexity measures.\n",
    "\n",
    "These measures can be divided into 6 main categories:\n",
    "\n",
    "1. Feature-Based Measures\n",
    "2. Linearity Measures\n",
    "3. Dimensionality Measures\n",
    "4. Class Imbalance Measures\n",
    "5. Neighbourhood Measures\n",
    "6. Network Measures"
   ]
  },
  {
   "cell_type": "markdown",
   "metadata": {},
   "source": [
    "### 1. **Feature Based Measures**\n",
    "\n",
    "Feature-based measures help understand the characteristics and relationships of features in a dataset. They provide insights into **feature interactions**, **predictive power**, and **redundancy**."
   ]
  },
  {
   "cell_type": "code",
   "execution_count": 259,
   "metadata": {},
   "outputs": [
    {
     "data": {
      "text/plain": [
       "{'f1': np.float64(0.947),\n",
       " 'f2': np.float64(0.289),\n",
       " 'f3': np.float64(0.994),\n",
       " 'f4': np.float64(0.994)}"
      ]
     },
     "execution_count": 259,
     "metadata": {},
     "output_type": "execute_result"
    }
   ],
   "source": [
    "measures = dict()\n",
    "\n",
    "fb_measures = {\n",
    "    'f1': round(px.f1(X, y), 3),\n",
    "    'f2': round(px.f2(X, y), 3),\n",
    "    'f3': round(px.f3(X, y), 3),\n",
    "    'f4': round(px.f4(X, y), 3),\n",
    "}\n",
    "measures['FB-measures'] = fb_measures\n",
    "\n",
    "fb_measures"
   ]
  },
  {
   "cell_type": "markdown",
   "metadata": {},
   "source": [
    "#### **F1** = 0.947 (Class Separability)\n",
    "\n",
    "The meaning of this measure is *\"How separated classes (target) are?\"*\n",
    "\n",
    "This is a good score (close to 1):\n",
    "- Indicates there is reasonable separation between insurance holders and non-holders;\n",
    "- Suggests the features can capture meaningful differences between the two groups;\n",
    "\n",
    "#### **F2** = 0.289 (Feature Overlap)\n",
    "\n",
    "The meaning of this measure is *\"What's the maximum amount of overlap between classes?\"*\n",
    "\n",
    "Shows moderate overlap (28.9%) between classes.\n",
    "This is actually quite reasonable for insurance prediction because\n",
    "- Similar people can make different insurance choices\n",
    "- Personal preferences and risk tolerance play a role\n",
    "- Although classes are distinct in a multidimensional sense, there are specific features where they overlap significantly\n",
    "\n",
    "#### **F3** = 0.994 (Best Single Feature)\n",
    "\n",
    "The meaning of this measure is *\"How well can a single feature predict the target?\"*\n",
    "\n",
    "This is a very high score (close to 1):\n",
    "- There is a feature that can predict the target very well, even on its own\n",
    "- This feature is likely very important for insurance prediction\n",
    "- ... and may be a leaky feature\n",
    "\n",
    "\n",
    "#### **F4** = 0.994 (Combined Feature Effectiveness)\n",
    "\n",
    "The meaning of this measure is *\"How well do the features work together to predict the target?\"*\n",
    "\n",
    "This is an excellent score (very close to 1)\n",
    "- Features work very well together\n",
    "- The combination of all features provides strong predictive power\n",
    "\n",
    "\n",
    "#### **Overall Analysis**\n",
    "The combined analysis of these measures suggests:\n",
    "- Dataset has strong predictive potential\n",
    "- Features work better together than individually\n",
    "- The possible presence of a leaky feature must be considered"
   ]
  },
  {
   "cell_type": "markdown",
   "metadata": {},
   "source": [
    "### 2. **Linearity Measures**\n",
    "\n",
    "Linearity measures assess the linear separability of classes in a dataset. They evaluate how easily the different classes can be distinguished using a **linear decision boundary**. These measures provide insights into the geometric structure of the data, helping to understand whether a linear classifier would be effective."
   ]
  },
  {
   "cell_type": "code",
   "execution_count": 260,
   "metadata": {},
   "outputs": [
    {
     "name": "stdout",
     "output_type": "stream",
     "text": [
      "Round 0: {}\n",
      "Round 1: {'l1': np.float64(0.083)}\n",
      "Round 2: {'l1': np.float64(0.083), 'l2': np.float64(0.091)}\n"
     ]
    },
    {
     "data": {
      "text/plain": [
       "{'l1': np.float64(0.083), 'l2': np.float64(0.091), 'l3': np.float64(0.091)}"
      ]
     },
     "execution_count": 260,
     "metadata": {},
     "output_type": "execute_result"
    }
   ],
   "source": [
    "lin_measures = dict()\n",
    "\n",
    "# This loop may take a few minutes to run\n",
    "for i in range(3):\n",
    "    print(f'Round {i}: {lin_measures}')\n",
    "    if i == 0:\n",
    "        lin_measures['l1'] = round(px.l1(X, y), 3)\n",
    "    elif i == 1:\n",
    "        lin_measures['l2'] = round(px.l2(X, y), 3)\n",
    "    else:\n",
    "        lin_measures['l3'] = round(px.l3(X, y), 3)\n",
    "\n",
    "measures['LIN-measures'] = lin_measures\n",
    "\n",
    "lin_measures"
   ]
  },
  {
   "cell_type": "markdown",
   "metadata": {},
   "source": [
    "#### **L1** = 0.083 (Sum of Error Distance)\n",
    "The meaning of this measure is *\"How much error remains after attempting linear separation?\"*\n",
    "\n",
    "This is a very good score (close to 0):\n",
    "- Classes can be separated with minimal error using linear boundaries\n",
    "- Points to the problem being largely linearly separable\n",
    "\n",
    "#### **L2** = 0.091 (Error rate of linear classifier)\n",
    "The meaning of this measure is *\"What is the proportion of instances the linear classifier misclassified?\"*\n",
    "\n",
    "This is a strong score (close to 0):\n",
    "- Linear decision boundaries are quite effective for this problem\n",
    "- Only 9% of points are misclassified by a linear classifier\n",
    "\n",
    "#### **L3** = 0.091 (Non-linearity Measure)\n",
    "The meaning of this measure is \"*How consistently does a linear classifier perform on interpolated points?\"*\n",
    "\n",
    "This is a good score (close to 0):\n",
    "- Shows that linear decision boundaries generalize relatively well to interpolated points\n",
    "- Suggests that the groups in the data are mostly separate from each other, so there is a stable and smooth decision boundary\n",
    "\n",
    "#### **Overall Analysis**\n",
    "The combined analysis of these measures suggests:\n",
    "- Dataset exhibits strong linear characteristics\n",
    "- There's no need for complex non-linear models\n",
    "- The problem space is well-structured with clear decision boundaries"
   ]
  },
  {
   "cell_type": "markdown",
   "metadata": {},
   "source": [
    "### 3. **Dimensionality Measures**\n",
    "\n",
    "Dimensionality measures assess how the complexity of data changes with the **number of features** (or dimensions) in a dataset. When the number of features is high, data points can become more spread out, and **relationships between them may become harder to identify**. These measures help us understand the structure of data in high-dimensional spaces and how well a model might perform."
   ]
  },
  {
   "cell_type": "code",
   "execution_count": 261,
   "metadata": {},
   "outputs": [
    {
     "data": {
      "text/plain": [
       "{'t2': 0.0002, 't3': 1e-05, 't4': 0.083}"
      ]
     },
     "execution_count": 261,
     "metadata": {},
     "output_type": "execute_result"
    }
   ],
   "source": [
    "dim_measures = {\n",
    "    't2': round(px.t2(X, y), 4),\n",
    "    't3': round(px.t3(X, y), 5),\n",
    "    't4': round(px.t4(X, y), 3),\n",
    "}\n",
    "\n",
    "measures['DIM-measures'] = dim_measures\n",
    "dim_measures"
   ]
  },
  {
   "cell_type": "markdown",
   "metadata": {},
   "source": [
    "#### **T2** = 2 * 10<sup>-4</sup> (Average Number of Features per Dimension)\n",
    "\n",
    "The formula of this measure is:\n",
    "\n",
    "$$\n",
    "T2 = \\frac{\\text{Number of Features}}{\\text{Number of Instances}}\n",
    "$$\n",
    "\n",
    "I think something is not very clear about it. Its description does not make much sense, considering its formula. \n",
    "\n",
    "The number of **features** is, by definition, the number of attributes (columns) ou dataset contains to predict the target. The number of **dimensions** is the number of attributes that are actually used to represent the data - the problem can be solved in a problem space with fewer or more dimensions than the number of features. For example, the kernel trick in SVMs can project the data into a higher-dimensional space to make it linearly separable. In the other and, PCA can reduce the problem to a lower-dimensional space while preserving most of the variance.\n",
    "\n",
    "To address this issue, I opened an [issue](https://github.com/w4k2/problexity/issues/9) in the `problexity` repository to clarify this measure:\n",
    "\n",
    "<img src=\"imgs/issue_t2.png\" width=\"800\">\n",
    "\n",
    "Finally, looking at the obtained value, it is very low. It indicates that, for the number of features in the dataset, the number of instances is very high.\n",
    "\n",
    "#### **T3** = 10<sup>-5</sup> (Average Number of PCA Dimensions per Data Point)\n",
    "\n",
    "This measure executes Principal Component Analysis (PCA) on the data and calculates the average number of dimensions needed to capture most of the variance in the data. They are, then, compared to the number of instances in the dataset.\n",
    "\n",
    "This value is lower than T2, which is expected, since PCA is a dimensionality reduction technique that aims to reduce the number of dimensions while preserving most of the variance in the data. \n",
    "\n",
    "#### **T4** = 0.083 (Ration of the PCA dimension to the original dimension)\n",
    "\n",
    "The meaning of this measure is *\"how many of the original features are needed to to capture most of the variance in the data??\"*\n",
    "\n",
    "A low score (8.3%) may indicate that:\n",
    "- A significant portion of the features may be redundant or nor very informative\n",
    "- Features might be considerably correlated\n",
    "- The dataset may benefit from feature selection or dimensionality reduction"
   ]
  },
  {
   "cell_type": "code",
   "execution_count": 262,
   "metadata": {},
   "outputs": [
    {
     "name": "stdout",
     "output_type": "stream",
     "text": [
      "Number of dimensions:\n",
      "Before PCA: 12\n",
      "After PCA: 1\n"
     ]
    }
   ],
   "source": [
    "print(f'Number of dimensions:\\nBefore PCA: {X.shape[1]}\\nAfter PCA: {round(X.shape[1]*measures[\"DIM-measures\"][\"t4\"])}')"
   ]
  },
  {
   "cell_type": "markdown",
   "metadata": {},
   "source": [
    "PCA measures reveal that the 12 features can be reduced to a space of 1 dimension (like an isolated axis) and still capture 95% of the variance in the data.\n",
    "\n",
    "\n",
    "#### **Overall Analysis**\n",
    "The combined analysis of these measures suggests:\n",
    "- The dataset is very sparse across features\n",
    "- Many features may not be relevant for the target\n",
    "- Dimensionality reduction or feature selection may be beneficial\n",
    "- This problem can be solved in a one-dimensional space"
   ]
  },
  {
   "cell_type": "markdown",
   "metadata": {},
   "source": [
    "### 4. **Class imbalance Measures**\n",
    "\n",
    "Class imbalance measures assess the **distribution of classes** in a dataset. They help understand **how balanced or imbalanced the classes are**, which is important for classification tasks. Imbalanced classes can lead to **biased models** that favor the majority class, so it's important to address this issue."
   ]
  },
  {
   "cell_type": "code",
   "execution_count": 263,
   "metadata": {},
   "outputs": [
    {
     "data": {
      "text/plain": [
       "health_ins\n",
       "True     90.910119\n",
       "False     9.089881\n",
       "Name: count, dtype: float64"
      ]
     },
     "execution_count": 263,
     "metadata": {},
     "output_type": "execute_result"
    }
   ],
   "source": [
    "y.value_counts()/len(y)*100"
   ]
  },
  {
   "cell_type": "code",
   "execution_count": 264,
   "metadata": {},
   "outputs": [
    {
     "data": {
      "text/plain": [
       "{'c1': np.float64(0.561), 'c2': np.float64(0.802)}"
      ]
     },
     "execution_count": 264,
     "metadata": {},
     "output_type": "execute_result"
    }
   ],
   "source": [
    "cimb_measures = {\n",
    "    'c1': round(px.c1(X, y), 3),\n",
    "    'c2': round(px.c2(X, y), 3),\n",
    "}\n",
    "\n",
    "measures['CIMB-measures'] = cimb_measures\n",
    "cimb_measures"
   ]
  },
  {
   "cell_type": "markdown",
   "metadata": {},
   "source": [
    "#### **C1** = 0.561 (Entropy of Class Proportion)\n",
    "\n",
    "The meaning of this measure is *\"How does the distribution of the classes impact the effectiveness of a classifier?\"*\n",
    "\n",
    "This is a moderate score:\n",
    "- There is some degree of incertainty or disorder in the class distribution\n",
    "- ML models for classifying this data may face some challenges\n",
    "\n",
    "#### **C2** = 0.802 (Imbalance Ratio)\n",
    "\n",
    "The meaning of this measure is *\"How greater is the proportion of the majority class compared to the minority class?\"*\n",
    "\n",
    "This value reflects a considerable imbalance:\n",
    "- There is still some representation of the minority class\n",
    "- However, the majority class is significantly more prevalent\n",
    "\n",
    "#### **Overall Analysis**\n",
    "The combined analysis of these measures suggests:\n",
    "- The dataset has a considerable class imbalance\n",
    "- The majority class is significantly more prevalent\n",
    "- ML models may be biased towards the majority class"
   ]
  },
  {
   "cell_type": "markdown",
   "metadata": {},
   "source": [
    "### Problem! **Neighbourhood** and **Network Measures**\n",
    "\n",
    "The dataset contains about 70k records... and the `problexity` library is taking too long to calculate the neighbourhood and network measures. Even the `pymfe` library results in the same issue.\n",
    "\n",
    "The calculation of neighbourhood and network metrics is **computationally too expensive** because they rely on pairwise distance calculations and graph-based structures, which scale poorly with data size and result in infeasible algorithms for large datasets."
   ]
  },
  {
   "cell_type": "code",
   "execution_count": 265,
   "metadata": {},
   "outputs": [
    {
     "data": {
      "text/plain": [
       "(70771, 70771)"
      ]
     },
     "execution_count": 265,
     "metadata": {},
     "output_type": "execute_result"
    }
   ],
   "source": [
    "X.shape[0], len(y)"
   ]
  },
  {
   "cell_type": "markdown",
   "metadata": {},
   "source": [
    "### Solution...? **Stratified Sampling**\n",
    "\n",
    "The idea is reducing the dataset size to 10% (about 7k rows), trying to preserve its characteristics in order to study neighbourhood and network measures in a reliable sample."
   ]
  },
  {
   "cell_type": "code",
   "execution_count": 266,
   "metadata": {},
   "outputs": [
    {
     "data": {
      "text/plain": [
       "(7077, 7077)"
      ]
     },
     "execution_count": 266,
     "metadata": {},
     "output_type": "execute_result"
    }
   ],
   "source": [
    "from sklearn.model_selection import train_test_split\n",
    "\n",
    "X_resampled, _, y_resampled, _ = train_test_split(X, y, test_size=0.9, stratify=y, random_state=42)\n",
    "\n",
    "# X_resampled and y_resampled now contain 10% of the original data\n",
    "X_resampled.shape[0], len(y_resampled)"
   ]
  },
  {
   "cell_type": "markdown",
   "metadata": {},
   "source": [
    "Now we can look at the remaining data quality measures!"
   ]
  },
  {
   "cell_type": "markdown",
   "metadata": {},
   "source": [
    "### 5. **Neighbourhood Measures**\n",
    "\n",
    "These measures analyze the neighborhoods around instances of each class to determine if instances from different classes are **mixed** or if they **cluster** distinctly within their own class. If classes are highly mixed, models might find it challenging to accurately classify instances, indicating high complexity; clear separation suggests lower complexity and often easier classification."
   ]
  },
  {
   "cell_type": "code",
   "execution_count": 267,
   "metadata": {},
   "outputs": [
    {
     "name": "stdout",
     "output_type": "stream",
     "text": [
      "Round 0: {}\n",
      "Round 1: {'n1': np.float64(0.079)}\n",
      "Round 2: {'n1': np.float64(0.079), 'n2': np.float64(0.86)}\n",
      "Round 3: {'n1': np.float64(0.079), 'n2': np.float64(0.86), 'n3': np.float64(0.158)}\n",
      "Round 4: {'n1': np.float64(0.079), 'n2': np.float64(0.86), 'n3': np.float64(0.158), 'n4': np.float64(0.097)}\n",
      "Round 5: {'n1': np.float64(0.079), 'n2': np.float64(0.86), 'n3': np.float64(0.158), 'n4': np.float64(0.097), 't1': 0.277}\n"
     ]
    },
    {
     "data": {
      "text/plain": [
       "{'n1': np.float64(0.079),\n",
       " 'n2': np.float64(0.86),\n",
       " 'n3': np.float64(0.158),\n",
       " 'n4': np.float64(0.097),\n",
       " 't1': 0.277,\n",
       " 'lsc': np.float64(0.997)}"
      ]
     },
     "execution_count": 267,
     "metadata": {},
     "output_type": "execute_result"
    }
   ],
   "source": [
    "neigh_measures = dict()\n",
    "\n",
    "# This loop may take a few minutes to run\n",
    "for i in range(6):\n",
    "    print(f'Round {i}: {neigh_measures}')\n",
    "    if i == 0:\n",
    "        neigh_measures['n1'] = round(px.n1(X_resampled, y_resampled), 3)\n",
    "    elif i == 1:\n",
    "        neigh_measures['n2'] = round(px.n2(X_resampled, y_resampled), 3)\n",
    "    elif i == 2:\n",
    "        neigh_measures['n3'] = round(px.n3(X_resampled, y_resampled), 3)\n",
    "    elif i == 3:\n",
    "        neigh_measures['n4'] = round(px.n4(X_resampled, y_resampled), 3)\n",
    "    elif i == 4:\n",
    "        neigh_measures['t1'] = round(px.t1(X_resampled, y_resampled), 3)\n",
    "    else:\n",
    "        neigh_measures['lsc'] = round(px.lsc(X_resampled, y_resampled), 3)\n",
    "\n",
    "neigh_measures"
   ]
  },
  {
   "cell_type": "markdown",
   "metadata": {},
   "source": [
    "#### **N1** = 0.079 (Fraction of borderline points)\n",
    "\n",
    "This metrics answers the question *\"If we represent the data in a Minimum Spanning Tree, what fraction of the points from different classes are connected?\"*\n",
    "\n",
    "This is a relatively low score (7.9%):\n",
    "- Suggests most instances are well-separated from other classes\n",
    "- It is a positive indicator for classification tasks\n",
    "\n",
    "\n",
    "#### **N2** = 0.86 (Ratio of intra/extra class NN distance)\n",
    "\n",
    "This metrics answers the question *\"How close are instances from the same class compared to instances from different classes?\"*\n",
    "\n",
    "This is a high score (86%):\n",
    "- Intra classes are quite close compared to the distances between different classes\n",
    "- Instances from the same class tend to cluster together\n",
    "- Most of the instances are clearly distinguishable\n",
    "\n",
    "#### **N3** = 0.158 (Error rate of NN classifier)\n",
    "\n",
    "This metrics answers the question *\"What is the error rate of a 1-nearest neighbor classifier when classifying the dataset under a leave-one-out protocol?\"*\n",
    "\n",
    "This is not an horrible score (15.8%), but could be better:\n",
    "- Error rate is relatively low, but not negligible\n",
    "- The model may struggle a bit with some instances that are close to the decision boundary\n",
    "\n",
    "#### **N4** = 0.093 (Nonlinearity of NN classifier)\n",
    "\n",
    "This metrics answers the question *\"How does the accuracy of a nearest neighbor classifier change with synthetic points?\"*\n",
    "\n",
    "This is a considerable score (9.3%):\n",
    "- The classifier might struggle a bit with points created from combinations of already known instances\n",
    "- The model may not generalize well to unseen data\n",
    "\n",
    "#### **T1** = 0.257 (Fraction of hyperspheres covering data)\n",
    "\n",
    "This measure aims to answer the question *\"What fraction of the original data points do we need to maintain to fully define our class regions?\"*\n",
    "\n",
    "This is a moderate score (25.7%), but still good:\n",
    "- Classes are well-clustered/compact\n",
    "- The problem isn't very scattered or complex\n",
    "\n",
    "#### **LSC** = 0.997 (Local set average cardinality)\n",
    "\n",
    "Ths metrics answers the question *\"On average, how many neighbors of the same class can we reach before hitting a point of a different class?\"*\n",
    "\n",
    "This is a very high score (99.7%):\n",
    "- The dataset is well-clustered and the classes are clearly separated\n",
    "- The model should have no problem finding the correct class for most instances\n",
    "\n",
    "#### **Overall Analysis:**\n",
    "The combined analysis of these measures suggests:\n",
    "- The dataset exhibits very good structure and separation between classes\n",
    "- Instances from the same class cluster together\n",
    "- Generally, the model should have no problem finding the correct class for most instances"
   ]
  },
  {
   "cell_type": "markdown",
   "metadata": {},
   "source": [
    "### 6. **Network Measures**\n",
    "\n",
    "Network measures analyze the relationships between instances in a dataset, treating them as nodes in a graph. These measures help understand how instances are connected and how information flows through the data."
   ]
  },
  {
   "cell_type": "code",
   "execution_count": 268,
   "metadata": {},
   "outputs": [
    {
     "name": "stdout",
     "output_type": "stream",
     "text": [
      "Round 0: {}\n",
      "Round 1: {'clsCoef': np.float64(0.502)}\n",
      "Round 2: {'clsCoef': np.float64(0.502), 'density': np.float64(0.979)}\n"
     ]
    },
    {
     "data": {
      "text/plain": [
       "{'clsCoef': np.float64(0.502),\n",
       " 'density': np.float64(0.979),\n",
       " 'hubs': np.float64(0.924)}"
      ]
     },
     "execution_count": 268,
     "metadata": {},
     "output_type": "execute_result"
    }
   ],
   "source": [
    "netw_measures = dict()\n",
    "\n",
    "# This loop may take a few minutes to run\n",
    "for i in range(3):\n",
    "    print(f'Round {i}: {netw_measures}')\n",
    "    if i == 0:\n",
    "        netw_measures['clsCoef'] = round(px.clsCoef(X_resampled, y_resampled), 3)\n",
    "    elif i == 1:\n",
    "        netw_measures['density'] = round(px.density(X_resampled, y_resampled), 3)\n",
    "    else:\n",
    "        netw_measures['hubs'] = round(px.hubs(X_resampled, y_resampled), 3)\n",
    "\n",
    "netw_measures"
   ]
  },
  {
   "cell_type": "markdown",
   "metadata": {},
   "source": [
    "#### **clsCoef** = 0.502 (Clustering coefficient)\n",
    "\n",
    "This metrics answers the question *\"How likely are two neighbors of a node to be also connected?\"*\n",
    "\n",
    "This is a moderate score (50.2%):\n",
    "- There are some clusters but not too many\n",
    "- Neighbors of points are somewhat likely to connect to each other\n",
    "\n",
    "#### **density** = 0.979 (Density)\n",
    "\n",
    "This metrics answers the question *\"What fraction of the possible connections in the network are actually not present?\"*\n",
    "\n",
    "This is a very high score (97.9%):\n",
    "- There are few edges in the network\n",
    "- The network is sparse\n",
    "\n",
    "#### **hubs** = 0.924 (Hubs)\n",
    "\n",
    "This metrics answers the question *\"Are there central 'popular' points that connect to many others, and are their neighbors also well-connected?\"*\n",
    "\n",
    "This is a high score (92.4%):\n",
    "- Many points act as \"central\" or influential points\n",
    "- Very strong local neighborhood structure\n",
    "\n",
    "#### **Overall Analysis:**\n",
    "The dataset exhibits a strong network structure:\n",
    "- Very stable, robust class regions\n",
    "- Good overall separation between classes\n",
    "- Simple classifiers (like k-NN) should perform well"
   ]
  },
  {
   "cell_type": "markdown",
   "metadata": {},
   "source": [
    "### **A General Observation**"
   ]
  },
  {
   "cell_type": "code",
   "execution_count": 269,
   "metadata": {},
   "outputs": [
    {
     "data": {
      "image/png": "[encoded data removed]",
      "text/plain": [
       "<Figure size 500x500 with 1 Axes>"
      ]
     },
     "metadata": {},
     "output_type": "display_data"
    }
   ],
   "source": [
    "# Fit may take about 1 minute to run\n",
    "cc = ComplexityCalculator().fit(X_resampled, y_resampled)\n",
    "\n",
    "# Plot the results\n",
    "fig = plt.figure(figsize=(5, 5))\n",
    "cc.plot(fig)\n",
    "\n",
    "# Save the plot\n",
    "fig.savefig('imgs/complexity_plot.png')"
   ]
  },
  {
   "cell_type": "markdown",
   "metadata": {},
   "source": [
    "\n",
    "<ul>\n",
    "<li><span style=\"color: red\">Red</span> - feature-based measures</li>\n",
    "<li><span style=\"color: orange\">Orange</span> - linearity measures</li>\n",
    "<li><span style=\"color: yellow\">Yellow</span> - neighbourhood measures</li>\n",
    "<li><span style=\"color: green\">Green</span> - network measures</li>\n",
    "<li><span style=\"color: teal\">Teal</span> - dimensionality measures</li>\n",
    "<li><span style=\"color: blue\">Blue</span> - class imbalance measures</li>\n",
    "</ul"
   ]
  },
  {
   "cell_type": "code",
   "execution_count": 270,
   "metadata": {},
   "outputs": [
    {
     "data": {
      "text/plain": [
       "{'f1': np.float64(0.954),\n",
       " 'f1v': np.float64(0.615),\n",
       " 'f2': np.float64(0.326),\n",
       " 'f3': np.float64(0.991),\n",
       " 'f4': np.float64(0.99),\n",
       " 'l1': np.float64(0.083),\n",
       " 'l2': np.float64(0.091),\n",
       " 'l3': np.float64(0.091),\n",
       " 'n1': np.float64(0.079),\n",
       " 'n2': np.float64(0.86),\n",
       " 'n3': np.float64(0.158),\n",
       " 'n4': np.float64(0.096),\n",
       " 't1': np.float64(0.277),\n",
       " 'lsc': np.float64(0.997),\n",
       " 'density': np.float64(0.979),\n",
       " 'clsCoef': np.float64(0.502),\n",
       " 'hubs': np.float64(0.924),\n",
       " 't2': np.float64(0.002),\n",
       " 't3': np.float64(0.0),\n",
       " 't4': np.float64(0.083),\n",
       " 'c1': np.float64(0.561),\n",
       " 'c2': np.float64(0.802)}"
      ]
     },
     "execution_count": 270,
     "metadata": {},
     "output_type": "execute_result"
    }
   ],
   "source": [
    "measures_resampled = cc.report()['complexities']\n",
    "measures_resampled"
   ]
  },
  {
   "cell_type": "code",
   "execution_count": 271,
   "metadata": {},
   "outputs": [
    {
     "data": {
      "text/plain": [
       "{'f1': np.float64(0.947),\n",
       " 'f2': np.float64(0.289),\n",
       " 'f3': np.float64(0.994),\n",
       " 'f4': np.float64(0.994),\n",
       " 'l1': np.float64(0.083),\n",
       " 'l2': np.float64(0.091),\n",
       " 'l3': np.float64(0.091),\n",
       " 't2': 0.0002,\n",
       " 't3': 1e-05,\n",
       " 't4': 0.083,\n",
       " 'c1': np.float64(0.561),\n",
       " 'c2': np.float64(0.802)}"
      ]
     },
     "execution_count": 271,
     "metadata": {},
     "output_type": "execute_result"
    }
   ],
   "source": [
    "measures_original = dict()\n",
    "for group in measures:\n",
    "    for measure, value in measures[group].items():\n",
    "        measures_original[measure] = value\n",
    "\n",
    "measures_original"
   ]
  },
  {
   "cell_type": "code",
   "execution_count": 272,
   "metadata": {},
   "outputs": [
    {
     "name": "stdout",
     "output_type": "stream",
     "text": [
      "Measure: Original | Resampled\n",
      "f1:\t0.947\t| 0.954\n",
      "f2:\t0.289\t| 0.326\n",
      "f3:\t0.994\t| 0.991\n",
      "f4:\t0.994\t| 0.99\n",
      "l1:\t0.083\t| 0.083\n",
      "l2:\t0.091\t| 0.091\n",
      "l3:\t0.091\t| 0.091\n",
      "t2:\t0.0002\t| 0.002\n",
      "t3:\t1e-05\t| 0.0\n",
      "t4:\t0.083\t| 0.083\n",
      "c1:\t0.561\t| 0.561\n",
      "c2:\t0.802\t| 0.802\n"
     ]
    }
   ],
   "source": [
    "print(\"Measure: Original | Resampled\")\n",
    "for measure, orig_value in measures_original.items():\n",
    "    print(f'{measure}:\\t{orig_value}\\t| {measures_resampled[measure]}')"
   ]
  },
  {
   "cell_type": "markdown",
   "metadata": {},
   "source": [
    "As we can see, the resampled dataset data quality measures are very similar to the original dataset. This suggests that the resampled dataset is a good representation of the original dataset and can be used to study the data complexity in a more computationally efficient way."
   ]
  },
  {
   "cell_type": "markdown",
   "metadata": {},
   "source": [
    "## Implications and Expectations on Classification Algorithms\n",
    "\n",
    "\n",
    "There are many machine learning algorithms that can be used in a classification problem like this. Even though, over time, more advanced algorithms have been developed that combine features and aim for optimized performance, the foundational algorithms that well represent different learning paradigms are:\n",
    "- Decision Trees\n",
    "- K-Nearest Neighbors (KNN)\n",
    "- Support Vector Machines (SVM)\n",
    "- Logistic Regression\n",
    "\n",
    "This dataset exhibits some interesting characteristics that can impact the performance of these algorithms:\n",
    "\n",
    "- Decision Trees may overfit due to complex splits needed to separate overlapping classes, while class imbalance could bias results toward the majority class.\n",
    "- KNN could struggle in areas with high overlap and dense clusters, making accurate predictions harder. Class imbalance might also lead to skewed results.\n",
    "- SVMs can achieve an effective linear separation, but may still require careful tuning to handle overlapping classes.\n",
    "- Logistic Regression assumes linear separability, which could be a good fit for this dataset, but class imbalance might skew results.\n",
    "\n",
    "In general, these algorithms are expected to perform well for this problem, given the strong linear characteristics, clear class separation, and well-clustered instances. However, class imbalance could still pose a challenge, and some algorithms may require tuning to handle overlapping classes effectively. Ensemble classifiers will not be considered in this analysis."
   ]
  },
  {
   "cell_type": "markdown",
   "metadata": {},
   "source": [
    "## Test the Algorithms\n",
    "\n",
    "Let's test some of these algorithms on the dataset and evaluate their performance. We will use the original dataset. The performance metrics we will consider are **accuracy** and **F1 score**. We must consider that, given the high class imbalance, **accuracy** alone may not be a reliable metric. F1 score provides a better balance between **precision and recall**. These metrics respectively measure the overall correctness of the model and the balance between false positives and false negatives.\n",
    "\n",
    "For the training process, we will consider **hyperparameter tuning** to optimize the performance of the algorithms. The cross-validation technique will be used to ensure the generalization of the results."
   ]
  },
  {
   "cell_type": "code",
   "execution_count": 273,
   "metadata": {},
   "outputs": [],
   "source": [
    "from sklearn.metrics import accuracy_score, f1_score\n",
    "import time\n",
    "\n",
    "# Divide X_resampled and y_resampled into training and testing sets\n",
    "X_train, X_test, y_train, y_test = train_test_split(X, y, test_size=0.2, stratify=y, random_state=42)"
   ]
  },
  {
   "cell_type": "markdown",
   "metadata": {},
   "source": [
    "### **Decision Trees**\n",
    "\n",
    "This algortihm works by subdividing the feature space recursively into smaller regions that are more homogeneous with respect to the target variable. It is a powerful algorithm that can handle both numerical and categorical data, and can capture complex relationships between features.\n",
    "\n",
    "There are some hyperparameters that can be tuned to improve the performance of the Decision Tree model. The main objective is to avoid overfitting, which can occur when the model is too complex and captures noise in the data.\n",
    "\n",
    "To address this issue, we will explore the hyperparameter `max_depth`, which controls the maximum depth of the tree.\n",
    "The criterion to measure the node's impurity will be set to `gini`."
   ]
  },
  {
   "cell_type": "code",
   "execution_count": 274,
   "metadata": {},
   "outputs": [
    {
     "name": "stdout",
     "output_type": "stream",
     "text": [
      "max_depth: 3\taccuracy: 0.9090780642882373\tf1: 0.9523739037116531\ttime: 0.1256270408630371\n",
      "max_depth: 5\taccuracy: 0.9090780642882373\tf1: 0.9523739037116531\ttime: 0.14161109924316406\n",
      "max_depth: 7\taccuracy: 0.9079477216531261\tf1: 0.9516924331739146\ttime: 0.13744711875915527\n",
      "max_depth: 9\taccuracy: 0.9045566937477924\tf1: 0.94969279463787\ttime: 0.16733074188232422\n",
      "max_depth: 11\taccuracy: 0.8936064994701519\tf1: 0.9433877152093828\ttime: 0.19600200653076172\n",
      "max_depth: 13\taccuracy: 0.885694101024373\tf1: 0.9386749545178896\ttime: 0.22082209587097168\n",
      "max_depth: 15\taccuracy: 0.8738961497703992\tf1: 0.9317269076305221\ttime: 0.24348902702331543\n",
      "max_depth: None\taccuracy: 0.844789826916284\tf1: 0.913893787967862\ttime: 0.27504777908325195\n"
     ]
    },
    {
     "data": {
      "text/html": [
       "<div>\n",
       "<style scoped>\n",
       "    .dataframe tbody tr th:only-of-type {\n",
       "        vertical-align: middle;\n",
       "    }\n",
       "\n",
       "    .dataframe tbody tr th {\n",
       "        vertical-align: top;\n",
       "    }\n",
       "\n",
       "    .dataframe thead th {\n",
       "        text-align: right;\n",
       "    }\n",
       "</style>\n",
       "<table border=\"1\" class=\"dataframe\">\n",
       "  <thead>\n",
       "    <tr style=\"text-align: right;\">\n",
       "      <th></th>\n",
       "      <th>max_depth</th>\n",
       "      <th>accuracy</th>\n",
       "      <th>f1</th>\n",
       "      <th>time_s</th>\n",
       "    </tr>\n",
       "  </thead>\n",
       "  <tbody>\n",
       "    <tr>\n",
       "      <th>0</th>\n",
       "      <td>3.0</td>\n",
       "      <td>0.909078</td>\n",
       "      <td>0.952374</td>\n",
       "      <td>0.125627</td>\n",
       "    </tr>\n",
       "    <tr>\n",
       "      <th>1</th>\n",
       "      <td>5.0</td>\n",
       "      <td>0.909078</td>\n",
       "      <td>0.952374</td>\n",
       "      <td>0.141611</td>\n",
       "    </tr>\n",
       "    <tr>\n",
       "      <th>2</th>\n",
       "      <td>7.0</td>\n",
       "      <td>0.907948</td>\n",
       "      <td>0.951692</td>\n",
       "      <td>0.137447</td>\n",
       "    </tr>\n",
       "    <tr>\n",
       "      <th>3</th>\n",
       "      <td>9.0</td>\n",
       "      <td>0.904557</td>\n",
       "      <td>0.949693</td>\n",
       "      <td>0.167331</td>\n",
       "    </tr>\n",
       "    <tr>\n",
       "      <th>4</th>\n",
       "      <td>11.0</td>\n",
       "      <td>0.893606</td>\n",
       "      <td>0.943388</td>\n",
       "      <td>0.196002</td>\n",
       "    </tr>\n",
       "    <tr>\n",
       "      <th>5</th>\n",
       "      <td>13.0</td>\n",
       "      <td>0.885694</td>\n",
       "      <td>0.938675</td>\n",
       "      <td>0.220822</td>\n",
       "    </tr>\n",
       "    <tr>\n",
       "      <th>6</th>\n",
       "      <td>15.0</td>\n",
       "      <td>0.873896</td>\n",
       "      <td>0.931727</td>\n",
       "      <td>0.243489</td>\n",
       "    </tr>\n",
       "    <tr>\n",
       "      <th>7</th>\n",
       "      <td>NaN</td>\n",
       "      <td>0.844790</td>\n",
       "      <td>0.913894</td>\n",
       "      <td>0.275048</td>\n",
       "    </tr>\n",
       "  </tbody>\n",
       "</table>\n",
       "</div>"
      ],
      "text/plain": [
       "   max_depth  accuracy        f1    time_s\n",
       "0        3.0  0.909078  0.952374  0.125627\n",
       "1        5.0  0.909078  0.952374  0.141611\n",
       "2        7.0  0.907948  0.951692  0.137447\n",
       "3        9.0  0.904557  0.949693  0.167331\n",
       "4       11.0  0.893606  0.943388  0.196002\n",
       "5       13.0  0.885694  0.938675  0.220822\n",
       "6       15.0  0.873896  0.931727  0.243489\n",
       "7        NaN  0.844790  0.913894  0.275048"
      ]
     },
     "execution_count": 274,
     "metadata": {},
     "output_type": "execute_result"
    }
   ],
   "source": [
    "from sklearn.tree import DecisionTreeClassifier\n",
    "\n",
    "dec_tree_measures = pd.DataFrame(columns=['max_depth', 'accuracy', 'f1', 'time_s'])\n",
    "\n",
    "max_depths = list(range(3, 16, 2)) + [None]\n",
    "crit = 'gini'\n",
    "\n",
    "for max_depth in max_depths:\n",
    "    model = DecisionTreeClassifier(max_depth=max_depth, criterion=crit)\n",
    "    \n",
    "    start_t = time.time()\n",
    "    model.fit(X_train, y_train)\n",
    "    time_spent = time.time() - start_t\n",
    "\n",
    "    y_pred = model.predict(X_test)\n",
    "    acc = accuracy_score(y_test, y_pred)\n",
    "    f1 = f1_score(y_test, y_pred)\n",
    "\n",
    "    dec_tree_measures.loc[len(dec_tree_measures)] = [max_depth, acc, f1, time_spent]\n",
    "\n",
    "    print(f'max_depth: {max_depth}\\taccuracy: {acc}\\tf1: {f1}\\ttime: {time_spent}')\n",
    "\n",
    "dec_tree_measures"
   ]
  },
  {
   "cell_type": "code",
   "execution_count": 275,
   "metadata": {},
   "outputs": [
    {
     "data": {
      "image/png": "[encoded data removed]",
      "text/plain": [
       "<Figure size 1000x500 with 2 Axes>"
      ]
     },
     "metadata": {},
     "output_type": "display_data"
    },
    {
     "data": {
      "text/plain": [
       "<Figure size 640x480 with 0 Axes>"
      ]
     },
     "metadata": {},
     "output_type": "display_data"
    }
   ],
   "source": [
    "fig, ax = plt.subplots(1, 2, figsize=(10, 5))\n",
    "\n",
    "dec_tree_measures.plot(x='max_depth', y='accuracy', ax=ax[0], title='max_depth vs accuracy')\n",
    "dec_tree_measures.plot(x='max_depth', y='f1', ax=ax[1], title='max_depth vs f1')\n",
    "\n",
    "plt.show()\n",
    "plt.savefig('imgs/dec_tree_measures.png')"
   ]
  },
  {
   "cell_type": "markdown",
   "metadata": {},
   "source": [
    "The results clearly show the importance of hyperparameter tuning on the tendency to create an overfitted model. The best results were obtained by limitting the `max_depth`of the tree to 5.\n",
    "\n",
    "We can conclude that Decision Trees are a good choice for this dataset, but they require careful tuning to avoid overfitting."
   ]
  },
  {
   "cell_type": "markdown",
   "metadata": {},
   "source": [
    "### **K-Nearest Neighbors (KNN)**\n",
    "\n",
    "KNN is a very intuitive and quite simple algorithm. It classifies new instances based on the **majority class of its k closest points**. It is a non-parametric algorithm that does not make any assumptions about the underlying data distribution.\n",
    "\n",
    "Our dataset has 12 features and half of them are categorical. This can be a challenge for KNN, as it relies on the **distance between points** to classify them. Since categorical features have already been numerically encoded, the distance metric used will be the `Minkowski distance`. To boost the performance of the algorithm, we will **normalize the data** to ensure that all features contribute equally to the distance calculation.\n",
    "\n",
    "The main hyperparameter to tune in KNN is the number of neighbors `k`. A small `k` can lead to overfitting, while a large `k` can lead to underfitting. The default value for this parameter is 5.\n",
    "\n",
    "For this algorithm, the main computational efforts is in the **prediction phase**, where the distance between the new instance and all other instances in the dataset must be calculated. The training phase is very fast, as the model simply stores the data points. So, the time measure we will consider is the **prediction time**."
   ]
  },
  {
   "cell_type": "code",
   "execution_count": 276,
   "metadata": {},
   "outputs": [
    {
     "data": {
      "text/plain": [
       "array([[-0.95823331,  0.75754538,  0.29219286, ..., -0.61962554,\n",
       "        -0.29003363, -0.38079742],\n",
       "       [-0.95823331,  0.75754538,  0.7487976 , ..., -0.60381   ,\n",
       "        -0.8764188 , -0.38079742],\n",
       "       [-0.95823331, -1.36831282, -0.46543278, ..., -0.60381   ,\n",
       "        -1.46280397, -0.38079742],\n",
       "       ...,\n",
       "       [-0.95823331,  0.75754538, -0.27433524, ..., -0.60381   ,\n",
       "        -0.29003363,  2.62606822],\n",
       "       [-0.95823331,  0.75754538, -0.09676673, ..., -0.60381   ,\n",
       "         1.46912188, -0.38079742],\n",
       "       [ 1.04358718, -1.36831282,  0.45792347, ..., -0.61962554,\n",
       "         0.88273671, -0.38079742]])"
      ]
     },
     "execution_count": 276,
     "metadata": {},
     "output_type": "execute_result"
    }
   ],
   "source": [
    "# Normalize the data\n",
    "X_train_scaled = scaler.fit_transform(X_train)\n",
    "X_test_scaled = scaler.transform(X_test)\n",
    "\n",
    "X_train_scaled"
   ]
  },
  {
   "cell_type": "code",
   "execution_count": 277,
   "metadata": {},
   "outputs": [
    {
     "name": "stdout",
     "output_type": "stream",
     "text": [
      "n_neighbors: 1\taccuracy: 0.8509360649947015\tf1: 0.9181536074476339\ttime: 2.430114984512329\n",
      "n_neighbors: 3\taccuracy: 0.8885199576121512\tf1: 0.9404123555622688\ttime: 3.384354829788208\n",
      "n_neighbors: 5\taccuracy: 0.8980572235959025\tf1: 0.94596517506085\ttime: 3.95456600189209\n",
      "n_neighbors: 7\taccuracy: 0.9030731190392087\tf1: 0.9488517745302714\ttime: 4.390958070755005\n",
      "n_neighbors: 9\taccuracy: 0.9049805722359591\tf1: 0.9499832657766539\ttime: 4.876522779464722\n",
      "n_neighbors: 11\taccuracy: 0.9063935005298481\tf1: 0.9507892293407614\ttime: 5.28397798538208\n",
      "n_neighbors: 13\taccuracy: 0.9067467326033204\tf1: 0.9510131373858829\ttime: 6.16384220123291\n",
      "n_neighbors: 15\taccuracy: 0.9075944895796538\tf1: 0.951494474523474\ttime: 6.255979061126709\n",
      "n_neighbors: 17\taccuracy: 0.9079477216531261\tf1: 0.9517067566065008\ttime: 6.58406400680542\n",
      "n_neighbors: 19\taccuracy: 0.9078770752384316\tf1: 0.9516893894487255\ttime: 6.480163097381592\n",
      "n_neighbors: 21\taccuracy: 0.9077357824090427\tf1: 0.9516188782692451\ttime: 6.304983854293823\n",
      "n_neighbors: 23\taccuracy: 0.9079477216531261\tf1: 0.9517389532945665\ttime: 6.491456985473633\n",
      "n_neighbors: 25\taccuracy: 0.9084422465559873\tf1: 0.9520142180094787\ttime: 6.610658168792725\n",
      "n_neighbors: 27\taccuracy: 0.9087954786294595\tf1: 0.9522081960537518\ttime: 6.821417808532715\n",
      "n_neighbors: 29\taccuracy: 0.908866125044154\tf1: 0.9522505182114303\ttime: 7.005695343017578\n",
      "n_neighbors: 31\taccuracy: 0.9090074178735429\tf1: 0.952328077577911\ttime: 7.161736249923706\n",
      "n_neighbors: 33\taccuracy: 0.9090780642882373\tf1: 0.9523703785944265\ttime: 7.365596055984497\n",
      "n_neighbors: 35\taccuracy: 0.9090780642882373\tf1: 0.9523703785944265\ttime: 7.653112173080444\n",
      "n_neighbors: 37\taccuracy: 0.9090074178735429\tf1: 0.9523351343349863\ttime: 7.634871006011963\n",
      "n_neighbors: 39\taccuracy: 0.9090780642882373\tf1: 0.9523739037116531\ttime: 7.653856039047241\n",
      "n_neighbors: 41\taccuracy: 0.9090780642882373\tf1: 0.9523703785944265\ttime: 7.77080512046814\n",
      "n_neighbors: 43\taccuracy: 0.9090074178735429\tf1: 0.9523351343349863\ttime: 7.916618824005127\n",
      "n_neighbors: 45\taccuracy: 0.9090780642882373\tf1: 0.9523739037116531\ttime: 8.080748081207275\n",
      "n_neighbors: 47\taccuracy: 0.9090074178735429\tf1: 0.9523351343349863\ttime: 8.161759853363037\n",
      "n_neighbors: 49\taccuracy: 0.9090074178735429\tf1: 0.9523351343349863\ttime: 8.278270959854126\n"
     ]
    },
    {
     "data": {
      "text/html": [
       "<div>\n",
       "<style scoped>\n",
       "    .dataframe tbody tr th:only-of-type {\n",
       "        vertical-align: middle;\n",
       "    }\n",
       "\n",
       "    .dataframe tbody tr th {\n",
       "        vertical-align: top;\n",
       "    }\n",
       "\n",
       "    .dataframe thead th {\n",
       "        text-align: right;\n",
       "    }\n",
       "</style>\n",
       "<table border=\"1\" class=\"dataframe\">\n",
       "  <thead>\n",
       "    <tr style=\"text-align: right;\">\n",
       "      <th></th>\n",
       "      <th>n_neighbors</th>\n",
       "      <th>accuracy</th>\n",
       "      <th>f1</th>\n",
       "      <th>time_s</th>\n",
       "    </tr>\n",
       "  </thead>\n",
       "  <tbody>\n",
       "    <tr>\n",
       "      <th>0</th>\n",
       "      <td>1.0</td>\n",
       "      <td>0.850936</td>\n",
       "      <td>0.918154</td>\n",
       "      <td>2.430115</td>\n",
       "    </tr>\n",
       "    <tr>\n",
       "      <th>1</th>\n",
       "      <td>3.0</td>\n",
       "      <td>0.888520</td>\n",
       "      <td>0.940412</td>\n",
       "      <td>3.384355</td>\n",
       "    </tr>\n",
       "    <tr>\n",
       "      <th>2</th>\n",
       "      <td>5.0</td>\n",
       "      <td>0.898057</td>\n",
       "      <td>0.945965</td>\n",
       "      <td>3.954566</td>\n",
       "    </tr>\n",
       "    <tr>\n",
       "      <th>3</th>\n",
       "      <td>7.0</td>\n",
       "      <td>0.903073</td>\n",
       "      <td>0.948852</td>\n",
       "      <td>4.390958</td>\n",
       "    </tr>\n",
       "    <tr>\n",
       "      <th>4</th>\n",
       "      <td>9.0</td>\n",
       "      <td>0.904981</td>\n",
       "      <td>0.949983</td>\n",
       "      <td>4.876523</td>\n",
       "    </tr>\n",
       "    <tr>\n",
       "      <th>5</th>\n",
       "      <td>11.0</td>\n",
       "      <td>0.906394</td>\n",
       "      <td>0.950789</td>\n",
       "      <td>5.283978</td>\n",
       "    </tr>\n",
       "    <tr>\n",
       "      <th>6</th>\n",
       "      <td>13.0</td>\n",
       "      <td>0.906747</td>\n",
       "      <td>0.951013</td>\n",
       "      <td>6.163842</td>\n",
       "    </tr>\n",
       "    <tr>\n",
       "      <th>7</th>\n",
       "      <td>15.0</td>\n",
       "      <td>0.907594</td>\n",
       "      <td>0.951494</td>\n",
       "      <td>6.255979</td>\n",
       "    </tr>\n",
       "    <tr>\n",
       "      <th>8</th>\n",
       "      <td>17.0</td>\n",
       "      <td>0.907948</td>\n",
       "      <td>0.951707</td>\n",
       "      <td>6.584064</td>\n",
       "    </tr>\n",
       "    <tr>\n",
       "      <th>9</th>\n",
       "      <td>19.0</td>\n",
       "      <td>0.907877</td>\n",
       "      <td>0.951689</td>\n",
       "      <td>6.480163</td>\n",
       "    </tr>\n",
       "    <tr>\n",
       "      <th>10</th>\n",
       "      <td>21.0</td>\n",
       "      <td>0.907736</td>\n",
       "      <td>0.951619</td>\n",
       "      <td>6.304984</td>\n",
       "    </tr>\n",
       "    <tr>\n",
       "      <th>11</th>\n",
       "      <td>23.0</td>\n",
       "      <td>0.907948</td>\n",
       "      <td>0.951739</td>\n",
       "      <td>6.491457</td>\n",
       "    </tr>\n",
       "    <tr>\n",
       "      <th>12</th>\n",
       "      <td>25.0</td>\n",
       "      <td>0.908442</td>\n",
       "      <td>0.952014</td>\n",
       "      <td>6.610658</td>\n",
       "    </tr>\n",
       "    <tr>\n",
       "      <th>13</th>\n",
       "      <td>27.0</td>\n",
       "      <td>0.908795</td>\n",
       "      <td>0.952208</td>\n",
       "      <td>6.821418</td>\n",
       "    </tr>\n",
       "    <tr>\n",
       "      <th>14</th>\n",
       "      <td>29.0</td>\n",
       "      <td>0.908866</td>\n",
       "      <td>0.952251</td>\n",
       "      <td>7.005695</td>\n",
       "    </tr>\n",
       "    <tr>\n",
       "      <th>15</th>\n",
       "      <td>31.0</td>\n",
       "      <td>0.909007</td>\n",
       "      <td>0.952328</td>\n",
       "      <td>7.161736</td>\n",
       "    </tr>\n",
       "    <tr>\n",
       "      <th>16</th>\n",
       "      <td>33.0</td>\n",
       "      <td>0.909078</td>\n",
       "      <td>0.952370</td>\n",
       "      <td>7.365596</td>\n",
       "    </tr>\n",
       "    <tr>\n",
       "      <th>17</th>\n",
       "      <td>35.0</td>\n",
       "      <td>0.909078</td>\n",
       "      <td>0.952370</td>\n",
       "      <td>7.653112</td>\n",
       "    </tr>\n",
       "    <tr>\n",
       "      <th>18</th>\n",
       "      <td>37.0</td>\n",
       "      <td>0.909007</td>\n",
       "      <td>0.952335</td>\n",
       "      <td>7.634871</td>\n",
       "    </tr>\n",
       "    <tr>\n",
       "      <th>19</th>\n",
       "      <td>39.0</td>\n",
       "      <td>0.909078</td>\n",
       "      <td>0.952374</td>\n",
       "      <td>7.653856</td>\n",
       "    </tr>\n",
       "    <tr>\n",
       "      <th>20</th>\n",
       "      <td>41.0</td>\n",
       "      <td>0.909078</td>\n",
       "      <td>0.952370</td>\n",
       "      <td>7.770805</td>\n",
       "    </tr>\n",
       "    <tr>\n",
       "      <th>21</th>\n",
       "      <td>43.0</td>\n",
       "      <td>0.909007</td>\n",
       "      <td>0.952335</td>\n",
       "      <td>7.916619</td>\n",
       "    </tr>\n",
       "    <tr>\n",
       "      <th>22</th>\n",
       "      <td>45.0</td>\n",
       "      <td>0.909078</td>\n",
       "      <td>0.952374</td>\n",
       "      <td>8.080748</td>\n",
       "    </tr>\n",
       "    <tr>\n",
       "      <th>23</th>\n",
       "      <td>47.0</td>\n",
       "      <td>0.909007</td>\n",
       "      <td>0.952335</td>\n",
       "      <td>8.161760</td>\n",
       "    </tr>\n",
       "    <tr>\n",
       "      <th>24</th>\n",
       "      <td>49.0</td>\n",
       "      <td>0.909007</td>\n",
       "      <td>0.952335</td>\n",
       "      <td>8.278271</td>\n",
       "    </tr>\n",
       "  </tbody>\n",
       "</table>\n",
       "</div>"
      ],
      "text/plain": [
       "    n_neighbors  accuracy        f1    time_s\n",
       "0           1.0  0.850936  0.918154  2.430115\n",
       "1           3.0  0.888520  0.940412  3.384355\n",
       "2           5.0  0.898057  0.945965  3.954566\n",
       "3           7.0  0.903073  0.948852  4.390958\n",
       "4           9.0  0.904981  0.949983  4.876523\n",
       "5          11.0  0.906394  0.950789  5.283978\n",
       "6          13.0  0.906747  0.951013  6.163842\n",
       "7          15.0  0.907594  0.951494  6.255979\n",
       "8          17.0  0.907948  0.951707  6.584064\n",
       "9          19.0  0.907877  0.951689  6.480163\n",
       "10         21.0  0.907736  0.951619  6.304984\n",
       "11         23.0  0.907948  0.951739  6.491457\n",
       "12         25.0  0.908442  0.952014  6.610658\n",
       "13         27.0  0.908795  0.952208  6.821418\n",
       "14         29.0  0.908866  0.952251  7.005695\n",
       "15         31.0  0.909007  0.952328  7.161736\n",
       "16         33.0  0.909078  0.952370  7.365596\n",
       "17         35.0  0.909078  0.952370  7.653112\n",
       "18         37.0  0.909007  0.952335  7.634871\n",
       "19         39.0  0.909078  0.952374  7.653856\n",
       "20         41.0  0.909078  0.952370  7.770805\n",
       "21         43.0  0.909007  0.952335  7.916619\n",
       "22         45.0  0.909078  0.952374  8.080748\n",
       "23         47.0  0.909007  0.952335  8.161760\n",
       "24         49.0  0.909007  0.952335  8.278271"
      ]
     },
     "execution_count": 277,
     "metadata": {},
     "output_type": "execute_result"
    }
   ],
   "source": [
    "from sklearn.neighbors import KNeighborsClassifier\n",
    "\n",
    "knn_measures = pd.DataFrame(columns=['n_neighbors', 'accuracy', 'f1', 'time_s'])\n",
    "\n",
    "n_neighbors = list(range(1, 50, 2))\n",
    "dist_metric = 'minkowski'\n",
    "\n",
    "for k in n_neighbors:\n",
    "    model = KNeighborsClassifier(n_neighbors=k, metric=dist_metric)\n",
    "    model.fit(X_train_scaled, y_train)\n",
    "    \n",
    "    start_t = time.time()\n",
    "    y_pred = model.predict(X_test_scaled)\n",
    "    time_spent = time.time() - start_t\n",
    "\n",
    "    acc = accuracy_score(y_test, y_pred)\n",
    "    f1 = f1_score(y_test, y_pred)\n",
    "\n",
    "    knn_measures.loc[len(knn_measures)] = [k, acc, f1, time_spent]\n",
    "\n",
    "    print(f'n_neighbors: {k}\\taccuracy: {acc}\\tf1: {f1}\\ttime: {time_spent}')\n",
    "\n",
    "knn_measures"
   ]
  },
  {
   "cell_type": "code",
   "execution_count": 278,
   "metadata": {},
   "outputs": [
    {
     "data": {
      "image/png": "[encoded data removed]",
      "text/plain": [
       "<Figure size 1000x500 with 2 Axes>"
      ]
     },
     "metadata": {},
     "output_type": "display_data"
    },
    {
     "data": {
      "text/plain": [
       "<Figure size 640x480 with 0 Axes>"
      ]
     },
     "metadata": {},
     "output_type": "display_data"
    }
   ],
   "source": [
    "# Plot the results\n",
    "fig, ax = plt.subplots(1, 2, figsize=(10, 5))\n",
    "\n",
    "knn_measures.plot(x='n_neighbors', y='accuracy', ax=ax[0], title='n_neighbors vs accuracy')\n",
    "knn_measures.plot(x='n_neighbors', y='f1', ax=ax[1], title='n_neighbors vs f1')\n",
    "\n",
    "plt.show()\n",
    "plt.savefig('imgs/knn_measures.png')"
   ]
  },
  {
   "cell_type": "markdown",
   "metadata": {},
   "source": [
    "The results show a very interesting behaviour: Both accuracy and F1 score converge (respectively to 0.91 and 0.953) as the number of neighbors increases. The value obtains a good stability at `k = 25`. From `k = 1` to `k = 10`, the metrics improve significantly, but after that, the improvement is marginal.\n",
    "\n",
    "The results of this algorithm are very good, such as the data-complexity measures suggested. The KNN algorithm is a good choice for this dataset, but it requires careful tuning of the number of neighbors and some amount of computational resources to make predictions."
   ]
  },
  {
   "cell_type": "markdown",
   "metadata": {},
   "source": [
    "### **Logistic Regression**\n",
    "\n",
    "The last algorithm we will test is Logistic Regression. This algorithm is a **linear model** that is widely used for binary classification problems. It estimates the probability that a given instance belongs to a particular class.\n",
    "\n",
    "The main hyperparameter to tune in Logistic Regression is the **regularization strength** `C`. Regularization helps prevent overfitting by penalizing large coefficients. The default value for this parameter is 1.0, but we will explore different values to find the best one."
   ]
  },
  {
   "cell_type": "code",
   "execution_count": 279,
   "metadata": {},
   "outputs": [
    {
     "name": "stdout",
     "output_type": "stream",
     "text": [
      "C: 0.001\taccuracy: 0.9090780642882373\tf1: 0.9523739037116531\ttime: 0.025545120239257812\n",
      "C: 0.01\taccuracy: 0.9090074178735429\tf1: 0.9523351343349863\ttime: 0.0256040096282959\n",
      "C: 0.1\taccuracy: 0.9089367714588484\tf1: 0.9522963620887458\ttime: 0.027257919311523438\n",
      "C: 1\taccuracy: 0.9089367714588484\tf1: 0.9522963620887458\ttime: 0.02679896354675293\n",
      "C: 10\taccuracy: 0.9089367714588484\tf1: 0.9522963620887458\ttime: 0.02679300308227539\n",
      "C: 100\taccuracy: 0.9089367714588484\tf1: 0.9522963620887458\ttime: 0.027347803115844727\n"
     ]
    },
    {
     "data": {
      "text/html": [
       "<div>\n",
       "<style scoped>\n",
       "    .dataframe tbody tr th:only-of-type {\n",
       "        vertical-align: middle;\n",
       "    }\n",
       "\n",
       "    .dataframe tbody tr th {\n",
       "        vertical-align: top;\n",
       "    }\n",
       "\n",
       "    .dataframe thead th {\n",
       "        text-align: right;\n",
       "    }\n",
       "</style>\n",
       "<table border=\"1\" class=\"dataframe\">\n",
       "  <thead>\n",
       "    <tr style=\"text-align: right;\">\n",
       "      <th></th>\n",
       "      <th>C</th>\n",
       "      <th>accuracy</th>\n",
       "      <th>f1</th>\n",
       "      <th>time_s</th>\n",
       "    </tr>\n",
       "  </thead>\n",
       "  <tbody>\n",
       "    <tr>\n",
       "      <th>0</th>\n",
       "      <td>0.001</td>\n",
       "      <td>0.909078</td>\n",
       "      <td>0.952374</td>\n",
       "      <td>0.025545</td>\n",
       "    </tr>\n",
       "    <tr>\n",
       "      <th>1</th>\n",
       "      <td>0.010</td>\n",
       "      <td>0.909007</td>\n",
       "      <td>0.952335</td>\n",
       "      <td>0.025604</td>\n",
       "    </tr>\n",
       "    <tr>\n",
       "      <th>2</th>\n",
       "      <td>0.100</td>\n",
       "      <td>0.908937</td>\n",
       "      <td>0.952296</td>\n",
       "      <td>0.027258</td>\n",
       "    </tr>\n",
       "    <tr>\n",
       "      <th>3</th>\n",
       "      <td>1.000</td>\n",
       "      <td>0.908937</td>\n",
       "      <td>0.952296</td>\n",
       "      <td>0.026799</td>\n",
       "    </tr>\n",
       "    <tr>\n",
       "      <th>4</th>\n",
       "      <td>10.000</td>\n",
       "      <td>0.908937</td>\n",
       "      <td>0.952296</td>\n",
       "      <td>0.026793</td>\n",
       "    </tr>\n",
       "    <tr>\n",
       "      <th>5</th>\n",
       "      <td>100.000</td>\n",
       "      <td>0.908937</td>\n",
       "      <td>0.952296</td>\n",
       "      <td>0.027348</td>\n",
       "    </tr>\n",
       "  </tbody>\n",
       "</table>\n",
       "</div>"
      ],
      "text/plain": [
       "         C  accuracy        f1    time_s\n",
       "0    0.001  0.909078  0.952374  0.025545\n",
       "1    0.010  0.909007  0.952335  0.025604\n",
       "2    0.100  0.908937  0.952296  0.027258\n",
       "3    1.000  0.908937  0.952296  0.026799\n",
       "4   10.000  0.908937  0.952296  0.026793\n",
       "5  100.000  0.908937  0.952296  0.027348"
      ]
     },
     "execution_count": 279,
     "metadata": {},
     "output_type": "execute_result"
    }
   ],
   "source": [
    "from sklearn.linear_model import LogisticRegression\n",
    "\n",
    "log_reg_measures = pd.DataFrame(columns=['C', 'accuracy', 'f1', 'time_s'])\n",
    "\n",
    "cs = [0.001, 0.01, 0.1, 1, 10, 100]\n",
    "solver = 'lbfgs'\n",
    "\n",
    "for c in cs:\n",
    "    model = LogisticRegression(C=c, solver=solver)\n",
    "    \n",
    "    start_t = time.time()\n",
    "    model.fit(X_train_scaled, y_train)\n",
    "    time_spent = time.time() - start_t\n",
    "\n",
    "    y_pred = model.predict(X_test_scaled)\n",
    "    acc = accuracy_score(y_test, y_pred)\n",
    "    f1 = f1_score(y_test, y_pred)\n",
    "\n",
    "    log_reg_measures.loc[len(log_reg_measures)] = [c, acc, f1, time_spent]\n",
    "\n",
    "    print(f'C: {c}\\taccuracy: {acc}\\tf1: {f1}\\ttime: {time_spent}')\n",
    "\n",
    "log_reg_measures"
   ]
  },
  {
   "cell_type": "markdown",
   "metadata": {},
   "source": [
    "We can see that the different values of `C` do not have a significant impact on the performance of the model. \n",
    "\n",
    "The model achieved a good performance, with an accuracy ≈ 0.908 and an F1 score ≈ 0.952, which proves the good indicators we have observed in the data complexity analysis."
   ]
  },
  {
   "cell_type": "markdown",
   "metadata": {},
   "source": [
    "### **Decision Trees** *vs* **K-Nearest-Neighbors** *vs* **Logistic Regression**"
   ]
  },
  {
   "cell_type": "code",
   "execution_count": 280,
   "metadata": {},
   "outputs": [
    {
     "data": {
      "text/html": [
       "<div>\n",
       "<style scoped>\n",
       "    .dataframe tbody tr th:only-of-type {\n",
       "        vertical-align: middle;\n",
       "    }\n",
       "\n",
       "    .dataframe tbody tr th {\n",
       "        vertical-align: top;\n",
       "    }\n",
       "\n",
       "    .dataframe thead th {\n",
       "        text-align: right;\n",
       "    }\n",
       "</style>\n",
       "<table border=\"1\" class=\"dataframe\">\n",
       "  <thead>\n",
       "    <tr style=\"text-align: right;\">\n",
       "      <th></th>\n",
       "      <th>model</th>\n",
       "      <th>accuracy</th>\n",
       "      <th>f1</th>\n",
       "      <th>time_s</th>\n",
       "    </tr>\n",
       "  </thead>\n",
       "  <tbody>\n",
       "    <tr>\n",
       "      <th>0</th>\n",
       "      <td>DecisionTree</td>\n",
       "      <td>0.909078</td>\n",
       "      <td>0.952374</td>\n",
       "      <td>0.141611</td>\n",
       "    </tr>\n",
       "    <tr>\n",
       "      <th>1</th>\n",
       "      <td>KNN</td>\n",
       "      <td>0.907877</td>\n",
       "      <td>0.951689</td>\n",
       "      <td>6.480163</td>\n",
       "    </tr>\n",
       "    <tr>\n",
       "      <th>2</th>\n",
       "      <td>LogisticRegression</td>\n",
       "      <td>0.908937</td>\n",
       "      <td>0.952296</td>\n",
       "      <td>0.026799</td>\n",
       "    </tr>\n",
       "  </tbody>\n",
       "</table>\n",
       "</div>"
      ],
      "text/plain": [
       "                model  accuracy        f1    time_s\n",
       "0        DecisionTree  0.909078  0.952374  0.141611\n",
       "1                 KNN  0.907877  0.951689  6.480163\n",
       "2  LogisticRegression  0.908937  0.952296  0.026799"
      ]
     },
     "execution_count": 280,
     "metadata": {},
     "output_type": "execute_result"
    }
   ],
   "source": [
    "results = pd.DataFrame(columns=['model', 'accuracy', 'f1', 'time_s'])\n",
    "\n",
    "dtree = dec_tree_measures.loc[dec_tree_measures['max_depth'] == 5].iloc[0]\n",
    "results.loc[len(results)] = ['DecisionTree', dtree['accuracy'], dtree['f1'], dtree['time_s']]\n",
    "\n",
    "knn = knn_measures.loc[knn_measures['n_neighbors'] == 19].iloc[0]\n",
    "results.loc[len(results)] = ['KNN', knn['accuracy'], knn['f1'], knn['time_s']]\n",
    "\n",
    "log_reg = log_reg_measures.loc[log_reg_measures['C'] == 1].iloc[0]\n",
    "results.loc[len(results)] = ['LogisticRegression', log_reg['accuracy'], log_reg['f1'], log_reg['time_s']]\n",
    "\n",
    "results"
   ]
  },
  {
   "cell_type": "markdown",
   "metadata": {},
   "source": [
    "As we can see, all three algorithms achieved a similarly good performance on the dataset (accuracy ≈ 0.91 and F1 ≈ 0.95). This is expected given the strong linear characteristics, clear class separation, and well-clustered instances in the data. The algorithms were able to capture these patterns effectively and make accurate predictions.\n",
    "\n",
    "The data-complexity analysis provided valuable insights into the characteristics of the dataset that could impact the performance of the algorithms."
   ]
  }
 ],
 "metadata": {
  "kernelspec": {
   "display_name": "icd",
   "language": "python",
   "name": "python3"
  },
  "language_info": {
   "codemirror_mode": {
    "name": "ipython",
    "version": 3
   },
   "file_extension": ".py",
   "mimetype": "text/x-python",
   "name": "python",
   "nbconvert_exporter": "python",
   "pygments_lexer": "ipython3",
   "version": "3.12.6"
  }
 },
 "nbformat": 4,
 "nbformat_minor": 2
}
