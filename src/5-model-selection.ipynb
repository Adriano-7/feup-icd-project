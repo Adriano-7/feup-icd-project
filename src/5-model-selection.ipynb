{
 "cells": [
  {
   "cell_type": "markdown",
   "metadata": {},
   "source": [
    "# Model Selection\n",
    "\n",
    "Now that we have treated the imbalance issue in the training data, we can proceed to a more extensive exploration of classification algorithms. The objective of this section is to identify the best model for the problem, in order to use it for the final predictions.\n",
    "\n",
    "The following algorithms will be tested:\n",
    "- Decision Tree\n",
    "- Random Forest\n",
    "- K-Nearest Neighbors\n",
    "- Support Vector Machine\n",
    "- Logistic Regression\n",
    "- Neural Network (Multi-Layer Perceptron)\n",
    "\n",
    "For evaluating these models, we will consider several performance metrics: accuracy, F1 score and specificity. We will also look at the confusion matrix of each models. Moreover, we will divide the full training set into training and validation sets, in order to perform hyperparameter tuning."
   ]
  },
  {
   "cell_type": "code",
   "execution_count": 9,
   "metadata": {},
   "outputs": [],
   "source": [
    "import pandas as pd\n",
    "from sklearn.model_selection import train_test_split\n",
    "from sklearn.model_selection import GridSearchCV\n",
    "from sklearn.metrics import confusion_matrix, accuracy_score, f1_score, precision_score, recall_score, ConfusionMatrixDisplay\n",
    "\n",
    "import seaborn as sns\n",
    "import matplotlib.pyplot as plt\n",
    "\n",
    "from sklearn.tree import DecisionTreeClassifier\n",
    "from sklearn.ensemble import RandomForestClassifier\n",
    "from sklearn.neighbors import KNeighborsClassifier\n",
    "from sklearn.svm import SVC\n",
    "from sklearn.linear_model import LogisticRegression\n",
    "from sklearn.neural_network import MLPClassifier\n",
    "from sklearn.naive_bayes import GaussianNB"
   ]
  },
  {
   "cell_type": "code",
   "execution_count": 10,
   "metadata": {},
   "outputs": [
    {
     "data": {
      "text/plain": [
       "(131839, 17)"
      ]
     },
     "execution_count": 10,
     "metadata": {},
     "output_type": "execute_result"
    }
   ],
   "source": [
    "# Load the treated dataset\n",
    "df = pd.read_csv('../data/balanced.csv')\n",
    "df.shape"
   ]
  },
  {
   "cell_type": "code",
   "execution_count": 11,
   "metadata": {},
   "outputs": [
    {
     "data": {
      "text/html": [
       "<div>\n",
       "<style scoped>\n",
       "    .dataframe tbody tr th:only-of-type {\n",
       "        vertical-align: middle;\n",
       "    }\n",
       "\n",
       "    .dataframe tbody tr th {\n",
       "        vertical-align: top;\n",
       "    }\n",
       "\n",
       "    .dataframe thead th {\n",
       "        text-align: right;\n",
       "    }\n",
       "</style>\n",
       "<table border=\"1\" class=\"dataframe\">\n",
       "  <thead>\n",
       "    <tr style=\"text-align: right;\">\n",
       "      <th></th>\n",
       "      <th>sex</th>\n",
       "      <th>is_employed</th>\n",
       "      <th>income</th>\n",
       "      <th>num_vehicles</th>\n",
       "      <th>age</th>\n",
       "      <th>state_of_res</th>\n",
       "      <th>gas_usage</th>\n",
       "      <th>rooms</th>\n",
       "      <th>marital_status_Divorced/Separated</th>\n",
       "      <th>marital_status_Married</th>\n",
       "      <th>marital_status_Never married</th>\n",
       "      <th>marital_status_Widowed</th>\n",
       "      <th>housing_type_Homeowner free and clear</th>\n",
       "      <th>housing_type_Homeowner with mortgage/loan</th>\n",
       "      <th>housing_type_Occupied with no rent</th>\n",
       "      <th>housing_type_Rented</th>\n",
       "      <th>health_ins</th>\n",
       "    </tr>\n",
       "  </thead>\n",
       "  <tbody>\n",
       "    <tr>\n",
       "      <th>0</th>\n",
       "      <td>1</td>\n",
       "      <td>1</td>\n",
       "      <td>-0.34</td>\n",
       "      <td>0.00</td>\n",
       "      <td>0.04</td>\n",
       "      <td>0</td>\n",
       "      <td>2.71</td>\n",
       "      <td>0.4</td>\n",
       "      <td>0</td>\n",
       "      <td>0</td>\n",
       "      <td>1</td>\n",
       "      <td>0</td>\n",
       "      <td>1</td>\n",
       "      <td>0</td>\n",
       "      <td>0</td>\n",
       "      <td>0</td>\n",
       "      <td>1</td>\n",
       "    </tr>\n",
       "    <tr>\n",
       "      <th>1</th>\n",
       "      <td>0</td>\n",
       "      <td>0</td>\n",
       "      <td>-0.32</td>\n",
       "      <td>0.00</td>\n",
       "      <td>0.78</td>\n",
       "      <td>0</td>\n",
       "      <td>-0.60</td>\n",
       "      <td>1.0</td>\n",
       "      <td>1</td>\n",
       "      <td>0</td>\n",
       "      <td>0</td>\n",
       "      <td>0</td>\n",
       "      <td>0</td>\n",
       "      <td>0</td>\n",
       "      <td>0</td>\n",
       "      <td>1</td>\n",
       "      <td>1</td>\n",
       "    </tr>\n",
       "    <tr>\n",
       "      <th>2</th>\n",
       "      <td>0</td>\n",
       "      <td>1</td>\n",
       "      <td>-0.36</td>\n",
       "      <td>0.33</td>\n",
       "      <td>0.13</td>\n",
       "      <td>0</td>\n",
       "      <td>-0.01</td>\n",
       "      <td>0.4</td>\n",
       "      <td>0</td>\n",
       "      <td>0</td>\n",
       "      <td>1</td>\n",
       "      <td>0</td>\n",
       "      <td>0</td>\n",
       "      <td>1</td>\n",
       "      <td>0</td>\n",
       "      <td>0</td>\n",
       "      <td>1</td>\n",
       "    </tr>\n",
       "    <tr>\n",
       "      <th>3</th>\n",
       "      <td>0</td>\n",
       "      <td>0</td>\n",
       "      <td>-0.07</td>\n",
       "      <td>0.17</td>\n",
       "      <td>0.92</td>\n",
       "      <td>0</td>\n",
       "      <td>1.27</td>\n",
       "      <td>0.2</td>\n",
       "      <td>0</td>\n",
       "      <td>0</td>\n",
       "      <td>0</td>\n",
       "      <td>1</td>\n",
       "      <td>1</td>\n",
       "      <td>0</td>\n",
       "      <td>0</td>\n",
       "      <td>0</td>\n",
       "      <td>1</td>\n",
       "    </tr>\n",
       "    <tr>\n",
       "      <th>4</th>\n",
       "      <td>1</td>\n",
       "      <td>1</td>\n",
       "      <td>-0.05</td>\n",
       "      <td>0.33</td>\n",
       "      <td>0.59</td>\n",
       "      <td>0</td>\n",
       "      <td>-0.60</td>\n",
       "      <td>0.2</td>\n",
       "      <td>1</td>\n",
       "      <td>0</td>\n",
       "      <td>0</td>\n",
       "      <td>0</td>\n",
       "      <td>0</td>\n",
       "      <td>0</td>\n",
       "      <td>0</td>\n",
       "      <td>1</td>\n",
       "      <td>1</td>\n",
       "    </tr>\n",
       "    <tr>\n",
       "      <th>5</th>\n",
       "      <td>1</td>\n",
       "      <td>0</td>\n",
       "      <td>-0.53</td>\n",
       "      <td>0.33</td>\n",
       "      <td>0.71</td>\n",
       "      <td>0</td>\n",
       "      <td>2.55</td>\n",
       "      <td>1.0</td>\n",
       "      <td>0</td>\n",
       "      <td>1</td>\n",
       "      <td>0</td>\n",
       "      <td>0</td>\n",
       "      <td>1</td>\n",
       "      <td>0</td>\n",
       "      <td>0</td>\n",
       "      <td>0</td>\n",
       "      <td>1</td>\n",
       "    </tr>\n",
       "    <tr>\n",
       "      <th>6</th>\n",
       "      <td>0</td>\n",
       "      <td>1</td>\n",
       "      <td>-0.28</td>\n",
       "      <td>0.33</td>\n",
       "      <td>0.06</td>\n",
       "      <td>0</td>\n",
       "      <td>-0.60</td>\n",
       "      <td>0.4</td>\n",
       "      <td>0</td>\n",
       "      <td>1</td>\n",
       "      <td>0</td>\n",
       "      <td>0</td>\n",
       "      <td>0</td>\n",
       "      <td>0</td>\n",
       "      <td>0</td>\n",
       "      <td>1</td>\n",
       "      <td>0</td>\n",
       "    </tr>\n",
       "    <tr>\n",
       "      <th>7</th>\n",
       "      <td>0</td>\n",
       "      <td>0</td>\n",
       "      <td>-0.12</td>\n",
       "      <td>0.33</td>\n",
       "      <td>0.67</td>\n",
       "      <td>0</td>\n",
       "      <td>0.15</td>\n",
       "      <td>0.8</td>\n",
       "      <td>0</td>\n",
       "      <td>1</td>\n",
       "      <td>0</td>\n",
       "      <td>0</td>\n",
       "      <td>1</td>\n",
       "      <td>0</td>\n",
       "      <td>0</td>\n",
       "      <td>0</td>\n",
       "      <td>1</td>\n",
       "    </tr>\n",
       "    <tr>\n",
       "      <th>8</th>\n",
       "      <td>0</td>\n",
       "      <td>1</td>\n",
       "      <td>-0.29</td>\n",
       "      <td>0.83</td>\n",
       "      <td>0.08</td>\n",
       "      <td>0</td>\n",
       "      <td>-0.60</td>\n",
       "      <td>0.6</td>\n",
       "      <td>0</td>\n",
       "      <td>0</td>\n",
       "      <td>1</td>\n",
       "      <td>0</td>\n",
       "      <td>1</td>\n",
       "      <td>0</td>\n",
       "      <td>0</td>\n",
       "      <td>0</td>\n",
       "      <td>1</td>\n",
       "    </tr>\n",
       "    <tr>\n",
       "      <th>9</th>\n",
       "      <td>1</td>\n",
       "      <td>1</td>\n",
       "      <td>-0.18</td>\n",
       "      <td>0.50</td>\n",
       "      <td>0.42</td>\n",
       "      <td>0</td>\n",
       "      <td>-0.33</td>\n",
       "      <td>1.0</td>\n",
       "      <td>0</td>\n",
       "      <td>1</td>\n",
       "      <td>0</td>\n",
       "      <td>0</td>\n",
       "      <td>0</td>\n",
       "      <td>1</td>\n",
       "      <td>0</td>\n",
       "      <td>0</td>\n",
       "      <td>1</td>\n",
       "    </tr>\n",
       "  </tbody>\n",
       "</table>\n",
       "</div>"
      ],
      "text/plain": [
       "   sex  is_employed  income  num_vehicles   age  state_of_res  gas_usage  \\\n",
       "0    1            1   -0.34          0.00  0.04             0       2.71   \n",
       "1    0            0   -0.32          0.00  0.78             0      -0.60   \n",
       "2    0            1   -0.36          0.33  0.13             0      -0.01   \n",
       "3    0            0   -0.07          0.17  0.92             0       1.27   \n",
       "4    1            1   -0.05          0.33  0.59             0      -0.60   \n",
       "5    1            0   -0.53          0.33  0.71             0       2.55   \n",
       "6    0            1   -0.28          0.33  0.06             0      -0.60   \n",
       "7    0            0   -0.12          0.33  0.67             0       0.15   \n",
       "8    0            1   -0.29          0.83  0.08             0      -0.60   \n",
       "9    1            1   -0.18          0.50  0.42             0      -0.33   \n",
       "\n",
       "   rooms  marital_status_Divorced/Separated  marital_status_Married  \\\n",
       "0    0.4                                  0                       0   \n",
       "1    1.0                                  1                       0   \n",
       "2    0.4                                  0                       0   \n",
       "3    0.2                                  0                       0   \n",
       "4    0.2                                  1                       0   \n",
       "5    1.0                                  0                       1   \n",
       "6    0.4                                  0                       1   \n",
       "7    0.8                                  0                       1   \n",
       "8    0.6                                  0                       0   \n",
       "9    1.0                                  0                       1   \n",
       "\n",
       "   marital_status_Never married  marital_status_Widowed  \\\n",
       "0                             1                       0   \n",
       "1                             0                       0   \n",
       "2                             1                       0   \n",
       "3                             0                       1   \n",
       "4                             0                       0   \n",
       "5                             0                       0   \n",
       "6                             0                       0   \n",
       "7                             0                       0   \n",
       "8                             1                       0   \n",
       "9                             0                       0   \n",
       "\n",
       "   housing_type_Homeowner free and clear  \\\n",
       "0                                      1   \n",
       "1                                      0   \n",
       "2                                      0   \n",
       "3                                      1   \n",
       "4                                      0   \n",
       "5                                      1   \n",
       "6                                      0   \n",
       "7                                      1   \n",
       "8                                      1   \n",
       "9                                      0   \n",
       "\n",
       "   housing_type_Homeowner with mortgage/loan  \\\n",
       "0                                          0   \n",
       "1                                          0   \n",
       "2                                          1   \n",
       "3                                          0   \n",
       "4                                          0   \n",
       "5                                          0   \n",
       "6                                          0   \n",
       "7                                          0   \n",
       "8                                          0   \n",
       "9                                          1   \n",
       "\n",
       "   housing_type_Occupied with no rent  housing_type_Rented  health_ins  \n",
       "0                                   0                    0           1  \n",
       "1                                   0                    1           1  \n",
       "2                                   0                    0           1  \n",
       "3                                   0                    0           1  \n",
       "4                                   0                    1           1  \n",
       "5                                   0                    0           1  \n",
       "6                                   0                    1           0  \n",
       "7                                   0                    0           1  \n",
       "8                                   0                    0           1  \n",
       "9                                   0                    0           1  "
      ]
     },
     "execution_count": 11,
     "metadata": {},
     "output_type": "execute_result"
    }
   ],
   "source": [
    "df.head(10)"
   ]
  },
  {
   "cell_type": "code",
   "execution_count": 12,
   "metadata": {},
   "outputs": [
    {
     "data": {
      "text/plain": [
       "(131839, 16)"
      ]
     },
     "execution_count": 12,
     "metadata": {},
     "output_type": "execute_result"
    }
   ],
   "source": [
    "# Splitting the columns into features and target\n",
    "X = df.drop(['health_ins'], axis=1)\n",
    "y = df['health_ins']\n",
    "\n",
    "X.shape"
   ]
  },
  {
   "cell_type": "code",
   "execution_count": 13,
   "metadata": {},
   "outputs": [],
   "source": [
    "# Divide the data into training and test sets (70% training, 30% test)\n",
    "X_train, X_test, y_train, y_test = train_test_split(X, y, test_size=0.3, shuffle=True)"
   ]
  },
  {
   "cell_type": "code",
   "execution_count": 14,
   "metadata": {},
   "outputs": [],
   "source": [
    "# Functio to rexeive results of a model and plot its evolution for a given parameter\n",
    "def plot_measures(measures):\n",
    "    parameters = measures.iloc[:,0]\n",
    "    accuracy = measures.iloc[:,1]\n",
    "    precision = measures.iloc[:,2]\n",
    "    recall = measures.iloc[:,3]\n",
    "    f1 = measures.iloc[:,4]\n",
    "    spec = measures.iloc[:,5]\n",
    "\n",
    "    sns.lineplot(x=parameters, y=accuracy, label='accuracy')\n",
    "    sns.lineplot(x=parameters, y=precision, label='precision')\n",
    "    sns.lineplot(x=parameters, y=recall, label='recall')\n",
    "    sns.lineplot(x=parameters, y=f1, label='f1')\n",
    "    sns.lineplot(x=parameters, y=spec, label='specificity')"
   ]
  },
  {
   "cell_type": "code",
   "execution_count": 15,
   "metadata": {},
   "outputs": [],
   "source": [
    "# Function to, given the prediction of a model, return its: accuracy, precision, recall, f1 and confusion matrix\n",
    "def get_metrics(y_pred):\n",
    "    acc = round(accuracy_score(y_test, y_pred),3)\n",
    "    prec = round(precision_score(y_test, y_pred),3)\n",
    "    rec = round(recall_score(y_test, y_pred),3)\n",
    "    f1 = round(f1_score(y_test, y_pred),3)\n",
    "    cm = confusion_matrix(y_test, y_pred)\n",
    "    tn, fp, fn, tp = cm.ravel()\n",
    "    spec = round(tn / (tn+fp),3)\n",
    "    return {'accuracy': acc, 'precision': prec, 'recall': rec, 'f1': f1, 'specificity': spec, 'cm': cm}"
   ]
  },
  {
   "cell_type": "code",
   "execution_count": 48,
   "metadata": {},
   "outputs": [],
   "source": [
    "# Dataframe to store the results of the models\n",
    "models = pd.DataFrame(columns=['model', 'accuracy', 'precision', 'recall', 'f1', 'specificity', 'cm'])"
   ]
  },
  {
   "cell_type": "markdown",
   "metadata": {},
   "source": [
    "## Decision Trees"
   ]
  },
  {
   "cell_type": "code",
   "execution_count": 17,
   "metadata": {},
   "outputs": [
    {
     "name": "stdout",
     "output_type": "stream",
     "text": [
      "Fitting model with 1\n",
      "Fitting model with 3\n",
      "Fitting model with 5\n",
      "Fitting model with 7\n",
      "Fitting model with 9\n",
      "Fitting model with 11\n",
      "Fitting model with 13\n",
      "Fitting model with 15\n",
      "Fitting model with 17\n",
      "Fitting model with 19\n",
      "Fitting model with 21\n",
      "Fitting model with 23\n",
      "Fitting model with 25\n",
      "Fitting model with 27\n",
      "Fitting model with 29\n",
      "Fitting model with None\n"
     ]
    },
    {
     "data": {
      "image/png": "[encoded data removed]",
      "text/plain": [
       "<Figure size 640x480 with 1 Axes>"
      ]
     },
     "metadata": {},
     "output_type": "display_data"
    }
   ],
   "source": [
    "dec_tree_measures = pd.DataFrame(columns=['max_depth', 'accuracy', 'precision', 'recall', 'f1', 'specificity', 'cm'])\n",
    "parameters = list(range(1, 30, 2)) + [None]\n",
    "\n",
    "for max_depth in parameters:\n",
    "    print(f'Fitting model with {max_depth}')\n",
    "    model = DecisionTreeClassifier(max_depth=max_depth, random_state=42)\n",
    "    model.fit(X_train, y_train)\n",
    "    y_pred = model.predict(X_test)\n",
    "    measures = get_metrics(y_pred)\n",
    "    new_row = {'max_depth': max_depth, **measures}\n",
    "    dec_tree_measures.loc[len(dec_tree_measures)] = new_row\n",
    "\n",
    "\n",
    "plot_measures(dec_tree_measures)"
   ]
  },
  {
   "cell_type": "code",
   "execution_count": 49,
   "metadata": {},
   "outputs": [
    {
     "data": {
      "text/html": [
       "<div>\n",
       "<style scoped>\n",
       "    .dataframe tbody tr th:only-of-type {\n",
       "        vertical-align: middle;\n",
       "    }\n",
       "\n",
       "    .dataframe tbody tr th {\n",
       "        vertical-align: top;\n",
       "    }\n",
       "\n",
       "    .dataframe thead th {\n",
       "        text-align: right;\n",
       "    }\n",
       "</style>\n",
       "<table border=\"1\" class=\"dataframe\">\n",
       "  <thead>\n",
       "    <tr style=\"text-align: right;\">\n",
       "      <th></th>\n",
       "      <th>model</th>\n",
       "      <th>accuracy</th>\n",
       "      <th>precision</th>\n",
       "      <th>recall</th>\n",
       "      <th>f1</th>\n",
       "      <th>specificity</th>\n",
       "      <th>cm</th>\n",
       "    </tr>\n",
       "  </thead>\n",
       "  <tbody>\n",
       "    <tr>\n",
       "      <th>0</th>\n",
       "      <td>Decision Tree</td>\n",
       "      <td>0.864</td>\n",
       "      <td>0.877</td>\n",
       "      <td>0.847</td>\n",
       "      <td>0.861</td>\n",
       "      <td>0.882</td>\n",
       "      <td>[[17531, 2346], [3016, 16659]]</td>\n",
       "    </tr>\n",
       "  </tbody>\n",
       "</table>\n",
       "</div>"
      ],
      "text/plain": [
       "           model  accuracy  precision  recall     f1  specificity  \\\n",
       "0  Decision Tree     0.864      0.877   0.847  0.861        0.882   \n",
       "\n",
       "                               cm  \n",
       "0  [[17531, 2346], [3016, 16659]]  "
      ]
     },
     "execution_count": 49,
     "metadata": {},
     "output_type": "execute_result"
    }
   ],
   "source": [
    "row = dec_tree_measures[dec_tree_measures['max_depth'] == 15]\n",
    "models.loc[len(models)] = {'model': 'Decision Tree', **row.iloc[0,1:]}\n",
    "models"
   ]
  },
  {
   "cell_type": "code",
   "execution_count": 19,
   "metadata": {},
   "outputs": [
    {
     "data": {
      "text/plain": [
       "<sklearn.metrics._plot.confusion_matrix.ConfusionMatrixDisplay at 0x138858a40>"
      ]
     },
     "execution_count": 19,
     "metadata": {},
     "output_type": "execute_result"
    },
    {
     "data": {
      "image/png": "[encoded data removed]",
      "text/plain": [
       "<Figure size 640x480 with 2 Axes>"
      ]
     },
     "metadata": {},
     "output_type": "display_data"
    }
   ],
   "source": [
    "ConfusionMatrixDisplay(row.iloc[0,6]).plot()"
   ]
  },
  {
   "cell_type": "markdown",
   "metadata": {},
   "source": [
    "## Random Forest"
   ]
  },
  {
   "cell_type": "code",
   "execution_count": 20,
   "metadata": {},
   "outputs": [
    {
     "name": "stdout",
     "output_type": "stream",
     "text": [
      "Fitting model with 10\n",
      "Fitting model with 20\n",
      "Fitting model with 50\n",
      "Fitting model with 75\n",
      "Fitting model with 100\n",
      "Fitting model with 200\n",
      "Fitting model with 500\n"
     ]
    },
    {
     "data": {
      "image/png": "[encoded data removed]",
      "text/plain": [
       "<Figure size 640x480 with 1 Axes>"
      ]
     },
     "metadata": {},
     "output_type": "display_data"
    }
   ],
   "source": [
    "rf_measures = pd.DataFrame(columns=['n_trees', 'accuracy', 'precision', 'recall', 'f1', 'specificity', 'cm'])\n",
    "parameters = [10, 20, 50, 75, 100, 200, 500]\n",
    "\n",
    "for n_trees in parameters:\n",
    "    print(f'Fitting model with {n_trees}')\n",
    "    model = RandomForestClassifier(n_estimators=n_trees, random_state=42)\n",
    "    model.fit(X_train, y_train)\n",
    "    y_pred = model.predict(X_test)\n",
    "    measures = get_metrics(y_pred)\n",
    "    new_row = {'n_trees': n_trees, **measures}\n",
    "    rf_measures.loc[len(rf_measures)] = new_row\n",
    "\n",
    "plot_measures(rf_measures)"
   ]
  },
  {
   "cell_type": "code",
   "execution_count": 50,
   "metadata": {},
   "outputs": [
    {
     "data": {
      "text/html": [
       "<div>\n",
       "<style scoped>\n",
       "    .dataframe tbody tr th:only-of-type {\n",
       "        vertical-align: middle;\n",
       "    }\n",
       "\n",
       "    .dataframe tbody tr th {\n",
       "        vertical-align: top;\n",
       "    }\n",
       "\n",
       "    .dataframe thead th {\n",
       "        text-align: right;\n",
       "    }\n",
       "</style>\n",
       "<table border=\"1\" class=\"dataframe\">\n",
       "  <thead>\n",
       "    <tr style=\"text-align: right;\">\n",
       "      <th></th>\n",
       "      <th>model</th>\n",
       "      <th>accuracy</th>\n",
       "      <th>precision</th>\n",
       "      <th>recall</th>\n",
       "      <th>f1</th>\n",
       "      <th>specificity</th>\n",
       "      <th>cm</th>\n",
       "    </tr>\n",
       "  </thead>\n",
       "  <tbody>\n",
       "    <tr>\n",
       "      <th>0</th>\n",
       "      <td>Decision Tree</td>\n",
       "      <td>0.864</td>\n",
       "      <td>0.877</td>\n",
       "      <td>0.847</td>\n",
       "      <td>0.861</td>\n",
       "      <td>0.882</td>\n",
       "      <td>[[17531, 2346], [3016, 16659]]</td>\n",
       "    </tr>\n",
       "    <tr>\n",
       "      <th>1</th>\n",
       "      <td>Random Forest</td>\n",
       "      <td>0.936</td>\n",
       "      <td>0.928</td>\n",
       "      <td>0.945</td>\n",
       "      <td>0.937</td>\n",
       "      <td>0.927</td>\n",
       "      <td>[[18432, 1445], [1075, 18600]]</td>\n",
       "    </tr>\n",
       "  </tbody>\n",
       "</table>\n",
       "</div>"
      ],
      "text/plain": [
       "           model  accuracy  precision  recall     f1  specificity  \\\n",
       "0  Decision Tree     0.864      0.877   0.847  0.861        0.882   \n",
       "1  Random Forest     0.936      0.928   0.945  0.937        0.927   \n",
       "\n",
       "                               cm  \n",
       "0  [[17531, 2346], [3016, 16659]]  \n",
       "1  [[18432, 1445], [1075, 18600]]  "
      ]
     },
     "execution_count": 50,
     "metadata": {},
     "output_type": "execute_result"
    }
   ],
   "source": [
    "row = rf_measures[rf_measures['n_trees'] == 100]\n",
    "models.loc[len(models)] = {'model': 'Random Forest', **row.iloc[0,1:]}\n",
    "models"
   ]
  },
  {
   "cell_type": "code",
   "execution_count": 22,
   "metadata": {},
   "outputs": [
    {
     "data": {
      "text/plain": [
       "<sklearn.metrics._plot.confusion_matrix.ConfusionMatrixDisplay at 0x13884e570>"
      ]
     },
     "execution_count": 22,
     "metadata": {},
     "output_type": "execute_result"
    },
    {
     "data": {
      "image/png": "[encoded data removed]",
      "text/plain": [
       "<Figure size 640x480 with 2 Axes>"
      ]
     },
     "metadata": {},
     "output_type": "display_data"
    }
   ],
   "source": [
    "ConfusionMatrixDisplay(row.iloc[0,6]).plot()"
   ]
  },
  {
   "cell_type": "markdown",
   "metadata": {},
   "source": [
    "## K Nearest Neighbors"
   ]
  },
  {
   "cell_type": "code",
   "execution_count": 23,
   "metadata": {},
   "outputs": [
    {
     "name": "stdout",
     "output_type": "stream",
     "text": [
      "Fitting model with 3\n",
      "Fitting model with 5\n",
      "Fitting model with 7\n",
      "Fitting model with 9\n",
      "Fitting model with 11\n",
      "Fitting model with 13\n",
      "Fitting model with 15\n",
      "Fitting model with 17\n",
      "Fitting model with 19\n",
      "Fitting model with 21\n",
      "Fitting model with 23\n",
      "Fitting model with 25\n",
      "Fitting model with 27\n",
      "Fitting model with 29\n"
     ]
    },
    {
     "data": {
      "image/png": "[encoded data removed]",
      "text/plain": [
       "<Figure size 640x480 with 1 Axes>"
      ]
     },
     "metadata": {},
     "output_type": "display_data"
    }
   ],
   "source": [
    "knn_measures = pd.DataFrame(columns=['n_neighbors', 'accuracy', 'precision', 'recall', 'f1', 'specificity', 'cm'])\n",
    "parameters = list(range(3, 30, 2))\n",
    "\n",
    "for n_neighbors in parameters:\n",
    "    print(f'Fitting model with {n_neighbors}')\n",
    "    model = KNeighborsClassifier(n_neighbors=n_neighbors)\n",
    "    model.fit(X_train, y_train)\n",
    "    y_pred = model.predict(X_test)\n",
    "    measures = get_metrics(y_pred)\n",
    "    new_row = {'n_neighbors': n_neighbors, **measures}\n",
    "    knn_measures.loc[len(knn_measures)] = new_row\n",
    "\n",
    "plot_measures(knn_measures)"
   ]
  },
  {
   "cell_type": "code",
   "execution_count": 51,
   "metadata": {},
   "outputs": [
    {
     "data": {
      "text/html": [
       "<div>\n",
       "<style scoped>\n",
       "    .dataframe tbody tr th:only-of-type {\n",
       "        vertical-align: middle;\n",
       "    }\n",
       "\n",
       "    .dataframe tbody tr th {\n",
       "        vertical-align: top;\n",
       "    }\n",
       "\n",
       "    .dataframe thead th {\n",
       "        text-align: right;\n",
       "    }\n",
       "</style>\n",
       "<table border=\"1\" class=\"dataframe\">\n",
       "  <thead>\n",
       "    <tr style=\"text-align: right;\">\n",
       "      <th></th>\n",
       "      <th>model</th>\n",
       "      <th>accuracy</th>\n",
       "      <th>precision</th>\n",
       "      <th>recall</th>\n",
       "      <th>f1</th>\n",
       "      <th>specificity</th>\n",
       "      <th>cm</th>\n",
       "    </tr>\n",
       "  </thead>\n",
       "  <tbody>\n",
       "    <tr>\n",
       "      <th>0</th>\n",
       "      <td>Decision Tree</td>\n",
       "      <td>0.864</td>\n",
       "      <td>0.877</td>\n",
       "      <td>0.847</td>\n",
       "      <td>0.861</td>\n",
       "      <td>0.882</td>\n",
       "      <td>[[17531, 2346], [3016, 16659]]</td>\n",
       "    </tr>\n",
       "    <tr>\n",
       "      <th>1</th>\n",
       "      <td>Random Forest</td>\n",
       "      <td>0.936</td>\n",
       "      <td>0.928</td>\n",
       "      <td>0.945</td>\n",
       "      <td>0.937</td>\n",
       "      <td>0.927</td>\n",
       "      <td>[[18432, 1445], [1075, 18600]]</td>\n",
       "    </tr>\n",
       "    <tr>\n",
       "      <th>2</th>\n",
       "      <td>KNN</td>\n",
       "      <td>0.839</td>\n",
       "      <td>0.952</td>\n",
       "      <td>0.711</td>\n",
       "      <td>0.814</td>\n",
       "      <td>0.965</td>\n",
       "      <td>[[19175, 702], [5677, 13998]]</td>\n",
       "    </tr>\n",
       "  </tbody>\n",
       "</table>\n",
       "</div>"
      ],
      "text/plain": [
       "           model  accuracy  precision  recall     f1  specificity  \\\n",
       "0  Decision Tree     0.864      0.877   0.847  0.861        0.882   \n",
       "1  Random Forest     0.936      0.928   0.945  0.937        0.927   \n",
       "2            KNN     0.839      0.952   0.711  0.814        0.965   \n",
       "\n",
       "                               cm  \n",
       "0  [[17531, 2346], [3016, 16659]]  \n",
       "1  [[18432, 1445], [1075, 18600]]  \n",
       "2   [[19175, 702], [5677, 13998]]  "
      ]
     },
     "execution_count": 51,
     "metadata": {},
     "output_type": "execute_result"
    }
   ],
   "source": [
    "row = knn_measures[knn_measures['n_neighbors'] == 5]\n",
    "models.loc[len(models)] = {'model': 'KNN', **row.iloc[0,1:]}\n",
    "models"
   ]
  },
  {
   "cell_type": "code",
   "execution_count": 25,
   "metadata": {},
   "outputs": [
    {
     "data": {
      "text/plain": [
       "<sklearn.metrics._plot.confusion_matrix.ConfusionMatrixDisplay at 0x1388de570>"
      ]
     },
     "execution_count": 25,
     "metadata": {},
     "output_type": "execute_result"
    },
    {
     "data": {
      "image/png": "[encoded data removed]",
      "text/plain": [
       "<Figure size 640x480 with 2 Axes>"
      ]
     },
     "metadata": {},
     "output_type": "display_data"
    }
   ],
   "source": [
    "ConfusionMatrixDisplay(row.iloc[0,6]).plot()"
   ]
  },
  {
   "cell_type": "markdown",
   "metadata": {},
   "source": [
    "## Logistic Regression"
   ]
  },
  {
   "cell_type": "code",
   "execution_count": 60,
   "metadata": {},
   "outputs": [
    {
     "name": "stdout",
     "output_type": "stream",
     "text": [
      "Fitting 5 folds for each of 30 candidates, totalling 150 fits\n",
      "[CV 5/5] END ..C=0.01, max_iter=500, solver=sag;, score=0.712 total time=   1.8s\n",
      "[CV 3/5] END ..C=0.01, max_iter=500, solver=sag;, score=0.702 total time=   1.8s\n",
      "[CV 2/5] END ..C=0.01, max_iter=500, solver=sag;, score=0.708 total time=   1.8s\n",
      "[CV 4/5] END ..C=0.01, max_iter=500, solver=sag;, score=0.704 total time=   1.8s\n",
      "[CV 1/5] END ..C=0.01, max_iter=500, solver=sag;, score=0.704 total time=   1.9s\n",
      "[CV 2/5] END C=0.01, max_iter=500, solver=lbfgs;, score=0.709 total time=   0.4s\n",
      "[CV 1/5] END C=0.01, max_iter=500, solver=lbfgs;, score=0.704 total time=   0.6s\n",
      "[CV 3/5] END C=0.01, max_iter=500, solver=lbfgs;, score=0.702 total time=   0.8s\n",
      "[CV 4/5] END C=0.01, max_iter=500, solver=lbfgs;, score=0.704 total time=   1.0s\n",
      "[CV 5/5] END C=0.01, max_iter=500, solver=lbfgs;, score=0.712 total time=   0.8s\n",
      "[CV 2/5] END .C=0.01, max_iter=500, solver=saga;, score=0.708 total time=   3.7s\n",
      "[CV 1/5] END .C=0.01, max_iter=500, solver=saga;, score=0.704 total time=   3.8s\n",
      "[CV 3/5] END .C=0.01, max_iter=500, solver=saga;, score=0.702 total time=   3.8s\n",
      "[CV 1/5] END .C=0.01, max_iter=1000, solver=sag;, score=0.704 total time=   1.7s\n",
      "[CV 2/5] END .C=0.01, max_iter=1000, solver=sag;, score=0.708 total time=   1.4s\n",
      "[CV 3/5] END .C=0.01, max_iter=1000, solver=sag;, score=0.702 total time=   1.5s\n",
      "[CV 4/5] END .C=0.01, max_iter=1000, solver=sag;, score=0.704 total time=   1.5s\n",
      "[CV 4/5] END .C=0.01, max_iter=500, solver=saga;, score=0.704 total time=   3.5s\n",
      "[CV 5/5] END .C=0.01, max_iter=1000, solver=sag;, score=0.712 total time=   1.6s\n",
      "[CV 5/5] END .C=0.01, max_iter=500, solver=saga;, score=0.712 total time=   3.5s\n",
      "[CV 2/5] END C=0.01, max_iter=1000, solver=lbfgs;, score=0.709 total time=   0.4s\n",
      "[CV 1/5] END C=0.01, max_iter=1000, solver=lbfgs;, score=0.704 total time=   0.6s\n",
      "[CV 3/5] END C=0.01, max_iter=1000, solver=lbfgs;, score=0.702 total time=   0.8s\n",
      "[CV 4/5] END C=0.01, max_iter=1000, solver=lbfgs;, score=0.704 total time=   1.0s\n",
      "[CV 5/5] END C=0.01, max_iter=1000, solver=lbfgs;, score=0.712 total time=   0.9s\n",
      "[CV 1/5] END C=0.01, max_iter=1000, solver=saga;, score=0.704 total time=   3.5s\n",
      "[CV 2/5] END C=0.01, max_iter=1000, solver=saga;, score=0.708 total time=   3.5s\n",
      "[CV 3/5] END C=0.01, max_iter=1000, solver=saga;, score=0.702 total time=   3.4s\n",
      "[CV 4/5] END C=0.01, max_iter=1000, solver=saga;, score=0.704 total time=   3.4s\n",
      "[CV 5/5] END C=0.01, max_iter=1000, solver=saga;, score=0.712 total time=   3.6s\n",
      "[CV 1/5] END ...C=0.1, max_iter=500, solver=sag;, score=0.709 total time=   5.9s\n",
      "[CV 3/5] END ...C=0.1, max_iter=500, solver=sag;, score=0.707 total time=   5.8s\n",
      "[CV 2/5] END ...C=0.1, max_iter=500, solver=sag;, score=0.713 total time=   5.9s\n",
      "[CV 4/5] END ...C=0.1, max_iter=500, solver=sag;, score=0.707 total time=   5.8s\n",
      "[CV 5/5] END ...C=0.1, max_iter=500, solver=sag;, score=0.718 total time=   5.7s\n",
      "[CV 1/5] END .C=0.1, max_iter=500, solver=lbfgs;, score=0.709 total time=   1.2s\n",
      "[CV 2/5] END .C=0.1, max_iter=500, solver=lbfgs;, score=0.713 total time=   1.0s\n",
      "[CV 3/5] END .C=0.1, max_iter=500, solver=lbfgs;, score=0.706 total time=   0.9s\n",
      "[CV 4/5] END .C=0.1, max_iter=500, solver=lbfgs;, score=0.707 total time=   0.9s\n",
      "[CV 5/5] END .C=0.1, max_iter=500, solver=lbfgs;, score=0.718 total time=   1.0s\n",
      "[CV 1/5] END ..C=0.1, max_iter=500, solver=saga;, score=0.709 total time=  10.5s\n",
      "[CV 2/5] END ..C=0.1, max_iter=500, solver=saga;, score=0.713 total time=  10.5s\n",
      "[CV 3/5] END ..C=0.1, max_iter=500, solver=saga;, score=0.707 total time=  10.7s\n",
      "[CV 1/5] END ..C=0.1, max_iter=1000, solver=sag;, score=0.709 total time=   5.6s\n",
      "[CV 2/5] END ..C=0.1, max_iter=1000, solver=sag;, score=0.713 total time=   5.6s\n",
      "[CV 3/5] END ..C=0.1, max_iter=1000, solver=sag;, score=0.707 total time=   5.5s\n",
      "[CV 4/5] END ..C=0.1, max_iter=500, solver=saga;, score=0.707 total time=  10.4s\n",
      "[CV 5/5] END ..C=0.1, max_iter=500, solver=saga;, score=0.718 total time=  10.6s\n",
      "[CV 4/5] END ..C=0.1, max_iter=1000, solver=sag;, score=0.707 total time=   5.7s\n",
      "[CV 5/5] END ..C=0.1, max_iter=1000, solver=sag;, score=0.718 total time=   5.5s\n",
      "[CV 1/5] END C=0.1, max_iter=1000, solver=lbfgs;, score=0.709 total time=   1.1s\n",
      "[CV 3/5] END C=0.1, max_iter=1000, solver=lbfgs;, score=0.706 total time=   1.0s\n",
      "[CV 2/5] END C=0.1, max_iter=1000, solver=lbfgs;, score=0.713 total time=   1.1s\n",
      "[CV 4/5] END C=0.1, max_iter=1000, solver=lbfgs;, score=0.707 total time=   1.0s\n",
      "[CV 5/5] END C=0.1, max_iter=1000, solver=lbfgs;, score=0.718 total time=   0.9s\n",
      "[CV 1/5] END .C=0.1, max_iter=1000, solver=saga;, score=0.709 total time=  10.7s\n",
      "[CV 2/5] END .C=0.1, max_iter=1000, solver=saga;, score=0.713 total time=  10.5s\n",
      "[CV 3/5] END .C=0.1, max_iter=1000, solver=saga;, score=0.707 total time=  10.4s\n",
      "[CV 4/5] END .C=0.1, max_iter=1000, solver=saga;, score=0.707 total time=  10.2s\n",
      "[CV 5/5] END .C=0.1, max_iter=1000, solver=saga;, score=0.718 total time=  10.8s\n"
     ]
    },
    {
     "name": "stderr",
     "output_type": "stream",
     "text": [
      "/Users/fpana/opt/anaconda3/envs/icd/lib/python3.12/site-packages/sklearn/linear_model/_sag.py:349: ConvergenceWarning: The max_iter was reached which means the coef_ did not converge\n",
      "  warnings.warn(\n",
      "/Users/fpana/opt/anaconda3/envs/icd/lib/python3.12/site-packages/sklearn/linear_model/_sag.py:349: ConvergenceWarning: The max_iter was reached which means the coef_ did not converge\n",
      "  warnings.warn(\n"
     ]
    },
    {
     "name": "stdout",
     "output_type": "stream",
     "text": [
      "[CV 1/5] END .....C=1, max_iter=500, solver=sag;, score=0.710 total time=  18.8s\n",
      "[CV 2/5] END .....C=1, max_iter=500, solver=sag;, score=0.715 total time=  18.8s\n"
     ]
    },
    {
     "name": "stderr",
     "output_type": "stream",
     "text": [
      "/Users/fpana/opt/anaconda3/envs/icd/lib/python3.12/site-packages/sklearn/linear_model/_sag.py:349: ConvergenceWarning: The max_iter was reached which means the coef_ did not converge\n",
      "  warnings.warn(\n"
     ]
    },
    {
     "name": "stdout",
     "output_type": "stream",
     "text": [
      "[CV 3/5] END .....C=1, max_iter=500, solver=sag;, score=0.708 total time=  18.7s\n",
      "[CV 1/5] END ...C=1, max_iter=500, solver=lbfgs;, score=0.710 total time=   1.3s\n",
      "[CV 2/5] END ...C=1, max_iter=500, solver=lbfgs;, score=0.715 total time=   1.2s\n",
      "[CV 3/5] END ...C=1, max_iter=500, solver=lbfgs;, score=0.708 total time=   1.6s\n",
      "[CV 4/5] END ...C=1, max_iter=500, solver=lbfgs;, score=0.708 total time=   0.6s\n"
     ]
    },
    {
     "name": "stderr",
     "output_type": "stream",
     "text": [
      "/Users/fpana/opt/anaconda3/envs/icd/lib/python3.12/site-packages/sklearn/linear_model/_sag.py:349: ConvergenceWarning: The max_iter was reached which means the coef_ did not converge\n",
      "  warnings.warn(\n"
     ]
    },
    {
     "name": "stdout",
     "output_type": "stream",
     "text": [
      "[CV 4/5] END .....C=1, max_iter=500, solver=sag;, score=0.709 total time=  19.7s\n"
     ]
    },
    {
     "name": "stderr",
     "output_type": "stream",
     "text": [
      "/Users/fpana/opt/anaconda3/envs/icd/lib/python3.12/site-packages/sklearn/linear_model/_sag.py:349: ConvergenceWarning: The max_iter was reached which means the coef_ did not converge\n",
      "  warnings.warn(\n"
     ]
    },
    {
     "name": "stdout",
     "output_type": "stream",
     "text": [
      "[CV 1/5] END ....C=1, max_iter=500, solver=saga;, score=0.710 total time=  19.6s\n"
     ]
    },
    {
     "name": "stderr",
     "output_type": "stream",
     "text": [
      "/Users/fpana/opt/anaconda3/envs/icd/lib/python3.12/site-packages/sklearn/linear_model/_sag.py:349: ConvergenceWarning: The max_iter was reached which means the coef_ did not converge\n",
      "  warnings.warn(\n"
     ]
    },
    {
     "name": "stdout",
     "output_type": "stream",
     "text": [
      "[CV 5/5] END .....C=1, max_iter=500, solver=sag;, score=0.719 total time=  19.8s\n"
     ]
    },
    {
     "name": "stderr",
     "output_type": "stream",
     "text": [
      "/Users/fpana/opt/anaconda3/envs/icd/lib/python3.12/site-packages/sklearn/linear_model/_sag.py:349: ConvergenceWarning: The max_iter was reached which means the coef_ did not converge\n",
      "  warnings.warn(\n"
     ]
    },
    {
     "name": "stdout",
     "output_type": "stream",
     "text": [
      "[CV 2/5] END ....C=1, max_iter=500, solver=saga;, score=0.714 total time=  20.1s\n",
      "[CV 5/5] END ...C=1, max_iter=500, solver=lbfgs;, score=0.719 total time=   1.8s\n"
     ]
    },
    {
     "name": "stderr",
     "output_type": "stream",
     "text": [
      "/Users/fpana/opt/anaconda3/envs/icd/lib/python3.12/site-packages/sklearn/linear_model/_sag.py:349: ConvergenceWarning: The max_iter was reached which means the coef_ did not converge\n",
      "  warnings.warn(\n"
     ]
    },
    {
     "name": "stdout",
     "output_type": "stream",
     "text": [
      "[CV 3/5] END ....C=1, max_iter=500, solver=saga;, score=0.708 total time=  19.5s\n"
     ]
    },
    {
     "name": "stderr",
     "output_type": "stream",
     "text": [
      "/Users/fpana/opt/anaconda3/envs/icd/lib/python3.12/site-packages/sklearn/linear_model/_sag.py:349: ConvergenceWarning: The max_iter was reached which means the coef_ did not converge\n",
      "  warnings.warn(\n",
      "/Users/fpana/opt/anaconda3/envs/icd/lib/python3.12/site-packages/sklearn/linear_model/_sag.py:349: ConvergenceWarning: The max_iter was reached which means the coef_ did not converge\n",
      "  warnings.warn(\n"
     ]
    },
    {
     "name": "stdout",
     "output_type": "stream",
     "text": [
      "[CV 4/5] END ....C=1, max_iter=500, solver=saga;, score=0.708 total time=  19.0s\n",
      "[CV 5/5] END ....C=1, max_iter=500, solver=saga;, score=0.719 total time=  19.1s\n",
      "[CV 1/5] END ....C=1, max_iter=1000, solver=sag;, score=0.710 total time=  21.2s\n",
      "[CV 2/5] END ....C=1, max_iter=1000, solver=sag;, score=0.715 total time=  20.9s\n",
      "[CV 4/5] END ....C=1, max_iter=1000, solver=sag;, score=0.709 total time=  20.9s\n",
      "[CV 5/5] END ....C=1, max_iter=1000, solver=sag;, score=0.719 total time=  20.7s\n",
      "[CV 3/5] END ....C=1, max_iter=1000, solver=sag;, score=0.708 total time=  21.8s\n",
      "[CV 1/5] END ..C=1, max_iter=1000, solver=lbfgs;, score=0.710 total time=   1.2s\n",
      "[CV 2/5] END ..C=1, max_iter=1000, solver=lbfgs;, score=0.715 total time=   1.2s\n",
      "[CV 4/5] END ..C=1, max_iter=1000, solver=lbfgs;, score=0.708 total time=   0.5s\n",
      "[CV 3/5] END ..C=1, max_iter=1000, solver=lbfgs;, score=0.708 total time=   1.4s\n",
      "[CV 5/5] END ..C=1, max_iter=1000, solver=lbfgs;, score=0.719 total time=   1.8s\n",
      "[CV 1/5] END ...C=1, max_iter=1000, solver=saga;, score=0.710 total time=  31.8s\n"
     ]
    },
    {
     "name": "stderr",
     "output_type": "stream",
     "text": [
      "/Users/fpana/opt/anaconda3/envs/icd/lib/python3.12/site-packages/sklearn/linear_model/_sag.py:349: ConvergenceWarning: The max_iter was reached which means the coef_ did not converge\n",
      "  warnings.warn(\n",
      "/Users/fpana/opt/anaconda3/envs/icd/lib/python3.12/site-packages/sklearn/linear_model/_sag.py:349: ConvergenceWarning: The max_iter was reached which means the coef_ did not converge\n",
      "  warnings.warn(\n"
     ]
    },
    {
     "name": "stdout",
     "output_type": "stream",
     "text": [
      "[CV 2/5] END ....C=10, max_iter=500, solver=sag;, score=0.715 total time=  18.0s\n",
      "[CV 1/5] END ....C=10, max_iter=500, solver=sag;, score=0.711 total time=  18.3s\n"
     ]
    },
    {
     "name": "stderr",
     "output_type": "stream",
     "text": [
      "/Users/fpana/opt/anaconda3/envs/icd/lib/python3.12/site-packages/sklearn/linear_model/_sag.py:349: ConvergenceWarning: The max_iter was reached which means the coef_ did not converge\n",
      "  warnings.warn(\n"
     ]
    },
    {
     "name": "stdout",
     "output_type": "stream",
     "text": [
      "[CV 3/5] END ....C=10, max_iter=500, solver=sag;, score=0.708 total time=  18.5s\n",
      "[CV 2/5] END ...C=1, max_iter=1000, solver=saga;, score=0.715 total time=  32.7s\n",
      "[CV 3/5] END ...C=1, max_iter=1000, solver=saga;, score=0.708 total time=  33.0s\n"
     ]
    },
    {
     "name": "stderr",
     "output_type": "stream",
     "text": [
      "/Users/fpana/opt/anaconda3/envs/icd/lib/python3.12/site-packages/sklearn/linear_model/_sag.py:349: ConvergenceWarning: The max_iter was reached which means the coef_ did not converge\n",
      "  warnings.warn(\n"
     ]
    },
    {
     "name": "stdout",
     "output_type": "stream",
     "text": [
      "[CV 4/5] END ....C=10, max_iter=500, solver=sag;, score=0.709 total time=  18.8s\n",
      "[CV 5/5] END ...C=1, max_iter=1000, solver=saga;, score=0.719 total time=  33.0s\n",
      "[CV 4/5] END ...C=1, max_iter=1000, solver=saga;, score=0.709 total time=  34.1s\n",
      "[CV 1/5] END ..C=10, max_iter=500, solver=lbfgs;, score=0.711 total time=   1.4s\n",
      "[CV 3/5] END ..C=10, max_iter=500, solver=lbfgs;, score=0.709 total time=   1.0s\n",
      "[CV 2/5] END ..C=10, max_iter=500, solver=lbfgs;, score=0.715 total time=   1.8s\n",
      "[CV 4/5] END ..C=10, max_iter=500, solver=lbfgs;, score=0.710 total time=   1.1s\n",
      "[CV 5/5] END ..C=10, max_iter=500, solver=lbfgs;, score=0.720 total time=   1.6s\n"
     ]
    },
    {
     "name": "stderr",
     "output_type": "stream",
     "text": [
      "/Users/fpana/opt/anaconda3/envs/icd/lib/python3.12/site-packages/sklearn/linear_model/_sag.py:349: ConvergenceWarning: The max_iter was reached which means the coef_ did not converge\n",
      "  warnings.warn(\n"
     ]
    },
    {
     "name": "stdout",
     "output_type": "stream",
     "text": [
      "[CV 1/5] END ...C=10, max_iter=500, solver=saga;, score=0.711 total time=  18.3s\n"
     ]
    },
    {
     "name": "stderr",
     "output_type": "stream",
     "text": [
      "/Users/fpana/opt/anaconda3/envs/icd/lib/python3.12/site-packages/sklearn/linear_model/_sag.py:349: ConvergenceWarning: The max_iter was reached which means the coef_ did not converge\n",
      "  warnings.warn(\n"
     ]
    },
    {
     "name": "stdout",
     "output_type": "stream",
     "text": [
      "[CV 5/5] END ....C=10, max_iter=500, solver=sag;, score=0.719 total time=  19.0s\n"
     ]
    },
    {
     "name": "stderr",
     "output_type": "stream",
     "text": [
      "/Users/fpana/opt/anaconda3/envs/icd/lib/python3.12/site-packages/sklearn/linear_model/_sag.py:349: ConvergenceWarning: The max_iter was reached which means the coef_ did not converge\n",
      "  warnings.warn(\n"
     ]
    },
    {
     "name": "stdout",
     "output_type": "stream",
     "text": [
      "[CV 2/5] END ...C=10, max_iter=500, solver=saga;, score=0.715 total time=  18.4s\n"
     ]
    },
    {
     "name": "stderr",
     "output_type": "stream",
     "text": [
      "/Users/fpana/opt/anaconda3/envs/icd/lib/python3.12/site-packages/sklearn/linear_model/_sag.py:349: ConvergenceWarning: The max_iter was reached which means the coef_ did not converge\n",
      "  warnings.warn(\n"
     ]
    },
    {
     "name": "stdout",
     "output_type": "stream",
     "text": [
      "[CV 3/5] END ...C=10, max_iter=500, solver=saga;, score=0.708 total time=  18.3s\n"
     ]
    },
    {
     "name": "stderr",
     "output_type": "stream",
     "text": [
      "/Users/fpana/opt/anaconda3/envs/icd/lib/python3.12/site-packages/sklearn/linear_model/_sag.py:349: ConvergenceWarning: The max_iter was reached which means the coef_ did not converge\n",
      "  warnings.warn(\n"
     ]
    },
    {
     "name": "stdout",
     "output_type": "stream",
     "text": [
      "[CV 4/5] END ...C=10, max_iter=500, solver=saga;, score=0.709 total time=  18.4s\n"
     ]
    },
    {
     "name": "stderr",
     "output_type": "stream",
     "text": [
      "/Users/fpana/opt/anaconda3/envs/icd/lib/python3.12/site-packages/sklearn/linear_model/_sag.py:349: ConvergenceWarning: The max_iter was reached which means the coef_ did not converge\n",
      "  warnings.warn(\n"
     ]
    },
    {
     "name": "stdout",
     "output_type": "stream",
     "text": [
      "[CV 5/5] END ...C=10, max_iter=500, solver=saga;, score=0.719 total time=  18.2s\n"
     ]
    },
    {
     "name": "stderr",
     "output_type": "stream",
     "text": [
      "/Users/fpana/opt/anaconda3/envs/icd/lib/python3.12/site-packages/sklearn/linear_model/_sag.py:349: ConvergenceWarning: The max_iter was reached which means the coef_ did not converge\n",
      "  warnings.warn(\n"
     ]
    },
    {
     "name": "stdout",
     "output_type": "stream",
     "text": [
      "[CV 1/5] END ...C=10, max_iter=1000, solver=sag;, score=0.711 total time=  36.3s\n"
     ]
    },
    {
     "name": "stderr",
     "output_type": "stream",
     "text": [
      "/Users/fpana/opt/anaconda3/envs/icd/lib/python3.12/site-packages/sklearn/linear_model/_sag.py:349: ConvergenceWarning: The max_iter was reached which means the coef_ did not converge\n",
      "  warnings.warn(\n"
     ]
    },
    {
     "name": "stdout",
     "output_type": "stream",
     "text": [
      "[CV 2/5] END ...C=10, max_iter=1000, solver=sag;, score=0.715 total time=  36.1s\n"
     ]
    },
    {
     "name": "stderr",
     "output_type": "stream",
     "text": [
      "/Users/fpana/opt/anaconda3/envs/icd/lib/python3.12/site-packages/sklearn/linear_model/_sag.py:349: ConvergenceWarning: The max_iter was reached which means the coef_ did not converge\n",
      "  warnings.warn(\n"
     ]
    },
    {
     "name": "stdout",
     "output_type": "stream",
     "text": [
      "[CV 3/5] END ...C=10, max_iter=1000, solver=sag;, score=0.709 total time=  35.7s\n"
     ]
    },
    {
     "name": "stderr",
     "output_type": "stream",
     "text": [
      "/Users/fpana/opt/anaconda3/envs/icd/lib/python3.12/site-packages/sklearn/linear_model/_sag.py:349: ConvergenceWarning: The max_iter was reached which means the coef_ did not converge\n",
      "  warnings.warn(\n"
     ]
    },
    {
     "name": "stdout",
     "output_type": "stream",
     "text": [
      "[CV 4/5] END ...C=10, max_iter=1000, solver=sag;, score=0.709 total time=  35.6s\n",
      "[CV 1/5] END .C=10, max_iter=1000, solver=lbfgs;, score=0.711 total time=   1.5s\n",
      "[CV 2/5] END .C=10, max_iter=1000, solver=lbfgs;, score=0.715 total time=   1.8s\n",
      "[CV 3/5] END .C=10, max_iter=1000, solver=lbfgs;, score=0.709 total time=   0.9s\n",
      "[CV 5/5] END ...C=10, max_iter=1000, solver=sag;, score=0.720 total time=  36.4s\n"
     ]
    },
    {
     "name": "stderr",
     "output_type": "stream",
     "text": [
      "/Users/fpana/opt/anaconda3/envs/icd/lib/python3.12/site-packages/sklearn/linear_model/_sag.py:349: ConvergenceWarning: The max_iter was reached which means the coef_ did not converge\n",
      "  warnings.warn(\n"
     ]
    },
    {
     "name": "stdout",
     "output_type": "stream",
     "text": [
      "[CV 4/5] END .C=10, max_iter=1000, solver=lbfgs;, score=0.710 total time=   1.2s\n",
      "[CV 5/5] END .C=10, max_iter=1000, solver=lbfgs;, score=0.720 total time=   1.8s\n"
     ]
    },
    {
     "name": "stderr",
     "output_type": "stream",
     "text": [
      "/Users/fpana/opt/anaconda3/envs/icd/lib/python3.12/site-packages/sklearn/linear_model/_sag.py:349: ConvergenceWarning: The max_iter was reached which means the coef_ did not converge\n",
      "  warnings.warn(\n"
     ]
    },
    {
     "name": "stdout",
     "output_type": "stream",
     "text": [
      "[CV 2/5] END ..C=10, max_iter=1000, solver=saga;, score=0.715 total time=  36.7s\n"
     ]
    },
    {
     "name": "stderr",
     "output_type": "stream",
     "text": [
      "/Users/fpana/opt/anaconda3/envs/icd/lib/python3.12/site-packages/sklearn/linear_model/_sag.py:349: ConvergenceWarning: The max_iter was reached which means the coef_ did not converge\n",
      "  warnings.warn(\n"
     ]
    },
    {
     "name": "stdout",
     "output_type": "stream",
     "text": [
      "[CV 1/5] END ..C=10, max_iter=1000, solver=saga;, score=0.711 total time=  37.7s\n"
     ]
    },
    {
     "name": "stderr",
     "output_type": "stream",
     "text": [
      "/Users/fpana/opt/anaconda3/envs/icd/lib/python3.12/site-packages/sklearn/linear_model/_sag.py:349: ConvergenceWarning: The max_iter was reached which means the coef_ did not converge\n",
      "  warnings.warn(\n"
     ]
    },
    {
     "name": "stdout",
     "output_type": "stream",
     "text": [
      "[CV 3/5] END ..C=10, max_iter=1000, solver=saga;, score=0.708 total time=  37.2s\n"
     ]
    },
    {
     "name": "stderr",
     "output_type": "stream",
     "text": [
      "/Users/fpana/opt/anaconda3/envs/icd/lib/python3.12/site-packages/sklearn/linear_model/_sag.py:349: ConvergenceWarning: The max_iter was reached which means the coef_ did not converge\n",
      "  warnings.warn(\n"
     ]
    },
    {
     "name": "stdout",
     "output_type": "stream",
     "text": [
      "[CV 1/5] END ....C=50, max_iter=500, solver=sag;, score=0.710 total time=  18.8s\n"
     ]
    },
    {
     "name": "stderr",
     "output_type": "stream",
     "text": [
      "/Users/fpana/opt/anaconda3/envs/icd/lib/python3.12/site-packages/sklearn/linear_model/_sag.py:349: ConvergenceWarning: The max_iter was reached which means the coef_ did not converge\n",
      "  warnings.warn(\n"
     ]
    },
    {
     "name": "stdout",
     "output_type": "stream",
     "text": [
      "[CV 2/5] END ....C=50, max_iter=500, solver=sag;, score=0.715 total time=  18.5s\n"
     ]
    },
    {
     "name": "stderr",
     "output_type": "stream",
     "text": [
      "/Users/fpana/opt/anaconda3/envs/icd/lib/python3.12/site-packages/sklearn/linear_model/_sag.py:349: ConvergenceWarning: The max_iter was reached which means the coef_ did not converge\n",
      "  warnings.warn(\n"
     ]
    },
    {
     "name": "stdout",
     "output_type": "stream",
     "text": [
      "[CV 3/5] END ....C=50, max_iter=500, solver=sag;, score=0.708 total time=  18.0s\n"
     ]
    },
    {
     "name": "stderr",
     "output_type": "stream",
     "text": [
      "/Users/fpana/opt/anaconda3/envs/icd/lib/python3.12/site-packages/sklearn/linear_model/_sag.py:349: ConvergenceWarning: The max_iter was reached which means the coef_ did not converge\n",
      "  warnings.warn(\n"
     ]
    },
    {
     "name": "stdout",
     "output_type": "stream",
     "text": [
      "[CV 4/5] END ....C=50, max_iter=500, solver=sag;, score=0.709 total time=  18.3s\n"
     ]
    },
    {
     "name": "stderr",
     "output_type": "stream",
     "text": [
      "/Users/fpana/opt/anaconda3/envs/icd/lib/python3.12/site-packages/sklearn/linear_model/_sag.py:349: ConvergenceWarning: The max_iter was reached which means the coef_ did not converge\n",
      "  warnings.warn(\n"
     ]
    },
    {
     "name": "stdout",
     "output_type": "stream",
     "text": [
      "[CV 5/5] END ....C=50, max_iter=500, solver=sag;, score=0.719 total time=  18.3s\n",
      "[CV 1/5] END ..C=50, max_iter=500, solver=lbfgs;, score=0.711 total time=   1.5s\n",
      "[CV 2/5] END ..C=50, max_iter=500, solver=lbfgs;, score=0.715 total time=   2.3s\n",
      "[CV 3/5] END ..C=50, max_iter=500, solver=lbfgs;, score=0.709 total time=   1.8s\n",
      "[CV 4/5] END ..C=50, max_iter=500, solver=lbfgs;, score=0.710 total time=   0.6s\n"
     ]
    },
    {
     "name": "stderr",
     "output_type": "stream",
     "text": [
      "/Users/fpana/opt/anaconda3/envs/icd/lib/python3.12/site-packages/sklearn/linear_model/_sag.py:349: ConvergenceWarning: The max_iter was reached which means the coef_ did not converge\n",
      "  warnings.warn(\n"
     ]
    },
    {
     "name": "stdout",
     "output_type": "stream",
     "text": [
      "[CV 1/5] END ...C=50, max_iter=500, solver=saga;, score=0.711 total time=  18.7s\n",
      "[CV 5/5] END ..C=50, max_iter=500, solver=lbfgs;, score=0.720 total time=   1.5s\n"
     ]
    },
    {
     "name": "stderr",
     "output_type": "stream",
     "text": [
      "/Users/fpana/opt/anaconda3/envs/icd/lib/python3.12/site-packages/sklearn/linear_model/_sag.py:349: ConvergenceWarning: The max_iter was reached which means the coef_ did not converge\n",
      "  warnings.warn(\n"
     ]
    },
    {
     "name": "stdout",
     "output_type": "stream",
     "text": [
      "[CV 4/5] END ..C=10, max_iter=1000, solver=saga;, score=0.709 total time=  38.0s\n"
     ]
    },
    {
     "name": "stderr",
     "output_type": "stream",
     "text": [
      "/Users/fpana/opt/anaconda3/envs/icd/lib/python3.12/site-packages/sklearn/linear_model/_sag.py:349: ConvergenceWarning: The max_iter was reached which means the coef_ did not converge\n",
      "  warnings.warn(\n"
     ]
    },
    {
     "name": "stdout",
     "output_type": "stream",
     "text": [
      "[CV 5/5] END ..C=10, max_iter=1000, solver=saga;, score=0.719 total time=  38.7s\n"
     ]
    },
    {
     "name": "stderr",
     "output_type": "stream",
     "text": [
      "/Users/fpana/opt/anaconda3/envs/icd/lib/python3.12/site-packages/sklearn/linear_model/_sag.py:349: ConvergenceWarning: The max_iter was reached which means the coef_ did not converge\n",
      "  warnings.warn(\n"
     ]
    },
    {
     "name": "stdout",
     "output_type": "stream",
     "text": [
      "[CV 2/5] END ...C=50, max_iter=500, solver=saga;, score=0.715 total time=  19.4s\n"
     ]
    },
    {
     "name": "stderr",
     "output_type": "stream",
     "text": [
      "/Users/fpana/opt/anaconda3/envs/icd/lib/python3.12/site-packages/sklearn/linear_model/_sag.py:349: ConvergenceWarning: The max_iter was reached which means the coef_ did not converge\n",
      "  warnings.warn(\n"
     ]
    },
    {
     "name": "stdout",
     "output_type": "stream",
     "text": [
      "[CV 3/5] END ...C=50, max_iter=500, solver=saga;, score=0.708 total time=  19.2s\n"
     ]
    },
    {
     "name": "stderr",
     "output_type": "stream",
     "text": [
      "/Users/fpana/opt/anaconda3/envs/icd/lib/python3.12/site-packages/sklearn/linear_model/_sag.py:349: ConvergenceWarning: The max_iter was reached which means the coef_ did not converge\n",
      "  warnings.warn(\n"
     ]
    },
    {
     "name": "stdout",
     "output_type": "stream",
     "text": [
      "[CV 4/5] END ...C=50, max_iter=500, solver=saga;, score=0.708 total time=  19.3s\n"
     ]
    },
    {
     "name": "stderr",
     "output_type": "stream",
     "text": [
      "/Users/fpana/opt/anaconda3/envs/icd/lib/python3.12/site-packages/sklearn/linear_model/_sag.py:349: ConvergenceWarning: The max_iter was reached which means the coef_ did not converge\n",
      "  warnings.warn(\n"
     ]
    },
    {
     "name": "stdout",
     "output_type": "stream",
     "text": [
      "[CV 5/5] END ...C=50, max_iter=500, solver=saga;, score=0.719 total time=  19.1s\n"
     ]
    },
    {
     "name": "stderr",
     "output_type": "stream",
     "text": [
      "/Users/fpana/opt/anaconda3/envs/icd/lib/python3.12/site-packages/sklearn/linear_model/_sag.py:349: ConvergenceWarning: The max_iter was reached which means the coef_ did not converge\n",
      "  warnings.warn(\n"
     ]
    },
    {
     "name": "stdout",
     "output_type": "stream",
     "text": [
      "[CV 1/5] END ...C=50, max_iter=1000, solver=sag;, score=0.711 total time=  33.8s\n"
     ]
    },
    {
     "name": "stderr",
     "output_type": "stream",
     "text": [
      "/Users/fpana/opt/anaconda3/envs/icd/lib/python3.12/site-packages/sklearn/linear_model/_sag.py:349: ConvergenceWarning: The max_iter was reached which means the coef_ did not converge\n",
      "  warnings.warn(\n"
     ]
    },
    {
     "name": "stdout",
     "output_type": "stream",
     "text": [
      "[CV 2/5] END ...C=50, max_iter=1000, solver=sag;, score=0.715 total time=  33.6s\n"
     ]
    },
    {
     "name": "stderr",
     "output_type": "stream",
     "text": [
      "/Users/fpana/opt/anaconda3/envs/icd/lib/python3.12/site-packages/sklearn/linear_model/_sag.py:349: ConvergenceWarning: The max_iter was reached which means the coef_ did not converge\n",
      "  warnings.warn(\n"
     ]
    },
    {
     "name": "stdout",
     "output_type": "stream",
     "text": [
      "[CV 3/5] END ...C=50, max_iter=1000, solver=sag;, score=0.709 total time=  33.4s\n",
      "[CV 1/5] END .C=50, max_iter=1000, solver=lbfgs;, score=0.711 total time=   1.4s\n",
      "[CV 4/5] END ...C=50, max_iter=1000, solver=sag;, score=0.709 total time=  33.6s\n"
     ]
    },
    {
     "name": "stderr",
     "output_type": "stream",
     "text": [
      "/Users/fpana/opt/anaconda3/envs/icd/lib/python3.12/site-packages/sklearn/linear_model/_sag.py:349: ConvergenceWarning: The max_iter was reached which means the coef_ did not converge\n",
      "  warnings.warn(\n"
     ]
    },
    {
     "name": "stdout",
     "output_type": "stream",
     "text": [
      "[CV 3/5] END .C=50, max_iter=1000, solver=lbfgs;, score=0.709 total time=   2.4s\n",
      "[CV 2/5] END .C=50, max_iter=1000, solver=lbfgs;, score=0.715 total time=   2.6s\n",
      "[CV 4/5] END .C=50, max_iter=1000, solver=lbfgs;, score=0.710 total time=   0.7s\n"
     ]
    },
    {
     "name": "stderr",
     "output_type": "stream",
     "text": [
      "/Users/fpana/opt/anaconda3/envs/icd/lib/python3.12/site-packages/sklearn/linear_model/_sag.py:349: ConvergenceWarning: The max_iter was reached which means the coef_ did not converge\n",
      "  warnings.warn(\n"
     ]
    },
    {
     "name": "stdout",
     "output_type": "stream",
     "text": [
      "[CV 5/5] END ...C=50, max_iter=1000, solver=sag;, score=0.720 total time=  34.1s\n",
      "[CV 5/5] END .C=50, max_iter=1000, solver=lbfgs;, score=0.720 total time=   1.5s\n"
     ]
    },
    {
     "name": "stderr",
     "output_type": "stream",
     "text": [
      "/Users/fpana/opt/anaconda3/envs/icd/lib/python3.12/site-packages/sklearn/linear_model/_sag.py:349: ConvergenceWarning: The max_iter was reached which means the coef_ did not converge\n",
      "  warnings.warn(\n"
     ]
    },
    {
     "name": "stdout",
     "output_type": "stream",
     "text": [
      "[CV 1/5] END ..C=50, max_iter=1000, solver=saga;, score=0.710 total time=  34.2s\n"
     ]
    },
    {
     "name": "stderr",
     "output_type": "stream",
     "text": [
      "/Users/fpana/opt/anaconda3/envs/icd/lib/python3.12/site-packages/sklearn/linear_model/_sag.py:349: ConvergenceWarning: The max_iter was reached which means the coef_ did not converge\n",
      "  warnings.warn(\n"
     ]
    },
    {
     "name": "stdout",
     "output_type": "stream",
     "text": [
      "[CV 2/5] END ..C=50, max_iter=1000, solver=saga;, score=0.715 total time=  34.2s\n"
     ]
    },
    {
     "name": "stderr",
     "output_type": "stream",
     "text": [
      "/Users/fpana/opt/anaconda3/envs/icd/lib/python3.12/site-packages/sklearn/linear_model/_sag.py:349: ConvergenceWarning: The max_iter was reached which means the coef_ did not converge\n",
      "  warnings.warn(\n"
     ]
    },
    {
     "name": "stdout",
     "output_type": "stream",
     "text": [
      "[CV 3/5] END ..C=50, max_iter=1000, solver=saga;, score=0.708 total time=  33.8s\n"
     ]
    },
    {
     "name": "stderr",
     "output_type": "stream",
     "text": [
      "/Users/fpana/opt/anaconda3/envs/icd/lib/python3.12/site-packages/sklearn/linear_model/_sag.py:349: ConvergenceWarning: The max_iter was reached which means the coef_ did not converge\n",
      "  warnings.warn(\n",
      "/Users/fpana/opt/anaconda3/envs/icd/lib/python3.12/site-packages/sklearn/linear_model/_sag.py:349: ConvergenceWarning: The max_iter was reached which means the coef_ did not converge\n",
      "  warnings.warn(\n"
     ]
    },
    {
     "name": "stdout",
     "output_type": "stream",
     "text": [
      "[CV 5/5] END ..C=50, max_iter=1000, solver=saga;, score=0.719 total time=  22.4s\n",
      "[CV 4/5] END ..C=50, max_iter=1000, solver=saga;, score=0.709 total time=  22.7s\n"
     ]
    },
    {
     "data": {
      "text/plain": [
       "{'C': 50, 'max_iter': 500, 'solver': 'lbfgs'}"
      ]
     },
     "execution_count": 60,
     "metadata": {},
     "output_type": "execute_result"
    }
   ],
   "source": [
    "parameters = {\n",
    "    'C': [0.01, 0.1, 1, 10, 50],\n",
    "    'solver': ['sag', 'saga', 'lbfgs'],\n",
    "    'max_iter': [500, 1000]\n",
    "}\n",
    "\n",
    "grid_search = GridSearchCV(LogisticRegression(), parameters, cv=5, scoring='f1', verbose=3, n_jobs=-1)\n",
    "grid_search.fit(X_train, y_train)\n",
    "best_params = grid_search.best_params_\n",
    "best_params"
   ]
  },
  {
   "cell_type": "code",
   "execution_count": 26,
   "metadata": {},
   "outputs": [],
   "source": [
    "best_params = {'C': 50, 'max_iter': 500, 'solver': 'lbfgs'}"
   ]
  },
  {
   "cell_type": "code",
   "execution_count": 27,
   "metadata": {},
   "outputs": [
    {
     "data": {
      "text/plain": [
       "{'accuracy': 0.727,\n",
       " 'precision': np.float64(0.749),\n",
       " 'recall': np.float64(0.678),\n",
       " 'f1': np.float64(0.712),\n",
       " 'specificity': np.float64(0.775),\n",
       " 'cm': array([[15398,  4479],\n",
       "        [ 6326, 13349]])}"
      ]
     },
     "execution_count": 27,
     "metadata": {},
     "output_type": "execute_result"
    }
   ],
   "source": [
    "lr = LogisticRegression(**best_params)\n",
    "lr.fit(X_train, y_train)\n",
    "y_pred = lr.predict(X_test)\n",
    "measures = get_metrics(y_pred)\n",
    "measures"
   ]
  },
  {
   "cell_type": "code",
   "execution_count": 52,
   "metadata": {},
   "outputs": [
    {
     "data": {
      "text/html": [
       "<div>\n",
       "<style scoped>\n",
       "    .dataframe tbody tr th:only-of-type {\n",
       "        vertical-align: middle;\n",
       "    }\n",
       "\n",
       "    .dataframe tbody tr th {\n",
       "        vertical-align: top;\n",
       "    }\n",
       "\n",
       "    .dataframe thead th {\n",
       "        text-align: right;\n",
       "    }\n",
       "</style>\n",
       "<table border=\"1\" class=\"dataframe\">\n",
       "  <thead>\n",
       "    <tr style=\"text-align: right;\">\n",
       "      <th></th>\n",
       "      <th>model</th>\n",
       "      <th>accuracy</th>\n",
       "      <th>precision</th>\n",
       "      <th>recall</th>\n",
       "      <th>f1</th>\n",
       "      <th>specificity</th>\n",
       "      <th>cm</th>\n",
       "    </tr>\n",
       "  </thead>\n",
       "  <tbody>\n",
       "    <tr>\n",
       "      <th>0</th>\n",
       "      <td>Decision Tree</td>\n",
       "      <td>0.864</td>\n",
       "      <td>0.877</td>\n",
       "      <td>0.847</td>\n",
       "      <td>0.861</td>\n",
       "      <td>0.882</td>\n",
       "      <td>[[17531, 2346], [3016, 16659]]</td>\n",
       "    </tr>\n",
       "    <tr>\n",
       "      <th>1</th>\n",
       "      <td>Random Forest</td>\n",
       "      <td>0.936</td>\n",
       "      <td>0.928</td>\n",
       "      <td>0.945</td>\n",
       "      <td>0.937</td>\n",
       "      <td>0.927</td>\n",
       "      <td>[[18432, 1445], [1075, 18600]]</td>\n",
       "    </tr>\n",
       "    <tr>\n",
       "      <th>2</th>\n",
       "      <td>KNN</td>\n",
       "      <td>0.839</td>\n",
       "      <td>0.952</td>\n",
       "      <td>0.711</td>\n",
       "      <td>0.814</td>\n",
       "      <td>0.965</td>\n",
       "      <td>[[19175, 702], [5677, 13998]]</td>\n",
       "    </tr>\n",
       "    <tr>\n",
       "      <th>3</th>\n",
       "      <td>Logistic Regression</td>\n",
       "      <td>0.697</td>\n",
       "      <td>0.808</td>\n",
       "      <td>0.512</td>\n",
       "      <td>0.627</td>\n",
       "      <td>0.880</td>\n",
       "      <td>[[17492, 2385], [9608, 10067]]</td>\n",
       "    </tr>\n",
       "  </tbody>\n",
       "</table>\n",
       "</div>"
      ],
      "text/plain": [
       "                 model  accuracy  precision  recall     f1  specificity  \\\n",
       "0        Decision Tree     0.864      0.877   0.847  0.861        0.882   \n",
       "1        Random Forest     0.936      0.928   0.945  0.937        0.927   \n",
       "2                  KNN     0.839      0.952   0.711  0.814        0.965   \n",
       "3  Logistic Regression     0.697      0.808   0.512  0.627        0.880   \n",
       "\n",
       "                               cm  \n",
       "0  [[17531, 2346], [3016, 16659]]  \n",
       "1  [[18432, 1445], [1075, 18600]]  \n",
       "2   [[19175, 702], [5677, 13998]]  \n",
       "3  [[17492, 2385], [9608, 10067]]  "
      ]
     },
     "execution_count": 52,
     "metadata": {},
     "output_type": "execute_result"
    }
   ],
   "source": [
    "models.loc[len(models)] = {'model': 'Logistic Regression', **measures}\n",
    "models"
   ]
  },
  {
   "cell_type": "code",
   "execution_count": 29,
   "metadata": {},
   "outputs": [
    {
     "data": {
      "text/plain": [
       "<sklearn.metrics._plot.confusion_matrix.ConfusionMatrixDisplay at 0x1490d7e60>"
      ]
     },
     "execution_count": 29,
     "metadata": {},
     "output_type": "execute_result"
    },
    {
     "data": {
      "image/png": "[encoded data removed]",
      "text/plain": [
       "<Figure size 640x480 with 2 Axes>"
      ]
     },
     "metadata": {},
     "output_type": "display_data"
    }
   ],
   "source": [
    "ConfusionMatrixDisplay(measures['cm']).plot()"
   ]
  },
  {
   "cell_type": "markdown",
   "metadata": {},
   "source": [
    "## Support Vector Machine"
   ]
  },
  {
   "cell_type": "code",
   "execution_count": 71,
   "metadata": {},
   "outputs": [],
   "source": [
    "# TODO?"
   ]
  },
  {
   "cell_type": "markdown",
   "metadata": {},
   "source": [
    "## Multi-Layer Perceptron (Neural Network)"
   ]
  },
  {
   "cell_type": "code",
   "execution_count": 64,
   "metadata": {},
   "outputs": [
    {
     "name": "stdout",
     "output_type": "stream",
     "text": [
      "Fitting 5 folds for each of 36 candidates, totalling 180 fits\n",
      "[CV 1/5] END activation=logistic, hidden_layer_sizes=(10,), learning_rate_init=0.001, max_iter=500, random_state=42, solver=adam;, score=0.742 total time=  25.8s\n",
      "[CV 1/5] END activation=logistic, hidden_layer_sizes=(10,), learning_rate_init=0.001, max_iter=1000, random_state=42, solver=adam;, score=0.742 total time=  26.4s\n",
      "[CV 5/5] END activation=logistic, hidden_layer_sizes=(10,), learning_rate_init=0.001, max_iter=500, random_state=42, solver=adam;, score=0.745 total time=  27.4s\n",
      "[CV 2/5] END activation=logistic, hidden_layer_sizes=(10,), learning_rate_init=0.001, max_iter=500, random_state=42, solver=adam;, score=0.749 total time=  27.9s\n",
      "[CV 3/5] END activation=logistic, hidden_layer_sizes=(10,), learning_rate_init=0.001, max_iter=1000, random_state=42, solver=adam;, score=0.735 total time=  27.7s\n",
      "[CV 2/5] END activation=logistic, hidden_layer_sizes=(10,), learning_rate_init=0.001, max_iter=1000, random_state=42, solver=adam;, score=0.749 total time=  28.0s\n",
      "[CV 3/5] END activation=logistic, hidden_layer_sizes=(10,), learning_rate_init=0.001, max_iter=500, random_state=42, solver=adam;, score=0.735 total time=  29.0s\n",
      "[CV 4/5] END activation=logistic, hidden_layer_sizes=(10,), learning_rate_init=0.001, max_iter=500, random_state=42, solver=adam;, score=0.748 total time=  32.5s\n",
      "[CV 3/5] END activation=logistic, hidden_layer_sizes=(10,), learning_rate_init=0.01, max_iter=500, random_state=42, solver=adam;, score=0.742 total time=   8.8s\n",
      "[CV 2/5] END activation=logistic, hidden_layer_sizes=(10,), learning_rate_init=0.01, max_iter=500, random_state=42, solver=adam;, score=0.735 total time=   9.2s\n",
      "[CV 4/5] END activation=logistic, hidden_layer_sizes=(10,), learning_rate_init=0.01, max_iter=500, random_state=42, solver=adam;, score=0.739 total time=   9.6s\n",
      "[CV 1/5] END activation=logistic, hidden_layer_sizes=(10,), learning_rate_init=0.01, max_iter=500, random_state=42, solver=adam;, score=0.739 total time=  10.7s\n",
      "[CV 1/5] END activation=logistic, hidden_layer_sizes=(10,), learning_rate_init=0.01, max_iter=1000, random_state=42, solver=adam;, score=0.739 total time=  10.9s\n",
      "[CV 5/5] END activation=logistic, hidden_layer_sizes=(10,), learning_rate_init=0.01, max_iter=500, random_state=42, solver=adam;, score=0.758 total time=  15.0s\n",
      "[CV 2/5] END activation=logistic, hidden_layer_sizes=(10,), learning_rate_init=0.01, max_iter=1000, random_state=42, solver=adam;, score=0.735 total time=   9.5s\n",
      "[CV 3/5] END activation=logistic, hidden_layer_sizes=(10,), learning_rate_init=0.01, max_iter=1000, random_state=42, solver=adam;, score=0.742 total time=   9.2s\n",
      "[CV 4/5] END activation=logistic, hidden_layer_sizes=(10,), learning_rate_init=0.01, max_iter=1000, random_state=42, solver=adam;, score=0.739 total time=  10.0s\n",
      "[CV 1/5] END activation=logistic, hidden_layer_sizes=(10,), learning_rate_init=0.1, max_iter=500, random_state=42, solver=adam;, score=0.739 total time=   4.5s\n",
      "[CV 2/5] END activation=logistic, hidden_layer_sizes=(10,), learning_rate_init=0.1, max_iter=500, random_state=42, solver=adam;, score=0.704 total time=   4.4s\n",
      "[CV 4/5] END activation=logistic, hidden_layer_sizes=(10,), learning_rate_init=0.1, max_iter=500, random_state=42, solver=adam;, score=0.720 total time=   4.0s\n",
      "[CV 3/5] END activation=logistic, hidden_layer_sizes=(10,), learning_rate_init=0.1, max_iter=500, random_state=42, solver=adam;, score=0.727 total time=   4.3s\n",
      "[CV 5/5] END activation=logistic, hidden_layer_sizes=(10,), learning_rate_init=0.1, max_iter=500, random_state=42, solver=adam;, score=0.695 total time=   3.8s\n",
      "[CV 1/5] END activation=logistic, hidden_layer_sizes=(10,), learning_rate_init=0.1, max_iter=1000, random_state=42, solver=adam;, score=0.739 total time=   4.2s\n",
      "[CV 2/5] END activation=logistic, hidden_layer_sizes=(10,), learning_rate_init=0.1, max_iter=1000, random_state=42, solver=adam;, score=0.704 total time=   4.6s\n",
      "[CV 5/5] END activation=logistic, hidden_layer_sizes=(10,), learning_rate_init=0.01, max_iter=1000, random_state=42, solver=adam;, score=0.758 total time=  15.0s\n",
      "[CV 5/5] END activation=logistic, hidden_layer_sizes=(10,), learning_rate_init=0.001, max_iter=1000, random_state=42, solver=adam;, score=0.745 total time=  27.1s\n",
      "[CV 3/5] END activation=logistic, hidden_layer_sizes=(10,), learning_rate_init=0.1, max_iter=1000, random_state=42, solver=adam;, score=0.727 total time=   4.0s\n",
      "[CV 4/5] END activation=logistic, hidden_layer_sizes=(10,), learning_rate_init=0.1, max_iter=1000, random_state=42, solver=adam;, score=0.720 total time=   4.0s\n",
      "[CV 5/5] END activation=logistic, hidden_layer_sizes=(10,), learning_rate_init=0.1, max_iter=1000, random_state=42, solver=adam;, score=0.695 total time=   3.9s\n",
      "[CV 4/5] END activation=logistic, hidden_layer_sizes=(10,), learning_rate_init=0.001, max_iter=1000, random_state=42, solver=adam;, score=0.748 total time=  32.2s\n",
      "[CV 2/5] END activation=logistic, hidden_layer_sizes=(12, 6), learning_rate_init=0.001, max_iter=500, random_state=42, solver=adam;, score=0.744 total time=  36.5s\n",
      "[CV 4/5] END activation=logistic, hidden_layer_sizes=(12, 6), learning_rate_init=0.001, max_iter=500, random_state=42, solver=adam;, score=0.737 total time=  35.9s\n",
      "[CV 2/5] END activation=logistic, hidden_layer_sizes=(12, 6), learning_rate_init=0.001, max_iter=1000, random_state=42, solver=adam;, score=0.744 total time=  34.8s\n",
      "[CV 5/5] END activation=logistic, hidden_layer_sizes=(12, 6), learning_rate_init=0.001, max_iter=500, random_state=42, solver=adam;, score=0.744 total time=  36.7s\n",
      "[CV 3/5] END activation=logistic, hidden_layer_sizes=(12, 6), learning_rate_init=0.001, max_iter=500, random_state=42, solver=adam;, score=0.755 total time=  40.0s\n",
      "[CV 1/5] END activation=logistic, hidden_layer_sizes=(12, 6), learning_rate_init=0.001, max_iter=500, random_state=42, solver=adam;, score=0.747 total time=  44.1s\n",
      "[CV 3/5] END activation=logistic, hidden_layer_sizes=(12, 6), learning_rate_init=0.001, max_iter=1000, random_state=42, solver=adam;, score=0.755 total time=  38.6s\n",
      "[CV 1/5] END activation=logistic, hidden_layer_sizes=(12, 6), learning_rate_init=0.001, max_iter=1000, random_state=42, solver=adam;, score=0.747 total time=  43.6s\n",
      "[CV 3/5] END activation=logistic, hidden_layer_sizes=(12, 6), learning_rate_init=0.01, max_iter=500, random_state=42, solver=adam;, score=0.744 total time=  20.9s\n",
      "[CV 2/5] END activation=logistic, hidden_layer_sizes=(12, 6), learning_rate_init=0.01, max_iter=500, random_state=42, solver=adam;, score=0.743 total time=  26.2s\n",
      "[CV 5/5] END activation=logistic, hidden_layer_sizes=(12, 6), learning_rate_init=0.01, max_iter=500, random_state=42, solver=adam;, score=0.755 total time=  26.1s\n",
      "[CV 4/5] END activation=logistic, hidden_layer_sizes=(12, 6), learning_rate_init=0.01, max_iter=500, random_state=42, solver=adam;, score=0.761 total time=  26.4s\n",
      "[CV 1/5] END activation=logistic, hidden_layer_sizes=(12, 6), learning_rate_init=0.01, max_iter=500, random_state=42, solver=adam;, score=0.768 total time=  36.3s\n",
      "[CV 4/5] END activation=logistic, hidden_layer_sizes=(12, 6), learning_rate_init=0.001, max_iter=1000, random_state=42, solver=adam;, score=0.737 total time=  39.0s\n",
      "[CV 5/5] END activation=logistic, hidden_layer_sizes=(12, 6), learning_rate_init=0.001, max_iter=1000, random_state=42, solver=adam;, score=0.744 total time=  39.5s\n",
      "[CV 1/5] END activation=logistic, hidden_layer_sizes=(12, 6), learning_rate_init=0.1, max_iter=500, random_state=42, solver=adam;, score=0.736 total time=   6.5s\n",
      "[CV 1/5] END activation=logistic, hidden_layer_sizes=(12, 6), learning_rate_init=0.01, max_iter=1000, random_state=42, solver=adam;, score=0.768 total time=  36.1s\n",
      "[CV 3/5] END activation=logistic, hidden_layer_sizes=(12, 6), learning_rate_init=0.1, max_iter=500, random_state=42, solver=adam;, score=0.683 total time=   6.1s\n",
      "[CV 2/5] END activation=logistic, hidden_layer_sizes=(12, 6), learning_rate_init=0.1, max_iter=500, random_state=42, solver=adam;, score=0.742 total time=   8.1s\n",
      "[CV 3/5] END activation=logistic, hidden_layer_sizes=(12, 6), learning_rate_init=0.01, max_iter=1000, random_state=42, solver=adam;, score=0.744 total time=  23.3s\n",
      "[CV 1/5] END activation=logistic, hidden_layer_sizes=(12, 6), learning_rate_init=0.1, max_iter=1000, random_state=42, solver=adam;, score=0.736 total time=   6.2s\n",
      "[CV 4/5] END activation=logistic, hidden_layer_sizes=(12, 6), learning_rate_init=0.1, max_iter=500, random_state=42, solver=adam;, score=0.735 total time=   9.5s\n",
      "[CV 2/5] END activation=logistic, hidden_layer_sizes=(12, 6), learning_rate_init=0.01, max_iter=1000, random_state=42, solver=adam;, score=0.743 total time=  28.7s\n",
      "[CV 5/5] END activation=logistic, hidden_layer_sizes=(12, 6), learning_rate_init=0.1, max_iter=500, random_state=42, solver=adam;, score=0.739 total time=   9.8s\n",
      "[CV 2/5] END activation=logistic, hidden_layer_sizes=(12, 6), learning_rate_init=0.1, max_iter=1000, random_state=42, solver=adam;, score=0.742 total time=   8.1s\n",
      "[CV 3/5] END activation=logistic, hidden_layer_sizes=(12, 6), learning_rate_init=0.1, max_iter=1000, random_state=42, solver=adam;, score=0.683 total time=   6.4s\n",
      "[CV 4/5] END activation=logistic, hidden_layer_sizes=(12, 6), learning_rate_init=0.01, max_iter=1000, random_state=42, solver=adam;, score=0.761 total time=  28.2s\n",
      "[CV 4/5] END activation=logistic, hidden_layer_sizes=(12, 6), learning_rate_init=0.1, max_iter=1000, random_state=42, solver=adam;, score=0.735 total time=   9.6s\n",
      "[CV 5/5] END activation=logistic, hidden_layer_sizes=(12, 6), learning_rate_init=0.01, max_iter=1000, random_state=42, solver=adam;, score=0.755 total time=  28.3s\n",
      "[CV 5/5] END activation=logistic, hidden_layer_sizes=(12, 6), learning_rate_init=0.1, max_iter=1000, random_state=42, solver=adam;, score=0.739 total time=   9.8s\n",
      "[CV 3/5] END activation=logistic, hidden_layer_sizes=(13, 9, 5), learning_rate_init=0.001, max_iter=500, random_state=42, solver=adam;, score=0.742 total time=  48.9s\n",
      "[CV 4/5] END activation=logistic, hidden_layer_sizes=(13, 9, 5), learning_rate_init=0.001, max_iter=500, random_state=42, solver=adam;, score=0.741 total time=  47.6s\n",
      "[CV 1/5] END activation=logistic, hidden_layer_sizes=(13, 9, 5), learning_rate_init=0.001, max_iter=500, random_state=42, solver=adam;, score=0.756 total time=  55.3s\n",
      "[CV 3/5] END activation=logistic, hidden_layer_sizes=(13, 9, 5), learning_rate_init=0.001, max_iter=1000, random_state=42, solver=adam;, score=0.742 total time=  46.5s\n",
      "[CV 2/5] END activation=logistic, hidden_layer_sizes=(13, 9, 5), learning_rate_init=0.001, max_iter=500, random_state=42, solver=adam;, score=0.734 total time=  55.7s\n",
      "[CV 5/5] END activation=logistic, hidden_layer_sizes=(13, 9, 5), learning_rate_init=0.001, max_iter=500, random_state=42, solver=adam;, score=0.750 total time=  52.5s\n",
      "[CV 1/5] END activation=logistic, hidden_layer_sizes=(13, 9, 5), learning_rate_init=0.001, max_iter=1000, random_state=42, solver=adam;, score=0.756 total time=  53.7s\n",
      "[CV 2/5] END activation=logistic, hidden_layer_sizes=(13, 9, 5), learning_rate_init=0.001, max_iter=1000, random_state=42, solver=adam;, score=0.734 total time=  55.0s\n",
      "[CV 1/5] END activation=logistic, hidden_layer_sizes=(13, 9, 5), learning_rate_init=0.01, max_iter=500, random_state=42, solver=adam;, score=0.746 total time=  32.4s\n",
      "[CV 3/5] END activation=logistic, hidden_layer_sizes=(13, 9, 5), learning_rate_init=0.01, max_iter=500, random_state=42, solver=adam;, score=0.757 total time=  33.7s\n",
      "[CV 1/5] END activation=logistic, hidden_layer_sizes=(13, 9, 5), learning_rate_init=0.01, max_iter=1000, random_state=42, solver=adam;, score=0.746 total time=  32.8s\n",
      "[CV 4/5] END activation=logistic, hidden_layer_sizes=(13, 9, 5), learning_rate_init=0.01, max_iter=500, random_state=42, solver=adam;, score=0.751 total time=  38.2s\n",
      "[CV 5/5] END activation=logistic, hidden_layer_sizes=(13, 9, 5), learning_rate_init=0.01, max_iter=500, random_state=42, solver=adam;, score=0.765 total time=  37.6s\n",
      "[CV 4/5] END activation=logistic, hidden_layer_sizes=(13, 9, 5), learning_rate_init=0.001, max_iter=1000, random_state=42, solver=adam;, score=0.741 total time=  50.3s\n",
      "[CV 2/5] END activation=logistic, hidden_layer_sizes=(13, 9, 5), learning_rate_init=0.01, max_iter=500, random_state=42, solver=adam;, score=0.756 total time=  45.8s\n",
      "[CV 5/5] END activation=logistic, hidden_layer_sizes=(13, 9, 5), learning_rate_init=0.001, max_iter=1000, random_state=42, solver=adam;, score=0.750 total time=  53.2s\n",
      "[CV 1/5] END activation=logistic, hidden_layer_sizes=(13, 9, 5), learning_rate_init=0.1, max_iter=500, random_state=42, solver=adam;, score=0.727 total time=  11.8s\n",
      "[CV 2/5] END activation=logistic, hidden_layer_sizes=(13, 9, 5), learning_rate_init=0.1, max_iter=500, random_state=42, solver=adam;, score=0.729 total time=  11.2s\n",
      "[CV 3/5] END activation=logistic, hidden_layer_sizes=(13, 9, 5), learning_rate_init=0.1, max_iter=500, random_state=42, solver=adam;, score=0.685 total time=  14.1s\n",
      "[CV 5/5] END activation=logistic, hidden_layer_sizes=(13, 9, 5), learning_rate_init=0.1, max_iter=500, random_state=42, solver=adam;, score=0.703 total time=  10.1s\n",
      "[CV 1/5] END activation=logistic, hidden_layer_sizes=(13, 9, 5), learning_rate_init=0.1, max_iter=1000, random_state=42, solver=adam;, score=0.727 total time=  11.7s\n",
      "[CV 2/5] END activation=logistic, hidden_layer_sizes=(13, 9, 5), learning_rate_init=0.1, max_iter=1000, random_state=42, solver=adam;, score=0.729 total time=  10.6s\n",
      "[CV 3/5] END activation=logistic, hidden_layer_sizes=(13, 9, 5), learning_rate_init=0.01, max_iter=1000, random_state=42, solver=adam;, score=0.757 total time=  36.5s\n",
      "[CV 4/5] END activation=logistic, hidden_layer_sizes=(13, 9, 5), learning_rate_init=0.1, max_iter=500, random_state=42, solver=adam;, score=0.747 total time=  26.2s\n",
      "[CV 3/5] END activation=logistic, hidden_layer_sizes=(13, 9, 5), learning_rate_init=0.1, max_iter=1000, random_state=42, solver=adam;, score=0.685 total time=  14.2s\n",
      "[CV 5/5] END activation=logistic, hidden_layer_sizes=(13, 9, 5), learning_rate_init=0.1, max_iter=1000, random_state=42, solver=adam;, score=0.703 total time=  11.1s\n",
      "[CV 5/5] END activation=logistic, hidden_layer_sizes=(13, 9, 5), learning_rate_init=0.01, max_iter=1000, random_state=42, solver=adam;, score=0.765 total time=  39.7s\n",
      "[CV 2/5] END activation=logistic, hidden_layer_sizes=(13, 9, 5), learning_rate_init=0.01, max_iter=1000, random_state=42, solver=adam;, score=0.756 total time=  50.8s\n",
      "[CV 4/5] END activation=logistic, hidden_layer_sizes=(13, 9, 5), learning_rate_init=0.01, max_iter=1000, random_state=42, solver=adam;, score=0.751 total time=  43.7s\n",
      "[CV 2/5] END activation=relu, hidden_layer_sizes=(10,), learning_rate_init=0.001, max_iter=500, random_state=42, solver=adam;, score=0.741 total time=  15.0s\n",
      "[CV 1/5] END activation=relu, hidden_layer_sizes=(10,), learning_rate_init=0.001, max_iter=500, random_state=42, solver=adam;, score=0.735 total time=  21.5s\n",
      "[CV 4/5] END activation=logistic, hidden_layer_sizes=(13, 9, 5), learning_rate_init=0.1, max_iter=1000, random_state=42, solver=adam;, score=0.747 total time=  27.3s\n",
      "[CV 3/5] END activation=relu, hidden_layer_sizes=(10,), learning_rate_init=0.001, max_iter=500, random_state=42, solver=adam;, score=0.731 total time=  17.4s\n",
      "[CV 2/5] END activation=relu, hidden_layer_sizes=(10,), learning_rate_init=0.001, max_iter=1000, random_state=42, solver=adam;, score=0.741 total time=  13.7s\n",
      "[CV 4/5] END activation=relu, hidden_layer_sizes=(10,), learning_rate_init=0.001, max_iter=500, random_state=42, solver=adam;, score=0.738 total time=  16.4s\n",
      "[CV 5/5] END activation=relu, hidden_layer_sizes=(10,), learning_rate_init=0.001, max_iter=500, random_state=42, solver=adam;, score=0.749 total time=  19.6s\n",
      "[CV 1/5] END activation=relu, hidden_layer_sizes=(10,), learning_rate_init=0.001, max_iter=1000, random_state=42, solver=adam;, score=0.735 total time=  20.0s\n",
      "[CV 2/5] END activation=relu, hidden_layer_sizes=(10,), learning_rate_init=0.01, max_iter=500, random_state=42, solver=adam;, score=0.736 total time=   9.5s\n",
      "[CV 3/5] END activation=relu, hidden_layer_sizes=(10,), learning_rate_init=0.001, max_iter=1000, random_state=42, solver=adam;, score=0.731 total time=  17.0s\n",
      "[CV 4/5] END activation=relu, hidden_layer_sizes=(10,), learning_rate_init=0.001, max_iter=1000, random_state=42, solver=adam;, score=0.738 total time=  15.4s\n",
      "[CV 3/5] END activation=relu, hidden_layer_sizes=(10,), learning_rate_init=0.01, max_iter=500, random_state=42, solver=adam;, score=0.696 total time=  11.1s\n",
      "[CV 4/5] END activation=relu, hidden_layer_sizes=(10,), learning_rate_init=0.01, max_iter=500, random_state=42, solver=adam;, score=0.702 total time=  10.7s\n",
      "[CV 5/5] END activation=relu, hidden_layer_sizes=(10,), learning_rate_init=0.01, max_iter=500, random_state=42, solver=adam;, score=0.736 total time=  11.3s\n",
      "[CV 5/5] END activation=relu, hidden_layer_sizes=(10,), learning_rate_init=0.001, max_iter=1000, random_state=42, solver=adam;, score=0.749 total time=  19.3s\n",
      "[CV 2/5] END activation=relu, hidden_layer_sizes=(10,), learning_rate_init=0.01, max_iter=1000, random_state=42, solver=adam;, score=0.736 total time=   9.3s\n",
      "[CV 1/5] END activation=relu, hidden_layer_sizes=(10,), learning_rate_init=0.01, max_iter=500, random_state=42, solver=adam;, score=0.753 total time=  19.8s\n",
      "[CV 1/5] END activation=relu, hidden_layer_sizes=(10,), learning_rate_init=0.1, max_iter=500, random_state=42, solver=adam;, score=0.688 total time=   3.4s\n",
      "[CV 2/5] END activation=relu, hidden_layer_sizes=(10,), learning_rate_init=0.1, max_iter=500, random_state=42, solver=adam;, score=0.665 total time=   3.3s\n",
      "[CV 3/5] END activation=relu, hidden_layer_sizes=(10,), learning_rate_init=0.01, max_iter=1000, random_state=42, solver=adam;, score=0.696 total time=  11.2s\n",
      "[CV 4/5] END activation=relu, hidden_layer_sizes=(10,), learning_rate_init=0.1, max_iter=500, random_state=42, solver=adam;, score=0.727 total time=   2.3s\n",
      "[CV 4/5] END activation=relu, hidden_layer_sizes=(10,), learning_rate_init=0.01, max_iter=1000, random_state=42, solver=adam;, score=0.702 total time=  10.8s\n",
      "[CV 1/5] END activation=relu, hidden_layer_sizes=(10,), learning_rate_init=0.1, max_iter=1000, random_state=42, solver=adam;, score=0.688 total time=   3.4s\n",
      "[CV 5/5] END activation=relu, hidden_layer_sizes=(10,), learning_rate_init=0.1, max_iter=500, random_state=42, solver=adam;, score=0.744 total time=   4.8s\n",
      "[CV 4/5] END activation=relu, hidden_layer_sizes=(10,), learning_rate_init=0.1, max_iter=1000, random_state=42, solver=adam;, score=0.727 total time=   2.1s\n",
      "[CV 2/5] END activation=relu, hidden_layer_sizes=(10,), learning_rate_init=0.1, max_iter=1000, random_state=42, solver=adam;, score=0.665 total time=   3.2s\n",
      "[CV 3/5] END activation=relu, hidden_layer_sizes=(10,), learning_rate_init=0.1, max_iter=500, random_state=42, solver=adam;, score=0.711 total time=   6.1s\n",
      "[CV 5/5] END activation=relu, hidden_layer_sizes=(10,), learning_rate_init=0.01, max_iter=1000, random_state=42, solver=adam;, score=0.736 total time=  10.6s\n",
      "[CV 3/5] END activation=relu, hidden_layer_sizes=(10,), learning_rate_init=0.1, max_iter=1000, random_state=42, solver=adam;, score=0.711 total time=   6.0s\n",
      "[CV 5/5] END activation=relu, hidden_layer_sizes=(10,), learning_rate_init=0.1, max_iter=1000, random_state=42, solver=adam;, score=0.744 total time=   4.5s\n",
      "[CV 1/5] END activation=relu, hidden_layer_sizes=(10,), learning_rate_init=0.01, max_iter=1000, random_state=42, solver=adam;, score=0.753 total time=  20.2s\n",
      "[CV 2/5] END activation=relu, hidden_layer_sizes=(12, 6), learning_rate_init=0.001, max_iter=500, random_state=42, solver=adam;, score=0.739 total time=  15.2s\n",
      "[CV 2/5] END activation=relu, hidden_layer_sizes=(12, 6), learning_rate_init=0.001, max_iter=1000, random_state=42, solver=adam;, score=0.739 total time=  15.2s\n",
      "[CV 3/5] END activation=relu, hidden_layer_sizes=(12, 6), learning_rate_init=0.001, max_iter=500, random_state=42, solver=adam;, score=0.741 total time=  21.4s\n",
      "[CV 5/5] END activation=relu, hidden_layer_sizes=(12, 6), learning_rate_init=0.001, max_iter=500, random_state=42, solver=adam;, score=0.744 total time=  22.2s\n",
      "[CV 1/5] END activation=relu, hidden_layer_sizes=(12, 6), learning_rate_init=0.001, max_iter=500, random_state=42, solver=adam;, score=0.741 total time=  25.5s\n",
      "[CV 3/5] END activation=relu, hidden_layer_sizes=(12, 6), learning_rate_init=0.001, max_iter=1000, random_state=42, solver=adam;, score=0.741 total time=  21.1s\n",
      "[CV 1/5] END activation=relu, hidden_layer_sizes=(12, 6), learning_rate_init=0.001, max_iter=1000, random_state=42, solver=adam;, score=0.741 total time=  25.1s\n",
      "[CV 4/5] END activation=relu, hidden_layer_sizes=(12, 6), learning_rate_init=0.001, max_iter=500, random_state=42, solver=adam;, score=0.746 total time=  30.1s\n",
      "[CV 1/5] END activation=relu, hidden_layer_sizes=(12, 6), learning_rate_init=0.01, max_iter=500, random_state=42, solver=adam;, score=0.741 total time=  13.6s\n",
      "[CV 2/5] END activation=relu, hidden_layer_sizes=(12, 6), learning_rate_init=0.01, max_iter=500, random_state=42, solver=adam;, score=0.745 total time=  16.4s\n",
      "[CV 5/5] END activation=relu, hidden_layer_sizes=(12, 6), learning_rate_init=0.01, max_iter=500, random_state=42, solver=adam;, score=0.750 total time=  13.3s\n",
      "[CV 4/5] END activation=relu, hidden_layer_sizes=(12, 6), learning_rate_init=0.01, max_iter=500, random_state=42, solver=adam;, score=0.749 total time=  16.5s\n",
      "[CV 5/5] END activation=relu, hidden_layer_sizes=(12, 6), learning_rate_init=0.001, max_iter=1000, random_state=42, solver=adam;, score=0.744 total time=  24.3s\n",
      "[CV 1/5] END activation=relu, hidden_layer_sizes=(12, 6), learning_rate_init=0.01, max_iter=1000, random_state=42, solver=adam;, score=0.741 total time=  14.3s\n",
      "[CV 3/5] END activation=relu, hidden_layer_sizes=(12, 6), learning_rate_init=0.01, max_iter=500, random_state=42, solver=adam;, score=0.735 total time=  20.1s\n",
      "[CV 4/5] END activation=relu, hidden_layer_sizes=(12, 6), learning_rate_init=0.001, max_iter=1000, random_state=42, solver=adam;, score=0.746 total time=  31.0s\n",
      "[CV 1/5] END activation=relu, hidden_layer_sizes=(12, 6), learning_rate_init=0.1, max_iter=500, random_state=42, solver=adam;, score=0.735 total time=   7.2s\n",
      "[CV 2/5] END activation=relu, hidden_layer_sizes=(12, 6), learning_rate_init=0.01, max_iter=1000, random_state=42, solver=adam;, score=0.745 total time=  16.6s\n",
      "[CV 4/5] END activation=relu, hidden_layer_sizes=(12, 6), learning_rate_init=0.1, max_iter=500, random_state=42, solver=adam;, score=0.719 total time=   6.6s\n",
      "[CV 3/5] END activation=relu, hidden_layer_sizes=(12, 6), learning_rate_init=0.1, max_iter=500, random_state=42, solver=adam;, score=0.705 total time=   7.5s\n",
      "[CV 5/5] END activation=relu, hidden_layer_sizes=(12, 6), learning_rate_init=0.01, max_iter=1000, random_state=42, solver=adam;, score=0.750 total time=  12.8s\n",
      "[CV 2/5] END activation=relu, hidden_layer_sizes=(12, 6), learning_rate_init=0.1, max_iter=500, random_state=42, solver=adam;, score=0.736 total time=  10.7s\n",
      "[CV 4/5] END activation=relu, hidden_layer_sizes=(12, 6), learning_rate_init=0.01, max_iter=1000, random_state=42, solver=adam;, score=0.749 total time=  16.0s\n",
      "[CV 5/5] END activation=relu, hidden_layer_sizes=(12, 6), learning_rate_init=0.1, max_iter=500, random_state=42, solver=adam;, score=0.732 total time=   7.4s\n",
      "[CV 1/5] END activation=relu, hidden_layer_sizes=(12, 6), learning_rate_init=0.1, max_iter=1000, random_state=42, solver=adam;, score=0.735 total time=   7.5s\n",
      "[CV 3/5] END activation=relu, hidden_layer_sizes=(12, 6), learning_rate_init=0.01, max_iter=1000, random_state=42, solver=adam;, score=0.735 total time=  19.5s\n",
      "[CV 3/5] END activation=relu, hidden_layer_sizes=(12, 6), learning_rate_init=0.1, max_iter=1000, random_state=42, solver=adam;, score=0.705 total time=   7.6s\n",
      "[CV 4/5] END activation=relu, hidden_layer_sizes=(12, 6), learning_rate_init=0.1, max_iter=1000, random_state=42, solver=adam;, score=0.719 total time=   7.0s\n",
      "[CV 5/5] END activation=relu, hidden_layer_sizes=(12, 6), learning_rate_init=0.1, max_iter=1000, random_state=42, solver=adam;, score=0.732 total time=   7.4s\n",
      "[CV 2/5] END activation=relu, hidden_layer_sizes=(12, 6), learning_rate_init=0.1, max_iter=1000, random_state=42, solver=adam;, score=0.736 total time=  11.0s\n",
      "[CV 2/5] END activation=relu, hidden_layer_sizes=(13, 9, 5), learning_rate_init=0.001, max_iter=500, random_state=42, solver=adam;, score=0.726 total time=  15.3s\n",
      "[CV 2/5] END activation=relu, hidden_layer_sizes=(13, 9, 5), learning_rate_init=0.001, max_iter=1000, random_state=42, solver=adam;, score=0.726 total time=  15.7s\n",
      "[CV 3/5] END activation=relu, hidden_layer_sizes=(13, 9, 5), learning_rate_init=0.001, max_iter=500, random_state=42, solver=adam;, score=0.729 total time=  23.3s\n",
      "[CV 1/5] END activation=relu, hidden_layer_sizes=(13, 9, 5), learning_rate_init=0.001, max_iter=500, random_state=42, solver=adam;, score=0.736 total time=  25.5s\n",
      "[CV 5/5] END activation=relu, hidden_layer_sizes=(13, 9, 5), learning_rate_init=0.001, max_iter=500, random_state=42, solver=adam;, score=0.702 total time=  26.7s\n",
      "[CV 1/5] END activation=relu, hidden_layer_sizes=(13, 9, 5), learning_rate_init=0.001, max_iter=1000, random_state=42, solver=adam;, score=0.736 total time=  25.4s\n",
      "[CV 3/5] END activation=relu, hidden_layer_sizes=(13, 9, 5), learning_rate_init=0.001, max_iter=1000, random_state=42, solver=adam;, score=0.729 total time=  24.1s\n",
      "[CV 4/5] END activation=relu, hidden_layer_sizes=(13, 9, 5), learning_rate_init=0.001, max_iter=500, random_state=42, solver=adam;, score=0.748 total time=  37.0s\n",
      "[CV 2/5] END activation=relu, hidden_layer_sizes=(13, 9, 5), learning_rate_init=0.01, max_iter=500, random_state=42, solver=adam;, score=0.756 total time=  20.0s\n",
      "[CV 5/5] END activation=relu, hidden_layer_sizes=(13, 9, 5), learning_rate_init=0.001, max_iter=1000, random_state=42, solver=adam;, score=0.702 total time=  24.9s\n",
      "[CV 3/5] END activation=relu, hidden_layer_sizes=(13, 9, 5), learning_rate_init=0.01, max_iter=500, random_state=42, solver=adam;, score=0.723 total time=  15.9s\n",
      "[CV 5/5] END activation=relu, hidden_layer_sizes=(13, 9, 5), learning_rate_init=0.01, max_iter=500, random_state=42, solver=adam;, score=0.745 total time=  17.2s\n",
      "[CV 4/5] END activation=relu, hidden_layer_sizes=(13, 9, 5), learning_rate_init=0.01, max_iter=500, random_state=42, solver=adam;, score=0.732 total time=  18.7s\n",
      "[CV 1/5] END activation=relu, hidden_layer_sizes=(13, 9, 5), learning_rate_init=0.01, max_iter=500, random_state=42, solver=adam;, score=0.740 total time=  25.7s\n",
      "[CV 1/5] END activation=relu, hidden_layer_sizes=(13, 9, 5), learning_rate_init=0.1, max_iter=500, random_state=42, solver=adam;, score=0.000 total time=   3.1s\n",
      "[CV 4/5] END activation=relu, hidden_layer_sizes=(13, 9, 5), learning_rate_init=0.001, max_iter=1000, random_state=42, solver=adam;, score=0.748 total time=  36.8s\n",
      "[CV 2/5] END activation=relu, hidden_layer_sizes=(13, 9, 5), learning_rate_init=0.1, max_iter=500, random_state=42, solver=adam;, score=0.000 total time=   3.2s\n",
      "[CV 5/5] END activation=relu, hidden_layer_sizes=(13, 9, 5), learning_rate_init=0.1, max_iter=500, random_state=42, solver=adam;, score=0.664 total time=   3.3s\n",
      "[CV 3/5] END activation=relu, hidden_layer_sizes=(13, 9, 5), learning_rate_init=0.1, max_iter=500, random_state=42, solver=adam;, score=0.689 total time=   5.6s\n",
      "[CV 1/5] END activation=relu, hidden_layer_sizes=(13, 9, 5), learning_rate_init=0.1, max_iter=1000, random_state=42, solver=adam;, score=0.000 total time=   3.4s\n",
      "[CV 3/5] END activation=relu, hidden_layer_sizes=(13, 9, 5), learning_rate_init=0.01, max_iter=1000, random_state=42, solver=adam;, score=0.723 total time=  15.0s\n",
      "[CV 2/5] END activation=relu, hidden_layer_sizes=(13, 9, 5), learning_rate_init=0.1, max_iter=1000, random_state=42, solver=adam;, score=0.000 total time=   3.1s\n",
      "[CV 1/5] END activation=relu, hidden_layer_sizes=(13, 9, 5), learning_rate_init=0.01, max_iter=1000, random_state=42, solver=adam;, score=0.740 total time=  24.5s\n",
      "[CV 4/5] END activation=relu, hidden_layer_sizes=(13, 9, 5), learning_rate_init=0.1, max_iter=500, random_state=42, solver=adam;, score=0.674 total time=  11.5s\n",
      "[CV 5/5] END activation=relu, hidden_layer_sizes=(13, 9, 5), learning_rate_init=0.1, max_iter=1000, random_state=42, solver=adam;, score=0.664 total time=   3.1s\n",
      "[CV 4/5] END activation=relu, hidden_layer_sizes=(13, 9, 5), learning_rate_init=0.01, max_iter=1000, random_state=42, solver=adam;, score=0.732 total time=  18.3s\n",
      "[CV 5/5] END activation=relu, hidden_layer_sizes=(13, 9, 5), learning_rate_init=0.01, max_iter=1000, random_state=42, solver=adam;, score=0.745 total time=  16.9s\n",
      "[CV 2/5] END activation=relu, hidden_layer_sizes=(13, 9, 5), learning_rate_init=0.01, max_iter=1000, random_state=42, solver=adam;, score=0.756 total time=  19.5s\n",
      "[CV 3/5] END activation=relu, hidden_layer_sizes=(13, 9, 5), learning_rate_init=0.1, max_iter=1000, random_state=42, solver=adam;, score=0.689 total time=   4.7s\n",
      "[CV 4/5] END activation=relu, hidden_layer_sizes=(13, 9, 5), learning_rate_init=0.1, max_iter=1000, random_state=42, solver=adam;, score=0.674 total time=   7.8s\n"
     ]
    },
    {
     "data": {
      "text/plain": [
       "{'activation': 'logistic',\n",
       " 'hidden_layer_sizes': (13, 9, 5),\n",
       " 'learning_rate_init': 0.01,\n",
       " 'max_iter': 500,\n",
       " 'random_state': 42,\n",
       " 'solver': 'adam'}"
      ]
     },
     "execution_count": 64,
     "metadata": {},
     "output_type": "execute_result"
    }
   ],
   "source": [
    "parameters = {\n",
    "    'hidden_layer_sizes': [(10,), (12, 6), (13,9,5)],\n",
    "    'activation': ['logistic', 'relu'],\n",
    "    'solver': ['adam'],\n",
    "    'max_iter': [500, 1000],\n",
    "    'random_state': [42],\n",
    "    'learning_rate_init': [0.001, 0.01, 0.1],\n",
    "}\n",
    "\n",
    "grid_search = GridSearchCV(MLPClassifier(), parameters, cv=5, scoring='f1', verbose=3, n_jobs=-1)\n",
    "grid_search.fit(X_train, y_train)\n",
    "best_params = grid_search.best_params_\n",
    "best_params"
   ]
  },
  {
   "cell_type": "code",
   "execution_count": 30,
   "metadata": {},
   "outputs": [],
   "source": [
    "best_params = {'activation': 'logistic',\n",
    "                'hidden_layer_sizes': (13, 9, 5),\n",
    "                'learning_rate_init': 0.01,\n",
    "                'max_iter': 500,\n",
    "                'random_state': 42,\n",
    "                'solver': 'adam'}"
   ]
  },
  {
   "cell_type": "code",
   "execution_count": 31,
   "metadata": {},
   "outputs": [
    {
     "data": {
      "text/plain": [
       "{'accuracy': 0.763,\n",
       " 'precision': np.float64(0.789),\n",
       " 'recall': np.float64(0.714),\n",
       " 'f1': np.float64(0.75),\n",
       " 'specificity': np.float64(0.81),\n",
       " 'cm': array([[16108,  3769],\n",
       "        [ 5622, 14053]])}"
      ]
     },
     "execution_count": 31,
     "metadata": {},
     "output_type": "execute_result"
    }
   ],
   "source": [
    "mlp = MLPClassifier(**best_params)\n",
    "mlp.fit(X_train, y_train)\n",
    "y_pred = mlp.predict(X_test)\n",
    "measures = get_metrics(y_pred)\n",
    "measures"
   ]
  },
  {
   "cell_type": "code",
   "execution_count": 53,
   "metadata": {},
   "outputs": [
    {
     "data": {
      "text/html": [
       "<div>\n",
       "<style scoped>\n",
       "    .dataframe tbody tr th:only-of-type {\n",
       "        vertical-align: middle;\n",
       "    }\n",
       "\n",
       "    .dataframe tbody tr th {\n",
       "        vertical-align: top;\n",
       "    }\n",
       "\n",
       "    .dataframe thead th {\n",
       "        text-align: right;\n",
       "    }\n",
       "</style>\n",
       "<table border=\"1\" class=\"dataframe\">\n",
       "  <thead>\n",
       "    <tr style=\"text-align: right;\">\n",
       "      <th></th>\n",
       "      <th>model</th>\n",
       "      <th>accuracy</th>\n",
       "      <th>precision</th>\n",
       "      <th>recall</th>\n",
       "      <th>f1</th>\n",
       "      <th>specificity</th>\n",
       "      <th>cm</th>\n",
       "    </tr>\n",
       "  </thead>\n",
       "  <tbody>\n",
       "    <tr>\n",
       "      <th>0</th>\n",
       "      <td>Decision Tree</td>\n",
       "      <td>0.864</td>\n",
       "      <td>0.877</td>\n",
       "      <td>0.847</td>\n",
       "      <td>0.861</td>\n",
       "      <td>0.882</td>\n",
       "      <td>[[17531, 2346], [3016, 16659]]</td>\n",
       "    </tr>\n",
       "    <tr>\n",
       "      <th>1</th>\n",
       "      <td>Random Forest</td>\n",
       "      <td>0.936</td>\n",
       "      <td>0.928</td>\n",
       "      <td>0.945</td>\n",
       "      <td>0.937</td>\n",
       "      <td>0.927</td>\n",
       "      <td>[[18432, 1445], [1075, 18600]]</td>\n",
       "    </tr>\n",
       "    <tr>\n",
       "      <th>2</th>\n",
       "      <td>KNN</td>\n",
       "      <td>0.839</td>\n",
       "      <td>0.952</td>\n",
       "      <td>0.711</td>\n",
       "      <td>0.814</td>\n",
       "      <td>0.965</td>\n",
       "      <td>[[19175, 702], [5677, 13998]]</td>\n",
       "    </tr>\n",
       "    <tr>\n",
       "      <th>3</th>\n",
       "      <td>Logistic Regression</td>\n",
       "      <td>0.697</td>\n",
       "      <td>0.808</td>\n",
       "      <td>0.512</td>\n",
       "      <td>0.627</td>\n",
       "      <td>0.880</td>\n",
       "      <td>[[17492, 2385], [9608, 10067]]</td>\n",
       "    </tr>\n",
       "    <tr>\n",
       "      <th>4</th>\n",
       "      <td>MLP</td>\n",
       "      <td>0.697</td>\n",
       "      <td>0.808</td>\n",
       "      <td>0.512</td>\n",
       "      <td>0.627</td>\n",
       "      <td>0.880</td>\n",
       "      <td>[[17492, 2385], [9608, 10067]]</td>\n",
       "    </tr>\n",
       "  </tbody>\n",
       "</table>\n",
       "</div>"
      ],
      "text/plain": [
       "                 model  accuracy  precision  recall     f1  specificity  \\\n",
       "0        Decision Tree     0.864      0.877   0.847  0.861        0.882   \n",
       "1        Random Forest     0.936      0.928   0.945  0.937        0.927   \n",
       "2                  KNN     0.839      0.952   0.711  0.814        0.965   \n",
       "3  Logistic Regression     0.697      0.808   0.512  0.627        0.880   \n",
       "4                  MLP     0.697      0.808   0.512  0.627        0.880   \n",
       "\n",
       "                               cm  \n",
       "0  [[17531, 2346], [3016, 16659]]  \n",
       "1  [[18432, 1445], [1075, 18600]]  \n",
       "2   [[19175, 702], [5677, 13998]]  \n",
       "3  [[17492, 2385], [9608, 10067]]  \n",
       "4  [[17492, 2385], [9608, 10067]]  "
      ]
     },
     "execution_count": 53,
     "metadata": {},
     "output_type": "execute_result"
    }
   ],
   "source": [
    "models.loc[len(models)] = {'model': 'MLP', **measures}\n",
    "models"
   ]
  },
  {
   "cell_type": "code",
   "execution_count": 33,
   "metadata": {},
   "outputs": [
    {
     "data": {
      "text/plain": [
       "<sklearn.metrics._plot.confusion_matrix.ConfusionMatrixDisplay at 0x1490fd400>"
      ]
     },
     "execution_count": 33,
     "metadata": {},
     "output_type": "execute_result"
    },
    {
     "data": {
      "image/png": "[encoded data removed]",
      "text/plain": [
       "<Figure size 640x480 with 2 Axes>"
      ]
     },
     "metadata": {},
     "output_type": "display_data"
    }
   ],
   "source": [
    "ConfusionMatrixDisplay(measures['cm']).plot()"
   ]
  },
  {
   "cell_type": "markdown",
   "metadata": {},
   "source": [
    "## Bayesian Classifier"
   ]
  },
  {
   "cell_type": "code",
   "execution_count": 35,
   "metadata": {},
   "outputs": [
    {
     "data": {
      "text/plain": [
       "{'accuracy': 0.697,\n",
       " 'precision': np.float64(0.808),\n",
       " 'recall': np.float64(0.512),\n",
       " 'f1': np.float64(0.627),\n",
       " 'specificity': np.float64(0.88),\n",
       " 'cm': array([[17492,  2385],\n",
       "        [ 9608, 10067]])}"
      ]
     },
     "execution_count": 35,
     "metadata": {},
     "output_type": "execute_result"
    }
   ],
   "source": [
    "model = GaussianNB()\n",
    "model.fit(X_train, y_train)\n",
    "y_pred = model.predict(X_test)\n",
    "measures = get_metrics(y_pred)\n",
    "measures"
   ]
  },
  {
   "cell_type": "code",
   "execution_count": 36,
   "metadata": {},
   "outputs": [
    {
     "data": {
      "text/plain": [
       "<sklearn.metrics._plot.confusion_matrix.ConfusionMatrixDisplay at 0x14914bec0>"
      ]
     },
     "execution_count": 36,
     "metadata": {},
     "output_type": "execute_result"
    },
    {
     "data": {
      "image/png": "[encoded data removed]",
      "text/plain": [
       "<Figure size 640x480 with 2 Axes>"
      ]
     },
     "metadata": {},
     "output_type": "display_data"
    }
   ],
   "source": [
    "ConfusionMatrixDisplay(measures['cm']).plot()"
   ]
  },
  {
   "cell_type": "code",
   "execution_count": 54,
   "metadata": {},
   "outputs": [
    {
     "data": {
      "text/html": [
       "<div>\n",
       "<style scoped>\n",
       "    .dataframe tbody tr th:only-of-type {\n",
       "        vertical-align: middle;\n",
       "    }\n",
       "\n",
       "    .dataframe tbody tr th {\n",
       "        vertical-align: top;\n",
       "    }\n",
       "\n",
       "    .dataframe thead th {\n",
       "        text-align: right;\n",
       "    }\n",
       "</style>\n",
       "<table border=\"1\" class=\"dataframe\">\n",
       "  <thead>\n",
       "    <tr style=\"text-align: right;\">\n",
       "      <th></th>\n",
       "      <th>model</th>\n",
       "      <th>accuracy</th>\n",
       "      <th>precision</th>\n",
       "      <th>recall</th>\n",
       "      <th>f1</th>\n",
       "      <th>specificity</th>\n",
       "      <th>cm</th>\n",
       "    </tr>\n",
       "  </thead>\n",
       "  <tbody>\n",
       "    <tr>\n",
       "      <th>0</th>\n",
       "      <td>Decision Tree</td>\n",
       "      <td>0.864</td>\n",
       "      <td>0.877</td>\n",
       "      <td>0.847</td>\n",
       "      <td>0.861</td>\n",
       "      <td>0.882</td>\n",
       "      <td>[[17531, 2346], [3016, 16659]]</td>\n",
       "    </tr>\n",
       "    <tr>\n",
       "      <th>1</th>\n",
       "      <td>Random Forest</td>\n",
       "      <td>0.936</td>\n",
       "      <td>0.928</td>\n",
       "      <td>0.945</td>\n",
       "      <td>0.937</td>\n",
       "      <td>0.927</td>\n",
       "      <td>[[18432, 1445], [1075, 18600]]</td>\n",
       "    </tr>\n",
       "    <tr>\n",
       "      <th>2</th>\n",
       "      <td>KNN</td>\n",
       "      <td>0.839</td>\n",
       "      <td>0.952</td>\n",
       "      <td>0.711</td>\n",
       "      <td>0.814</td>\n",
       "      <td>0.965</td>\n",
       "      <td>[[19175, 702], [5677, 13998]]</td>\n",
       "    </tr>\n",
       "    <tr>\n",
       "      <th>3</th>\n",
       "      <td>Logistic Regression</td>\n",
       "      <td>0.697</td>\n",
       "      <td>0.808</td>\n",
       "      <td>0.512</td>\n",
       "      <td>0.627</td>\n",
       "      <td>0.880</td>\n",
       "      <td>[[17492, 2385], [9608, 10067]]</td>\n",
       "    </tr>\n",
       "    <tr>\n",
       "      <th>4</th>\n",
       "      <td>MLP</td>\n",
       "      <td>0.697</td>\n",
       "      <td>0.808</td>\n",
       "      <td>0.512</td>\n",
       "      <td>0.627</td>\n",
       "      <td>0.880</td>\n",
       "      <td>[[17492, 2385], [9608, 10067]]</td>\n",
       "    </tr>\n",
       "    <tr>\n",
       "      <th>5</th>\n",
       "      <td>Naive Bayes</td>\n",
       "      <td>0.697</td>\n",
       "      <td>0.808</td>\n",
       "      <td>0.512</td>\n",
       "      <td>0.627</td>\n",
       "      <td>0.880</td>\n",
       "      <td>[[17492, 2385], [9608, 10067]]</td>\n",
       "    </tr>\n",
       "  </tbody>\n",
       "</table>\n",
       "</div>"
      ],
      "text/plain": [
       "                 model  accuracy  precision  recall     f1  specificity  \\\n",
       "0        Decision Tree     0.864      0.877   0.847  0.861        0.882   \n",
       "1        Random Forest     0.936      0.928   0.945  0.937        0.927   \n",
       "2                  KNN     0.839      0.952   0.711  0.814        0.965   \n",
       "3  Logistic Regression     0.697      0.808   0.512  0.627        0.880   \n",
       "4                  MLP     0.697      0.808   0.512  0.627        0.880   \n",
       "5          Naive Bayes     0.697      0.808   0.512  0.627        0.880   \n",
       "\n",
       "                               cm  \n",
       "0  [[17531, 2346], [3016, 16659]]  \n",
       "1  [[18432, 1445], [1075, 18600]]  \n",
       "2   [[19175, 702], [5677, 13998]]  \n",
       "3  [[17492, 2385], [9608, 10067]]  \n",
       "4  [[17492, 2385], [9608, 10067]]  \n",
       "5  [[17492, 2385], [9608, 10067]]  "
      ]
     },
     "execution_count": 54,
     "metadata": {},
     "output_type": "execute_result"
    }
   ],
   "source": [
    "models.loc[len(models)] = {'model': 'Naive Bayes', **measures}\n",
    "models"
   ]
  },
  {
   "cell_type": "markdown",
   "metadata": {},
   "source": [
    "## Overall comparison of the models"
   ]
  },
  {
   "cell_type": "code",
   "execution_count": 55,
   "metadata": {},
   "outputs": [
    {
     "data": {
      "image/png": "[encoded data removed]",
      "text/plain": [
       "<Figure size 1000x600 with 1 Axes>"
      ]
     },
     "metadata": {},
     "output_type": "display_data"
    }
   ],
   "source": [
    "melted = models.melt(id_vars=\"model\", value_vars=[\"accuracy\", \"precision\", \"recall\", \"f1\", \"specificity\"],\n",
    "                     var_name=\"measure\", value_name=\"value\")\n",
    "\n",
    "plt.figure(figsize=(10, 6))\n",
    "sns.barplot(data=melted, x=\"model\", y=\"value\", hue=\"measure\", palette=\"deep\")\n",
    "\n",
    "plt.title(\"Model Performance Metrics\", fontsize=16)\n",
    "plt.xlabel(\"Model\", fontsize=12)\n",
    "plt.ylabel(\"Value\", fontsize=12)\n",
    "plt.xticks(fontsize=10)\n",
    "plt.yticks(fontsize=10)\n",
    "plt.legend(title=\"Measure\", fontsize=10, title_fontsize=12)\n",
    "plt.tight_layout()\n",
    "\n",
    "plt.show()"
   ]
  },
  {
   "cell_type": "markdown",
   "metadata": {},
   "source": [
    "After this analysis, we chose the Random Forest (100 trees) as the best model to make the final predictions."
   ]
  }
 ],
 "metadata": {
  "kernelspec": {
   "display_name": "icd",
   "language": "python",
   "name": "python3"
  },
  "language_info": {
   "codemirror_mode": {
    "name": "ipython",
    "version": 3
   },
   "file_extension": ".py",
   "mimetype": "text/x-python",
   "name": "python",
   "nbconvert_exporter": "python",
   "pygments_lexer": "ipython3",
   "version": "3.12.6"
  }
 },
 "nbformat": 4,
 "nbformat_minor": 2
}
