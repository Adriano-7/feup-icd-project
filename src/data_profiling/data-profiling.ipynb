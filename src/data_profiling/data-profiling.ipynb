{
 "cells": [
  {
   "cell_type": "markdown",
   "metadata": {},
   "source": [
    "# Data-Centric AI and Data Profiling - Health Insurance\n",
    "*By: Francisco da Ana (up202108762)*"
   ]
  },
  {
   "cell_type": "markdown",
   "metadata": {},
   "source": [
    "For this assignement related to data profiling, I chose a dataset with information about customers whose health insurance status is known."
   ]
  },
  {
   "cell_type": "markdown",
   "metadata": {},
   "source": [
    "We will use the following libraries:\n",
    "- **Pandas** for data manipulation\n",
    "- **Matplotlib** and **Seaborn** for data visualization\n",
    "- **Pandas Profiling** for generating a visual and general report about the dataset"
   ]
  },
  {
   "cell_type": "code",
   "execution_count": 1,
   "metadata": {},
   "outputs": [],
   "source": [
    "import pandas as pd\n",
    "from ydata_profiling import ProfileReport\n",
    "import seaborn as sns\n",
    "import matplotlib.pyplot as plt"
   ]
  },
  {
   "cell_type": "markdown",
   "metadata": {},
   "source": [
    "Let's start by loading the dataset to a dataframe and verify its general structure."
   ]
  },
  {
   "cell_type": "code",
   "execution_count": 2,
   "metadata": {},
   "outputs": [
    {
     "data": {
      "text/plain": [
       "(72458, 15)"
      ]
     },
     "execution_count": 2,
     "metadata": {},
     "output_type": "execute_result"
    }
   ],
   "source": [
    "df = pd.read_csv('../../data/customer.csv')\n",
    "df.shape"
   ]
  },
  {
   "cell_type": "markdown",
   "metadata": {},
   "source": [
    "As we can see, the dataset contains 72458 records and 15 columns."
   ]
  },
  {
   "cell_type": "code",
   "execution_count": 3,
   "metadata": {},
   "outputs": [
    {
     "data": {
      "text/plain": [
       "Index(['Unnamed: 0', 'custid', 'sex', 'is_employed', 'income',\n",
       "       'marital_status', 'health_ins', 'housing_type', 'num_vehicles', 'age',\n",
       "       'state_of_res', 'code_column', 'gas_usage', 'rooms', 'recent_move_b'],\n",
       "      dtype='object')"
      ]
     },
     "execution_count": 3,
     "metadata": {},
     "output_type": "execute_result"
    }
   ],
   "source": [
    "df.columns"
   ]
  },
  {
   "cell_type": "markdown",
   "metadata": {},
   "source": [
    "Before exploring the statistical properties of the dataset, let's first look at the columns and their meanings, in the context of our problem.\n",
    "\n",
    "The columns are:\n",
    "- _unnamed_: an index column\n",
    "- **custid**: the unique ID of the customer\n",
    "- **sex**: the gender of the customer\n",
    "- **is_employed**: indicates whether the customer is employed or not\n",
    "- **income**: numerical value representing the customer's income\n",
    "- **marital_status**: the marital status of the customer\n",
    "- **health_ins**: indicates whether the customer has health insurance or not. This can be the target variable in the context of a classification problem.\n",
    "- **housing_type**: describes the situation of the customer's habitation\n",
    "- **num_vehicles**: the number of vehicles the customer owns\n",
    "- **age**: the age of the customer in years\n",
    "- **state_of_res**: the US state where the customer resides\n",
    "- **code_column**: likely a categorical or code-based feature (potentially related to location or demographics).\n",
    "- **gas_usage**: a measure of the customer's gas usage\n",
    "- **rooms**: the number of rooms in the customer's house\n",
    "- **recent_move_b**: indicator if the customer has recently moved"
   ]
  },
  {
   "cell_type": "markdown",
   "metadata": {},
   "source": [
    "Now, I will use **YData Profiling** to generate a general report about this dataset. The report will be available in a file called `report.html`. Then, using the insights from this report, I'll explore some statistics to better understand the dataset."
   ]
  },
  {
   "cell_type": "code",
   "execution_count": 4,
   "metadata": {},
   "outputs": [
    {
     "data": {
      "application/vnd.jupyter.widget-view+json": {
       "model_id": "75cb970fb8504171977f8ffa730a42f6",
       "version_major": 2,
       "version_minor": 0
      },
      "text/plain": [
       "Summarize dataset:   0%|          | 0/5 [00:00<?, ?it/s]"
      ]
     },
     "metadata": {},
     "output_type": "display_data"
    },
    {
     "data": {
      "application/vnd.jupyter.widget-view+json": {
       "model_id": "0133478877244926a77530fc14e16f80",
       "version_major": 2,
       "version_minor": 0
      },
      "text/plain": [
       "Generate report structure:   0%|          | 0/1 [00:00<?, ?it/s]"
      ]
     },
     "metadata": {},
     "output_type": "display_data"
    },
    {
     "data": {
      "application/vnd.jupyter.widget-view+json": {
       "model_id": "ea30403bd8f84683819e5cb2b076d11d",
       "version_major": 2,
       "version_minor": 0
      },
      "text/plain": [
       "Render HTML:   0%|          | 0/1 [00:00<?, ?it/s]"
      ]
     },
     "metadata": {},
     "output_type": "display_data"
    },
    {
     "data": {
      "application/vnd.jupyter.widget-view+json": {
       "model_id": "827433a11cdc49aeba9b20699a4578d6",
       "version_major": 2,
       "version_minor": 0
      },
      "text/plain": [
       "Export report to file:   0%|          | 0/1 [00:00<?, ?it/s]"
      ]
     },
     "metadata": {},
     "output_type": "display_data"
    }
   ],
   "source": [
    "profile = ProfileReport(df, title='report', explorative=True)\n",
    "profile.to_file(\"data-report.html\")"
   ]
  },
  {
   "cell_type": "markdown",
   "metadata": {},
   "source": [
    "### **First general observations**\n",
    "\n",
    "<img src='imgs/general-infos.png' width=600>\n",
    "\n",
    "- As already mentioned, the dataset contains 72458 records and 15 columns.\n",
    "- There are 32260 miss values (3%). It's a considerable amount of missing values, which may require some attention.\n",
    "- There are not duplicated records.\n",
    "\n",
    "<img src='imgs/var-types.png' width=600>\n",
    "\n",
    "- Variable types:\n",
    "    - Numeric: _unnamed_, income, num_vehicles, age, gas_usage, rooms;\n",
    "    - Categorical: sex, marital_status, housing_type, code_column;\n",
    "    - Boolean: is_employed, health_ins, recent_move_b;\n",
    "    - Text: custid, state_of_res."
   ]
  },
  {
   "cell_type": "markdown",
   "metadata": {},
   "source": [
    "## **Feature accessessment**\n",
    "\n",
    "Now let's take a look at the characteristics of our dataset's features, such as the data type, the number of unique values, distribution of the values, etc. These individual insights can help us to understand the dataset better and to identify potential problems."
   ]
  },
  {
   "cell_type": "markdown",
   "metadata": {},
   "source": [
    "#### **_Unnamed_** and **custid**\n",
    "Both these features indicate a unique value for each record. The _unnamed_ column is likely a numeric index column, while the custid is the unique identifier of the customer using a different format.\n",
    "\n",
    "<img src='imgs/features/unnamed.png' width=400>\n",
    "<img src='imgs/features/custid.png' width=400>\n",
    "\n",
    "Due to their nature, these features would not be useful in a classification problem which uses only this dataset, since thet don't help the models aggregating information or identifying patterns."
   ]
  },
  {
   "cell_type": "markdown",
   "metadata": {},
   "source": [
    "#### **Health Insurance**\n",
    "\n",
    "<img src='imgs/features/health-ins.png' width=450>\n",
    "\n",
    "This is a boolean variable. It does not have missing/wrong values. However, it is very imbalanced with 90.5% of the examples being True. This may be a problem in a classification problem, especially for this target variable, since the model may have a bias towards the majority class."
   ]
  },
  {
   "cell_type": "markdown",
   "metadata": {},
   "source": [
    "#### **Sex** and **Age**"
   ]
  },
  {
   "cell_type": "markdown",
   "metadata": {},
   "source": [
    "In terms of gender, there are only two categories represented: Male/Female. The distribution of the values is balanced, with 51.7% of examples being Female and 48.3% being Male. There are no missing values. This is a categorical feature which seems to be well structured.\n",
    "\n",
    "<img src='imgs/features/sex.png' width=600>"
   ]
  },
  {
   "cell_type": "markdown",
   "metadata": {},
   "source": [
    "The age feature is a numeric one. There are zeros, which is likely an error in the data, and the maximum registered age is 125. This is probably an outlier, since it's very rare for people to live that long.\n",
    "Let's look at the rows with age equal to zero."
   ]
  },
  {
   "cell_type": "code",
   "execution_count": 5,
   "metadata": {},
   "outputs": [
    {
     "data": {
      "text/html": [
       "<div>\n",
       "<style scoped>\n",
       "    .dataframe tbody tr th:only-of-type {\n",
       "        vertical-align: middle;\n",
       "    }\n",
       "\n",
       "    .dataframe tbody tr th {\n",
       "        vertical-align: top;\n",
       "    }\n",
       "\n",
       "    .dataframe thead th {\n",
       "        text-align: right;\n",
       "    }\n",
       "</style>\n",
       "<table border=\"1\" class=\"dataframe\">\n",
       "  <thead>\n",
       "    <tr style=\"text-align: right;\">\n",
       "      <th></th>\n",
       "      <th>Unnamed: 0</th>\n",
       "      <th>custid</th>\n",
       "      <th>sex</th>\n",
       "      <th>is_employed</th>\n",
       "      <th>income</th>\n",
       "      <th>marital_status</th>\n",
       "      <th>health_ins</th>\n",
       "      <th>housing_type</th>\n",
       "      <th>num_vehicles</th>\n",
       "      <th>age</th>\n",
       "      <th>state_of_res</th>\n",
       "      <th>code_column</th>\n",
       "      <th>gas_usage</th>\n",
       "      <th>rooms</th>\n",
       "      <th>recent_move_b</th>\n",
       "    </tr>\n",
       "  </thead>\n",
       "  <tbody>\n",
       "    <tr>\n",
       "      <th>594</th>\n",
       "      <td>823</td>\n",
       "      <td>000881186_01</td>\n",
       "      <td>Male</td>\n",
       "      <td>True</td>\n",
       "      <td>50000.0</td>\n",
       "      <td>Never married</td>\n",
       "      <td>False</td>\n",
       "      <td>Rented</td>\n",
       "      <td>1.0</td>\n",
       "      <td>0</td>\n",
       "      <td>Alabama</td>\n",
       "      <td>1047</td>\n",
       "      <td>3.0</td>\n",
       "      <td>3</td>\n",
       "      <td>T</td>\n",
       "    </tr>\n",
       "    <tr>\n",
       "      <th>1260</th>\n",
       "      <td>1773</td>\n",
       "      <td>000054490_02</td>\n",
       "      <td>Male</td>\n",
       "      <td>False</td>\n",
       "      <td>0.0</td>\n",
       "      <td>Married</td>\n",
       "      <td>True</td>\n",
       "      <td>Rented</td>\n",
       "      <td>0.0</td>\n",
       "      <td>0</td>\n",
       "      <td>Arizona</td>\n",
       "      <td>1534</td>\n",
       "      <td>3.0</td>\n",
       "      <td>4</td>\n",
       "      <td>F</td>\n",
       "    </tr>\n",
       "    <tr>\n",
       "      <th>1658</th>\n",
       "      <td>2332</td>\n",
       "      <td>000432667_03</td>\n",
       "      <td>Female</td>\n",
       "      <td>True</td>\n",
       "      <td>24700.0</td>\n",
       "      <td>Never married</td>\n",
       "      <td>True</td>\n",
       "      <td>Rented</td>\n",
       "      <td>3.0</td>\n",
       "      <td>0</td>\n",
       "      <td>Arizona</td>\n",
       "      <td>1534</td>\n",
       "      <td>3.0</td>\n",
       "      <td>5</td>\n",
       "      <td>F</td>\n",
       "    </tr>\n",
       "    <tr>\n",
       "      <th>2340</th>\n",
       "      <td>3304</td>\n",
       "      <td>001119983_05</td>\n",
       "      <td>Female</td>\n",
       "      <td>True</td>\n",
       "      <td>2400.0</td>\n",
       "      <td>Divorced/Separated</td>\n",
       "      <td>True</td>\n",
       "      <td>Rented</td>\n",
       "      <td>0.0</td>\n",
       "      <td>0</td>\n",
       "      <td>Arizona</td>\n",
       "      <td>1534</td>\n",
       "      <td>3.0</td>\n",
       "      <td>4</td>\n",
       "      <td>T</td>\n",
       "    </tr>\n",
       "    <tr>\n",
       "      <th>2859</th>\n",
       "      <td>4048</td>\n",
       "      <td>000377914_02</td>\n",
       "      <td>Female</td>\n",
       "      <td>NaN</td>\n",
       "      <td>9700.0</td>\n",
       "      <td>Married</td>\n",
       "      <td>True</td>\n",
       "      <td>Homeowner free and clear</td>\n",
       "      <td>3.0</td>\n",
       "      <td>0</td>\n",
       "      <td>Arkansas</td>\n",
       "      <td>653</td>\n",
       "      <td>3.0</td>\n",
       "      <td>2</td>\n",
       "      <td>F</td>\n",
       "    </tr>\n",
       "  </tbody>\n",
       "</table>\n",
       "</div>"
      ],
      "text/plain": [
       "      Unnamed: 0        custid     sex is_employed   income  \\\n",
       "594          823  000881186_01    Male        True  50000.0   \n",
       "1260        1773  000054490_02    Male       False      0.0   \n",
       "1658        2332  000432667_03  Female        True  24700.0   \n",
       "2340        3304  001119983_05  Female        True   2400.0   \n",
       "2859        4048  000377914_02  Female         NaN   9700.0   \n",
       "\n",
       "          marital_status  health_ins              housing_type  num_vehicles  \\\n",
       "594        Never married       False                    Rented           1.0   \n",
       "1260             Married        True                    Rented           0.0   \n",
       "1658       Never married        True                    Rented           3.0   \n",
       "2340  Divorced/Separated        True                    Rented           0.0   \n",
       "2859             Married        True  Homeowner free and clear           3.0   \n",
       "\n",
       "      age state_of_res  code_column  gas_usage  rooms recent_move_b  \n",
       "594     0      Alabama         1047        3.0      3             T  \n",
       "1260    0      Arizona         1534        3.0      4             F  \n",
       "1658    0      Arizona         1534        3.0      5             F  \n",
       "2340    0      Arizona         1534        3.0      4             T  \n",
       "2859    0     Arkansas          653        3.0      2             F  "
      ]
     },
     "execution_count": 5,
     "metadata": {},
     "output_type": "execute_result"
    }
   ],
   "source": [
    "age_0 = df[df['age'] == 0]\n",
    "age_0.head()"
   ]
  },
  {
   "cell_type": "code",
   "execution_count": 6,
   "metadata": {},
   "outputs": [
    {
     "data": {
      "text/html": [
       "<div>\n",
       "<style scoped>\n",
       "    .dataframe tbody tr th:only-of-type {\n",
       "        vertical-align: middle;\n",
       "    }\n",
       "\n",
       "    .dataframe tbody tr th {\n",
       "        vertical-align: top;\n",
       "    }\n",
       "\n",
       "    .dataframe thead th {\n",
       "        text-align: right;\n",
       "    }\n",
       "</style>\n",
       "<table border=\"1\" class=\"dataframe\">\n",
       "  <thead>\n",
       "    <tr style=\"text-align: right;\">\n",
       "      <th></th>\n",
       "      <th>Unnamed: 0</th>\n",
       "      <th>income</th>\n",
       "      <th>num_vehicles</th>\n",
       "      <th>age</th>\n",
       "      <th>code_column</th>\n",
       "      <th>gas_usage</th>\n",
       "      <th>rooms</th>\n",
       "    </tr>\n",
       "  </thead>\n",
       "  <tbody>\n",
       "    <tr>\n",
       "      <th>count</th>\n",
       "      <td>77.000000</td>\n",
       "      <td>77.000000</td>\n",
       "      <td>76.000000</td>\n",
       "      <td>77.0</td>\n",
       "      <td>77.000000</td>\n",
       "      <td>76.000000</td>\n",
       "      <td>77.000000</td>\n",
       "    </tr>\n",
       "    <tr>\n",
       "      <th>mean</th>\n",
       "      <td>51351.155844</td>\n",
       "      <td>36672.077922</td>\n",
       "      <td>1.934211</td>\n",
       "      <td>0.0</td>\n",
       "      <td>3417.766234</td>\n",
       "      <td>31.605263</td>\n",
       "      <td>3.532468</td>\n",
       "    </tr>\n",
       "    <tr>\n",
       "      <th>std</th>\n",
       "      <td>29856.346859</td>\n",
       "      <td>42400.542118</td>\n",
       "      <td>1.049896</td>\n",
       "      <td>0.0</td>\n",
       "      <td>2867.671189</td>\n",
       "      <td>52.902446</td>\n",
       "      <td>1.721263</td>\n",
       "    </tr>\n",
       "    <tr>\n",
       "      <th>min</th>\n",
       "      <td>823.000000</td>\n",
       "      <td>0.000000</td>\n",
       "      <td>0.000000</td>\n",
       "      <td>0.0</td>\n",
       "      <td>146.000000</td>\n",
       "      <td>1.000000</td>\n",
       "      <td>1.000000</td>\n",
       "    </tr>\n",
       "    <tr>\n",
       "      <th>25%</th>\n",
       "      <td>19222.000000</td>\n",
       "      <td>8300.000000</td>\n",
       "      <td>1.000000</td>\n",
       "      <td>0.0</td>\n",
       "      <td>1291.000000</td>\n",
       "      <td>3.000000</td>\n",
       "      <td>2.000000</td>\n",
       "    </tr>\n",
       "    <tr>\n",
       "      <th>50%</th>\n",
       "      <td>57583.000000</td>\n",
       "      <td>23700.000000</td>\n",
       "      <td>2.000000</td>\n",
       "      <td>0.0</td>\n",
       "      <td>2198.000000</td>\n",
       "      <td>3.000000</td>\n",
       "      <td>4.000000</td>\n",
       "    </tr>\n",
       "    <tr>\n",
       "      <th>75%</th>\n",
       "      <td>77987.000000</td>\n",
       "      <td>60000.000000</td>\n",
       "      <td>3.000000</td>\n",
       "      <td>0.0</td>\n",
       "      <td>4979.000000</td>\n",
       "      <td>40.000000</td>\n",
       "      <td>5.000000</td>\n",
       "    </tr>\n",
       "    <tr>\n",
       "      <th>max</th>\n",
       "      <td>96887.000000</td>\n",
       "      <td>195000.000000</td>\n",
       "      <td>4.000000</td>\n",
       "      <td>0.0</td>\n",
       "      <td>8962.000000</td>\n",
       "      <td>330.000000</td>\n",
       "      <td>6.000000</td>\n",
       "    </tr>\n",
       "  </tbody>\n",
       "</table>\n",
       "</div>"
      ],
      "text/plain": [
       "         Unnamed: 0         income  num_vehicles   age  code_column  \\\n",
       "count     77.000000      77.000000     76.000000  77.0    77.000000   \n",
       "mean   51351.155844   36672.077922      1.934211   0.0  3417.766234   \n",
       "std    29856.346859   42400.542118      1.049896   0.0  2867.671189   \n",
       "min      823.000000       0.000000      0.000000   0.0   146.000000   \n",
       "25%    19222.000000    8300.000000      1.000000   0.0  1291.000000   \n",
       "50%    57583.000000   23700.000000      2.000000   0.0  2198.000000   \n",
       "75%    77987.000000   60000.000000      3.000000   0.0  4979.000000   \n",
       "max    96887.000000  195000.000000      4.000000   0.0  8962.000000   \n",
       "\n",
       "        gas_usage      rooms  \n",
       "count   76.000000  77.000000  \n",
       "mean    31.605263   3.532468  \n",
       "std     52.902446   1.721263  \n",
       "min      1.000000   1.000000  \n",
       "25%      3.000000   2.000000  \n",
       "50%      3.000000   4.000000  \n",
       "75%     40.000000   5.000000  \n",
       "max    330.000000   6.000000  "
      ]
     },
     "execution_count": 6,
     "metadata": {},
     "output_type": "execute_result"
    }
   ],
   "source": [
    "age_0.describe()"
   ]
  },
  {
   "cell_type": "markdown",
   "metadata": {},
   "source": [
    "We can consider these rows as wrong data and, therefore, they must be treated later."
   ]
  },
  {
   "cell_type": "code",
   "execution_count": 7,
   "metadata": {},
   "outputs": [
    {
     "data": {
      "text/plain": [
       "np.int64(21)"
      ]
     },
     "execution_count": 7,
     "metadata": {},
     "output_type": "execute_result"
    }
   ],
   "source": [
    "# What's the minimum age excluding 0?\n",
    "df[df['age'] > 0]['age'].min()"
   ]
  },
  {
   "cell_type": "markdown",
   "metadata": {},
   "source": [
    "<img src='imgs/features/age.png' width=600>\n",
    "\n",
    "The mean age is 49.2 years and the median is 48. The distribution is slightly skewed to the right, since there are no records with age below 21 years."
   ]
  },
  {
   "cell_type": "markdown",
   "metadata": {},
   "source": [
    "The YData Profiling report does not provide information about gender distribution by age, but it would be interesting to see if there are any patterns in the data."
   ]
  },
  {
   "cell_type": "code",
   "execution_count": 8,
   "metadata": {},
   "outputs": [
    {
     "name": "stderr",
     "output_type": "stream",
     "text": [
      "/var/folders/sv/gxsvk5v96llb5jl5wq8sxllh0000gn/T/ipykernel_84580/257316797.py:5: SettingWithCopyWarning: \n",
      "A value is trying to be set on a copy of a slice from a DataFrame.\n",
      "Try using .loc[row_indexer,col_indexer] = value instead\n",
      "\n",
      "See the caveats in the documentation: https://pandas.pydata.org/pandas-docs/stable/user_guide/indexing.html#returning-a-view-versus-a-copy\n",
      "  df_filtered_age['age_group'] = pd.cut(df_filtered_age['age'], bins=range(20, 110, 10))\n"
     ]
    }
   ],
   "source": [
    "# Exclude rows with age 0 or age >= 100\n",
    "df_filtered_age = df[(df['age'] > 0) & (df['age'] < 100)]\n",
    "\n",
    "# Group by age in 10-year bins\n",
    "df_filtered_age['age_group'] = pd.cut(df_filtered_age['age'], bins=range(20, 110, 10))\n",
    "\n",
    "# Count the occurrences for each age group and gender\n",
    "# Add observed=True to silence the warning\n",
    "age_gender_counts = df_filtered_age.groupby(['age_group', 'sex'], observed=True).size().unstack()\n",
    "\n",
    "# Create a stacked bar plot\n",
    "ax = age_gender_counts.plot(kind='bar', stacked=True, figsize=(12, 6))\n",
    "\n",
    "# Customize the plot\n",
    "plt.title('Age Distribution by Gender', fontsize=16)\n",
    "plt.xlabel('Age Group', fontsize=12)\n",
    "plt.ylabel('Count', fontsize=12)\n",
    "plt.legend(title='Gender', title_fontsize=12)\n",
    "plt.xticks(rotation=45)\n",
    "\n",
    "# Add value labels on the bars\n",
    "for c in ax.containers:\n",
    "    ax.bar_label(c, label_type='center')\n",
    "\n",
    "# Adjust layout and display the plot\n",
    "plt.tight_layout()\n",
    "plt.savefig('imgs/correlations/age-sex.png')"
   ]
  },
  {
   "cell_type": "markdown",
   "metadata": {},
   "source": [
    "<img src='imgs/correlations/age-sex.png' width=750>\n",
    "\n",
    "The representation of genders by age is balanced!"
   ]
  },
  {
   "cell_type": "markdown",
   "metadata": {},
   "source": [
    "#### **is_employed** and **income**\n",
    "\n",
    "<img src='imgs/features/is_employed.png' width=600>\n",
    "\n",
    "The **is_employed** feature is a boolean one. This is a problematic feature, since there are 25515 (32%) missing values. Among the non-missing values, 95% of them are True, which may indicate a bias in the data. This feature may be useful in a classification problem, but the missing values must be treated, as well as the imbalance in the distribution.\n",
    "\n",
    "**income** is a numeric feature, which contains values from -6900 to 1257000. The negative values (there are 45) are likely errors in the data."
   ]
  },
  {
   "cell_type": "code",
   "execution_count": 9,
   "metadata": {},
   "outputs": [
    {
     "data": {
      "text/plain": [
       "np.float64(46176.96091111044)"
      ]
     },
     "execution_count": 9,
     "metadata": {},
     "output_type": "execute_result"
    }
   ],
   "source": [
    "# Mean of positive incomes\n",
    "df[df['income'] > 0]['income'].mean()"
   ]
  },
  {
   "cell_type": "code",
   "execution_count": 10,
   "metadata": {},
   "outputs": [],
   "source": [
    "# plot health_ins by each category of is_employed\n",
    "\n",
    "health_ins_by_employed = df_filtered_age.groupby(['is_employed', 'health_ins']).size().unstack()\n",
    "\n",
    "ax = health_ins_by_employed.plot(kind='bar', stacked=True, figsize=(12, 6))\n",
    "\n",
    "plt.title('Health Insurance by Employment Status', fontsize=16)\n",
    "plt.xlabel('Employment Status', fontsize=12)\n",
    "plt.ylabel('Count', fontsize=12)\n",
    "plt.legend(title='Health Insurance', title_fontsize=12)\n",
    "plt.xticks(rotation=0)\n",
    "\n",
    "for c in ax.containers:\n",
    "    ax.bar_label(c, label_type='center')\n",
    "\n",
    "plt.tight_layout()\n",
    "plt.savefig('imgs/correlations/health_ins-is_employed.png')"
   ]
  },
  {
   "cell_type": "code",
   "execution_count": 11,
   "metadata": {},
   "outputs": [
    {
     "name": "stderr",
     "output_type": "stream",
     "text": [
      "/var/folders/sv/gxsvk5v96llb5jl5wq8sxllh0000gn/T/ipykernel_84580/2686454428.py:2: SettingWithCopyWarning: \n",
      "A value is trying to be set on a copy of a slice from a DataFrame.\n",
      "Try using .loc[row_indexer,col_indexer] = value instead\n",
      "\n",
      "See the caveats in the documentation: https://pandas.pydata.org/pandas-docs/stable/user_guide/indexing.html#returning-a-view-versus-a-copy\n",
      "  df_filtered_age['income_group'] = pd.cut(df_filtered_age['income'], bins=range(0, 260, 10))\n"
     ]
    }
   ],
   "source": [
    "# Group by income in 10k bins (from 0 to 250k) and see their relation with health insurance\n",
    "df_filtered_age['income_group'] = pd.cut(df_filtered_age['income'], bins=range(0, 260, 10))\n",
    "income_insurance_counts = df_filtered_age.groupby(['income_group', 'health_ins'], observed=True).size().unstack()\n",
    "\n",
    "# Create a stacked bar plot\n",
    "ax = income_insurance_counts.plot(kind='bar', stacked=True, figsize=(12, 6))\n",
    "\n",
    "# Customize the plot\n",
    "plt.title('Income Distribution by Health Insurance', fontsize=16)\n",
    "plt.xlabel('Income Group', fontsize=12)\n",
    "plt.ylabel('Count', fontsize=12)\n",
    "plt.legend(title='Health Insurance', title_fontsize=12)\n",
    "plt.xticks(rotation=45)\n",
    "\n",
    "# Add value labels on the bars\n",
    "for c in ax.containers:\n",
    "    ax.bar_label(c, label_type='center')\n",
    "\n",
    "# Adjust layout and display the plot\n",
    "plt.tight_layout()\n",
    "plt.savefig('imgs/correlations/health_ins-income.png')"
   ]
  },
  {
   "cell_type": "markdown",
   "metadata": {},
   "source": [
    "<img src='imgs/correlations/health_ins-is_employed.png' width=600>\n",
    "<img src='imgs/correlations/health_ins-income.png' width=600>\n",
    "\n",
    "As we can see, across all income levels, the customers predominantly have health insurance. \n",
    "\n",
    "Among the **unemplyed** customers, **75%** of them have health insurance and, among the **employed** customers, **90%** of them have health insurance."
   ]
  },
  {
   "cell_type": "code",
   "execution_count": 12,
   "metadata": {},
   "outputs": [],
   "source": [
    "# How is age related to income?\n",
    "plt.figure(figsize=(12, 6))\n",
    "sns.scatterplot(data=df_filtered_age, x='age', y='income')\n",
    "plt.title('Age vs Income', fontsize=16)\n",
    "plt.xlabel('Age', fontsize=12)\n",
    "plt.ylabel('Income', fontsize=12)\n",
    "plt.tight_layout()\n",
    "plt.savefig('imgs/correlations/age-income.png')"
   ]
  },
  {
   "cell_type": "markdown",
   "metadata": {},
   "source": [
    "<img src='imgs/correlations/age-income.png' width=600>\n",
    "\n",
    "People with ages between 40 and 80 years old are more likely to have \"exorbitant\" incomes."
   ]
  },
  {
   "cell_type": "markdown",
   "metadata": {},
   "source": [
    "#### **Marital Status**"
   ]
  },
  {
   "cell_type": "code",
   "execution_count": 13,
   "metadata": {},
   "outputs": [
    {
     "data": {
      "text/plain": [
       "marital_status\n",
       "Married               0.524994\n",
       "Never married         0.263877\n",
       "Divorced/Separated    0.145905\n",
       "Widowed               0.065224\n",
       "Name: count, dtype: float64"
      ]
     },
     "execution_count": 13,
     "metadata": {},
     "output_type": "execute_result"
    }
   ],
   "source": [
    "df['marital_status'].value_counts()/df.shape[0]"
   ]
  },
  {
   "cell_type": "markdown",
   "metadata": {},
   "source": [
    "There are 4 different categories for marital status: Married, Never Married, Divorced/Separated, Widowed. There is a predominance of the Married category, with 52.5% of the examples. There are no missing values."
   ]
  },
  {
   "cell_type": "markdown",
   "metadata": {},
   "source": [
    "#### **Housing Type** and **Rooms**\n",
    "\n",
    "<img src='imgs/features/housing_type.png' width=450>\n",
    "\n",
    "The **housing type** feature has 4 categories:  Homeowner with mortgage/loan, Rented,  Homeowner free and clear,  Occupied with no rent. There is a little predominance of the Homeowner with mortgage/loan category, with 42.9% of the examples. There are 2.3% missing values, which may require some attention.\n",
    "\n",
    "<img src='imgs/features/rooms.png' width=450>\n",
    "\n",
    "The **rooms** feature is a numeric one, with values ranging from 0 to 6. The values seem to be very well distributed, with no missing or wrong values."
   ]
  },
  {
   "cell_type": "markdown",
   "metadata": {},
   "source": [
    "#### **Number of vehicles** and **Gas Usage**"
   ]
  },
  {
   "cell_type": "markdown",
   "metadata": {},
   "source": [
    "<img src='imgs/features/num_vehicles.png' width=600>\n",
    "\n",
    "The **num_vehicles** feature is a numeric one, with values ranging from 0 to 6. There are some missing values (2.3%) wich may require some attention. The **zeros** alert indicated in the report is not a problem, since it is possible for a person not to have a vehicle.\n",
    "The most frequent value is 2, with 38.7% of the examples."
   ]
  },
  {
   "cell_type": "code",
   "execution_count": 14,
   "metadata": {},
   "outputs": [],
   "source": [
    "# Scatterplot with the frequency of gas usage values.\n",
    "\n",
    "# Calculate the frequency of each gas usage value\n",
    "gas_usage_counts = df['gas_usage'].value_counts().reset_index()\n",
    "gas_usage_counts.columns = ['gas_usage', 'frequency']\n",
    "\n",
    "# Create the scatter plot\n",
    "plt.figure(figsize=(12, 6))\n",
    "sns.scatterplot(data=gas_usage_counts, x='gas_usage', y='frequency')\n",
    "plt.title('Gas Usage Frequency', fontsize=16)\n",
    "plt.xlabel('Gas Usage', fontsize=12)\n",
    "plt.ylabel('Frequency', fontsize=12)\n",
    "plt.tight_layout()\n",
    "plt.savefig('imgs/features/gas_usage-frequency.png')"
   ]
  },
  {
   "cell_type": "markdown",
   "metadata": {},
   "source": [
    "<img src='imgs/features/gas_usage.png' width=500>\n",
    "<img src='imgs/features/gas_usage-frequency.png' width=500>\n",
    "\n",
    "The measure of **gas usage** is a numeric feature, with values ranging from 1 to 570. There are 2.3% of missing values, most of the values are concentrated between 1 and 100."
   ]
  },
  {
   "cell_type": "markdown",
   "metadata": {},
   "source": [
    "#### **State of Residence** and **Recent Move**"
   ]
  },
  {
   "cell_type": "code",
   "execution_count": 15,
   "metadata": {},
   "outputs": [
    {
     "data": {
      "text/plain": [
       "state_of_res\n",
       "California        12.241574\n",
       "Texas              8.195092\n",
       "Florida            6.791521\n",
       "New York           6.037981\n",
       "Pennsylvania       4.096166\n",
       "Illinois           3.996798\n",
       "Ohio               3.570344\n",
       "North Carolina     3.214276\n",
       "Michigan           3.099727\n",
       "Georgia            3.004499\n",
       "Name: count, dtype: float64"
      ]
     },
     "execution_count": 15,
     "metadata": {},
     "output_type": "execute_result"
    }
   ],
   "source": [
    "df['state_of_res'].value_counts().head(10)/df.shape[0]*100"
   ]
  },
  {
   "cell_type": "code",
   "execution_count": 16,
   "metadata": {},
   "outputs": [
    {
     "data": {
      "text/plain": [
       "array(['Alabama', 'Alaska', 'Arizona', 'Arkansas', 'California',\n",
       "       'Colorado', 'Connecticut', 'Delaware', 'District of Columbia',\n",
       "       'Florida', 'Georgia', 'Hawaii', 'Idaho', 'Illinois', 'Indiana',\n",
       "       'Iowa', 'Kansas', 'Kentucky', 'Louisiana', 'Maine', 'Maryland',\n",
       "       'Massachusetts', 'Michigan', 'Minnesota', 'Mississippi',\n",
       "       'Missouri', 'Montana', 'Nebraska', 'Nevada', 'New Hampshire',\n",
       "       'New Jersey', 'New Mexico', 'New York', 'North Carolina',\n",
       "       'North Dakota', 'Ohio', 'Oklahoma', 'Oregon', 'Pennsylvania',\n",
       "       'Rhode Island', 'South Carolina', 'South Dakota', 'Tennessee',\n",
       "       'Texas', 'Utah', 'Vermont', 'Virginia', 'Washington',\n",
       "       'West Virginia', 'Wisconsin', 'Wyoming'], dtype=object)"
      ]
     },
     "execution_count": 16,
     "metadata": {},
     "output_type": "execute_result"
    }
   ],
   "source": [
    "df['state_of_res'].unique()"
   ]
  },
  {
   "cell_type": "markdown",
   "metadata": {},
   "source": [
    "The most represented state is California, with 12.2% of the examples. Texas, Florida and New York are the next most represented states. There are no missing values nor wrong values."
   ]
  },
  {
   "cell_type": "markdown",
   "metadata": {},
   "source": [
    "<img src='imgs/features/recent_move.png' width=600>\n",
    "\n",
    "The **recent move** feature is a boolean one, with 2.3% of missing values. The distribution of the values is not balanced, with 85.4% of the examples being False."
   ]
  },
  {
   "cell_type": "code",
   "execution_count": 17,
   "metadata": {},
   "outputs": [
    {
     "data": {
      "text/plain": [
       "state_of_res\n",
       "California    1001\n",
       "Texas          885\n",
       "Florida        661\n",
       "New York       380\n",
       "Illinois       345\n",
       "Name: count, dtype: int64"
      ]
     },
     "execution_count": 17,
     "metadata": {},
     "output_type": "execute_result"
    }
   ],
   "source": [
    "# States with most recent moves. Filter for recent moves = True\n",
    "recent_moves = df[df['recent_move_b'] == 'T']\n",
    "\n",
    "# Group by state of residence and count the number of recent moves\n",
    "recent_moves['state_of_res'].value_counts().head(5)"
   ]
  },
  {
   "cell_type": "markdown",
   "metadata": {},
   "source": [
    "The state with more cases of recent moves is **California**."
   ]
  },
  {
   "cell_type": "code",
   "execution_count": 18,
   "metadata": {},
   "outputs": [
    {
     "name": "stderr",
     "output_type": "stream",
     "text": [
      "/var/folders/sv/gxsvk5v96llb5jl5wq8sxllh0000gn/T/ipykernel_84580/2879923828.py:2: SettingWithCopyWarning: \n",
      "A value is trying to be set on a copy of a slice from a DataFrame.\n",
      "Try using .loc[row_indexer,col_indexer] = value instead\n",
      "\n",
      "See the caveats in the documentation: https://pandas.pydata.org/pandas-docs/stable/user_guide/indexing.html#returning-a-view-versus-a-copy\n",
      "  recent_moves['age_group'] = pd.cut(recent_moves['age'], bins=range(20, 110, 10))\n",
      "/var/folders/sv/gxsvk5v96llb5jl5wq8sxllh0000gn/T/ipykernel_84580/2879923828.py:3: FutureWarning: The default of observed=False is deprecated and will be changed to True in a future version of pandas. Pass observed=False to retain current behavior or observed=True to adopt the future default and silence this warning.\n",
      "  age_recent_moves = recent_moves.groupby('age_group').size()\n",
      "/var/folders/sv/gxsvk5v96llb5jl5wq8sxllh0000gn/T/ipykernel_84580/2879923828.py:7: FutureWarning: \n",
      "\n",
      "Passing `palette` without assigning `hue` is deprecated and will be removed in v0.14.0. Assign the `x` variable to `hue` and set `legend=False` for the same effect.\n",
      "\n",
      "  sns.barplot(x=age_recent_moves.index, y=age_recent_moves.values, palette='viridis')\n"
     ]
    }
   ],
   "source": [
    "# What age do people move the most?\n",
    "recent_moves['age_group'] = pd.cut(recent_moves['age'], bins=range(20, 110, 10))\n",
    "age_recent_moves = recent_moves.groupby('age_group').size()\n",
    "\n",
    "# Create a bar plot\n",
    "plt.figure(figsize=(12, 6))\n",
    "sns.barplot(x=age_recent_moves.index, y=age_recent_moves.values, palette='viridis')\n",
    "\n",
    "# Customize the plot\n",
    "plt.title('Recent Moves by Age Group', fontsize=16)\n",
    "plt.xlabel('Age Group', fontsize=12)\n",
    "plt.ylabel('Count', fontsize=12)\n",
    "plt.xticks(rotation=45)\n",
    "\n",
    "# Adjust layout and display the plot\n",
    "plt.tight_layout()\n",
    "plt.savefig('imgs/correlations/age-recent_moves.png')"
   ]
  },
  {
   "cell_type": "markdown",
   "metadata": {},
   "source": [
    "<img src='imgs/correlations/age-recent_moves.png' width=600>\n",
    "\n",
    "As expected, the older the customers, the less likely they are to have recently moved."
   ]
  },
  {
   "cell_type": "markdown",
   "metadata": {},
   "source": [
    "## **Correlation Analysis**"
   ]
  },
  {
   "cell_type": "markdown",
   "metadata": {},
   "source": [
    "<img src='imgs/correlation-matrix.png' width=500>"
   ]
  },
  {
   "cell_type": "markdown",
   "metadata": {},
   "source": [
    "There are not many strong correlations between the features. The most significant ones are between the **marital status** and **age** features - which is expected, knowing that marital status is very likely related to the evolution of each individual's life.\n",
    "\n",
    "**Housing type** and **recent move** are also a bit correlated."
   ]
  },
  {
   "cell_type": "code",
   "execution_count": 19,
   "metadata": {},
   "outputs": [
    {
     "name": "stderr",
     "output_type": "stream",
     "text": [
      "/var/folders/sv/gxsvk5v96llb5jl5wq8sxllh0000gn/T/ipykernel_84580/1018264908.py:8: FutureWarning: \n",
      "\n",
      "Passing `palette` without assigning `hue` is deprecated and will be removed in v0.14.0. Assign the `x` variable to `hue` and set `legend=False` for the same effect.\n",
      "\n",
      "  sns.barplot(x=marital_age.index, y=marital_age.values, palette='viridis')\n"
     ]
    }
   ],
   "source": [
    "# Correlation between marital status and and age\n",
    "\n",
    "# Group by marital status and calculate the average age\n",
    "marital_age = df_filtered_age.groupby('marital_status')['age'].mean()\n",
    "\n",
    "# Create a bar plot\n",
    "plt.figure(figsize=(12, 6))\n",
    "sns.barplot(x=marital_age.index, y=marital_age.values, palette='viridis')\n",
    "\n",
    "# Customize the plot\n",
    "plt.title('Average Age by Marital Status', fontsize=16)\n",
    "plt.xlabel('Marital Status', fontsize=12)\n",
    "plt.ylabel('Average Age', fontsize=12)\n",
    "plt.xticks(rotation=45)\n",
    "\n",
    "# Adjust layout and display the plot\n",
    "plt.tight_layout()\n",
    "plt.savefig('imgs/correlations/age-marital_status.png')"
   ]
  },
  {
   "cell_type": "markdown",
   "metadata": {},
   "source": [
    "<img src='imgs/correlations/age-marital_status.png' width=700>\n",
    "\n",
    "Never married people tend to be younger, while widowed people tend to be older. Between these average ages there are the divorced/separated and married people."
   ]
  },
  {
   "cell_type": "code",
   "execution_count": 20,
   "metadata": {},
   "outputs": [
    {
     "name": "stderr",
     "output_type": "stream",
     "text": [
      "/var/folders/sv/gxsvk5v96llb5jl5wq8sxllh0000gn/T/ipykernel_84580/1665147432.py:7: FutureWarning: \n",
      "\n",
      "Passing `palette` without assigning `hue` is deprecated and will be removed in v0.14.0. Assign the `x` variable to `hue` and set `legend=False` for the same effect.\n",
      "\n",
      "  sns.barplot(x=housing_recent_moves.index, y=housing_recent_moves.values, palette='viridis')\n"
     ]
    }
   ],
   "source": [
    "# Correlation between housing type and recent moves\n",
    "\n",
    "housing_recent_moves = recent_moves.groupby(['housing_type']).size()\n",
    "\n",
    "# Create a bar plot\n",
    "plt.figure(figsize=(12, 6))\n",
    "sns.barplot(x=housing_recent_moves.index, y=housing_recent_moves.values, palette='viridis')\n",
    "\n",
    "# Customize the plot\n",
    "plt.title('Recent Moves by Housing Type', fontsize=16)\n",
    "plt.xlabel('Housing Type', fontsize=12)\n",
    "plt.ylabel('Count', fontsize=12)\n",
    "plt.xticks(rotation=45)\n",
    "\n",
    "# Adjust layout and display the plot\n",
    "plt.tight_layout()\n",
    "plt.savefig('imgs/correlations/recent_moves-housing_type.png')"
   ]
  },
  {
   "cell_type": "markdown",
   "metadata": {},
   "source": [
    "<img src='imgs/correlations/recent_moves-housing_type.png' width=700>\n",
    "\n",
    "People who have recently moved are more likely to be renters."
   ]
  },
  {
   "cell_type": "markdown",
   "metadata": {},
   "source": [
    "## **Data quality alerts**\n",
    "\n",
    "After looking at the features individually, most of their problems were already identified. Let's look at the report's summary of data quality alerts.\n",
    "\n",
    "<img src='imgs/alerts.png' width=450>"
   ]
  },
  {
   "cell_type": "markdown",
   "metadata": {},
   "source": [
    "In general, there are not many columns with an huge amount of **missing values**. The most problematic column is **is_employed**, with a considerable number of null cases when compared to the other features.\n",
    "\n",
    "<img src='imgs/missing-values.png' width=550>"
   ]
  },
  {
   "cell_type": "markdown",
   "metadata": {},
   "source": [
    "Outliers are present in the **age** and **income** features. The **age** feature has zero values and a very high maximum value, which is likely an outlier. The **income** feature has negative values, which are likely errors in the data."
   ]
  },
  {
   "cell_type": "markdown",
   "metadata": {},
   "source": [
    "**Unique identifiers** are present in the **custid** and **_unnamed_** columns. These columns are not useful for a classification problem, since they don't provide any information about subgroups or patterns in the data."
   ]
  }
 ],
 "metadata": {
  "kernelspec": {
   "display_name": "icd",
   "language": "python",
   "name": "python3"
  },
  "language_info": {
   "codemirror_mode": {
    "name": "ipython",
    "version": 3
   },
   "file_extension": ".py",
   "mimetype": "text/x-python",
   "name": "python",
   "nbconvert_exporter": "python",
   "pygments_lexer": "ipython3",
   "version": "3.12.6"
  }
 },
 "nbformat": 4,
 "nbformat_minor": 2
}
