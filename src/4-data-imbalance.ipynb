{
 "cells": [
  {
   "cell_type": "code",
   "execution_count": 20,
   "metadata": {},
   "outputs": [],
   "source": [
    "import pandas as pd\n",
    "import matplotlib.pyplot as plt\n",
    "import problexity as pbx\n",
    "from imblearn.combine import SMOTEENN, SMOTETomek\n",
    "from imblearn.over_sampling import BorderlineSMOTE, ADASYN"
   ]
  },
  {
   "cell_type": "code",
   "execution_count": 21,
   "metadata": {},
   "outputs": [
    {
     "data": {
      "text/html": [
       "<div>\n",
       "<style scoped>\n",
       "    .dataframe tbody tr th:only-of-type {\n",
       "        vertical-align: middle;\n",
       "    }\n",
       "\n",
       "    .dataframe tbody tr th {\n",
       "        vertical-align: top;\n",
       "    }\n",
       "\n",
       "    .dataframe thead th {\n",
       "        text-align: right;\n",
       "    }\n",
       "</style>\n",
       "<table border=\"1\" class=\"dataframe\">\n",
       "  <thead>\n",
       "    <tr style=\"text-align: right;\">\n",
       "      <th></th>\n",
       "      <th>sex</th>\n",
       "      <th>is_employed</th>\n",
       "      <th>income</th>\n",
       "      <th>health_ins</th>\n",
       "      <th>num_vehicles</th>\n",
       "      <th>age</th>\n",
       "      <th>state_of_res</th>\n",
       "      <th>gas_usage</th>\n",
       "      <th>rooms</th>\n",
       "      <th>marital_status_Divorced/Separated</th>\n",
       "      <th>marital_status_Married</th>\n",
       "      <th>marital_status_Never married</th>\n",
       "      <th>marital_status_Widowed</th>\n",
       "      <th>housing_type_Homeowner free and clear</th>\n",
       "      <th>housing_type_Homeowner with mortgage/loan</th>\n",
       "      <th>housing_type_Occupied with no rent</th>\n",
       "      <th>housing_type_Rented</th>\n",
       "    </tr>\n",
       "  </thead>\n",
       "  <tbody>\n",
       "    <tr>\n",
       "      <th>0</th>\n",
       "      <td>1</td>\n",
       "      <td>1</td>\n",
       "      <td>-0.35</td>\n",
       "      <td>1</td>\n",
       "      <td>0.0</td>\n",
       "      <td>0.04</td>\n",
       "      <td>0</td>\n",
       "      <td>2.67</td>\n",
       "      <td>3</td>\n",
       "      <td>0</td>\n",
       "      <td>0</td>\n",
       "      <td>1</td>\n",
       "      <td>0</td>\n",
       "      <td>1</td>\n",
       "      <td>0</td>\n",
       "      <td>0</td>\n",
       "      <td>0</td>\n",
       "    </tr>\n",
       "    <tr>\n",
       "      <th>1</th>\n",
       "      <td>0</td>\n",
       "      <td>0</td>\n",
       "      <td>-0.33</td>\n",
       "      <td>1</td>\n",
       "      <td>0.0</td>\n",
       "      <td>0.78</td>\n",
       "      <td>0</td>\n",
       "      <td>-0.61</td>\n",
       "      <td>6</td>\n",
       "      <td>1</td>\n",
       "      <td>0</td>\n",
       "      <td>0</td>\n",
       "      <td>0</td>\n",
       "      <td>0</td>\n",
       "      <td>0</td>\n",
       "      <td>0</td>\n",
       "      <td>1</td>\n",
       "    </tr>\n",
       "    <tr>\n",
       "      <th>2</th>\n",
       "      <td>0</td>\n",
       "      <td>1</td>\n",
       "      <td>-0.37</td>\n",
       "      <td>1</td>\n",
       "      <td>2.0</td>\n",
       "      <td>0.13</td>\n",
       "      <td>0</td>\n",
       "      <td>-0.02</td>\n",
       "      <td>3</td>\n",
       "      <td>0</td>\n",
       "      <td>0</td>\n",
       "      <td>1</td>\n",
       "      <td>0</td>\n",
       "      <td>0</td>\n",
       "      <td>1</td>\n",
       "      <td>0</td>\n",
       "      <td>0</td>\n",
       "    </tr>\n",
       "    <tr>\n",
       "      <th>3</th>\n",
       "      <td>0</td>\n",
       "      <td>0</td>\n",
       "      <td>-0.08</td>\n",
       "      <td>1</td>\n",
       "      <td>1.0</td>\n",
       "      <td>0.92</td>\n",
       "      <td>0</td>\n",
       "      <td>1.25</td>\n",
       "      <td>2</td>\n",
       "      <td>0</td>\n",
       "      <td>0</td>\n",
       "      <td>0</td>\n",
       "      <td>1</td>\n",
       "      <td>1</td>\n",
       "      <td>0</td>\n",
       "      <td>0</td>\n",
       "      <td>0</td>\n",
       "    </tr>\n",
       "    <tr>\n",
       "      <th>4</th>\n",
       "      <td>1</td>\n",
       "      <td>1</td>\n",
       "      <td>-0.06</td>\n",
       "      <td>1</td>\n",
       "      <td>2.0</td>\n",
       "      <td>0.59</td>\n",
       "      <td>0</td>\n",
       "      <td>-0.61</td>\n",
       "      <td>2</td>\n",
       "      <td>1</td>\n",
       "      <td>0</td>\n",
       "      <td>0</td>\n",
       "      <td>0</td>\n",
       "      <td>0</td>\n",
       "      <td>0</td>\n",
       "      <td>0</td>\n",
       "      <td>1</td>\n",
       "    </tr>\n",
       "  </tbody>\n",
       "</table>\n",
       "</div>"
      ],
      "text/plain": [
       "   sex  is_employed  income  health_ins  num_vehicles   age  state_of_res  \\\n",
       "0    1            1   -0.35           1           0.0  0.04             0   \n",
       "1    0            0   -0.33           1           0.0  0.78             0   \n",
       "2    0            1   -0.37           1           2.0  0.13             0   \n",
       "3    0            0   -0.08           1           1.0  0.92             0   \n",
       "4    1            1   -0.06           1           2.0  0.59             0   \n",
       "\n",
       "   gas_usage  rooms  marital_status_Divorced/Separated  \\\n",
       "0       2.67      3                                  0   \n",
       "1      -0.61      6                                  1   \n",
       "2      -0.02      3                                  0   \n",
       "3       1.25      2                                  0   \n",
       "4      -0.61      2                                  1   \n",
       "\n",
       "   marital_status_Married  marital_status_Never married  \\\n",
       "0                       0                             1   \n",
       "1                       0                             0   \n",
       "2                       0                             1   \n",
       "3                       0                             0   \n",
       "4                       0                             0   \n",
       "\n",
       "   marital_status_Widowed  housing_type_Homeowner free and clear  \\\n",
       "0                       0                                      1   \n",
       "1                       0                                      0   \n",
       "2                       0                                      0   \n",
       "3                       1                                      1   \n",
       "4                       0                                      0   \n",
       "\n",
       "   housing_type_Homeowner with mortgage/loan  \\\n",
       "0                                          0   \n",
       "1                                          0   \n",
       "2                                          1   \n",
       "3                                          0   \n",
       "4                                          0   \n",
       "\n",
       "   housing_type_Occupied with no rent  housing_type_Rented  \n",
       "0                                   0                    0  \n",
       "1                                   0                    1  \n",
       "2                                   0                    0  \n",
       "3                                   0                    0  \n",
       "4                                   0                    1  "
      ]
     },
     "execution_count": 21,
     "metadata": {},
     "output_type": "execute_result"
    }
   ],
   "source": [
    "df = pd.read_csv('../data/customer_cleaned.csv')\n",
    "df.head()"
   ]
  },
  {
   "cell_type": "code",
   "execution_count": 22,
   "metadata": {},
   "outputs": [],
   "source": [
    "X = df.drop('health_ins', axis=1)\n",
    "y = df['health_ins']"
   ]
  },
  {
   "cell_type": "code",
   "execution_count": 23,
   "metadata": {},
   "outputs": [
    {
     "name": "stdout",
     "output_type": "stream",
     "text": [
      "Original dataset: health_ins\n",
      "1    90.910247\n",
      "0     9.089753\n",
      "Name: count, dtype: float64\n",
      "Resampled dataset: health_ins\n",
      "0    56.447068\n",
      "1    43.552932\n",
      "Name: count, dtype: float64\n"
     ]
    }
   ],
   "source": [
    "smote_enn = SMOTEENN(random_state=42)\n",
    "X_resampled_smoteenn, y_resampled_smoteenn = smote_enn.fit_resample(X, y)\n",
    "print(f'Original dataset: {y.value_counts()/len(y)*100}')\n",
    "print(f'Resampled dataset: {y_resampled_smoteenn.value_counts()/len(y_resampled_smoteenn)*100}')"
   ]
  },
  {
   "cell_type": "code",
   "execution_count": 24,
   "metadata": {},
   "outputs": [
    {
     "name": "stdout",
     "output_type": "stream",
     "text": [
      "Original dataset: health_ins\n",
      "1    90.910247\n",
      "0     9.089753\n",
      "Name: count, dtype: float64\n",
      "Resampled dataset: health_ins\n",
      "1    50.0\n",
      "0    50.0\n",
      "Name: count, dtype: float64\n"
     ]
    }
   ],
   "source": [
    "smote_tl = SMOTETomek(random_state=42)\n",
    "X_resampled_smotetl, y_resampled_smotetl = smote_tl.fit_resample(X, y)\n",
    "print(f'Original dataset: {y.value_counts()/len(y)*100}')\n",
    "print(f'Resampled dataset: {y_resampled_smotetl.value_counts()/len(y_resampled_smotetl)*100}')"
   ]
  },
  {
   "cell_type": "code",
   "execution_count": 25,
   "metadata": {},
   "outputs": [
    {
     "name": "stdout",
     "output_type": "stream",
     "text": [
      "Original dataset: health_ins\n",
      "1    90.910247\n",
      "0     9.089753\n",
      "Name: count, dtype: float64\n",
      "Resampled dataset: health_ins\n",
      "1    50.0\n",
      "0    50.0\n",
      "Name: count, dtype: float64\n"
     ]
    }
   ],
   "source": [
    "borderline_smote = BorderlineSMOTE(random_state=42)\n",
    "X_resampled_borderline, y_resampled_borderline = borderline_smote.fit_resample(X, y)\n",
    "print(f'Original dataset: {y.value_counts()/len(y)*100}')\n",
    "print(f'Resampled dataset: {y_resampled_borderline.value_counts()/len(y_resampled_borderline)*100}')"
   ]
  },
  {
   "cell_type": "code",
   "execution_count": 26,
   "metadata": {},
   "outputs": [
    {
     "name": "stdout",
     "output_type": "stream",
     "text": [
      "Original dataset: health_ins\n",
      "1    90.910247\n",
      "0     9.089753\n",
      "Name: count, dtype: float64\n",
      "Resampled dataset: health_ins\n",
      "0    50.0\n",
      "1    50.0\n",
      "Name: count, dtype: float64\n"
     ]
    }
   ],
   "source": [
    "X_resampled_enn_borderline, y_resampled_enn_borderline = borderline_smote.fit_resample(X_resampled_smoteenn, y_resampled_smoteenn)\n",
    "print(f'Original dataset: {y.value_counts()/len(y)*100}')\n",
    "print(f'Resampled dataset: {y_resampled_enn_borderline.value_counts()/len(y_resampled_enn_borderline)*100}')"
   ]
  },
  {
   "cell_type": "code",
   "execution_count": 27,
   "metadata": {},
   "outputs": [
    {
     "name": "stdout",
     "output_type": "stream",
     "text": [
      "Original dataset: health_ins\n",
      "1    90.910247\n",
      "0     9.089753\n",
      "Name: count, dtype: float64\n",
      "Resampled dataset: health_ins\n",
      "0    50.372941\n",
      "1    49.627059\n",
      "Name: count, dtype: float64\n"
     ]
    }
   ],
   "source": [
    "adasyn_smote = ADASYN(random_state=42)\n",
    "X_resampled_adasyn, y_resampled_adasyn = adasyn_smote.fit_resample(X, y)\n",
    "print(f'Original dataset: {y.value_counts()/len(y)*100}')\n",
    "print(f'Resampled dataset: {y_resampled_adasyn.value_counts()/len(y_resampled_adasyn)*100}')"
   ]
  },
  {
   "cell_type": "code",
   "execution_count": 28,
   "metadata": {},
   "outputs": [
    {
     "name": "stdout",
     "output_type": "stream",
     "text": [
      "Calculating for original\n",
      "Calculating for smote-enn\n",
      "Calculating for borderline\n",
      "Calculating for smote-tl\n",
      "Calculating for enn-borderline\n",
      "Calculating for adasyn-smote\n"
     ]
    },
    {
     "data": {
      "text/html": [
       "<div>\n",
       "<style scoped>\n",
       "    .dataframe tbody tr th:only-of-type {\n",
       "        vertical-align: middle;\n",
       "    }\n",
       "\n",
       "    .dataframe tbody tr th {\n",
       "        vertical-align: top;\n",
       "    }\n",
       "\n",
       "    .dataframe thead th {\n",
       "        text-align: right;\n",
       "    }\n",
       "</style>\n",
       "<table border=\"1\" class=\"dataframe\">\n",
       "  <thead>\n",
       "    <tr style=\"text-align: right;\">\n",
       "      <th></th>\n",
       "      <th>dataset</th>\n",
       "      <th>f1</th>\n",
       "      <th>f2</th>\n",
       "      <th>f3</th>\n",
       "      <th>f4</th>\n",
       "    </tr>\n",
       "  </thead>\n",
       "  <tbody>\n",
       "    <tr>\n",
       "      <th>0</th>\n",
       "      <td>original</td>\n",
       "      <td>0.946</td>\n",
       "      <td>0.289</td>\n",
       "      <td>0.995</td>\n",
       "      <td>0.994</td>\n",
       "    </tr>\n",
       "    <tr>\n",
       "      <th>1</th>\n",
       "      <td>smote-enn</td>\n",
       "      <td>0.711</td>\n",
       "      <td>0.289</td>\n",
       "      <td>0.996</td>\n",
       "      <td>0.996</td>\n",
       "    </tr>\n",
       "    <tr>\n",
       "      <th>2</th>\n",
       "      <td>borderline</td>\n",
       "      <td>0.770</td>\n",
       "      <td>0.289</td>\n",
       "      <td>0.997</td>\n",
       "      <td>0.997</td>\n",
       "    </tr>\n",
       "    <tr>\n",
       "      <th>3</th>\n",
       "      <td>smote-tl</td>\n",
       "      <td>0.790</td>\n",
       "      <td>0.289</td>\n",
       "      <td>0.997</td>\n",
       "      <td>0.997</td>\n",
       "    </tr>\n",
       "    <tr>\n",
       "      <th>4</th>\n",
       "      <td>enn-borderline</td>\n",
       "      <td>0.760</td>\n",
       "      <td>0.289</td>\n",
       "      <td>0.997</td>\n",
       "      <td>0.996</td>\n",
       "    </tr>\n",
       "    <tr>\n",
       "      <th>5</th>\n",
       "      <td>adasyn-smote</td>\n",
       "      <td>0.803</td>\n",
       "      <td>0.289</td>\n",
       "      <td>0.997</td>\n",
       "      <td>0.997</td>\n",
       "    </tr>\n",
       "  </tbody>\n",
       "</table>\n",
       "</div>"
      ],
      "text/plain": [
       "          dataset     f1     f2     f3     f4\n",
       "0        original  0.946  0.289  0.995  0.994\n",
       "1       smote-enn  0.711  0.289  0.996  0.996\n",
       "2      borderline  0.770  0.289  0.997  0.997\n",
       "3        smote-tl  0.790  0.289  0.997  0.997\n",
       "4  enn-borderline  0.760  0.289  0.997  0.996\n",
       "5    adasyn-smote  0.803  0.289  0.997  0.997"
      ]
     },
     "execution_count": 28,
     "metadata": {},
     "output_type": "execute_result"
    }
   ],
   "source": [
    "datasets = {\n",
    "    'original': (X, y),\n",
    "    'smote-enn': (X_resampled_smoteenn, y_resampled_smoteenn),\n",
    "    'borderline': (X_resampled_borderline, y_resampled_borderline),\n",
    "    'smote-tl': (X_resampled_smotetl, y_resampled_smotetl),\n",
    "    'enn-borderline': (X_resampled_enn_borderline, y_resampled_enn_borderline),\n",
    "    'adasyn-smote': (X_resampled_adasyn, y_resampled_adasyn)\n",
    "}\n",
    "\n",
    "fb_measures = pd.DataFrame([], columns=['dataset', 'f1', 'f2', 'f3', 'f4'])\n",
    "\n",
    "for dataset, (X, y) in datasets.items():\n",
    "    print(f'Calculating for {dataset}')\n",
    "    f1 = round(pbx.f1(X, y),3)\n",
    "    f2 = round(pbx.f2(X, y),3)\n",
    "    f3 = round(pbx.f3(X, y),3)\n",
    "    f4 = round(pbx.f4(X, y),3)\n",
    "    fb_measures.loc[len(fb_measures)] = [dataset, f1, f2, f3, f4]\n",
    "\n",
    "fb_measures"
   ]
  },
  {
   "cell_type": "code",
   "execution_count": 29,
   "metadata": {},
   "outputs": [
    {
     "data": {
      "image/png": "[encoded data removed]",
      "text/plain": [
       "<Figure size 1200x600 with 1 Axes>"
      ]
     },
     "metadata": {},
     "output_type": "display_data"
    }
   ],
   "source": [
    "plt.figure(figsize=(12, 6))\n",
    "plt.subplot(1, 2, 1)\n",
    "plt.scatter(fb_measures['dataset'], fb_measures['f1'], color='r', label='F1', marker='o')\n",
    "plt.scatter(fb_measures['dataset'], fb_measures['f2'], color='g', label='F2', marker='x')\n",
    "plt.scatter(fb_measures['dataset'], fb_measures['f3'], color='b', label='F3', marker='s')\n",
    "plt.scatter(fb_measures['dataset'], fb_measures['f4'], color='y', label='F4', marker='^')\n",
    "plt.xticks(rotation=45)\n",
    "plt.legend()\n",
    "plt.title('F1, F2, F3, F4 measures')\n",
    "plt.show()"
   ]
  },
  {
   "cell_type": "markdown",
   "metadata": {},
   "source": [
    "Remembering the meaning of each measure:\n",
    "- **F1**: class separability\n",
    "- **F2**: feature overlap\n",
    "- **F3**: best single feature\n",
    "- **F4**: combined feature effectiveness"
   ]
  },
  {
   "cell_type": "code",
   "execution_count": 30,
   "metadata": {},
   "outputs": [],
   "source": [
    "df_balanced = pd.concat([X_resampled_adasyn, y_resampled_adasyn], axis=1)"
   ]
  },
  {
   "cell_type": "code",
   "execution_count": 31,
   "metadata": {},
   "outputs": [],
   "source": [
    "df_balanced.to_csv('../data/balanced.csv', index=False)"
   ]
  }
 ],
 "metadata": {
  "kernelspec": {
   "display_name": "icd",
   "language": "python",
   "name": "python3"
  },
  "language_info": {
   "codemirror_mode": {
    "name": "ipython",
    "version": 3
   },
   "file_extension": ".py",
   "mimetype": "text/x-python",
   "name": "python",
   "nbconvert_exporter": "python",
   "pygments_lexer": "ipython3",
   "version": "3.12.6"
  }
 },
 "nbformat": 4,
 "nbformat_minor": 2
}
