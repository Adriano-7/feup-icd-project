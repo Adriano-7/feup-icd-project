{
 "cells": [
  {
   "cell_type": "markdown",
   "metadata": {},
   "source": [
    "# Dealing with imbalanced data\n",
    "\n",
    "In this section, we will apply some SMOTE techniques to the training data in order to solve the highly imbalanced data problem.\n",
    "\n",
    "We will try several SMOTE techniques to generate some datasets. Then, these datasets will be compared using some data-quality metrics (using `problexity` library)\n",
    "\n",
    "The SMOTE techniques that we will use are:\n",
    "- **Borderline SMOTE** (over-sampling the minority class reinforcing the border between the classes)\n",
    "- **ADASYN** (Adaptive Synthetic Sampling: focuses on generating samples of minotiy class that are harder to classify)\n",
    "- **SMOTE-TL** (SMOTE Tomek Links: combines over-sampling of the minority class with under-sampling of the majority class by removing Tomek links)\n",
    "- **SMOTE-ENN** (SMOTE Edited Nearest Neighbors: combines over-sampling of the minority class with under-sampling of the majority class by cleaning the majority class with ENN)\n",
    "- **SMOTE-SVM** (SMOTE Support Vector Machine: uses SVM to generate synthetic samples)"
   ]
  },
  {
   "cell_type": "code",
   "execution_count": 1,
   "metadata": {},
   "outputs": [],
   "source": [
    "import pandas as pd\n",
    "import matplotlib.pyplot as plt\n",
    "import problexity as pbx\n",
    "from imblearn.over_sampling import BorderlineSMOTE, ADASYN, SVMSMOTE\n",
    "from imblearn.combine import SMOTEENN, SMOTETomek"
   ]
  },
  {
   "cell_type": "code",
   "execution_count": 2,
   "metadata": {},
   "outputs": [
    {
     "data": {
      "text/html": [
       "<div>\n",
       "<style scoped>\n",
       "    .dataframe tbody tr th:only-of-type {\n",
       "        vertical-align: middle;\n",
       "    }\n",
       "\n",
       "    .dataframe tbody tr th {\n",
       "        vertical-align: top;\n",
       "    }\n",
       "\n",
       "    .dataframe thead th {\n",
       "        text-align: right;\n",
       "    }\n",
       "</style>\n",
       "<table border=\"1\" class=\"dataframe\">\n",
       "  <thead>\n",
       "    <tr style=\"text-align: right;\">\n",
       "      <th></th>\n",
       "      <th>sex</th>\n",
       "      <th>is_employed</th>\n",
       "      <th>income</th>\n",
       "      <th>health_ins</th>\n",
       "      <th>num_vehicles</th>\n",
       "      <th>age</th>\n",
       "      <th>state_of_res</th>\n",
       "      <th>gas_usage</th>\n",
       "      <th>rooms</th>\n",
       "      <th>marital_status_Divorced/Separated</th>\n",
       "      <th>marital_status_Married</th>\n",
       "      <th>marital_status_Never married</th>\n",
       "      <th>marital_status_Widowed</th>\n",
       "      <th>housing_type_Homeowner free and clear</th>\n",
       "      <th>housing_type_Homeowner with mortgage/loan</th>\n",
       "      <th>housing_type_Occupied with no rent</th>\n",
       "      <th>housing_type_Rented</th>\n",
       "    </tr>\n",
       "  </thead>\n",
       "  <tbody>\n",
       "    <tr>\n",
       "      <th>0</th>\n",
       "      <td>1</td>\n",
       "      <td>1</td>\n",
       "      <td>-0.34</td>\n",
       "      <td>1</td>\n",
       "      <td>0.00</td>\n",
       "      <td>0.04</td>\n",
       "      <td>0.0</td>\n",
       "      <td>2.71</td>\n",
       "      <td>0.4</td>\n",
       "      <td>0</td>\n",
       "      <td>0</td>\n",
       "      <td>1</td>\n",
       "      <td>0</td>\n",
       "      <td>1</td>\n",
       "      <td>0</td>\n",
       "      <td>0</td>\n",
       "      <td>0</td>\n",
       "    </tr>\n",
       "    <tr>\n",
       "      <th>1</th>\n",
       "      <td>0</td>\n",
       "      <td>0</td>\n",
       "      <td>-0.32</td>\n",
       "      <td>1</td>\n",
       "      <td>0.00</td>\n",
       "      <td>0.78</td>\n",
       "      <td>0.0</td>\n",
       "      <td>-0.60</td>\n",
       "      <td>1.0</td>\n",
       "      <td>1</td>\n",
       "      <td>0</td>\n",
       "      <td>0</td>\n",
       "      <td>0</td>\n",
       "      <td>0</td>\n",
       "      <td>0</td>\n",
       "      <td>0</td>\n",
       "      <td>1</td>\n",
       "    </tr>\n",
       "    <tr>\n",
       "      <th>2</th>\n",
       "      <td>0</td>\n",
       "      <td>1</td>\n",
       "      <td>-0.36</td>\n",
       "      <td>1</td>\n",
       "      <td>0.33</td>\n",
       "      <td>0.13</td>\n",
       "      <td>0.0</td>\n",
       "      <td>-0.01</td>\n",
       "      <td>0.4</td>\n",
       "      <td>0</td>\n",
       "      <td>0</td>\n",
       "      <td>1</td>\n",
       "      <td>0</td>\n",
       "      <td>0</td>\n",
       "      <td>1</td>\n",
       "      <td>0</td>\n",
       "      <td>0</td>\n",
       "    </tr>\n",
       "    <tr>\n",
       "      <th>3</th>\n",
       "      <td>0</td>\n",
       "      <td>0</td>\n",
       "      <td>-0.07</td>\n",
       "      <td>1</td>\n",
       "      <td>0.17</td>\n",
       "      <td>0.92</td>\n",
       "      <td>0.0</td>\n",
       "      <td>1.27</td>\n",
       "      <td>0.2</td>\n",
       "      <td>0</td>\n",
       "      <td>0</td>\n",
       "      <td>0</td>\n",
       "      <td>1</td>\n",
       "      <td>1</td>\n",
       "      <td>0</td>\n",
       "      <td>0</td>\n",
       "      <td>0</td>\n",
       "    </tr>\n",
       "    <tr>\n",
       "      <th>4</th>\n",
       "      <td>1</td>\n",
       "      <td>1</td>\n",
       "      <td>-0.05</td>\n",
       "      <td>1</td>\n",
       "      <td>0.33</td>\n",
       "      <td>0.59</td>\n",
       "      <td>0.0</td>\n",
       "      <td>-0.60</td>\n",
       "      <td>0.2</td>\n",
       "      <td>1</td>\n",
       "      <td>0</td>\n",
       "      <td>0</td>\n",
       "      <td>0</td>\n",
       "      <td>0</td>\n",
       "      <td>0</td>\n",
       "      <td>0</td>\n",
       "      <td>1</td>\n",
       "    </tr>\n",
       "  </tbody>\n",
       "</table>\n",
       "</div>"
      ],
      "text/plain": [
       "   sex  is_employed  income  health_ins  num_vehicles   age  state_of_res  \\\n",
       "0    1            1   -0.34           1          0.00  0.04           0.0   \n",
       "1    0            0   -0.32           1          0.00  0.78           0.0   \n",
       "2    0            1   -0.36           1          0.33  0.13           0.0   \n",
       "3    0            0   -0.07           1          0.17  0.92           0.0   \n",
       "4    1            1   -0.05           1          0.33  0.59           0.0   \n",
       "\n",
       "   gas_usage  rooms  marital_status_Divorced/Separated  \\\n",
       "0       2.71    0.4                                  0   \n",
       "1      -0.60    1.0                                  1   \n",
       "2      -0.01    0.4                                  0   \n",
       "3       1.27    0.2                                  0   \n",
       "4      -0.60    0.2                                  1   \n",
       "\n",
       "   marital_status_Married  marital_status_Never married  \\\n",
       "0                       0                             1   \n",
       "1                       0                             0   \n",
       "2                       0                             1   \n",
       "3                       0                             0   \n",
       "4                       0                             0   \n",
       "\n",
       "   marital_status_Widowed  housing_type_Homeowner free and clear  \\\n",
       "0                       0                                      1   \n",
       "1                       0                                      0   \n",
       "2                       0                                      0   \n",
       "3                       1                                      1   \n",
       "4                       0                                      0   \n",
       "\n",
       "   housing_type_Homeowner with mortgage/loan  \\\n",
       "0                                          0   \n",
       "1                                          0   \n",
       "2                                          1   \n",
       "3                                          0   \n",
       "4                                          0   \n",
       "\n",
       "   housing_type_Occupied with no rent  housing_type_Rented  \n",
       "0                                   0                    0  \n",
       "1                                   0                    1  \n",
       "2                                   0                    0  \n",
       "3                                   0                    0  \n",
       "4                                   0                    1  "
      ]
     },
     "execution_count": 2,
     "metadata": {},
     "output_type": "execute_result"
    }
   ],
   "source": [
    "df = pd.read_csv('../data/customer_cleaned.csv')\n",
    "df.head()"
   ]
  },
  {
   "cell_type": "code",
   "execution_count": 3,
   "metadata": {},
   "outputs": [],
   "source": [
    "X = df.drop('health_ins', axis=1)\n",
    "y = df['health_ins']"
   ]
  },
  {
   "cell_type": "code",
   "execution_count": 4,
   "metadata": {},
   "outputs": [
    {
     "name": "stdout",
     "output_type": "stream",
     "text": [
      "Original dataset: health_ins\n",
      "1    65553\n",
      "0     6905\n",
      "Name: count, dtype: int64\n",
      "Percentage of each class in the original dataset: health_ins\n",
      "1    0.904703\n",
      "0    0.095297\n",
      "Name: proportion, dtype: float64\n"
     ]
    }
   ],
   "source": [
    "# Number of cases and percentage of each class in the original dataset\n",
    "print(f\"Original dataset: {y.value_counts()}\")\n",
    "print(f\"Percentage of each class in the original dataset: {y.value_counts(normalize=True)}\")"
   ]
  },
  {
   "cell_type": "markdown",
   "metadata": {},
   "source": [
    "## SMOTE Edited Nearest Neighbors (SMOTE-ENN)"
   ]
  },
  {
   "cell_type": "code",
   "execution_count": 5,
   "metadata": {},
   "outputs": [
    {
     "name": "stderr",
     "output_type": "stream",
     "text": [
      "/home/davisp/.local/lib/python3.10/site-packages/imblearn/over_sampling/_smote/base.py:370: FutureWarning: The parameter `n_jobs` has been deprecated in 0.10 and will be removed in 0.12. You can pass an nearest neighbors estimator where `n_jobs` is already set instead.\n",
      "  warnings.warn(\n"
     ]
    },
    {
     "name": "stdout",
     "output_type": "stream",
     "text": [
      "SMOTEENN dataset: health_ins\n",
      "0    60158\n",
      "1    44849\n",
      "Name: count, dtype: int64\n",
      "Percentage of each class in the SMOTEENN dataset: health_ins\n",
      "0    0.572895\n",
      "1    0.427105\n",
      "Name: proportion, dtype: float64\n"
     ]
    }
   ],
   "source": [
    "smote_enn = SMOTEENN(random_state=42,n_jobs=-1)\n",
    "X_resampled_smoteenn, y_resampled_smoteenn = smote_enn.fit_resample(X, y)\n",
    "print(f\"SMOTEENN dataset: {y_resampled_smoteenn.value_counts()}\")\n",
    "print(f\"Percentage of each class in the SMOTEENN dataset: {y_resampled_smoteenn.value_counts(normalize=True)}\")"
   ]
  },
  {
   "cell_type": "markdown",
   "metadata": {},
   "source": [
    "## SMOTE Tomek Links (SMOTE-TL)"
   ]
  },
  {
   "cell_type": "code",
   "execution_count": 6,
   "metadata": {},
   "outputs": [
    {
     "name": "stderr",
     "output_type": "stream",
     "text": [
      "/home/davisp/.local/lib/python3.10/site-packages/imblearn/over_sampling/_smote/base.py:370: FutureWarning: The parameter `n_jobs` has been deprecated in 0.10 and will be removed in 0.12. You can pass an nearest neighbors estimator where `n_jobs` is already set instead.\n",
      "  warnings.warn(\n"
     ]
    },
    {
     "name": "stdout",
     "output_type": "stream",
     "text": [
      "SMOTETomek dataset: health_ins\n",
      "1    64826\n",
      "0    64826\n",
      "Name: count, dtype: int64\n",
      "Percentage of each class in the SMOTETomek dataset: health_ins\n",
      "1    0.5\n",
      "0    0.5\n",
      "Name: proportion, dtype: float64\n"
     ]
    }
   ],
   "source": [
    "smote_tl = SMOTETomek(random_state=42,n_jobs=-1)\n",
    "X_resampled_smotetl, y_resampled_smotetl = smote_tl.fit_resample(X, y)\n",
    "print(f\"SMOTETomek dataset: {y_resampled_smotetl.value_counts()}\")\n",
    "print(f\"Percentage of each class in the SMOTETomek dataset: {y_resampled_smotetl.value_counts(normalize=True)}\")"
   ]
  },
  {
   "cell_type": "markdown",
   "metadata": {},
   "source": [
    "## Borderline SMOTE"
   ]
  },
  {
   "cell_type": "code",
   "execution_count": 7,
   "metadata": {},
   "outputs": [
    {
     "name": "stderr",
     "output_type": "stream",
     "text": [
      "/home/davisp/.local/lib/python3.10/site-packages/imblearn/over_sampling/_smote/filter.py:197: FutureWarning: The parameter `n_jobs` has been deprecated in 0.10 and will be removed in 0.12. You can pass an nearest neighbors estimator where `n_jobs` is already set instead.\n",
      "  warnings.warn(\n"
     ]
    },
    {
     "name": "stdout",
     "output_type": "stream",
     "text": [
      "BorderlineSMOTE dataset: health_ins\n",
      "1    65553\n",
      "0    65553\n",
      "Name: count, dtype: int64\n",
      "Percentage of each class in the BorderlineSMOTE dataset: health_ins\n",
      "1    0.5\n",
      "0    0.5\n",
      "Name: proportion, dtype: float64\n"
     ]
    }
   ],
   "source": [
    "borderline_smote = BorderlineSMOTE(random_state=42,n_jobs=-1)\n",
    "X_resampled_borderline, y_resampled_borderline = borderline_smote.fit_resample(X, y)\n",
    "print(f\"BorderlineSMOTE dataset: {y_resampled_borderline.value_counts()}\")\n",
    "print(f\"Percentage of each class in the BorderlineSMOTE dataset: {y_resampled_borderline.value_counts(normalize=True)}\")"
   ]
  },
  {
   "cell_type": "markdown",
   "metadata": {},
   "source": [
    "## Borderline SMOTE over SMOTE-ENN"
   ]
  },
  {
   "cell_type": "code",
   "execution_count": 8,
   "metadata": {},
   "outputs": [
    {
     "name": "stderr",
     "output_type": "stream",
     "text": [
      "/home/davisp/.local/lib/python3.10/site-packages/imblearn/over_sampling/_smote/filter.py:197: FutureWarning: The parameter `n_jobs` has been deprecated in 0.10 and will be removed in 0.12. You can pass an nearest neighbors estimator where `n_jobs` is already set instead.\n",
      "  warnings.warn(\n"
     ]
    },
    {
     "name": "stdout",
     "output_type": "stream",
     "text": [
      "BorderlineSMOTE + ENN dataset: health_ins\n",
      "0    60158\n",
      "1    60158\n",
      "Name: count, dtype: int64\n",
      "Percentage of each class in the BorderlineSMOTE + ENN dataset: health_ins\n",
      "0    0.5\n",
      "1    0.5\n",
      "Name: proportion, dtype: float64\n"
     ]
    }
   ],
   "source": [
    "X_resampled_enn_borderline, y_resampled_enn_borderline = borderline_smote.fit_resample(X_resampled_smoteenn, y_resampled_smoteenn)\n",
    "print(f\"BorderlineSMOTE + ENN dataset: {y_resampled_enn_borderline.value_counts()}\")\n",
    "print(f\"Percentage of each class in the BorderlineSMOTE + ENN dataset: {y_resampled_enn_borderline.value_counts(normalize=True)}\")"
   ]
  },
  {
   "cell_type": "markdown",
   "metadata": {},
   "source": [
    "## ADASYN"
   ]
  },
  {
   "cell_type": "code",
   "execution_count": 9,
   "metadata": {},
   "outputs": [
    {
     "name": "stderr",
     "output_type": "stream",
     "text": [
      "/home/davisp/.local/lib/python3.10/site-packages/imblearn/over_sampling/_adasyn.py:156: FutureWarning: The parameter `n_jobs` has been deprecated in 0.10 and will be removed in 0.12. You can pass an nearest neighbors estimator where `n_jobs` is already set instead.\n",
      "  warnings.warn(\n"
     ]
    },
    {
     "name": "stdout",
     "output_type": "stream",
     "text": [
      "ADASYN dataset: health_ins\n",
      "0    66356\n",
      "1    65553\n",
      "Name: count, dtype: int64\n",
      "Percentage of each class in the ADASYN dataset: health_ins\n",
      "0    0.503044\n",
      "1    0.496956\n",
      "Name: proportion, dtype: float64\n"
     ]
    }
   ],
   "source": [
    "adasyn_smote = ADASYN(random_state=42,n_jobs=-1)\n",
    "X_resampled_adasyn, y_resampled_adasyn = adasyn_smote.fit_resample(X, y)\n",
    "print(f\"ADASYN dataset: {y_resampled_adasyn.value_counts()}\")\n",
    "print(f\"Percentage of each class in the ADASYN dataset: {y_resampled_adasyn.value_counts(normalize=True)}\")"
   ]
  },
  {
   "cell_type": "markdown",
   "metadata": {},
   "source": [
    "## SMOTE-SVM //TODO"
   ]
  },
  {
   "cell_type": "code",
   "execution_count": 10,
   "metadata": {},
   "outputs": [
    {
     "name": "stderr",
     "output_type": "stream",
     "text": [
      "/home/davisp/.local/lib/python3.10/site-packages/imblearn/over_sampling/_smote/filter.py:437: FutureWarning: The parameter `n_jobs` has been deprecated in 0.10 and will be removed in 0.12. You can pass an nearest neighbors estimator where `n_jobs` is already set instead.\n",
      "  warnings.warn(\n"
     ]
    },
    {
     "name": "stdout",
     "output_type": "stream",
     "text": [
      "ADASYN dataset: health_ins\n",
      "1    65553\n",
      "0    65553\n",
      "Name: count, dtype: int64\n",
      "Percentage of each class in the ADASYN dataset: health_ins\n",
      "1    0.5\n",
      "0    0.5\n",
      "Name: proportion, dtype: float64\n"
     ]
    }
   ],
   "source": [
    "sm_svm = SVMSMOTE(random_state=42,n_jobs=-1)\n",
    "X_resampled_smote_svm, y_resampled_smote_svm = sm_svm.fit_resample(X, y)\n",
    "print(f\"ADASYN dataset: {y_resampled_smote_svm.value_counts()}\")\n",
    "print(f\"Percentage of each class in the ADASYN dataset: {y_resampled_smote_svm.value_counts(normalize=True)}\")"
   ]
  },
  {
   "cell_type": "markdown",
   "metadata": {},
   "source": [
    "## Comparison of the datasets"
   ]
  },
  {
   "cell_type": "code",
   "execution_count": 14,
   "metadata": {},
   "outputs": [
    {
     "name": "stdout",
     "output_type": "stream",
     "text": [
      "Calculating metrics for original\n",
      "Calculating metrics for smote-enn\n",
      "Calculating metrics for borderline\n",
      "Calculating metrics for smote-tl\n",
      "Calculating metrics for enn-borderline\n",
      "Calculating metrics for adasyn-smote\n",
      "Calculating metrics for smote-svm\n"
     ]
    },
    {
     "data": {
      "text/html": [
       "<div>\n",
       "<style scoped>\n",
       "    .dataframe tbody tr th:only-of-type {\n",
       "        vertical-align: middle;\n",
       "    }\n",
       "\n",
       "    .dataframe tbody tr th {\n",
       "        vertical-align: top;\n",
       "    }\n",
       "\n",
       "    .dataframe thead th {\n",
       "        text-align: right;\n",
       "    }\n",
       "</style>\n",
       "<table border=\"1\" class=\"dataframe\">\n",
       "  <thead>\n",
       "    <tr style=\"text-align: right;\">\n",
       "      <th></th>\n",
       "      <th>dataset</th>\n",
       "      <th>f1</th>\n",
       "      <th>f2</th>\n",
       "      <th>f3</th>\n",
       "      <th>f4</th>\n",
       "    </tr>\n",
       "  </thead>\n",
       "  <tbody>\n",
       "    <tr>\n",
       "      <th>0</th>\n",
       "      <td>original</td>\n",
       "      <td>0.815</td>\n",
       "      <td>0.288</td>\n",
       "      <td>0.997</td>\n",
       "      <td>0.997</td>\n",
       "    </tr>\n",
       "    <tr>\n",
       "      <th>1</th>\n",
       "      <td>smote-enn</td>\n",
       "      <td>0.677</td>\n",
       "      <td>0.282</td>\n",
       "      <td>0.996</td>\n",
       "      <td>0.996</td>\n",
       "    </tr>\n",
       "    <tr>\n",
       "      <th>2</th>\n",
       "      <td>borderline</td>\n",
       "      <td>0.769</td>\n",
       "      <td>0.288</td>\n",
       "      <td>0.997</td>\n",
       "      <td>0.997</td>\n",
       "    </tr>\n",
       "    <tr>\n",
       "      <th>3</th>\n",
       "      <td>smote-tl</td>\n",
       "      <td>0.796</td>\n",
       "      <td>0.288</td>\n",
       "      <td>0.997</td>\n",
       "      <td>0.997</td>\n",
       "    </tr>\n",
       "    <tr>\n",
       "      <th>4</th>\n",
       "      <td>enn-borderline</td>\n",
       "      <td>0.766</td>\n",
       "      <td>0.282</td>\n",
       "      <td>0.996</td>\n",
       "      <td>0.996</td>\n",
       "    </tr>\n",
       "    <tr>\n",
       "      <th>5</th>\n",
       "      <td>adasyn-smote</td>\n",
       "      <td>0.815</td>\n",
       "      <td>0.288</td>\n",
       "      <td>0.997</td>\n",
       "      <td>0.997</td>\n",
       "    </tr>\n",
       "    <tr>\n",
       "      <th>6</th>\n",
       "      <td>smote-svm</td>\n",
       "      <td>0.753</td>\n",
       "      <td>0.139</td>\n",
       "      <td>0.990</td>\n",
       "      <td>0.968</td>\n",
       "    </tr>\n",
       "  </tbody>\n",
       "</table>\n",
       "</div>"
      ],
      "text/plain": [
       "          dataset     f1     f2     f3     f4\n",
       "0        original  0.815  0.288  0.997  0.997\n",
       "1       smote-enn  0.677  0.282  0.996  0.996\n",
       "2      borderline  0.769  0.288  0.997  0.997\n",
       "3        smote-tl  0.796  0.288  0.997  0.997\n",
       "4  enn-borderline  0.766  0.282  0.996  0.996\n",
       "5    adasyn-smote  0.815  0.288  0.997  0.997\n",
       "6       smote-svm  0.753  0.139  0.990  0.968"
      ]
     },
     "execution_count": 14,
     "metadata": {},
     "output_type": "execute_result"
    }
   ],
   "source": [
    "datasets = {\n",
    "    'original': (X, y),\n",
    "    'smote-enn': (X_resampled_smoteenn, y_resampled_smoteenn),\n",
    "    'borderline': (X_resampled_borderline, y_resampled_borderline),\n",
    "    'smote-tl': (X_resampled_smotetl, y_resampled_smotetl),\n",
    "    'enn-borderline': (X_resampled_enn_borderline, y_resampled_enn_borderline),\n",
    "    'adasyn-smote': (X_resampled_adasyn, y_resampled_adasyn),\n",
    "    'smote-svm': (X_resampled_smote_svm, y_resampled_smote_svm)\n",
    "}\n",
    "\n",
    "fb_measures = pd.DataFrame([], columns=['dataset', 'f1', 'f2', 'f3', 'f4'])\n",
    "\n",
    "for dataset, (X, y) in datasets.items():\n",
    "    print(f'Calculating metrics for {dataset}')\n",
    "    f1 = round(pbx.f1(X, y),3)\n",
    "    f2 = round(pbx.f2(X, y),3)\n",
    "    f3 = round(pbx.f3(X, y),3)\n",
    "    f4 = round(pbx.f4(X, y),3)\n",
    "    fb_measures.loc[len(fb_measures)] = [dataset, f1, f2, f3, f4]\n",
    "\n",
    "fb_measures"
   ]
  },
  {
   "cell_type": "code",
   "execution_count": 16,
   "metadata": {},
   "outputs": [
    {
     "data": {
      "image/png": "[encoded data removed]",
      "text/plain": [
       "<Figure size 1200x600 with 1 Axes>"
      ]
     },
     "metadata": {},
     "output_type": "display_data"
    }
   ],
   "source": [
    "plt.figure(figsize=(12, 6))\n",
    "plt.subplot(1, 2, 1)\n",
    "plt.scatter(fb_measures['dataset'], fb_measures['f1'], color='r', label='F1', marker='o')\n",
    "plt.scatter(fb_measures['dataset'], fb_measures['f2'], color='g', label='F2', marker='x')\n",
    "plt.scatter(fb_measures['dataset'], fb_measures['f3'], color='b', label='F3', marker='s')\n",
    "plt.scatter(fb_measures['dataset'], fb_measures['f4'], color='y', label='F4', marker='^')\n",
    "plt.xticks(rotation=45)\n",
    "plt.legend()\n",
    "plt.title('F1, F2, F3, F4 measures')\n",
    "plt.show()"
   ]
  },
  {
   "cell_type": "markdown",
   "metadata": {},
   "source": [
    "Remembering the meaning of each measure:\n",
    "- **F1**: class separability\n",
    "- **F2**: feature overlap\n",
    "- **F3**: best single feature\n",
    "- **F4**: combined feature effectiveness"
   ]
  },
  {
   "cell_type": "code",
   "execution_count": 17,
   "metadata": {},
   "outputs": [],
   "source": [
    "df_balanced = pd.concat([X_resampled_adasyn, y_resampled_adasyn], axis=1)\n",
    "df_balanced.to_csv('../data/balanced.csv', index=False)"
   ]
  },
  {
   "cell_type": "markdown",
   "metadata": {},
   "source": [
    "We have choosen the dataset generated by **ADASYN** as the best one. It is saved in the file `balanced.csv` in order to be used in next steps for training models."
   ]
  }
 ],
 "metadata": {
  "kernelspec": {
   "display_name": "Python 3",
   "language": "python",
   "name": "python3"
  },
  "language_info": {
   "codemirror_mode": {
    "name": "ipython",
    "version": 3
   },
   "file_extension": ".py",
   "mimetype": "text/x-python",
   "name": "python",
   "nbconvert_exporter": "python",
   "pygments_lexer": "ipython3",
   "version": "3.10.15"
  }
 },
 "nbformat": 4,
 "nbformat_minor": 2
}
