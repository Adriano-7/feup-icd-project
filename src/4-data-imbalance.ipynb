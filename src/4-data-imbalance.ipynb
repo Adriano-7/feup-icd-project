{
 "cells": [
  {
   "cell_type": "markdown",
   "metadata": {},
   "source": [
    "# Dealing with imbalanced data\n",
    "\n",
    "In this section, we will apply some SMOTE techniques to the training data in order to solve the highly imbalanced data problem.\n",
    "\n",
    "We will try several SMOTE techniques to generate some datasets. Then, these datasets will be compared according to their data-quality metrics (using `problexity` library)\n",
    "\n",
    "The SMOTE techniques that we will use are:\n",
    "- **Borderline SMOTE** (over-sampling the minority class reinforcing the border between the classes)\n",
    "- **ADASYN** (Adaptive Synthetic Sampling: focuses on generating samples of minotiy class that are harder to classify)\n",
    "- **SMOTE-TL** (SMOTE Tomek Links: combines over-sampling of the minority class with under-sampling of the majority class by removing Tomek links)\n",
    "- **SMOTE-ENN** (SMOTE Edited Nearest Neighbors: combines over-sampling of the minority class with under-sampling of the majority class by cleaning the majority class with ENN)\n",
    "- **SVM-SMOTE** (SMOTE Support Vector Machine: uses SVM to generate synthetic samples)"
   ]
  },
  {
   "cell_type": "code",
   "execution_count": 1,
   "metadata": {},
   "outputs": [],
   "source": [
    "import pandas as pd\n",
    "import matplotlib.pyplot as plt\n",
    "import problexity as pbx\n",
    "from imblearn.over_sampling import BorderlineSMOTE, ADASYN, SVMSMOTE\n",
    "from imblearn.combine import SMOTEENN, SMOTETomek"
   ]
  },
  {
   "cell_type": "code",
   "execution_count": 2,
   "metadata": {},
   "outputs": [
    {
     "data": {
      "text/html": [
       "<div>\n",
       "<style scoped>\n",
       "    .dataframe tbody tr th:only-of-type {\n",
       "        vertical-align: middle;\n",
       "    }\n",
       "\n",
       "    .dataframe tbody tr th {\n",
       "        vertical-align: top;\n",
       "    }\n",
       "\n",
       "    .dataframe thead th {\n",
       "        text-align: right;\n",
       "    }\n",
       "</style>\n",
       "<table border=\"1\" class=\"dataframe\">\n",
       "  <thead>\n",
       "    <tr style=\"text-align: right;\">\n",
       "      <th></th>\n",
       "      <th>sex</th>\n",
       "      <th>is_employed</th>\n",
       "      <th>income</th>\n",
       "      <th>health_ins</th>\n",
       "      <th>num_vehicles</th>\n",
       "      <th>age</th>\n",
       "      <th>state_of_res</th>\n",
       "      <th>gas_usage</th>\n",
       "      <th>rooms</th>\n",
       "      <th>marital_status_Divorced/Separated</th>\n",
       "      <th>marital_status_Married</th>\n",
       "      <th>marital_status_Never married</th>\n",
       "      <th>marital_status_Widowed</th>\n",
       "      <th>housing_type_Homeowner free and clear</th>\n",
       "      <th>housing_type_Homeowner with mortgage/loan</th>\n",
       "      <th>housing_type_Occupied with no rent</th>\n",
       "      <th>housing_type_Rented</th>\n",
       "    </tr>\n",
       "  </thead>\n",
       "  <tbody>\n",
       "    <tr>\n",
       "      <th>0</th>\n",
       "      <td>1</td>\n",
       "      <td>1</td>\n",
       "      <td>-0.34</td>\n",
       "      <td>1</td>\n",
       "      <td>0.00</td>\n",
       "      <td>0.04</td>\n",
       "      <td>0.0</td>\n",
       "      <td>2.71</td>\n",
       "      <td>0.4</td>\n",
       "      <td>0</td>\n",
       "      <td>0</td>\n",
       "      <td>1</td>\n",
       "      <td>0</td>\n",
       "      <td>1</td>\n",
       "      <td>0</td>\n",
       "      <td>0</td>\n",
       "      <td>0</td>\n",
       "    </tr>\n",
       "    <tr>\n",
       "      <th>1</th>\n",
       "      <td>0</td>\n",
       "      <td>0</td>\n",
       "      <td>-0.32</td>\n",
       "      <td>1</td>\n",
       "      <td>0.00</td>\n",
       "      <td>0.78</td>\n",
       "      <td>0.0</td>\n",
       "      <td>-0.60</td>\n",
       "      <td>1.0</td>\n",
       "      <td>1</td>\n",
       "      <td>0</td>\n",
       "      <td>0</td>\n",
       "      <td>0</td>\n",
       "      <td>0</td>\n",
       "      <td>0</td>\n",
       "      <td>0</td>\n",
       "      <td>1</td>\n",
       "    </tr>\n",
       "    <tr>\n",
       "      <th>2</th>\n",
       "      <td>0</td>\n",
       "      <td>1</td>\n",
       "      <td>-0.36</td>\n",
       "      <td>1</td>\n",
       "      <td>0.33</td>\n",
       "      <td>0.13</td>\n",
       "      <td>0.0</td>\n",
       "      <td>-0.01</td>\n",
       "      <td>0.4</td>\n",
       "      <td>0</td>\n",
       "      <td>0</td>\n",
       "      <td>1</td>\n",
       "      <td>0</td>\n",
       "      <td>0</td>\n",
       "      <td>1</td>\n",
       "      <td>0</td>\n",
       "      <td>0</td>\n",
       "    </tr>\n",
       "    <tr>\n",
       "      <th>3</th>\n",
       "      <td>0</td>\n",
       "      <td>0</td>\n",
       "      <td>-0.07</td>\n",
       "      <td>1</td>\n",
       "      <td>0.17</td>\n",
       "      <td>0.92</td>\n",
       "      <td>0.0</td>\n",
       "      <td>1.27</td>\n",
       "      <td>0.2</td>\n",
       "      <td>0</td>\n",
       "      <td>0</td>\n",
       "      <td>0</td>\n",
       "      <td>1</td>\n",
       "      <td>1</td>\n",
       "      <td>0</td>\n",
       "      <td>0</td>\n",
       "      <td>0</td>\n",
       "    </tr>\n",
       "    <tr>\n",
       "      <th>4</th>\n",
       "      <td>1</td>\n",
       "      <td>1</td>\n",
       "      <td>-0.05</td>\n",
       "      <td>1</td>\n",
       "      <td>0.33</td>\n",
       "      <td>0.59</td>\n",
       "      <td>0.0</td>\n",
       "      <td>-0.60</td>\n",
       "      <td>0.2</td>\n",
       "      <td>1</td>\n",
       "      <td>0</td>\n",
       "      <td>0</td>\n",
       "      <td>0</td>\n",
       "      <td>0</td>\n",
       "      <td>0</td>\n",
       "      <td>0</td>\n",
       "      <td>1</td>\n",
       "    </tr>\n",
       "  </tbody>\n",
       "</table>\n",
       "</div>"
      ],
      "text/plain": [
       "   sex  is_employed  income  health_ins  num_vehicles   age  state_of_res  \\\n",
       "0    1            1   -0.34           1          0.00  0.04           0.0   \n",
       "1    0            0   -0.32           1          0.00  0.78           0.0   \n",
       "2    0            1   -0.36           1          0.33  0.13           0.0   \n",
       "3    0            0   -0.07           1          0.17  0.92           0.0   \n",
       "4    1            1   -0.05           1          0.33  0.59           0.0   \n",
       "\n",
       "   gas_usage  rooms  marital_status_Divorced/Separated  \\\n",
       "0       2.71    0.4                                  0   \n",
       "1      -0.60    1.0                                  1   \n",
       "2      -0.01    0.4                                  0   \n",
       "3       1.27    0.2                                  0   \n",
       "4      -0.60    0.2                                  1   \n",
       "\n",
       "   marital_status_Married  marital_status_Never married  \\\n",
       "0                       0                             1   \n",
       "1                       0                             0   \n",
       "2                       0                             1   \n",
       "3                       0                             0   \n",
       "4                       0                             0   \n",
       "\n",
       "   marital_status_Widowed  housing_type_Homeowner free and clear  \\\n",
       "0                       0                                      1   \n",
       "1                       0                                      0   \n",
       "2                       0                                      0   \n",
       "3                       1                                      1   \n",
       "4                       0                                      0   \n",
       "\n",
       "   housing_type_Homeowner with mortgage/loan  \\\n",
       "0                                          0   \n",
       "1                                          0   \n",
       "2                                          1   \n",
       "3                                          0   \n",
       "4                                          0   \n",
       "\n",
       "   housing_type_Occupied with no rent  housing_type_Rented  \n",
       "0                                   0                    0  \n",
       "1                                   0                    1  \n",
       "2                                   0                    0  \n",
       "3                                   0                    0  \n",
       "4                                   0                    1  "
      ]
     },
     "execution_count": 2,
     "metadata": {},
     "output_type": "execute_result"
    }
   ],
   "source": [
    "df = pd.read_csv('../data/customer_cleaned.csv')\n",
    "df.head()"
   ]
  },
  {
   "cell_type": "code",
   "execution_count": 3,
   "metadata": {},
   "outputs": [],
   "source": [
    "X = df.drop('health_ins', axis=1)\n",
    "y = df['health_ins']"
   ]
  },
  {
   "cell_type": "code",
   "execution_count": 11,
   "metadata": {},
   "outputs": [],
   "source": [
    "def print_target_dist(y, dataset_name):\n",
    "    print(f\"Frequency in {dataset_name} dataset: {y.value_counts()}\")\n",
    "    print(f\"Percentage in {dataset_name} dataset: {y.value_counts(normalize=True).round(3)}\")"
   ]
  },
  {
   "cell_type": "code",
   "execution_count": 12,
   "metadata": {},
   "outputs": [
    {
     "name": "stdout",
     "output_type": "stream",
     "text": [
      "Frequency in original dataset: health_ins\n",
      "1    65553\n",
      "0     6905\n",
      "Name: count, dtype: int64\n",
      "Percentage in original dataset: health_ins\n",
      "1    0.905\n",
      "0    0.095\n",
      "Name: proportion, dtype: float64\n"
     ]
    }
   ],
   "source": [
    "# Number of cases and percentage of each class in the original dataset\n",
    "print_target_dist(y, 'original')"
   ]
  },
  {
   "cell_type": "markdown",
   "metadata": {},
   "source": [
    "## SMOTE Edited Nearest Neighbors (SMOTE-ENN)"
   ]
  },
  {
   "cell_type": "code",
   "execution_count": 15,
   "metadata": {},
   "outputs": [
    {
     "name": "stderr",
     "output_type": "stream",
     "text": [
      "/Users/fpana/opt/anaconda3/envs/icd/lib/python3.12/site-packages/imblearn/over_sampling/_smote/base.py:370: FutureWarning: The parameter `n_jobs` has been deprecated in 0.10 and will be removed in 0.12. You can pass an nearest neighbors estimator where `n_jobs` is already set instead.\n",
      "  warnings.warn(\n"
     ]
    },
    {
     "name": "stdout",
     "output_type": "stream",
     "text": [
      "Frequency in SMOTE-ENN dataset: health_ins\n",
      "0    60165\n",
      "1    44845\n",
      "Name: count, dtype: int64\n",
      "Percentage in SMOTE-ENN dataset: health_ins\n",
      "0    0.573\n",
      "1    0.427\n",
      "Name: proportion, dtype: float64\n"
     ]
    }
   ],
   "source": [
    "X_smoteenn, y_smoteenn = SMOTEENN(random_state=42,n_jobs=-1).fit_resample(X, y)\n",
    "print_target_dist(y_smoteenn, 'SMOTE-ENN')"
   ]
  },
  {
   "cell_type": "markdown",
   "metadata": {},
   "source": [
    "## SMOTE Tomek Links (SMOTE-TL)"
   ]
  },
  {
   "cell_type": "code",
   "execution_count": 17,
   "metadata": {},
   "outputs": [
    {
     "name": "stderr",
     "output_type": "stream",
     "text": [
      "/Users/fpana/opt/anaconda3/envs/icd/lib/python3.12/site-packages/imblearn/over_sampling/_smote/base.py:370: FutureWarning: The parameter `n_jobs` has been deprecated in 0.10 and will be removed in 0.12. You can pass an nearest neighbors estimator where `n_jobs` is already set instead.\n",
      "  warnings.warn(\n"
     ]
    },
    {
     "name": "stdout",
     "output_type": "stream",
     "text": [
      "Frequency in SMOTE-TomekLinks dataset: health_ins\n",
      "1    64824\n",
      "0    64824\n",
      "Name: count, dtype: int64\n",
      "Percentage in SMOTE-TomekLinks dataset: health_ins\n",
      "1    0.5\n",
      "0    0.5\n",
      "Name: proportion, dtype: float64\n"
     ]
    }
   ],
   "source": [
    "X_smotetl, y_smotetl = SMOTETomek(random_state=42,n_jobs=-1).fit_resample(X, y)\n",
    "print_target_dist(y_smotetl, 'SMOTE-TomekLinks')"
   ]
  },
  {
   "cell_type": "markdown",
   "metadata": {},
   "source": [
    "## Borderline SMOTE"
   ]
  },
  {
   "cell_type": "code",
   "execution_count": 18,
   "metadata": {},
   "outputs": [
    {
     "name": "stderr",
     "output_type": "stream",
     "text": [
      "/Users/fpana/opt/anaconda3/envs/icd/lib/python3.12/site-packages/imblearn/over_sampling/_smote/filter.py:197: FutureWarning: The parameter `n_jobs` has been deprecated in 0.10 and will be removed in 0.12. You can pass an nearest neighbors estimator where `n_jobs` is already set instead.\n",
      "  warnings.warn(\n"
     ]
    },
    {
     "name": "stdout",
     "output_type": "stream",
     "text": [
      "Frequency in BorderlineSMOTE dataset: health_ins\n",
      "1    65553\n",
      "0    65553\n",
      "Name: count, dtype: int64\n",
      "Percentage in BorderlineSMOTE dataset: health_ins\n",
      "1    0.5\n",
      "0    0.5\n",
      "Name: proportion, dtype: float64\n"
     ]
    }
   ],
   "source": [
    "X_borderline, y_borderline = BorderlineSMOTE(random_state=42,n_jobs=-1).fit_resample(X, y)\n",
    "print_target_dist(y_borderline, 'BorderlineSMOTE')"
   ]
  },
  {
   "cell_type": "markdown",
   "metadata": {},
   "source": [
    "## Borderline SMOTE over SMOTE-ENN"
   ]
  },
  {
   "cell_type": "code",
   "execution_count": 23,
   "metadata": {},
   "outputs": [
    {
     "name": "stderr",
     "output_type": "stream",
     "text": [
      "/Users/fpana/opt/anaconda3/envs/icd/lib/python3.12/site-packages/imblearn/over_sampling/_smote/filter.py:197: FutureWarning: The parameter `n_jobs` has been deprecated in 0.10 and will be removed in 0.12. You can pass an nearest neighbors estimator where `n_jobs` is already set instead.\n",
      "  warnings.warn(\n"
     ]
    },
    {
     "name": "stdout",
     "output_type": "stream",
     "text": [
      "Frequency in SMOTE-ENN + BorderlineSMOTE dataset: health_ins\n",
      "0    60165\n",
      "1    60165\n",
      "Name: count, dtype: int64\n",
      "Percentage in SMOTE-ENN + BorderlineSMOTE dataset: health_ins\n",
      "0    0.5\n",
      "1    0.5\n",
      "Name: proportion, dtype: float64\n"
     ]
    }
   ],
   "source": [
    "X_enn_borderline, y_enn_borderline = BorderlineSMOTE(random_state=42,n_jobs=-1).fit_resample(X_smoteenn, y_smoteenn)\n",
    "print_target_dist(y_enn_borderline, 'SMOTE-ENN + BorderlineSMOTE')"
   ]
  },
  {
   "cell_type": "markdown",
   "metadata": {},
   "source": [
    "## ADASYN"
   ]
  },
  {
   "cell_type": "code",
   "execution_count": 19,
   "metadata": {},
   "outputs": [
    {
     "name": "stderr",
     "output_type": "stream",
     "text": [
      "/Users/fpana/opt/anaconda3/envs/icd/lib/python3.12/site-packages/imblearn/over_sampling/_adasyn.py:156: FutureWarning: The parameter `n_jobs` has been deprecated in 0.10 and will be removed in 0.12. You can pass an nearest neighbors estimator where `n_jobs` is already set instead.\n",
      "  warnings.warn(\n"
     ]
    },
    {
     "name": "stdout",
     "output_type": "stream",
     "text": [
      "Frequency in ADASYN dataset: health_ins\n",
      "0    66372\n",
      "1    65553\n",
      "Name: count, dtype: int64\n",
      "Percentage in ADASYN dataset: health_ins\n",
      "0    0.503\n",
      "1    0.497\n",
      "Name: proportion, dtype: float64\n"
     ]
    }
   ],
   "source": [
    "X_adasyn, y_adasyn = ADASYN(random_state=42,n_jobs=-1).fit_resample(X, y)\n",
    "print_target_dist(y_adasyn, 'ADASYN')"
   ]
  },
  {
   "cell_type": "markdown",
   "metadata": {},
   "source": [
    "## SVM-SMOTE"
   ]
  },
  {
   "cell_type": "code",
   "execution_count": 20,
   "metadata": {},
   "outputs": [
    {
     "name": "stderr",
     "output_type": "stream",
     "text": [
      "/Users/fpana/opt/anaconda3/envs/icd/lib/python3.12/site-packages/imblearn/over_sampling/_smote/filter.py:437: FutureWarning: The parameter `n_jobs` has been deprecated in 0.10 and will be removed in 0.12. You can pass an nearest neighbors estimator where `n_jobs` is already set instead.\n",
      "  warnings.warn(\n"
     ]
    },
    {
     "name": "stdout",
     "output_type": "stream",
     "text": [
      "Frequency in SVM-SMOTE dataset: health_ins\n",
      "1    65553\n",
      "0    65553\n",
      "Name: count, dtype: int64\n",
      "Percentage in SVM-SMOTE dataset: health_ins\n",
      "1    0.5\n",
      "0    0.5\n",
      "Name: proportion, dtype: float64\n"
     ]
    }
   ],
   "source": [
    "X_svm_smote, y_svm_smote = SVMSMOTE(random_state=42,n_jobs=-1).fit_resample(X, y)\n",
    "print_target_dist(y_svm_smote, 'SVM-SMOTE')"
   ]
  },
  {
   "cell_type": "markdown",
   "metadata": {},
   "source": [
    "## Comparison of the datasets"
   ]
  },
  {
   "cell_type": "code",
   "execution_count": 24,
   "metadata": {},
   "outputs": [
    {
     "name": "stdout",
     "output_type": "stream",
     "text": [
      "Calculating metrics for smote-enn\n",
      "Calculating metrics for borderline\n",
      "Calculating metrics for smote-tl\n",
      "Calculating metrics for enn-borderline\n",
      "Calculating metrics for adasyn-smote\n",
      "Calculating metrics for svm-smote\n"
     ]
    },
    {
     "data": {
      "text/html": [
       "<div>\n",
       "<style scoped>\n",
       "    .dataframe tbody tr th:only-of-type {\n",
       "        vertical-align: middle;\n",
       "    }\n",
       "\n",
       "    .dataframe tbody tr th {\n",
       "        vertical-align: top;\n",
       "    }\n",
       "\n",
       "    .dataframe thead th {\n",
       "        text-align: right;\n",
       "    }\n",
       "</style>\n",
       "<table border=\"1\" class=\"dataframe\">\n",
       "  <thead>\n",
       "    <tr style=\"text-align: right;\">\n",
       "      <th></th>\n",
       "      <th>dataset</th>\n",
       "      <th>f1</th>\n",
       "      <th>f2</th>\n",
       "      <th>f3</th>\n",
       "      <th>f4</th>\n",
       "    </tr>\n",
       "  </thead>\n",
       "  <tbody>\n",
       "    <tr>\n",
       "      <th>0</th>\n",
       "      <td>smote-enn</td>\n",
       "      <td>0.677</td>\n",
       "      <td>0.279</td>\n",
       "      <td>0.996</td>\n",
       "      <td>0.996</td>\n",
       "    </tr>\n",
       "    <tr>\n",
       "      <th>1</th>\n",
       "      <td>borderline</td>\n",
       "      <td>0.769</td>\n",
       "      <td>0.286</td>\n",
       "      <td>0.997</td>\n",
       "      <td>0.997</td>\n",
       "    </tr>\n",
       "    <tr>\n",
       "      <th>2</th>\n",
       "      <td>smote-tl</td>\n",
       "      <td>0.796</td>\n",
       "      <td>0.286</td>\n",
       "      <td>0.997</td>\n",
       "      <td>0.997</td>\n",
       "    </tr>\n",
       "    <tr>\n",
       "      <th>3</th>\n",
       "      <td>enn-borderline</td>\n",
       "      <td>0.766</td>\n",
       "      <td>0.279</td>\n",
       "      <td>0.996</td>\n",
       "      <td>0.996</td>\n",
       "    </tr>\n",
       "    <tr>\n",
       "      <th>4</th>\n",
       "      <td>adasyn-smote</td>\n",
       "      <td>0.814</td>\n",
       "      <td>0.286</td>\n",
       "      <td>0.997</td>\n",
       "      <td>0.997</td>\n",
       "    </tr>\n",
       "    <tr>\n",
       "      <th>5</th>\n",
       "      <td>svm-smote</td>\n",
       "      <td>0.752</td>\n",
       "      <td>0.136</td>\n",
       "      <td>0.979</td>\n",
       "      <td>0.952</td>\n",
       "    </tr>\n",
       "  </tbody>\n",
       "</table>\n",
       "</div>"
      ],
      "text/plain": [
       "          dataset     f1     f2     f3     f4\n",
       "0       smote-enn  0.677  0.279  0.996  0.996\n",
       "1      borderline  0.769  0.286  0.997  0.997\n",
       "2        smote-tl  0.796  0.286  0.997  0.997\n",
       "3  enn-borderline  0.766  0.279  0.996  0.996\n",
       "4    adasyn-smote  0.814  0.286  0.997  0.997\n",
       "5       svm-smote  0.752  0.136  0.979  0.952"
      ]
     },
     "execution_count": 24,
     "metadata": {},
     "output_type": "execute_result"
    }
   ],
   "source": [
    "datasets = {\n",
    "    'smote-enn': (X_smoteenn, y_smoteenn),\n",
    "    'borderline': (X_borderline, y_borderline),\n",
    "    'smote-tl': (X_smotetl, y_smotetl),\n",
    "    'enn-borderline': (X_enn_borderline, y_enn_borderline),\n",
    "    'adasyn-smote': (X_adasyn, y_adasyn),\n",
    "    'svm-smote': (X_svm_smote, y_svm_smote)\n",
    "}\n",
    "\n",
    "fb_measures = pd.DataFrame([], columns=['dataset', 'f1', 'f2', 'f3', 'f4'])\n",
    "\n",
    "for dataset, (X, y) in datasets.items():\n",
    "    print(f'Calculating metrics for {dataset}')\n",
    "    f1 = round(pbx.f1(X, y),3)\n",
    "    f2 = round(pbx.f2(X, y),3)\n",
    "    f3 = round(pbx.f3(X, y),3)\n",
    "    f4 = round(pbx.f4(X, y),3)\n",
    "    fb_measures.loc[len(fb_measures)] = [dataset, f1, f2, f3, f4]\n",
    "\n",
    "fb_measures"
   ]
  },
  {
   "cell_type": "code",
   "execution_count": 25,
   "metadata": {},
   "outputs": [
    {
     "data": {
      "image/png": "[encoded data removed]",
      "text/plain": [
       "<Figure size 1200x600 with 1 Axes>"
      ]
     },
     "metadata": {},
     "output_type": "display_data"
    }
   ],
   "source": [
    "# Plot feature based measures\n",
    "plt.figure(figsize=(12, 6))\n",
    "plt.subplot(1, 2, 1)\n",
    "plt.scatter(fb_measures['dataset'], fb_measures['f1'], color='r', label='F1', marker='o')\n",
    "plt.scatter(fb_measures['dataset'], fb_measures['f2'], color='g', label='F2', marker='x')\n",
    "plt.scatter(fb_measures['dataset'], fb_measures['f3'], color='b', label='F3', marker='s')\n",
    "plt.scatter(fb_measures['dataset'], fb_measures['f4'], color='y', label='F4', marker='^')\n",
    "plt.xticks(rotation=45)\n",
    "plt.legend()\n",
    "plt.title('F1, F2, F3, F4 measures')\n",
    "plt.show()"
   ]
  },
  {
   "cell_type": "markdown",
   "metadata": {},
   "source": [
    "Remembering the meaning of each measure:\n",
    "- **F1**: class separability\n",
    "- **F2**: feature overlap\n",
    "- **F3**: best single feature\n",
    "- **F4**: combined feature effectiveness\n",
    "\n",
    "The objective is to find a good trade-off between high F1 and low F2."
   ]
  },
  {
   "cell_type": "code",
   "execution_count": 26,
   "metadata": {},
   "outputs": [
    {
     "data": {
      "text/plain": [
       "(131106, 17)"
      ]
     },
     "execution_count": 26,
     "metadata": {},
     "output_type": "execute_result"
    }
   ],
   "source": [
    "# Choose SVM-SMOTE as the best resampling method\n",
    "df = pd.concat([X_svm_smote, y_svm_smote], axis=1)\n",
    "df.shape"
   ]
  }
 ],
 "metadata": {
  "kernelspec": {
   "display_name": "icd",
   "language": "python",
   "name": "python3"
  },
  "language_info": {
   "codemirror_mode": {
    "name": "ipython",
    "version": 3
   },
   "file_extension": ".py",
   "mimetype": "text/x-python",
   "name": "python",
   "nbconvert_exporter": "python",
   "pygments_lexer": "ipython3",
   "version": "3.12.6"
  }
 },
 "nbformat": 4,
 "nbformat_minor": 2
}
